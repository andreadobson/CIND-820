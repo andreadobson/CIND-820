{
 "cells": [
  {
   "cell_type": "markdown",
   "metadata": {},
   "source": [
    "# TfidfVectorizer parameter tuning with gridsearchCV"
   ]
  },
  {
   "cell_type": "markdown",
   "metadata": {},
   "source": [
    "### Import data and packages:"
   ]
  },
  {
   "cell_type": "code",
   "execution_count": 2,
   "metadata": {},
   "outputs": [],
   "source": [
    "#import data frames from previous notebook\n",
    "\n",
    "%store -r textdata\n",
    "\n",
    "%store -r titledata"
   ]
  },
  {
   "cell_type": "code",
   "execution_count": 3,
   "metadata": {},
   "outputs": [],
   "source": [
    "#import packages\n",
    "\n",
    "import pandas as pd \n",
    "\n",
    "from sklearn.feature_extraction.text import TfidfVectorizer\n",
    "\n",
    "from sklearn.model_selection import train_test_split, GridSearchCV, RepeatedStratifiedKFold\n",
    "\n",
    "from sklearn.pipeline import Pipeline\n",
    "\n",
    "from sklearn.linear_model import LogisticRegression\n",
    "\n",
    "from sklearn.metrics import classification_report\n",
    "\n"
   ]
  },
  {
   "cell_type": "markdown",
   "metadata": {},
   "source": [
    "## TF-IDF on text column:"
   ]
  },
  {
   "cell_type": "code",
   "execution_count": 4,
   "metadata": {},
   "outputs": [],
   "source": [
    "# Corpus Selection\n",
    "x_text = textdata.text.astype(str)\n",
    "\n",
    "# Target Selection\n",
    "y_text = textdata.label"
   ]
  },
  {
   "cell_type": "code",
   "execution_count": 5,
   "metadata": {},
   "outputs": [],
   "source": [
    "#split text data into training and test sets \n",
    "x_text_train, x_text_test, y_text_train, y_text_test = train_test_split(\n",
    "    x_text, y_text,\n",
    "    test_size=0.3,\n",
    "    random_state=42\n",
    ")"
   ]
  },
  {
   "cell_type": "markdown",
   "metadata": {},
   "source": [
    "### Naive-Bayes"
   ]
  },
  {
   "cell_type": "code",
   "execution_count": 6,
   "metadata": {},
   "outputs": [],
   "source": [
    "\n",
    "from sklearn.naive_bayes import MultinomialNB\n",
    "from sklearn.feature_extraction.text import CountVectorizer, TfidfTransformer\n",
    "from sklearn.model_selection import train_test_split, GridSearchCV\n",
    "tfidf_nb = Pipeline([('tfidf', TfidfVectorizer()),\n",
    "                     ('clf', MultinomialNB())])\n",
    "tfidf_nb_params = {\n",
    "    'tfidf__min_df': (1, 2, 5, 10),\n",
    "    'tfidf__max_df': (0.6,0.7, 0.8, 0.9),\n",
    "    'tfidf__max_features': (None, 10000, 15000, 20000)\n",
    "}"
   ]
  },
  {
   "cell_type": "code",
   "execution_count": 7,
   "metadata": {},
   "outputs": [],
   "source": [
    "cv = RepeatedStratifiedKFold(n_splits=3,random_state=42)\n",
    "\n",
    "\n",
    "clf_nb_text = GridSearchCV(tfidf_nb, tfidf_nb_params, cv=cv, scoring='accuracy', n_jobs = -1)\n"
   ]
  },
  {
   "cell_type": "code",
   "execution_count": 8,
   "metadata": {},
   "outputs": [
    {
     "data": {
      "text/html": [
       "<style>#sk-container-id-1 {color: black;}#sk-container-id-1 pre{padding: 0;}#sk-container-id-1 div.sk-toggleable {background-color: white;}#sk-container-id-1 label.sk-toggleable__label {cursor: pointer;display: block;width: 100%;margin-bottom: 0;padding: 0.3em;box-sizing: border-box;text-align: center;}#sk-container-id-1 label.sk-toggleable__label-arrow:before {content: \"▸\";float: left;margin-right: 0.25em;color: #696969;}#sk-container-id-1 label.sk-toggleable__label-arrow:hover:before {color: black;}#sk-container-id-1 div.sk-estimator:hover label.sk-toggleable__label-arrow:before {color: black;}#sk-container-id-1 div.sk-toggleable__content {max-height: 0;max-width: 0;overflow: hidden;text-align: left;background-color: #f0f8ff;}#sk-container-id-1 div.sk-toggleable__content pre {margin: 0.2em;color: black;border-radius: 0.25em;background-color: #f0f8ff;}#sk-container-id-1 input.sk-toggleable__control:checked~div.sk-toggleable__content {max-height: 200px;max-width: 100%;overflow: auto;}#sk-container-id-1 input.sk-toggleable__control:checked~label.sk-toggleable__label-arrow:before {content: \"▾\";}#sk-container-id-1 div.sk-estimator input.sk-toggleable__control:checked~label.sk-toggleable__label {background-color: #d4ebff;}#sk-container-id-1 div.sk-label input.sk-toggleable__control:checked~label.sk-toggleable__label {background-color: #d4ebff;}#sk-container-id-1 input.sk-hidden--visually {border: 0;clip: rect(1px 1px 1px 1px);clip: rect(1px, 1px, 1px, 1px);height: 1px;margin: -1px;overflow: hidden;padding: 0;position: absolute;width: 1px;}#sk-container-id-1 div.sk-estimator {font-family: monospace;background-color: #f0f8ff;border: 1px dotted black;border-radius: 0.25em;box-sizing: border-box;margin-bottom: 0.5em;}#sk-container-id-1 div.sk-estimator:hover {background-color: #d4ebff;}#sk-container-id-1 div.sk-parallel-item::after {content: \"\";width: 100%;border-bottom: 1px solid gray;flex-grow: 1;}#sk-container-id-1 div.sk-label:hover label.sk-toggleable__label {background-color: #d4ebff;}#sk-container-id-1 div.sk-serial::before {content: \"\";position: absolute;border-left: 1px solid gray;box-sizing: border-box;top: 0;bottom: 0;left: 50%;z-index: 0;}#sk-container-id-1 div.sk-serial {display: flex;flex-direction: column;align-items: center;background-color: white;padding-right: 0.2em;padding-left: 0.2em;position: relative;}#sk-container-id-1 div.sk-item {position: relative;z-index: 1;}#sk-container-id-1 div.sk-parallel {display: flex;align-items: stretch;justify-content: center;background-color: white;position: relative;}#sk-container-id-1 div.sk-item::before, #sk-container-id-1 div.sk-parallel-item::before {content: \"\";position: absolute;border-left: 1px solid gray;box-sizing: border-box;top: 0;bottom: 0;left: 50%;z-index: -1;}#sk-container-id-1 div.sk-parallel-item {display: flex;flex-direction: column;z-index: 1;position: relative;background-color: white;}#sk-container-id-1 div.sk-parallel-item:first-child::after {align-self: flex-end;width: 50%;}#sk-container-id-1 div.sk-parallel-item:last-child::after {align-self: flex-start;width: 50%;}#sk-container-id-1 div.sk-parallel-item:only-child::after {width: 0;}#sk-container-id-1 div.sk-dashed-wrapped {border: 1px dashed gray;margin: 0 0.4em 0.5em 0.4em;box-sizing: border-box;padding-bottom: 0.4em;background-color: white;}#sk-container-id-1 div.sk-label label {font-family: monospace;font-weight: bold;display: inline-block;line-height: 1.2em;}#sk-container-id-1 div.sk-label-container {text-align: center;}#sk-container-id-1 div.sk-container {/* jupyter's `normalize.less` sets `[hidden] { display: none; }` but bootstrap.min.css set `[hidden] { display: none !important; }` so we also need the `!important` here to be able to override the default hidden behavior on the sphinx rendered scikit-learn.org. See: https://github.com/scikit-learn/scikit-learn/issues/21755 */display: inline-block !important;position: relative;}#sk-container-id-1 div.sk-text-repr-fallback {display: none;}</style><div id=\"sk-container-id-1\" class=\"sk-top-container\"><div class=\"sk-text-repr-fallback\"><pre>GridSearchCV(cv=RepeatedStratifiedKFold(n_repeats=10, n_splits=3, random_state=42),\n",
       "             estimator=Pipeline(steps=[(&#x27;tfidf&#x27;, TfidfVectorizer()),\n",
       "                                       (&#x27;clf&#x27;, MultinomialNB())]),\n",
       "             n_jobs=-1,\n",
       "             param_grid={&#x27;tfidf__max_df&#x27;: (0.6, 0.7, 0.8, 0.9),\n",
       "                         &#x27;tfidf__max_features&#x27;: (None, 10000, 15000, 20000),\n",
       "                         &#x27;tfidf__min_df&#x27;: (1, 2, 5, 10)},\n",
       "             scoring=&#x27;accuracy&#x27;)</pre><b>In a Jupyter environment, please rerun this cell to show the HTML representation or trust the notebook. <br />On GitHub, the HTML representation is unable to render, please try loading this page with nbviewer.org.</b></div><div class=\"sk-container\" hidden><div class=\"sk-item sk-dashed-wrapped\"><div class=\"sk-label-container\"><div class=\"sk-label sk-toggleable\"><input class=\"sk-toggleable__control sk-hidden--visually\" id=\"sk-estimator-id-1\" type=\"checkbox\" ><label for=\"sk-estimator-id-1\" class=\"sk-toggleable__label sk-toggleable__label-arrow\">GridSearchCV</label><div class=\"sk-toggleable__content\"><pre>GridSearchCV(cv=RepeatedStratifiedKFold(n_repeats=10, n_splits=3, random_state=42),\n",
       "             estimator=Pipeline(steps=[(&#x27;tfidf&#x27;, TfidfVectorizer()),\n",
       "                                       (&#x27;clf&#x27;, MultinomialNB())]),\n",
       "             n_jobs=-1,\n",
       "             param_grid={&#x27;tfidf__max_df&#x27;: (0.6, 0.7, 0.8, 0.9),\n",
       "                         &#x27;tfidf__max_features&#x27;: (None, 10000, 15000, 20000),\n",
       "                         &#x27;tfidf__min_df&#x27;: (1, 2, 5, 10)},\n",
       "             scoring=&#x27;accuracy&#x27;)</pre></div></div></div><div class=\"sk-parallel\"><div class=\"sk-parallel-item\"><div class=\"sk-item\"><div class=\"sk-label-container\"><div class=\"sk-label sk-toggleable\"><input class=\"sk-toggleable__control sk-hidden--visually\" id=\"sk-estimator-id-2\" type=\"checkbox\" ><label for=\"sk-estimator-id-2\" class=\"sk-toggleable__label sk-toggleable__label-arrow\">estimator: Pipeline</label><div class=\"sk-toggleable__content\"><pre>Pipeline(steps=[(&#x27;tfidf&#x27;, TfidfVectorizer()), (&#x27;clf&#x27;, MultinomialNB())])</pre></div></div></div><div class=\"sk-serial\"><div class=\"sk-item\"><div class=\"sk-serial\"><div class=\"sk-item\"><div class=\"sk-estimator sk-toggleable\"><input class=\"sk-toggleable__control sk-hidden--visually\" id=\"sk-estimator-id-3\" type=\"checkbox\" ><label for=\"sk-estimator-id-3\" class=\"sk-toggleable__label sk-toggleable__label-arrow\">TfidfVectorizer</label><div class=\"sk-toggleable__content\"><pre>TfidfVectorizer()</pre></div></div></div><div class=\"sk-item\"><div class=\"sk-estimator sk-toggleable\"><input class=\"sk-toggleable__control sk-hidden--visually\" id=\"sk-estimator-id-4\" type=\"checkbox\" ><label for=\"sk-estimator-id-4\" class=\"sk-toggleable__label sk-toggleable__label-arrow\">MultinomialNB</label><div class=\"sk-toggleable__content\"><pre>MultinomialNB()</pre></div></div></div></div></div></div></div></div></div></div></div></div>"
      ],
      "text/plain": [
       "GridSearchCV(cv=RepeatedStratifiedKFold(n_repeats=10, n_splits=3, random_state=42),\n",
       "             estimator=Pipeline(steps=[('tfidf', TfidfVectorizer()),\n",
       "                                       ('clf', MultinomialNB())]),\n",
       "             n_jobs=-1,\n",
       "             param_grid={'tfidf__max_df': (0.6, 0.7, 0.8, 0.9),\n",
       "                         'tfidf__max_features': (None, 10000, 15000, 20000),\n",
       "                         'tfidf__min_df': (1, 2, 5, 10)},\n",
       "             scoring='accuracy')"
      ]
     },
     "execution_count": 8,
     "metadata": {},
     "output_type": "execute_result"
    }
   ],
   "source": [
    "clf_nb_text.fit(x_text_train, y_text_train)"
   ]
  },
  {
   "cell_type": "code",
   "execution_count": 14,
   "metadata": {},
   "outputs": [],
   "source": [
    "y_pred_nb_text = clf_nb_text.predict(x_text_test)"
   ]
  },
  {
   "cell_type": "code",
   "execution_count": 15,
   "metadata": {},
   "outputs": [
    {
     "name": "stdout",
     "output_type": "stream",
     "text": [
      "              precision    recall  f1-score   support\n",
      "\n",
      "           0     0.8642    0.8721    0.8681      9776\n",
      "           1     0.8377    0.8280    0.8328      7791\n",
      "\n",
      "    accuracy                         0.8526     17567\n",
      "   macro avg     0.8509    0.8501    0.8505     17567\n",
      "weighted avg     0.8524    0.8526    0.8525     17567\n",
      "\n"
     ]
    }
   ],
   "source": [
    "print(classification_report(y_text_test, y_pred_nb_text, digits=4))"
   ]
  },
  {
   "cell_type": "code",
   "execution_count": 16,
   "metadata": {},
   "outputs": [],
   "source": [
    "clf_nb_text_params = clf_nb_text.best_params_"
   ]
  },
  {
   "cell_type": "code",
   "execution_count": 50,
   "metadata": {},
   "outputs": [
    {
     "data": {
      "text/plain": [
       "{'tfidf__max_df': 0.9, 'tfidf__max_features': None, 'tfidf__min_df': 5}"
      ]
     },
     "execution_count": 50,
     "metadata": {},
     "output_type": "execute_result"
    }
   ],
   "source": [
    "clf_nb_text_params"
   ]
  },
  {
   "cell_type": "code",
   "execution_count": 18,
   "metadata": {},
   "outputs": [
    {
     "name": "stdout",
     "output_type": "stream",
     "text": [
      "Stored 'clf_nb_text_params' (dict)\n"
     ]
    }
   ],
   "source": [
    "%store clf_nb_text_params"
   ]
  },
  {
   "cell_type": "markdown",
   "metadata": {},
   "source": [
    "### LogReg"
   ]
  },
  {
   "cell_type": "code",
   "execution_count": 23,
   "metadata": {},
   "outputs": [],
   "source": [
    "from sklearn.linear_model import LogisticRegression\n",
    "\n",
    "tfidf_lr = Pipeline([('tfidf', TfidfVectorizer()),\n",
    "                     ('lr', LogisticRegression())])\n",
    "tfidf_lr_params = {\n",
    "    'tfidf__min_df': (2, 5, 10),\n",
    "    'tfidf__max_df': (0.6,0.7, 0.8, 0.9),\n",
    "    'tfidf__max_features': (None, 10000, 15000, 20000)\n",
    "}"
   ]
  },
  {
   "cell_type": "code",
   "execution_count": 25,
   "metadata": {},
   "outputs": [
    {
     "name": "stdout",
     "output_type": "stream",
     "text": [
      "              precision    recall  f1-score   support\n",
      "\n",
      "           0       0.94      0.94      0.94      9776\n",
      "           1       0.93      0.93      0.93      7791\n",
      "\n",
      "    accuracy                           0.94     17567\n",
      "   macro avg       0.94      0.94      0.94     17567\n",
      "weighted avg       0.94      0.94      0.94     17567\n",
      "\n"
     ]
    }
   ],
   "source": [
    "clf_lr_text = GridSearchCV(tfidf_lr, tfidf_lr_params, cv=3, scoring='accuracy', n_jobs = -1)\n",
    "\n",
    "clf_lr_text.fit(x_text_train, y_text_train)\n",
    "\n",
    "y_pred_lr_text = clf_lr_text.predict(x_text_test)\n"
   ]
  },
  {
   "cell_type": "code",
   "execution_count": 26,
   "metadata": {},
   "outputs": [
    {
     "name": "stdout",
     "output_type": "stream",
     "text": [
      "              precision    recall  f1-score   support\n",
      "\n",
      "           0     0.9447    0.9443    0.9445      9776\n",
      "           1     0.9301    0.9307    0.9304      7791\n",
      "\n",
      "    accuracy                         0.9382     17567\n",
      "   macro avg     0.9374    0.9375    0.9374     17567\n",
      "weighted avg     0.9382    0.9382    0.9382     17567\n",
      "\n"
     ]
    }
   ],
   "source": [
    "print(classification_report(y_text_test, y_pred_lr_text, digits=4))"
   ]
  },
  {
   "cell_type": "code",
   "execution_count": 27,
   "metadata": {},
   "outputs": [],
   "source": [
    "clf_lr_text_params = clf_lr_text.best_params_"
   ]
  },
  {
   "cell_type": "code",
   "execution_count": 28,
   "metadata": {},
   "outputs": [
    {
     "data": {
      "text/plain": [
       "{'tfidf__max_df': 0.9, 'tfidf__max_features': 15000, 'tfidf__min_df': 2}"
      ]
     },
     "execution_count": 28,
     "metadata": {},
     "output_type": "execute_result"
    }
   ],
   "source": [
    "clf_lr_text_params"
   ]
  },
  {
   "cell_type": "code",
   "execution_count": 29,
   "metadata": {},
   "outputs": [
    {
     "name": "stdout",
     "output_type": "stream",
     "text": [
      "Stored 'clf_lr_text_params' (dict)\n"
     ]
    }
   ],
   "source": [
    "%store clf_lr_text_params"
   ]
  },
  {
   "cell_type": "markdown",
   "metadata": {},
   "source": [
    "### SVM"
   ]
  },
  {
   "cell_type": "code",
   "execution_count": 52,
   "metadata": {},
   "outputs": [],
   "source": [
    "from sklearn.svm import SVC\n",
    "\n",
    "tfidf_svm = Pipeline([('tfidf', TfidfVectorizer()),\n",
    "                     ('svm', SVC())])\n",
    "tfidf_svm_params = {\n",
    "    'tfidf__min_df': (2, 5, 10),\n",
    "    'tfidf__max_df': (0.6,0.7, 0.8, 0.9),\n",
    "    'tfidf__max_features': (None, 10000, 15000, 20000)\n",
    "}"
   ]
  },
  {
   "cell_type": "code",
   "execution_count": 53,
   "metadata": {},
   "outputs": [],
   "source": [
    "cv = RepeatedStratifiedKFold(n_splits=3,random_state=42)\n",
    "\n",
    "clf_svm_text = GridSearchCV(tfidf_svm, tfidf_svm_params, cv=3, scoring='accuracy', n_jobs = -1)"
   ]
  },
  {
   "cell_type": "code",
   "execution_count": 54,
   "metadata": {},
   "outputs": [],
   "source": [
    "clf_svm_text.fit(x_text_train, y_text_train)"
   ]
  },
  {
   "cell_type": "code",
   "execution_count": null,
   "metadata": {},
   "outputs": [],
   "source": [
    "y_pred_svm_text = clf_svm_text.predict(x_text_test)"
   ]
  },
  {
   "cell_type": "code",
   "execution_count": 67,
   "metadata": {},
   "outputs": [
    {
     "name": "stdout",
     "output_type": "stream",
     "text": [
      "              precision    recall  f1-score   support\n",
      "\n",
      "           0     0.9521    0.9532    0.9526      9776\n",
      "           1     0.9411    0.9398    0.9405      7791\n",
      "\n",
      "    accuracy                         0.9472     17567\n",
      "   macro avg     0.9466    0.9465    0.9465     17567\n",
      "weighted avg     0.9472    0.9472    0.9472     17567\n",
      "\n"
     ]
    }
   ],
   "source": [
    "print(classification_report(y_text_test, y_pred_svm_text, digits=4))"
   ]
  },
  {
   "cell_type": "code",
   "execution_count": 68,
   "metadata": {},
   "outputs": [
    {
     "data": {
      "text/plain": [
       "{'tfidf__max_df': 0.6, 'tfidf__max_features': 15000, 'tfidf__min_df': 10}"
      ]
     },
     "execution_count": 68,
     "metadata": {},
     "output_type": "execute_result"
    }
   ],
   "source": [
    "clf_svm_text_params = clf_svm_text.best_params_"
   ]
  },
  {
   "cell_type": "code",
   "execution_count": 51,
   "metadata": {},
   "outputs": [
    {
     "ename": "NameError",
     "evalue": "name 'clf_svm_text_params' is not defined",
     "output_type": "error",
     "traceback": [
      "\u001b[1;31m---------------------------------------------------------------------------\u001b[0m",
      "\u001b[1;31mNameError\u001b[0m                                 Traceback (most recent call last)",
      "\u001b[1;32mc:\\Users\\Andrea\\Documents\\CIND 820\\GitHub repo\\CIND-820\\pipeline\\2 - vectorization pipeline - TFIDF.ipynb Cell 31\u001b[0m line \u001b[0;36m1\n\u001b[1;32m----> <a href='vscode-notebook-cell:/c%3A/Users/Andrea/Documents/CIND%20820/GitHub%20repo/CIND-820/pipeline/2%20-%20vectorization%20pipeline%20-%20TFIDF.ipynb#Y115sZmlsZQ%3D%3D?line=0'>1</a>\u001b[0m clf_svm_text_params\n",
      "\u001b[1;31mNameError\u001b[0m: name 'clf_svm_text_params' is not defined"
     ]
    }
   ],
   "source": [
    "clf_svm_text_params"
   ]
  },
  {
   "cell_type": "code",
   "execution_count": null,
   "metadata": {},
   "outputs": [],
   "source": [
    "%store clf_svm_text_params"
   ]
  },
  {
   "cell_type": "markdown",
   "metadata": {},
   "source": [
    "## TF-IDF on title column:"
   ]
  },
  {
   "cell_type": "code",
   "execution_count": 30,
   "metadata": {},
   "outputs": [],
   "source": [
    "# Corpus Selection\n",
    "x_title = titledata.title.astype(str)\n",
    "\n",
    "# Target Selection\n",
    "y_title = titledata.label"
   ]
  },
  {
   "cell_type": "code",
   "execution_count": 31,
   "metadata": {},
   "outputs": [],
   "source": [
    "#split title data into training and test sets \n",
    "x_title_train, x_title_test, y_title_train, y_title_test = train_test_split(\n",
    "    x_title, y_title,\n",
    "    test_size=0.3,\n",
    "    random_state=42\n",
    ")"
   ]
  },
  {
   "cell_type": "markdown",
   "metadata": {},
   "source": [
    "### Naive-Bayes - title"
   ]
  },
  {
   "cell_type": "code",
   "execution_count": 33,
   "metadata": {},
   "outputs": [],
   "source": [
    "from sklearn.naive_bayes import MultinomialNB\n",
    "from sklearn.feature_extraction.text import CountVectorizer, TfidfTransformer\n",
    "from sklearn.model_selection import train_test_split, GridSearchCV\n",
    "tfidf_nb = Pipeline([('tfidf', TfidfVectorizer()),\n",
    "                     ('clf', MultinomialNB())])\n",
    "tfidf_nb_params = {\n",
    "    'tfidf__min_df': (2, 5, 10),\n",
    "    'tfidf__max_df': (0.6, 0.7, 0.8, 0.9),\n",
    "    'tfidf__max_features': (None, 10000, 15000, 20000)\n",
    "}"
   ]
  },
  {
   "cell_type": "code",
   "execution_count": 34,
   "metadata": {},
   "outputs": [
    {
     "name": "stdout",
     "output_type": "stream",
     "text": [
      "              precision    recall  f1-score   support\n",
      "\n",
      "           0     0.8621    0.9001    0.8807      9776\n",
      "           1     0.8673    0.8194    0.8427      7791\n",
      "\n",
      "    accuracy                         0.8643     17567\n",
      "   macro avg     0.8647    0.8597    0.8617     17567\n",
      "weighted avg     0.8644    0.8643    0.8638     17567\n",
      "\n"
     ]
    }
   ],
   "source": [
    "cv = RepeatedStratifiedKFold(n_splits=3,random_state=42)\n",
    "\n",
    "clf_nb_title = GridSearchCV(tfidf_nb, tfidf_nb_params, cv=cv, scoring='accuracy', n_jobs = -1)\n",
    "\n",
    "clf_nb_title.fit(x_title_train, y_title_train)\n",
    "\n",
    "y_pred_nb_title = clf_nb_title.predict(x_title_test)\n",
    "\n",
    "print(classification_report(y_title_test, y_pred_nb_title, digits=4))"
   ]
  },
  {
   "cell_type": "code",
   "execution_count": 35,
   "metadata": {},
   "outputs": [],
   "source": [
    "clf_nb_title_params = clf_nb_title.best_params_"
   ]
  },
  {
   "cell_type": "code",
   "execution_count": 36,
   "metadata": {},
   "outputs": [
    {
     "data": {
      "text/plain": [
       "{'tfidf__max_df': 0.6, 'tfidf__max_features': None, 'tfidf__min_df': 2}"
      ]
     },
     "execution_count": 36,
     "metadata": {},
     "output_type": "execute_result"
    }
   ],
   "source": [
    "clf_nb_title_params"
   ]
  },
  {
   "cell_type": "code",
   "execution_count": 37,
   "metadata": {},
   "outputs": [
    {
     "name": "stdout",
     "output_type": "stream",
     "text": [
      "Stored 'clf_nb_title_params' (dict)\n"
     ]
    }
   ],
   "source": [
    "%store clf_nb_title_params"
   ]
  },
  {
   "cell_type": "markdown",
   "metadata": {},
   "source": [
    "### LogReg - title"
   ]
  },
  {
   "cell_type": "code",
   "execution_count": 38,
   "metadata": {},
   "outputs": [],
   "source": [
    "from sklearn.linear_model import LogisticRegression\n",
    "\n",
    "tfidf_lr = Pipeline([('tfidf', TfidfVectorizer()),\n",
    "                     ('lr', LogisticRegression())])\n",
    "tfidf_lr_params = {\n",
    "    'tfidf__min_df': (2, 5, 10),\n",
    "    'tfidf__max_df': (0.6, 0.7, 0.8, 0.9),\n",
    "    'tfidf__max_features': (None, 10000, 15000, 20000)\n",
    "}"
   ]
  },
  {
   "cell_type": "code",
   "execution_count": 40,
   "metadata": {},
   "outputs": [
    {
     "name": "stdout",
     "output_type": "stream",
     "text": [
      "              precision    recall  f1-score   support\n",
      "\n",
      "           0     0.8924    0.9023    0.8973      9776\n",
      "           1     0.8757    0.8634    0.8695      7791\n",
      "\n",
      "    accuracy                         0.8851     17567\n",
      "   macro avg     0.8840    0.8829    0.8834     17567\n",
      "weighted avg     0.8850    0.8851    0.8850     17567\n",
      "\n"
     ]
    }
   ],
   "source": [
    "cv = RepeatedStratifiedKFold(n_splits=3,random_state=42)\n",
    "\n",
    "clf_lr_title = GridSearchCV(tfidf_lr, tfidf_lr_params, cv=cv, scoring='accuracy', n_jobs = -1)\n",
    "\n",
    "clf_lr_title.fit(x_title_train, y_title_train)\n",
    "\n",
    "y_pred_lr_title = clf_lr_title.predict(x_title_test)\n",
    "\n",
    "print(classification_report(y_title_test, y_pred_lr_title, digits=4))"
   ]
  },
  {
   "cell_type": "code",
   "execution_count": 42,
   "metadata": {},
   "outputs": [],
   "source": [
    "clf_lr_title_params = clf_lr_title.best_params_"
   ]
  },
  {
   "cell_type": "code",
   "execution_count": 43,
   "metadata": {},
   "outputs": [
    {
     "data": {
      "text/plain": [
       "{'tfidf__max_df': 0.6, 'tfidf__max_features': None, 'tfidf__min_df': 2}"
      ]
     },
     "execution_count": 43,
     "metadata": {},
     "output_type": "execute_result"
    }
   ],
   "source": [
    "clf_lr_title_params"
   ]
  },
  {
   "cell_type": "code",
   "execution_count": 44,
   "metadata": {},
   "outputs": [
    {
     "name": "stdout",
     "output_type": "stream",
     "text": [
      "Stored 'clf_lr_title_params' (dict)\n"
     ]
    }
   ],
   "source": [
    "%store clf_lr_title_params"
   ]
  },
  {
   "cell_type": "markdown",
   "metadata": {},
   "source": [
    "### SVM - title"
   ]
  },
  {
   "cell_type": "code",
   "execution_count": 45,
   "metadata": {},
   "outputs": [],
   "source": [
    "from sklearn.svm import SVC\n",
    "\n",
    "tfidf_svm = Pipeline([('tfidf', TfidfVectorizer()),\n",
    "                     ('svm', SVC())])\n",
    "tfidf_svm_params = {\n",
    "    'tfidf__min_df': (2, 5, 10),\n",
    "    'tfidf__max_df': (0.6, 0.7, 0.8, 0.9),\n",
    "    'tfidf__max_features': (None, 10000, 15000, 20000)\n",
    "}"
   ]
  },
  {
   "cell_type": "code",
   "execution_count": 46,
   "metadata": {},
   "outputs": [
    {
     "name": "stdout",
     "output_type": "stream",
     "text": [
      "              precision    recall  f1-score   support\n",
      "\n",
      "           0     0.9047    0.9050    0.9048      9776\n",
      "           1     0.8807    0.8804    0.8805      7791\n",
      "\n",
      "    accuracy                         0.8941     17567\n",
      "   macro avg     0.8927    0.8927    0.8927     17567\n",
      "weighted avg     0.8941    0.8941    0.8941     17567\n",
      "\n"
     ]
    }
   ],
   "source": [
    "cv = RepeatedStratifiedKFold(n_splits=3,random_state=42)\n",
    "\n",
    "clf_svm_title = GridSearchCV(tfidf_svm, tfidf_svm_params, cv=cv, scoring='accuracy', n_jobs = -1)\n",
    "\n",
    "clf_svm_title.fit(x_title_train, y_title_train)\n",
    "\n",
    "y_pred_svm_title = clf_svm_title.predict(x_title_test)\n",
    "\n",
    "print(classification_report(y_title_test, y_pred_svm_title, digits=4))"
   ]
  },
  {
   "cell_type": "code",
   "execution_count": 47,
   "metadata": {},
   "outputs": [],
   "source": [
    "clf_svm_title_params = clf_svm_title.best_params_"
   ]
  },
  {
   "cell_type": "code",
   "execution_count": 48,
   "metadata": {},
   "outputs": [
    {
     "data": {
      "text/plain": [
       "{'tfidf__max_df': 0.6, 'tfidf__max_features': None, 'tfidf__min_df': 2}"
      ]
     },
     "execution_count": 48,
     "metadata": {},
     "output_type": "execute_result"
    }
   ],
   "source": [
    "clf_svm_title_params"
   ]
  },
  {
   "cell_type": "code",
   "execution_count": 49,
   "metadata": {},
   "outputs": [
    {
     "name": "stdout",
     "output_type": "stream",
     "text": [
      "Stored 'clf_svm_title_params' (dict)\n"
     ]
    }
   ],
   "source": [
    "%store clf_svm_title_params"
   ]
  },
  {
   "cell_type": "markdown",
   "metadata": {},
   "source": [
    "### Create and store variables for later use:"
   ]
  },
  {
   "cell_type": "code",
   "execution_count": 67,
   "metadata": {},
   "outputs": [],
   "source": [
    "x_text_train_tf, x_text_test_tf, y_text_train_tf, y_text_test_tf = x_text_train, x_text_test, y_text_train, y_text_test"
   ]
  },
  {
   "cell_type": "code",
   "execution_count": 68,
   "metadata": {},
   "outputs": [
    {
     "name": "stdout",
     "output_type": "stream",
     "text": [
      "Stored 'x_text_train_tf' (csr_matrix)\n",
      "Stored 'x_text_test_tf' (csr_matrix)\n",
      "Stored 'y_text_train_tf' (Series)\n",
      "Stored 'y_text_test_tf' (Series)\n"
     ]
    }
   ],
   "source": [
    "%store x_text_train_tf\n",
    "%store x_text_test_tf\n",
    "%store y_text_train_tf\n",
    "%store y_text_test_tf"
   ]
  },
  {
   "cell_type": "code",
   "execution_count": 69,
   "metadata": {},
   "outputs": [],
   "source": [
    "x_title_train_tf, x_title_test_tf, y_title_train_tf, y_title_test_tf = x_title_train, x_title_test, y_title_train, y_title_test"
   ]
  },
  {
   "cell_type": "code",
   "execution_count": 70,
   "metadata": {},
   "outputs": [
    {
     "name": "stdout",
     "output_type": "stream",
     "text": [
      "Stored 'x_title_train_tf' (csr_matrix)\n",
      "Stored 'x_title_test_tf' (csr_matrix)\n",
      "Stored 'y_title_train_tf' (Series)\n",
      "Stored 'y_title_test_tf' (Series)\n"
     ]
    }
   ],
   "source": [
    "%store x_title_train_tf\n",
    "%store x_title_test_tf\n",
    "%store y_title_train_tf\n",
    "%store y_title_test_tf"
   ]
  },
  {
   "cell_type": "code",
   "execution_count": 71,
   "metadata": {},
   "outputs": [
    {
     "data": {
      "text/plain": [
       "<17567x4249 sparse matrix of type '<class 'numpy.float64'>'\n",
       "\twith 138016 stored elements in Compressed Sparse Row format>"
      ]
     },
     "execution_count": 71,
     "metadata": {},
     "output_type": "execute_result"
    }
   ],
   "source": [
    "x_title_test_tf"
   ]
  }
 ],
 "metadata": {
  "kernelspec": {
   "display_name": "base",
   "language": "python",
   "name": "python3"
  },
  "language_info": {
   "codemirror_mode": {
    "name": "ipython",
    "version": 3
   },
   "file_extension": ".py",
   "mimetype": "text/x-python",
   "name": "python",
   "nbconvert_exporter": "python",
   "pygments_lexer": "ipython3",
   "version": "3.11.5"
  }
 },
 "nbformat": 4,
 "nbformat_minor": 2
}
