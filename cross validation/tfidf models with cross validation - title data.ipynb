{
 "cells": [
  {
   "cell_type": "markdown",
   "metadata": {},
   "source": [
    "# Cross-validated models: title data vectorized with TF-IDF"
   ]
  },
  {
   "cell_type": "markdown",
   "metadata": {},
   "source": [
    "### Import data and packages:"
   ]
  },
  {
   "cell_type": "code",
   "execution_count": 7,
   "metadata": {},
   "outputs": [],
   "source": [
    "#import data frames from previous notebook\n",
    "\n",
    "%store -r textdata\n",
    "\n",
    "%store -r titledata"
   ]
  },
  {
   "cell_type": "code",
   "execution_count": 8,
   "metadata": {},
   "outputs": [],
   "source": [
    "# Corpus Selection\n",
    "x_title = titledata.title.astype(str)\n",
    "\n",
    "# Target Selection\n",
    "y_title = titledata.label"
   ]
  },
  {
   "cell_type": "code",
   "execution_count": 2,
   "metadata": {},
   "outputs": [],
   "source": [
    "import numpy as np\n",
    "\n",
    "import pandas as pd \n",
    "\n",
    "from sklearn.feature_extraction.text import TfidfVectorizer\n",
    "\n",
    "from sklearn.model_selection import KFold, cross_validate\n",
    "\n",
    "from sklearn.pipeline import Pipeline\n",
    "\n",
    "from sklearn.linear_model import LogisticRegression\n",
    "from sklearn.naive_bayes import MultinomialNB\n",
    "from sklearn.svm import SVC\n",
    "\n",
    "\n",
    "from sklearn.metrics import accuracy_score, precision_score, recall_score, f1_score, precision_recall_fscore_support, confusion_matrix, ConfusionMatrixDisplay\n",
    "\n",
    "import matplotlib as plt\n",
    "\n",
    "from time import process_time\n",
    "\n"
   ]
  },
  {
   "cell_type": "markdown",
   "metadata": {},
   "source": [
    "### Logistic Regression - title"
   ]
  },
  {
   "cell_type": "markdown",
   "metadata": {},
   "source": [
    "#### discards\n"
   ]
  },
  {
   "cell_type": "code",
   "execution_count": 27,
   "metadata": {},
   "outputs": [],
   "source": [
    "from sklearn.linear_model import LogisticRegression\n",
    "\n",
    "tfidf_lr = LogisticRegression()\n",
    "\n",
    "scorer = {'accuracy': make_scorer(accuracy_score),\n",
    "          'precision': make_scorer(precision_score),\n",
    "          'recall': make_scorer(recall_score),\n",
    "          'f1_score' : make_scorer(f1_score, average='weighted')\n",
    "          }\n"
   ]
  },
  {
   "cell_type": "code",
   "execution_count": 28,
   "metadata": {},
   "outputs": [],
   "source": [
    "cv_scores_tfidf_title_lr = cross_validate(tfidf_title_lr, x_title, y_title, cv = k_folds, scoring=scorer)"
   ]
  },
  {
   "cell_type": "code",
   "execution_count": 70,
   "metadata": {},
   "outputs": [
    {
     "data": {
      "text/plain": [
       "{'fit_time': array([0.82778573, 1.02925038, 0.89363432, 0.96940708, 0.87167192]),\n",
       " 'score_time': array([0.1705792 , 0.12868118, 0.12666655, 0.12463927, 0.11668539]),\n",
       " 'test_accuracy': array([0.89053027, 0.88404065, 0.88728546, 0.88497993, 0.88847139]),\n",
       " 'test_precision': array([0.88106416, 0.87161504, 0.87434656, 0.88028577, 0.87903226]),\n",
       " 'test_recall': array([0.86983391, 0.86487531, 0.87063813, 0.86246689, 0.86608527]),\n",
       " 'test_f1_score': array([0.89045429, 0.88399243, 0.88726055, 0.88486684, 0.88837933])}"
      ]
     },
     "execution_count": 70,
     "metadata": {},
     "output_type": "execute_result"
    }
   ],
   "source": [
    "#scores_tfidf_title_lr"
   ]
  },
  {
   "cell_type": "code",
   "execution_count": 82,
   "metadata": {},
   "outputs": [
    {
     "ename": "AxisError",
     "evalue": "axis 0 is out of bounds for array of dimension 0",
     "output_type": "error",
     "traceback": [
      "\u001b[1;31m---------------------------------------------------------------------------\u001b[0m",
      "\u001b[1;31mAxisError\u001b[0m                                 Traceback (most recent call last)",
      "\u001b[1;32mc:\\Users\\Andrea\\Documents\\CIND 820\\GitHub repo\\CIND-820\\cross validation\\tfidf models with cross validation - title data.ipynb Cell 12\u001b[0m line \u001b[0;36m3\n\u001b[0;32m      <a href='vscode-notebook-cell:/c%3A/Users/Andrea/Documents/CIND%20820/GitHub%20repo/CIND-820/cross%20validation/tfidf%20models%20with%20cross%20validation%20-%20title%20data.ipynb#Y131sZmlsZQ%3D%3D?line=0'>1</a>\u001b[0m \u001b[39m#average = (mean(list(scores_tfidf_title_lr.keys())))\u001b[39;00m\n\u001b[1;32m----> <a href='vscode-notebook-cell:/c%3A/Users/Andrea/Documents/CIND%20820/GitHub%20repo/CIND-820/cross%20validation/tfidf%20models%20with%20cross%20validation%20-%20title%20data.ipynb#Y131sZmlsZQ%3D%3D?line=2'>3</a>\u001b[0m average \u001b[39m=\u001b[39m np\u001b[39m.\u001b[39mmean(scores_tfidf_title_lr\u001b[39m.\u001b[39mkeys(), axis\u001b[39m=\u001b[39m\u001b[39m0\u001b[39m)\n",
      "File \u001b[1;32m<__array_function__ internals>:200\u001b[0m, in \u001b[0;36mmean\u001b[1;34m(*args, **kwargs)\u001b[0m\n",
      "File \u001b[1;32mc:\\Users\\Andrea\\anaconda3\\Lib\\site-packages\\numpy\\core\\fromnumeric.py:3464\u001b[0m, in \u001b[0;36mmean\u001b[1;34m(a, axis, dtype, out, keepdims, where)\u001b[0m\n\u001b[0;32m   3461\u001b[0m     \u001b[39melse\u001b[39;00m:\n\u001b[0;32m   3462\u001b[0m         \u001b[39mreturn\u001b[39;00m mean(axis\u001b[39m=\u001b[39maxis, dtype\u001b[39m=\u001b[39mdtype, out\u001b[39m=\u001b[39mout, \u001b[39m*\u001b[39m\u001b[39m*\u001b[39mkwargs)\n\u001b[1;32m-> 3464\u001b[0m \u001b[39mreturn\u001b[39;00m _methods\u001b[39m.\u001b[39m_mean(a, axis\u001b[39m=\u001b[39maxis, dtype\u001b[39m=\u001b[39mdtype,\n\u001b[0;32m   3465\u001b[0m                       out\u001b[39m=\u001b[39mout, \u001b[39m*\u001b[39m\u001b[39m*\u001b[39mkwargs)\n",
      "File \u001b[1;32mc:\\Users\\Andrea\\anaconda3\\Lib\\site-packages\\numpy\\core\\_methods.py:169\u001b[0m, in \u001b[0;36m_mean\u001b[1;34m(a, axis, dtype, out, keepdims, where)\u001b[0m\n\u001b[0;32m    165\u001b[0m arr \u001b[39m=\u001b[39m asanyarray(a)\n\u001b[0;32m    167\u001b[0m is_float16_result \u001b[39m=\u001b[39m \u001b[39mFalse\u001b[39;00m\n\u001b[1;32m--> 169\u001b[0m rcount \u001b[39m=\u001b[39m _count_reduce_items(arr, axis, keepdims\u001b[39m=\u001b[39mkeepdims, where\u001b[39m=\u001b[39mwhere)\n\u001b[0;32m    170\u001b[0m \u001b[39mif\u001b[39;00m rcount \u001b[39m==\u001b[39m \u001b[39m0\u001b[39m \u001b[39mif\u001b[39;00m where \u001b[39mis\u001b[39;00m \u001b[39mTrue\u001b[39;00m \u001b[39melse\u001b[39;00m umr_any(rcount \u001b[39m==\u001b[39m \u001b[39m0\u001b[39m, axis\u001b[39m=\u001b[39m\u001b[39mNone\u001b[39;00m):\n\u001b[0;32m    171\u001b[0m     warnings\u001b[39m.\u001b[39mwarn(\u001b[39m\"\u001b[39m\u001b[39mMean of empty slice.\u001b[39m\u001b[39m\"\u001b[39m, \u001b[39mRuntimeWarning\u001b[39;00m, stacklevel\u001b[39m=\u001b[39m\u001b[39m2\u001b[39m)\n",
      "File \u001b[1;32mc:\\Users\\Andrea\\anaconda3\\Lib\\site-packages\\numpy\\core\\_methods.py:77\u001b[0m, in \u001b[0;36m_count_reduce_items\u001b[1;34m(arr, axis, keepdims, where)\u001b[0m\n\u001b[0;32m     75\u001b[0m     items \u001b[39m=\u001b[39m \u001b[39m1\u001b[39m\n\u001b[0;32m     76\u001b[0m     \u001b[39mfor\u001b[39;00m ax \u001b[39min\u001b[39;00m axis:\n\u001b[1;32m---> 77\u001b[0m         items \u001b[39m*\u001b[39m\u001b[39m=\u001b[39m arr\u001b[39m.\u001b[39mshape[mu\u001b[39m.\u001b[39mnormalize_axis_index(ax, arr\u001b[39m.\u001b[39mndim)]\n\u001b[0;32m     78\u001b[0m     items \u001b[39m=\u001b[39m nt\u001b[39m.\u001b[39mintp(items)\n\u001b[0;32m     79\u001b[0m \u001b[39melse\u001b[39;00m:\n\u001b[0;32m     80\u001b[0m     \u001b[39m# TODO: Optimize case when `where` is broadcast along a non-reduction\u001b[39;00m\n\u001b[0;32m     81\u001b[0m     \u001b[39m# axis and full sum is more excessive than needed.\u001b[39;00m\n\u001b[0;32m     82\u001b[0m \n\u001b[0;32m     83\u001b[0m     \u001b[39m# guarded to protect circular imports\u001b[39;00m\n",
      "\u001b[1;31mAxisError\u001b[0m: axis 0 is out of bounds for array of dimension 0"
     ]
    }
   ],
   "source": [
    "#average = (mean(list(scores_tfidf_title_lr.keys())))\n",
    "\n",
    "average = np.mean(scores_tfidf_title_lr.keys(), axis=0)"
   ]
  },
  {
   "cell_type": "markdown",
   "metadata": {},
   "source": [
    "#### cross validation"
   ]
  },
  {
   "cell_type": "code",
   "execution_count": 21,
   "metadata": {},
   "outputs": [],
   "source": [
    "#define kfolds\n",
    "\n",
    "k_folds = KFold(n_splits = 5, random_state=42, shuffle=True)"
   ]
  },
  {
   "cell_type": "code",
   "execution_count": 22,
   "metadata": {},
   "outputs": [],
   "source": [
    "#dfine pipeline\n",
    "\n",
    "tfidf_title_lr = Pipeline([('tfidf', TfidfVectorizer()),\n",
    "                     ('lr', LogisticRegression(max_iter=300))])"
   ]
  },
  {
   "cell_type": "code",
   "execution_count": 1,
   "metadata": {},
   "outputs": [
    {
     "ename": "NameError",
     "evalue": "name 'pd' is not defined",
     "output_type": "error",
     "traceback": [
      "\u001b[1;31m---------------------------------------------------------------------------\u001b[0m",
      "\u001b[1;31mNameError\u001b[0m                                 Traceback (most recent call last)",
      "\u001b[1;32mc:\\Users\\Andrea\\Documents\\CIND 820\\GitHub repo\\CIND-820\\cross validation\\tfidf models with cross validation - title data.ipynb Cell 15\u001b[0m line \u001b[0;36m9\n\u001b[0;32m      <a href='vscode-notebook-cell:/c%3A/Users/Andrea/Documents/CIND%20820/GitHub%20repo/CIND-820/cross%20validation/tfidf%20models%20with%20cross%20validation%20-%20title%20data.ipynb#X20sZmlsZQ%3D%3D?line=6'>7</a>\u001b[0m average\u001b[39m=\u001b[39m[]\n\u001b[0;32m      <a href='vscode-notebook-cell:/c%3A/Users/Andrea/Documents/CIND%20820/GitHub%20repo/CIND-820/cross%20validation/tfidf%20models%20with%20cross%20validation%20-%20title%20data.ipynb#X20sZmlsZQ%3D%3D?line=7'>8</a>\u001b[0m fit_time\u001b[39m=\u001b[39m[]\n\u001b[1;32m----> <a href='vscode-notebook-cell:/c%3A/Users/Andrea/Documents/CIND%20820/GitHub%20repo/CIND-820/cross%20validation/tfidf%20models%20with%20cross%20validation%20-%20title%20data.ipynb#X20sZmlsZQ%3D%3D?line=8'>9</a>\u001b[0m tfidf_title_lr_results\u001b[39m=\u001b[39mpd\u001b[39m.\u001b[39mDataFrame()\n\u001b[0;32m     <a href='vscode-notebook-cell:/c%3A/Users/Andrea/Documents/CIND%20820/GitHub%20repo/CIND-820/cross%20validation/tfidf%20models%20with%20cross%20validation%20-%20title%20data.ipynb#X20sZmlsZQ%3D%3D?line=10'>11</a>\u001b[0m \u001b[39mfor\u001b[39;00m train_index, test_index \u001b[39min\u001b[39;00m k_folds\u001b[39m.\u001b[39msplit(x_title):\n\u001b[0;32m     <a href='vscode-notebook-cell:/c%3A/Users/Andrea/Documents/CIND%20820/GitHub%20repo/CIND-820/cross%20validation/tfidf%20models%20with%20cross%20validation%20-%20title%20data.ipynb#X20sZmlsZQ%3D%3D?line=11'>12</a>\u001b[0m \n\u001b[0;32m     <a href='vscode-notebook-cell:/c%3A/Users/Andrea/Documents/CIND%20820/GitHub%20repo/CIND-820/cross%20validation/tfidf%20models%20with%20cross%20validation%20-%20title%20data.ipynb#X20sZmlsZQ%3D%3D?line=12'>13</a>\u001b[0m     \u001b[39m#train and test on each fold, and compute fit time\u001b[39;00m\n\u001b[0;32m     <a href='vscode-notebook-cell:/c%3A/Users/Andrea/Documents/CIND%20820/GitHub%20repo/CIND-820/cross%20validation/tfidf%20models%20with%20cross%20validation%20-%20title%20data.ipynb#X20sZmlsZQ%3D%3D?line=13'>14</a>\u001b[0m     x_train, x_test, y_train, y_test \u001b[39m=\u001b[39m x_title\u001b[39m.\u001b[39miloc[train_index], x_title\u001b[39m.\u001b[39miloc[test_index], y_title\u001b[39m.\u001b[39miloc[train_index], y_title\u001b[39m.\u001b[39miloc[test_index]\n",
      "\u001b[1;31mNameError\u001b[0m: name 'pd' is not defined"
     ]
    }
   ],
   "source": [
    "#create variables to store cross validation results\n",
    "conf_matrix_list = []\n",
    "accuracy =[]\n",
    "precision=[]\n",
    "recall = []\n",
    "f1=[]\n",
    "average=[]\n",
    "fit_time=[]\n",
    "tfidf_title_lr_results=pd.DataFrame()\n",
    "\n",
    "for train_index, test_index in k_folds.split(x_title, y_title):\n",
    "\n",
    "    #train and test on each fold, and compute fit time\n",
    "    x_train, x_test, y_train, y_test = x_title.iloc[train_index], x_title.iloc[test_index], y_title.iloc[train_index], y_title.iloc[test_index]\n",
    "    start = process_time()\n",
    "    clf=tfidf_title_lr.fit(x_train,y_train)\n",
    "    end=process_time()\n",
    "    y_pred = tfidf_title_lr.predict(x_test)\n",
    "    \n",
    "    #results for each fold\n",
    "    accuracy.append(accuracy_score(y_test, y_pred))\n",
    "    precision.append(precision_score(y_test, y_pred))\n",
    "    recall.append(recall_score(y_test, y_pred))\n",
    "    f1.append(f1_score(y_test, y_pred))\n",
    "    fit_time.append(end-start)\n",
    "\n",
    "    #confusion matrix for each fold\n",
    "    conf_matrix = confusion_matrix(y_test, y_pred)\n",
    "    conf_matrix_list.append(conf_matrix)\n",
    "    \n",
    "#put cross validation results into a dataframe    \n",
    "tfidf_title_lr_results['accuracy']=accuracy\n",
    "tfidf_title_lr_results['precision']=precision\n",
    "tfidf_title_lr_results['recall']=recall\n",
    "tfidf_title_lr_results['f1 score']=f1\n",
    "tfidf_title_lr_results['fit time']=fit_time\n",
    "tfidf_title_lr_results.loc['mean'] = tfidf_title_lr_results.mean()\n"
   ]
  },
  {
   "cell_type": "code",
   "execution_count": 142,
   "metadata": {},
   "outputs": [
    {
     "data": {
      "text/html": [
       "<div>\n",
       "<style scoped>\n",
       "    .dataframe tbody tr th:only-of-type {\n",
       "        vertical-align: middle;\n",
       "    }\n",
       "\n",
       "    .dataframe tbody tr th {\n",
       "        vertical-align: top;\n",
       "    }\n",
       "\n",
       "    .dataframe thead th {\n",
       "        text-align: right;\n",
       "    }\n",
       "</style>\n",
       "<table border=\"1\" class=\"dataframe\">\n",
       "  <thead>\n",
       "    <tr style=\"text-align: right;\">\n",
       "      <th></th>\n",
       "      <th>accuracy</th>\n",
       "      <th>precision</th>\n",
       "      <th>recall</th>\n",
       "      <th>f1 score</th>\n",
       "      <th>fit time</th>\n",
       "    </tr>\n",
       "  </thead>\n",
       "  <tbody>\n",
       "    <tr>\n",
       "      <th>0</th>\n",
       "      <td>0.890530</td>\n",
       "      <td>0.881064</td>\n",
       "      <td>0.869834</td>\n",
       "      <td>0.875413</td>\n",
       "      <td>79.828125</td>\n",
       "    </tr>\n",
       "    <tr>\n",
       "      <th>1</th>\n",
       "      <td>0.884041</td>\n",
       "      <td>0.871615</td>\n",
       "      <td>0.864875</td>\n",
       "      <td>0.868232</td>\n",
       "      <td>131.859375</td>\n",
       "    </tr>\n",
       "    <tr>\n",
       "      <th>2</th>\n",
       "      <td>0.887285</td>\n",
       "      <td>0.874347</td>\n",
       "      <td>0.870638</td>\n",
       "      <td>0.872488</td>\n",
       "      <td>125.640625</td>\n",
       "    </tr>\n",
       "    <tr>\n",
       "      <th>3</th>\n",
       "      <td>0.884980</td>\n",
       "      <td>0.880286</td>\n",
       "      <td>0.862467</td>\n",
       "      <td>0.871285</td>\n",
       "      <td>84.671875</td>\n",
       "    </tr>\n",
       "    <tr>\n",
       "      <th>4</th>\n",
       "      <td>0.888471</td>\n",
       "      <td>0.879032</td>\n",
       "      <td>0.866085</td>\n",
       "      <td>0.872511</td>\n",
       "      <td>109.796875</td>\n",
       "    </tr>\n",
       "    <tr>\n",
       "      <th>mean</th>\n",
       "      <td>0.887062</td>\n",
       "      <td>0.877269</td>\n",
       "      <td>0.866780</td>\n",
       "      <td>0.871986</td>\n",
       "      <td>106.359375</td>\n",
       "    </tr>\n",
       "  </tbody>\n",
       "</table>\n",
       "</div>"
      ],
      "text/plain": [
       "      accuracy  precision    recall  f1 score    fit time\n",
       "0     0.890530   0.881064  0.869834  0.875413   79.828125\n",
       "1     0.884041   0.871615  0.864875  0.868232  131.859375\n",
       "2     0.887285   0.874347  0.870638  0.872488  125.640625\n",
       "3     0.884980   0.880286  0.862467  0.871285   84.671875\n",
       "4     0.888471   0.879032  0.866085  0.872511  109.796875\n",
       "mean  0.887062   0.877269  0.866780  0.871986  106.359375"
      ]
     },
     "execution_count": 142,
     "metadata": {},
     "output_type": "execute_result"
    }
   ],
   "source": [
    "#view data frame of results\n",
    "\n",
    "tfidf_title_lr_results"
   ]
  },
  {
   "cell_type": "code",
   "execution_count": 145,
   "metadata": {},
   "outputs": [
    {
     "data": {
      "text/plain": [
       "array([[5884,  630],\n",
       "       [ 692, 4504]])"
      ]
     },
     "execution_count": 145,
     "metadata": {},
     "output_type": "execute_result"
    }
   ],
   "source": [
    "#create average confusion matrix array\n",
    "\n",
    "mean_of_conf_matrix = np.mean(conf_matrix_list, axis=0)\n",
    "mean_of_conf_matrix = np.round(mean_of_conf_matrix)\n",
    "mean_of_conf_matrix = mean_of_conf_matrix.astype(int)\n",
    "mean_of_conf_matrix"
   ]
  },
  {
   "cell_type": "code",
   "execution_count": 146,
   "metadata": {},
   "outputs": [
    {
     "data": {
      "text/plain": [
       "[Text(0.5, 1.0, 'Logistic Regression model with Title Data (TF-IDF)'),\n",
       " Text(0.5, 0, 'Predicted'),\n",
       " Text(0, 0.5, 'Actual')]"
      ]
     },
     "execution_count": 146,
     "metadata": {},
     "output_type": "execute_result"
    },
    {
     "data": {
      "image/png": "[encoded data removed]",
      "text/plain": [
       "<Figure size 640x480 with 2 Axes>"
      ]
     },
     "metadata": {},
     "output_type": "display_data"
    }
   ],
   "source": [
    "#plot the confusion matrix\n",
    "\n",
    "cm_plot = ConfusionMatrixDisplay(mean_of_conf_matrix, display_labels = ['real', 'fake'])\n",
    "cm_plot.plot(values_format='')\n",
    "cm_plot.ax_.set(\n",
    "                title='Logistic Regression model with Title Data (TF-IDF)', \n",
    "                xlabel='Predicted', \n",
    "                ylabel='Actual')\n",
    "#display_labels = ['real', 'fake']"
   ]
  },
  {
   "cell_type": "markdown",
   "metadata": {},
   "source": [
    "### Naive-Bayes - title"
   ]
  },
  {
   "cell_type": "code",
   "execution_count": 147,
   "metadata": {},
   "outputs": [],
   "source": [
    "k_folds = KFold(n_splits = 5, random_state=42, shuffle=True)"
   ]
  },
  {
   "cell_type": "code",
   "execution_count": 150,
   "metadata": {},
   "outputs": [],
   "source": [
    "tfidf_title_nb = Pipeline([('tfidf', TfidfVectorizer()),\n",
    "                     ('nb', MultinomialNB())])"
   ]
  },
  {
   "cell_type": "code",
   "execution_count": 151,
   "metadata": {},
   "outputs": [],
   "source": [
    "#create variables to store cross validation results\n",
    "conf_matrix_list = []\n",
    "accuracy =[]\n",
    "precision=[]\n",
    "recall = []\n",
    "f1=[]\n",
    "average=[]\n",
    "fit_time=[]\n",
    "tfidf_title_nb_results=pd.DataFrame()\n",
    "\n",
    "for train_index, test_index in k_folds.split(x_title, y_title):\n",
    "\n",
    "    #train and test on each fold, and compute fit time\n",
    "    x_train, x_test, y_train, y_test = x_title.iloc[train_index], x_title.iloc[test_index], y_title.iloc[train_index], y_title.iloc[test_index]\n",
    "    start = process_time()\n",
    "    clf=tfidf_title_nb.fit(x_train,y_train)\n",
    "    end=process_time()\n",
    "    y_pred = tfidf_title_nb.predict(x_test)\n",
    "    \n",
    "    #results for each fold\n",
    "    accuracy.append(accuracy_score(y_test, y_pred))\n",
    "    precision.append(precision_score(y_test, y_pred))\n",
    "    recall.append(recall_score(y_test, y_pred))\n",
    "    f1.append(f1_score(y_test, y_pred))\n",
    "    fit_time.append(end-start)\n",
    "\n",
    "    #confusion matrix for each fold\n",
    "    conf_matrix = confusion_matrix(y_test, y_pred)\n",
    "    conf_matrix_list.append(conf_matrix)\n",
    "    \n",
    "#put cross validation results into a dataframe    \n",
    "tfidf_title_nb_results['accuracy']=accuracy\n",
    "tfidf_title_nb_results['precision']=precision\n",
    "tfidf_title_nb_results['recall']=recall\n",
    "tfidf_title_nb_results['f1 score']=f1\n",
    "tfidf_title_nb_results['fit time']=fit_time\n",
    "tfidf_title_nb_results.loc['mean'] = tfidf_title_nb_results.mean()\n"
   ]
  },
  {
   "cell_type": "code",
   "execution_count": 152,
   "metadata": {},
   "outputs": [
    {
     "data": {
      "text/html": [
       "<div>\n",
       "<style scoped>\n",
       "    .dataframe tbody tr th:only-of-type {\n",
       "        vertical-align: middle;\n",
       "    }\n",
       "\n",
       "    .dataframe tbody tr th {\n",
       "        vertical-align: top;\n",
       "    }\n",
       "\n",
       "    .dataframe thead th {\n",
       "        text-align: right;\n",
       "    }\n",
       "</style>\n",
       "<table border=\"1\" class=\"dataframe\">\n",
       "  <thead>\n",
       "    <tr style=\"text-align: right;\">\n",
       "      <th></th>\n",
       "      <th>accuracy</th>\n",
       "      <th>precision</th>\n",
       "      <th>recall</th>\n",
       "      <th>f1 score</th>\n",
       "      <th>fit time</th>\n",
       "    </tr>\n",
       "  </thead>\n",
       "  <tbody>\n",
       "    <tr>\n",
       "      <th>0</th>\n",
       "      <td>0.870378</td>\n",
       "      <td>0.876543</td>\n",
       "      <td>0.822711</td>\n",
       "      <td>0.848775</td>\n",
       "      <td>1.062500</td>\n",
       "    </tr>\n",
       "    <tr>\n",
       "      <th>1</th>\n",
       "      <td>0.860388</td>\n",
       "      <td>0.868235</td>\n",
       "      <td>0.806302</td>\n",
       "      <td>0.836123</td>\n",
       "      <td>1.093750</td>\n",
       "    </tr>\n",
       "    <tr>\n",
       "      <th>2</th>\n",
       "      <td>0.865511</td>\n",
       "      <td>0.872832</td>\n",
       "      <td>0.815115</td>\n",
       "      <td>0.842987</td>\n",
       "      <td>0.906250</td>\n",
       "    </tr>\n",
       "    <tr>\n",
       "      <th>3</th>\n",
       "      <td>0.859705</td>\n",
       "      <td>0.873794</td>\n",
       "      <td>0.805524</td>\n",
       "      <td>0.838271</td>\n",
       "      <td>0.921875</td>\n",
       "    </tr>\n",
       "    <tr>\n",
       "      <th>4</th>\n",
       "      <td>0.864475</td>\n",
       "      <td>0.870259</td>\n",
       "      <td>0.813760</td>\n",
       "      <td>0.841062</td>\n",
       "      <td>0.890625</td>\n",
       "    </tr>\n",
       "    <tr>\n",
       "      <th>mean</th>\n",
       "      <td>0.864091</td>\n",
       "      <td>0.872333</td>\n",
       "      <td>0.812682</td>\n",
       "      <td>0.841444</td>\n",
       "      <td>0.975000</td>\n",
       "    </tr>\n",
       "  </tbody>\n",
       "</table>\n",
       "</div>"
      ],
      "text/plain": [
       "      accuracy  precision    recall  f1 score  fit time\n",
       "0     0.870378   0.876543  0.822711  0.848775  1.062500\n",
       "1     0.860388   0.868235  0.806302  0.836123  1.093750\n",
       "2     0.865511   0.872832  0.815115  0.842987  0.906250\n",
       "3     0.859705   0.873794  0.805524  0.838271  0.921875\n",
       "4     0.864475   0.870259  0.813760  0.841062  0.890625\n",
       "mean  0.864091   0.872333  0.812682  0.841444  0.975000"
      ]
     },
     "execution_count": 152,
     "metadata": {},
     "output_type": "execute_result"
    }
   ],
   "source": [
    "#view data frame of results\n",
    "\n",
    "tfidf_title_nb_results"
   ]
  },
  {
   "cell_type": "code",
   "execution_count": 153,
   "metadata": {},
   "outputs": [
    {
     "data": {
      "text/plain": [
       "array([[5896,  618],\n",
       "       [ 974, 4223]])"
      ]
     },
     "execution_count": 153,
     "metadata": {},
     "output_type": "execute_result"
    }
   ],
   "source": [
    "#create average confusion matrix array\n",
    "\n",
    "mean_of_conf_matrix = np.mean(conf_matrix_list, axis=0)\n",
    "mean_of_conf_matrix = np.round(mean_of_conf_matrix)\n",
    "mean_of_conf_matrix = mean_of_conf_matrix.astype(int)\n",
    "mean_of_conf_matrix"
   ]
  },
  {
   "cell_type": "code",
   "execution_count": 154,
   "metadata": {},
   "outputs": [
    {
     "data": {
      "text/plain": [
       "[Text(0.5, 1.0, 'Naive-Bayes model with Title Data (TF-IDF)'),\n",
       " Text(0.5, 0, 'Predicted'),\n",
       " Text(0, 0.5, 'Actual')]"
      ]
     },
     "execution_count": 154,
     "metadata": {},
     "output_type": "execute_result"
    },
    {
     "data": {
      "image/png": "[encoded data removed]",
      "text/plain": [
       "<Figure size 640x480 with 2 Axes>"
      ]
     },
     "metadata": {},
     "output_type": "display_data"
    }
   ],
   "source": [
    "#plot the confusion matrix\n",
    "\n",
    "cm_plot = ConfusionMatrixDisplay(mean_of_conf_matrix, display_labels = ['real', 'fake'])\n",
    "cm_plot.plot(values_format='')\n",
    "cm_plot.ax_.set(\n",
    "                title='Naive-Bayes model with Title Data (TF-IDF)', \n",
    "                xlabel='Predicted', \n",
    "                ylabel='Actual')\n",
    "#display_labels = ['real', 'fake']"
   ]
  },
  {
   "cell_type": "markdown",
   "metadata": {},
   "source": [
    "### SVM - title"
   ]
  },
  {
   "cell_type": "code",
   "execution_count": 15,
   "metadata": {},
   "outputs": [],
   "source": [
    "k_folds = KFold(n_splits = 5, random_state=42, shuffle=True)"
   ]
  },
  {
   "cell_type": "code",
   "execution_count": 16,
   "metadata": {},
   "outputs": [],
   "source": [
    "tfidf_title_svm = Pipeline([('tfidf', TfidfVectorizer()),\n",
    "                     ('svm', SVC())])"
   ]
  },
  {
   "cell_type": "code",
   "execution_count": 156,
   "metadata": {},
   "outputs": [],
   "source": [
    "#create variables to store cross validation results\n",
    "conf_matrix_list = []\n",
    "accuracy =[]\n",
    "precision=[]\n",
    "recall = []\n",
    "f1=[]\n",
    "average=[]\n",
    "fit_time=[]\n",
    "tfidf_title_svm_results=pd.DataFrame()\n",
    "\n",
    "for train_index, test_index in k_folds.split(x_title, y_title):\n",
    "\n",
    "    #train and test on each fold, and compute fit time\n",
    "    x_train, x_test, y_train, y_test = x_title.iloc[train_index], x_title.iloc[test_index], y_title.iloc[train_index], y_title.iloc[test_index]\n",
    "    start = process_time()\n",
    "    clf=tfidf_title_lr.fit(x_train,y_train)\n",
    "    end=process_time()\n",
    "    y_pred = tfidf_title_lr.predict(x_test)\n",
    "    \n",
    "    #results for each fold\n",
    "    accuracy.append(accuracy_score(y_test, y_pred))\n",
    "    precision.append(precision_score(y_test, y_pred))\n",
    "    recall.append(recall_score(y_test, y_pred))\n",
    "    f1.append(f1_score(y_test, y_pred))\n",
    "    fit_time.append(end-start)\n",
    "\n",
    "    #confusion matrix for each fold\n",
    "    conf_matrix = confusion_matrix(y_test, y_pred)\n",
    "    conf_matrix_list.append(conf_matrix)\n",
    "    \n",
    "#put cross validation results into a dataframe    \n",
    "tfidf_title_svm_results['accuracy']=accuracy\n",
    "tfidf_title_svm_results['precision']=precision\n",
    "tfidf_title_svm_results['recall']=recall\n",
    "tfidf_title_svm_results['f1 score']=f1\n",
    "tfidf_title_svm_results['fit time']=fit_time\n",
    "tfidf_title_svm_results.loc['mean'] = tfidf_title_svm_results.mean()\n"
   ]
  },
  {
   "cell_type": "code",
   "execution_count": 157,
   "metadata": {},
   "outputs": [
    {
     "data": {
      "text/html": [
       "<div>\n",
       "<style scoped>\n",
       "    .dataframe tbody tr th:only-of-type {\n",
       "        vertical-align: middle;\n",
       "    }\n",
       "\n",
       "    .dataframe tbody tr th {\n",
       "        vertical-align: top;\n",
       "    }\n",
       "\n",
       "    .dataframe thead th {\n",
       "        text-align: right;\n",
       "    }\n",
       "</style>\n",
       "<table border=\"1\" class=\"dataframe\">\n",
       "  <thead>\n",
       "    <tr style=\"text-align: right;\">\n",
       "      <th></th>\n",
       "      <th>accuracy</th>\n",
       "      <th>precision</th>\n",
       "      <th>recall</th>\n",
       "      <th>f1 score</th>\n",
       "      <th>fit time</th>\n",
       "    </tr>\n",
       "  </thead>\n",
       "  <tbody>\n",
       "    <tr>\n",
       "      <th>0</th>\n",
       "      <td>0.890530</td>\n",
       "      <td>0.881064</td>\n",
       "      <td>0.869834</td>\n",
       "      <td>0.875413</td>\n",
       "      <td>1.750000</td>\n",
       "    </tr>\n",
       "    <tr>\n",
       "      <th>1</th>\n",
       "      <td>0.884041</td>\n",
       "      <td>0.871615</td>\n",
       "      <td>0.864875</td>\n",
       "      <td>0.868232</td>\n",
       "      <td>2.562500</td>\n",
       "    </tr>\n",
       "    <tr>\n",
       "      <th>2</th>\n",
       "      <td>0.887285</td>\n",
       "      <td>0.874347</td>\n",
       "      <td>0.870638</td>\n",
       "      <td>0.872488</td>\n",
       "      <td>3.609375</td>\n",
       "    </tr>\n",
       "    <tr>\n",
       "      <th>3</th>\n",
       "      <td>0.884980</td>\n",
       "      <td>0.880286</td>\n",
       "      <td>0.862467</td>\n",
       "      <td>0.871285</td>\n",
       "      <td>2.703125</td>\n",
       "    </tr>\n",
       "    <tr>\n",
       "      <th>4</th>\n",
       "      <td>0.888471</td>\n",
       "      <td>0.879032</td>\n",
       "      <td>0.866085</td>\n",
       "      <td>0.872511</td>\n",
       "      <td>2.281250</td>\n",
       "    </tr>\n",
       "    <tr>\n",
       "      <th>mean</th>\n",
       "      <td>0.887062</td>\n",
       "      <td>0.877269</td>\n",
       "      <td>0.866780</td>\n",
       "      <td>0.871986</td>\n",
       "      <td>2.581250</td>\n",
       "    </tr>\n",
       "  </tbody>\n",
       "</table>\n",
       "</div>"
      ],
      "text/plain": [
       "      accuracy  precision    recall  f1 score  fit time\n",
       "0     0.890530   0.881064  0.869834  0.875413  1.750000\n",
       "1     0.884041   0.871615  0.864875  0.868232  2.562500\n",
       "2     0.887285   0.874347  0.870638  0.872488  3.609375\n",
       "3     0.884980   0.880286  0.862467  0.871285  2.703125\n",
       "4     0.888471   0.879032  0.866085  0.872511  2.281250\n",
       "mean  0.887062   0.877269  0.866780  0.871986  2.581250"
      ]
     },
     "execution_count": 157,
     "metadata": {},
     "output_type": "execute_result"
    }
   ],
   "source": [
    "#view data frame of results\n",
    "\n",
    "tfidf_title_svm_results"
   ]
  },
  {
   "cell_type": "code",
   "execution_count": 158,
   "metadata": {},
   "outputs": [
    {
     "data": {
      "text/plain": [
       "array([[5884,  630],\n",
       "       [ 692, 4504]])"
      ]
     },
     "execution_count": 158,
     "metadata": {},
     "output_type": "execute_result"
    }
   ],
   "source": [
    "#create average confusion matrix array\n",
    "\n",
    "mean_of_conf_matrix = np.mean(conf_matrix_list, axis=0)\n",
    "mean_of_conf_matrix = np.round(mean_of_conf_matrix)\n",
    "mean_of_conf_matrix = mean_of_conf_matrix.astype(int)\n",
    "mean_of_conf_matrix"
   ]
  },
  {
   "cell_type": "code",
   "execution_count": 159,
   "metadata": {},
   "outputs": [
    {
     "data": {
      "text/plain": [
       "[Text(0.5, 1.0, 'SVM model with Title Data (TF-IDF)'),\n",
       " Text(0.5, 0, 'Predicted'),\n",
       " Text(0, 0.5, 'Actual')]"
      ]
     },
     "execution_count": 159,
     "metadata": {},
     "output_type": "execute_result"
    },
    {
     "data": {
      "image/png": "[encoded data removed]",
      "text/plain": [
       "<Figure size 640x480 with 2 Axes>"
      ]
     },
     "metadata": {},
     "output_type": "display_data"
    }
   ],
   "source": [
    "#plot the confusion matrix\n",
    "\n",
    "cm_plot = ConfusionMatrixDisplay(mean_of_conf_matrix, display_labels = ['real', 'fake'])\n",
    "cm_plot.plot(values_format='')\n",
    "cm_plot.ax_.set(\n",
    "                title='SVM model with Title Data (TF-IDF)', \n",
    "                xlabel='Predicted', \n",
    "                ylabel='Actual')\n",
    "#display_labels = ['real', 'fake']"
   ]
  },
  {
   "cell_type": "code",
   "execution_count": 160,
   "metadata": {},
   "outputs": [
    {
     "name": "stdout",
     "output_type": "stream",
     "text": [
      "Stored 'tfidf_title_svm_results' (DataFrame)\n"
     ]
    }
   ],
   "source": [
    "#save results for later use\n",
    "\n",
    "%store tfidf_title_svm_results"
   ]
  }
 ],
 "metadata": {
  "kernelspec": {
   "display_name": "base",
   "language": "python",
   "name": "python3"
  },
  "language_info": {
   "codemirror_mode": {
    "name": "ipython",
    "version": 3
   },
   "file_extension": ".py",
   "mimetype": "text/x-python",
   "name": "python",
   "nbconvert_exporter": "python",
   "pygments_lexer": "ipython3",
   "version": "3.11.5"
  }
 },
 "nbformat": 4,
 "nbformat_minor": 2
}
