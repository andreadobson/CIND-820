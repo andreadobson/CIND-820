{
  "cells": [
    {
      "cell_type": "markdown",
      "metadata": {},
      "source": [
        "# Data preparation"
      ]
    },
    {
      "cell_type": "markdown",
      "metadata": {
        "id": "LPLE23U8ELv7"
      },
      "source": [
        "### Import and review data:\n",
        "\n"
      ]
    },
    {
      "cell_type": "code",
      "execution_count": 19,
      "metadata": {
        "id": "GZ5PYfeFD2ks"
      },
      "outputs": [
        {
          "name": "stdout",
          "output_type": "stream",
          "text": [
            "Requirement already satisfied: pandas in c:\\users\\andrea\\anaconda3\\lib\\site-packages (2.0.3)\n",
            "Requirement already satisfied: python-dateutil>=2.8.2 in c:\\users\\andrea\\anaconda3\\lib\\site-packages (from pandas) (2.8.2)\n",
            "Requirement already satisfied: pytz>=2020.1 in c:\\users\\andrea\\anaconda3\\lib\\site-packages (from pandas) (2023.3.post1)\n",
            "Requirement already satisfied: tzdata>=2022.1 in c:\\users\\andrea\\anaconda3\\lib\\site-packages (from pandas) (2023.3)\n",
            "Requirement already satisfied: numpy>=1.21.0 in c:\\users\\andrea\\anaconda3\\lib\\site-packages (from pandas) (1.24.3)\n",
            "Requirement already satisfied: six>=1.5 in c:\\users\\andrea\\anaconda3\\lib\\site-packages (from python-dateutil>=2.8.2->pandas) (1.16.0)\n"
          ]
        }
      ],
      "source": [
        "!pip install pandas\n",
        "import pandas as pd\n"
      ]
    },
    {
      "cell_type": "code",
      "execution_count": 20,
      "metadata": {},
      "outputs": [],
      "source": [
        "#import csv file (from local machine)\n",
        "\n",
        "data = pd.read_csv(\"C:/Users/Andrea/Documents/CIND 820/WELFake_Dataset.csv\")"
      ]
    },
    {
      "cell_type": "code",
      "execution_count": 21,
      "metadata": {
        "colab": {
          "base_uri": "https://localhost:8080/",
          "height": 1000
        },
        "id": "lB19GG8HEpoR",
        "outputId": "2b36ac78-1e41-4156-9a05-eb3aca9fddf4"
      },
      "outputs": [
        {
          "data": {
            "text/html": [
              "<div>\n",
              "<style scoped>\n",
              "    .dataframe tbody tr th:only-of-type {\n",
              "        vertical-align: middle;\n",
              "    }\n",
              "\n",
              "    .dataframe tbody tr th {\n",
              "        vertical-align: top;\n",
              "    }\n",
              "\n",
              "    .dataframe thead th {\n",
              "        text-align: right;\n",
              "    }\n",
              "</style>\n",
              "<table border=\"1\" class=\"dataframe\">\n",
              "  <thead>\n",
              "    <tr style=\"text-align: right;\">\n",
              "      <th></th>\n",
              "      <th>Unnamed: 0</th>\n",
              "      <th>title</th>\n",
              "      <th>text</th>\n",
              "      <th>label</th>\n",
              "    </tr>\n",
              "  </thead>\n",
              "  <tbody>\n",
              "    <tr>\n",
              "      <th>0</th>\n",
              "      <td>0</td>\n",
              "      <td>LAW ENFORCEMENT ON HIGH ALERT Following Threats Against Cops And Whites On 9-11By #BlackLivesMatter And #FYF911 Terrorists [VIDEO]</td>\n",
              "      <td>No comment is expected from Barack Obama Members of the #FYF911 or #FukYoFlag and #BlackLivesMatter movements called for the lynching and hanging of white people and cops. They encouraged others on a radio show Tuesday night to  turn the tide  and kill white people and cops to send a message about the killing of black people in America.One of the F***YoFlag organizers is called  Sunshine.  She has a radio blog show hosted from Texas called,  Sunshine s F***ing Opinion Radio Show. A snapshot of her #FYF911 @LOLatWhiteFear Twitter page at 9:53 p.m. shows that she was urging supporters to  Call now!! #fyf911 tonight we continue to dismantle the illusion of white Below is a SNAPSHOT Twitter Radio Call Invite   #FYF911The radio show aired at 10:00 p.m. eastern standard time.During the show, callers clearly call for  lynching  and  killing  of white people.A 2:39 minute clip from the radio show can be heard here. It was provided to Breitbart Texas by someone who would like to be referred to as  Hannibal.  He has already received death threats as a result of interrupting #FYF911 conference calls.An unidentified black man said  when those mother f**kers are by themselves, that s when when we should start f***ing them up. Like they do us, when a bunch of them ni**ers takin  one of us out, that s how we should roll up.  He said,  Cause we already roll up in gangs anyway. There should be six or seven black mother f**ckers, see that white person, and then lynch their ass. Let s turn the tables. They conspired that if  cops started losing people,  then  there will be a state of emergency. He speculated that one of two things would happen,  a big-ass [R s?????] war,  or  ni**ers, they are going to start backin  up. We are already getting killed out here so what the f**k we got to lose? Sunshine could be heard saying,  Yep, that s true. That s so f**king true. He said,  We need to turn the tables on them. Our kids are getting shot out here. Somebody needs to become a sacrifice on their side.He said,  Everybody ain t down for that s**t, or whatever, but like I say, everybody has a different position of war.  He continued,  Because they don t give a f**k anyway.  He said again,  We might as well utilized them for that s**t and turn the tables on these n**ers. He said, that way  we can start lookin  like we ain t havin  that many casualties, and there can be more causalities on their side instead of ours. They are out their killing black people, black lives don t matter, that s what those mother f**kers   so we got to make it matter to them. Find a mother f**ker that is alone. Snap his ass, and then f***in hang him from a damn tree. Take a picture of it and then send it to the mother f**kers. We  just need one example,  and  then people will start watchin .  This will turn the tables on s**t, he said. He said this will start  a trickle-down effect.  He said that when one white person is hung and then they are just  flat-hanging,  that will start the  trickle-down effect.  He continued,  Black people are good at starting trends. He said that was how  to get the upper-hand. Another black man spoke up saying they needed to kill  cops that are killing us. The first black male said,  That will be the best method right there. Breitbart Texas previously reported how Sunshine was upset when  racist white people  infiltrated and disrupted one of her conference calls. She subsequently released the phone number of one of the infiltrators. The veteran immediately started receiving threatening calls.One of the #F***YoFlag movement supporters allegedly told a veteran who infiltrated their publicly posted conference call,  We are going to rape and gut your pregnant wife, and your f***ing piece of sh*t unborn creature will be hung from a tree. Breitbart Texas previously encountered Sunshine at a Sandra Bland protest at the Waller County Jail in Texas, where she said all white people should be killed. She told journalists and photographers,  You see this nappy-ass hair on my head?   That means I am one of those more militant Negroes.  She said she was at the protest because  these redneck mother-f**kers murdered Sandra Bland because she had nappy hair like me. #FYF911 black radicals say they will be holding the  imperial powers  that are actually responsible for the terrorist attacks on September 11th accountable on that day, as reported by Breitbart Texas. There are several websites and Twitter handles for the movement. Palmetto Star  describes himself as one of the head organizers. He said in a YouTube video that supporters will be burning their symbols of  the illusion of their superiority,  their  false white supremacy,  like the American flag, the British flag, police uniforms, and Ku Klux Klan hoods.Sierra McGrone or  Nocturnus Libertus  posted,  you too can help a young Afrikan clean their a** with the rag of oppression.  She posted two photos, one that appears to be herself, and a photo of a black man, wiping their naked butts with the American flag.For entire story: Breitbart News</td>\n",
              "      <td>1</td>\n",
              "    </tr>\n",
              "    <tr>\n",
              "      <th>1</th>\n",
              "      <td>1</td>\n",
              "      <td>NaN</td>\n",
              "      <td>Did they post their votes for Hillary already?</td>\n",
              "      <td>1</td>\n",
              "    </tr>\n",
              "    <tr>\n",
              "      <th>2</th>\n",
              "      <td>2</td>\n",
              "      <td>UNBELIEVABLE! OBAMA’S ATTORNEY GENERAL SAYS MOST CHARLOTTE RIOTERS WERE “PEACEFUL” PROTESTERS…In Her Home State Of North Carolina [VIDEO]</td>\n",
              "      <td>Now, most of the demonstrators gathered last night were exercising their constitutional and protected right to peaceful protest in order to raise issues and create change.    Loretta Lynch aka Eric Holder in a skirt</td>\n",
              "      <td>1</td>\n",
              "    </tr>\n",
              "    <tr>\n",
              "      <th>3</th>\n",
              "      <td>3</td>\n",
              "      <td>Bobby Jindal, raised Hindu, uses story of Christian conversion to woo evangelicals for potential 2016 bid</td>\n",
              "      <td>A dozen politically active pastors came here for a private dinner Friday night to hear a conversion story unique in the context of presidential politics: how Louisiana Gov. Bobby Jindal traveled from Hinduism to Protestant Christianity and, ultimately, became what he calls an “evangelical Catholic.”\\n\\nOver two hours, Jindal, 42, recalled talking with a girl in high school who wanted to “save my soul,” reading the Bible in a closet so his parents would not see him and feeling a stir while watching a movie during his senior year that depicted Jesus on the cross.\\n\\n“I was struck, and struck hard,” Jindal told the pastors. “This was the Son of God, and He had died for our sins.”\\n\\nJindal’s session with the Christian clergy, who lead congregations in the early presidential battleground states of Iowa and South Carolina, was part of a behind-the-scenes effort by the Louisiana governor to find a political base that could help propel him into the top tier of Republican candidates seeking to run for the White House in 2016.\\n\\nKnown in GOP circles mostly for his mastery of policy issues such as health care, Jindal, a Rhodes Scholar and graduate of the Ivy League’s Brown University, does not have an obvious pool of activist supporters to help drive excitement outside his home state. So he is harnessing his religious experience in a way that has begun to appeal to parts of the GOP’s influential core of religious conservatives, many of whom have yet to find a favorite among the Republicans eyeing the presidential race.\\n\\nOther potential 2016 GOP candidates are wooing the evangelical base, including Sens. Rand Paul (Ky.) and Ted Cruz (Tex.) and Indiana Gov. Mike Pence.\\n\\nBut over the weekend in Lynchburg — a mecca of sorts for evangelicals as the home of Liberty University, founded in the 1970s by the Rev. Jerry Falwell — Jindal appeared to make progress.\\n\\nIn addition to his dinner with the pastors, he delivered a well-received “call to action” address to 40,000 Christian conservatives gathered for Liberty’s commencement ceremony, talking again about his faith while assailing what he said was President Obama’s record of attacking religious liberty.\\n\\nThe pastors who came to meet Jindal said his intimate descriptions of his experiences stood out.\\n\\n“He has the convictions, and he has what it takes to communicate them,” said Brad Sherman of Solid Rock Christian Church in Coralville, Iowa. Sherman helped former Arkansas governor Mike Huckabee in his winning 2008 campaign for delegates in Iowa.\\n\\nAnother Huckabee admirer, the Rev. C. Mitchell Brooks of Second Baptist Church in Belton, S.C., said Jindal’s commitment to Christian values and his compelling story put him “on a par” with Huckabee, who was a Baptist preacher before entering politics.\\n\\nThe visiting pastors flew to Lynchburg over the weekend at the invitation of the American Renewal Project, a well-funded nonprofit group that encourages evangelical Christians to engage in the civic arena with voter guides, get-out-the-vote drives and programs to train pastors in grass-roots activism. The group’s founder, David Lane, has built a pastor network in politically important states such as Iowa, Missouri, Ohio and South Carolina and has led trips to Israel with Paul and others seeking to make inroads with evangelical activists.\\n\\nThe group that Lane invited to Lynchburg included Donald Wild­mon, a retired minister and founder of the American Family Association, a prominent evangelical activist group that has influence through its network of more than 140 Christian radio stations.\\n\\nMost of the pastors that Lane’s organization brought to Lynchburg had not met Jindal. But they said he captured their interest recently when he stepped forward to defend Phil Robertson, patriarch of the “Duck Dynasty” television-show family, amid a controversy over disparaging remarks he made about gays in an interview with GQ magazine.\\n\\nThroughout his Lynchburg visit, Jindal presented himself as a willing culture warrior.\\n\\nDuring his commencement address Saturday, he took up the cause of twin brothers whose HGTV reality series about renovating and reselling houses, “Flip It Forward,” was canceled last week after a Web site revealed that they had protested against same-sex marriage at the 2012 Democratic National Convention in Charlotte.\\n\\nThe siblings, Jason and David Benham, both Liberty graduates, attended the graduation and a private lunch with Jindal, who called the action against them “another demonstration of intolerance from the entertainment industry.”\\n\\n“If these guys had protested at the Republican Party convention, instead of canceling their show, HGTV would probably have given them a raise,” Jindal said as the Liberty crowd applauded.\\n\\nHe cited the Hobby Lobby craft store chain, which faced a legal challenge after refusing to provide employees with insurance coverage for contraceptives as required under the Affordable Care Act. Members of the family that owns Hobby Lobby, who have become heroes to many religious conservatives, have said that they are morally opposed to the use of certain types of birth control and that they considered the requirement a violation of their First Amendment right to religious freedom.\\n\\nThe family was “committed to honor the Lord by being generous employers, paying well above minimum wage and increasing salaries four years in a row even in the midst of the enduring recession,” Jindal told the Liberty graduates. “None of this matters to the Obama administration.”\\n\\nBut for the pastors who came to see Jindal in action, the governor’s own story was the highlight of the weekend. And in many ways, he was unlike any other aspiring president these activists had met.\\n\\nPiyush Jindal was born in 1971, four months after his parents arrived in Baton Rouge, La., from their native India. He changed his name to Bobby as a young boy, adopting the name of a character on a favorite television show, “The Brady Bunch.”\\n\\nHis decision to become a Christian, he told the pastors, did not come in one moment of lightning epiphany. Instead, he said, it happened in phases, growing from small seeds planted over time.\\n\\nJindal recalled that his closest friend from grade school gave him a Bible with his name emblazoned in gold on the cover as a Christmas present. It struck him initially as an unimpressive gift, Jindal told the pastors.\\n\\n“Who in the world would spend good money for a Bible when everyone knows you can get one free in any hotel?” he recalled thinking at the time. “And the gold lettering meant I couldn’t give it away or return it.”\\n\\nHis religious education reached a higher plane during his junior year in high school, he told his dinner audience. He wanted to ask a pretty girl on a date during a hallway conversation, and she started talking about her faith in God and her opposition to abortion. The girl invited him to visit her church.\\n\\nJindal said he was skeptical and set out to “investigate all these fanciful claims” made by the girl and other friends. He started reading the Bible in his closet at home. “I was unsure how my parents would react,” he said.\\n\\nAfter the stirring moment when he saw Christ depicted on the cross during the religious movie, the Bible and his very existence suddenly seemed clearer to him, Jindal told the pastors.\\n\\nJindal did not dwell on his subsequent conversion to Catholicism just a few years later in college, where he said he immersed himself in the traditions of the church.\\n\\nHe touched on it briefly during the commencement address, noting in passing that “I am best described as an evangelical Catholic.” Mostly, he sought to showcase the ways in which he shares values with other Christian conservatives.\\n\\n“I read the words of Jesus Christ, and I realized that they were true,” Jindal told the graduates Saturday, offering a less detailed accounting of his conversion than he had done the night before with the pastors. “I used to think that I had found God, but I believe it is more accurate to say that He found me.”</td>\n",
              "      <td>0</td>\n",
              "    </tr>\n",
              "    <tr>\n",
              "      <th>4</th>\n",
              "      <td>4</td>\n",
              "      <td>SATAN 2: Russia unvelis an image of its terrifying new ‘SUPERNUKE’ – Western world takes notice</td>\n",
              "      <td>The RS-28 Sarmat missile, dubbed Satan 2, will replace the SS-18 Flies at 4.3 miles (7km) per sec and with a range of 6,213 miles (10,000km) The weapons are perceived as part of an increasingly aggressive Russia It could deliver a warhead of 40 megatons – 2,000 times as powerful as the atom bombs dropped on Hiroshima and Nagasaki in 1945 By LIBBY PLUMMER and GARETH DAVIE S Russia has unveiled chilling pictures of its largest ever nuclear missile, capable of destroying an area the size of France. The RS-28 Sarmat missile, dubbed Satan 2 by Nato, has a top speed of 4.3 miles (7km) per second and has been designed to outfox anti-missile shield systems. The new Sarmat missile could deliver warheads of 40 megatons – 2,000 times as powerful as the atom bombs dropped on Hiroshima and Nagasaki in 1945. Scroll down for video Russian President Vladimir Putin is reportedly planning to replace the country’s older SS-18 Satan weapons with the new missiles amid a string of recent disagreements with the West. The Kremlin has stepped up the rhetoric against the West and carried a series of manoeuvres that has infuriated politicians in the US and UK. The pictures were revealed online by chief designers from the Makeyev Rocket Design Bureau. A message posted alongside the picture said: ‘In accordance with the Decree of the Russian Government ‘On the State Defense Order for 2010 and the planning period 2012-2013’, the Makeyev Rocket Design Bureau was instructed to start design and development work on the Sarmat. ‘ The RS-28 Sarmat missile is said to contain 16 nuclear warheads and is capable of destroying an area the size of France or Texas, according to Russian news network Zvezda, which is owned by Russia’s ministry of defence. The weapon is also able to evade radar. It is expected to have a range of 6,213 miles (10,000 km), which would allow Moscow to attack London and \\nFOR ENTIRE ARTICLE CLICK LINK</td>\n",
              "      <td>1</td>\n",
              "    </tr>\n",
              "  </tbody>\n",
              "</table>\n",
              "</div>"
            ],
            "text/plain": [
              "   Unnamed: 0  \\\n",
              "0           0   \n",
              "1           1   \n",
              "2           2   \n",
              "3           3   \n",
              "4           4   \n",
              "\n",
              "                                                                                                                                       title  \\\n",
              "0         LAW ENFORCEMENT ON HIGH ALERT Following Threats Against Cops And Whites On 9-11By #BlackLivesMatter And #FYF911 Terrorists [VIDEO]   \n",
              "1                                                                                                                                        NaN   \n",
              "2  UNBELIEVABLE! OBAMA’S ATTORNEY GENERAL SAYS MOST CHARLOTTE RIOTERS WERE “PEACEFUL” PROTESTERS…In Her Home State Of North Carolina [VIDEO]   \n",
              "3                                  Bobby Jindal, raised Hindu, uses story of Christian conversion to woo evangelicals for potential 2016 bid   \n",
              "4                                            SATAN 2: Russia unvelis an image of its terrifying new ‘SUPERNUKE’ – Western world takes notice   \n",
              "\n",
              "                                                                                                                                                                                                                                                                                                                                                                                                                                                                                                                                                                                                                                                                                                                                                                                                                                                                                                                                                                                                                                                                                                                                                                                                                                                                                                                                                                                                                                                                                                                                                                                                                                                                                                                                                                                                                                                                                                                                                                                                                                                                                                                                                                                                                                                                                                                                                                                                                                                                                                                                                                                                                                                                                                                                                                                                                                                                                                                                                                                                                                                                                                                                                                                                                                                                                                                                                                                                                                                                                                                                                                                                                                                                                                                                                                                                                                                                                                                                                                                                                                                                                                                                                                                                                                                                                                                                                                                                                                                                                                                                                                                                                                                                                                                                                                                                                                                                                                                                                                                                                                                                                                                                                                                                                                                                                                                                                                                                                                                                                                                                                                                                                                                                                                                                                                                                                                                                                                                                                                                                                                                                                                                                                                                                                                                                                                                                                                                                                                                                                                                                                                                                                                                                                                                                                                                                                                                                                                                                                                                                                                                                                                                                                                                                                                                                                                                                                                                                                                                                                                                                                                                                                                                                                                                                                                                                                                                                                                                                                                                                                                                                                                                                                                                                                                                                                                                                                                                                     text  \\\n",
              "0                                                                                                                                                                                                                                                                                                                                                                                                                                                                                                                                                                                                                                                                                                                                                                                                                                                                                                                                                                                                                                                                                                                                                                                                                                                                                                                                                                                                                                                                                                                                                                                                                                                                                                                                                                                                                                                                                                                                                                                                                                                                                                                                                                                                                                                                                                                                                                                                                                                                                                                                                                                                                                                                                                                                                                                                                                                                                                                                                                                                                                                                                                                                               No comment is expected from Barack Obama Members of the #FYF911 or #FukYoFlag and #BlackLivesMatter movements called for the lynching and hanging of white people and cops. They encouraged others on a radio show Tuesday night to  turn the tide  and kill white people and cops to send a message about the killing of black people in America.One of the F***YoFlag organizers is called  Sunshine.  She has a radio blog show hosted from Texas called,  Sunshine s F***ing Opinion Radio Show. A snapshot of her #FYF911 @LOLatWhiteFear Twitter page at 9:53 p.m. shows that she was urging supporters to  Call now!! #fyf911 tonight we continue to dismantle the illusion of white Below is a SNAPSHOT Twitter Radio Call Invite   #FYF911The radio show aired at 10:00 p.m. eastern standard time.During the show, callers clearly call for  lynching  and  killing  of white people.A 2:39 minute clip from the radio show can be heard here. It was provided to Breitbart Texas by someone who would like to be referred to as  Hannibal.  He has already received death threats as a result of interrupting #FYF911 conference calls.An unidentified black man said  when those mother f**kers are by themselves, that s when when we should start f***ing them up. Like they do us, when a bunch of them ni**ers takin  one of us out, that s how we should roll up.  He said,  Cause we already roll up in gangs anyway. There should be six or seven black mother f**ckers, see that white person, and then lynch their ass. Let s turn the tables. They conspired that if  cops started losing people,  then  there will be a state of emergency. He speculated that one of two things would happen,  a big-ass [R s?????] war,  or  ni**ers, they are going to start backin  up. We are already getting killed out here so what the f**k we got to lose? Sunshine could be heard saying,  Yep, that s true. That s so f**king true. He said,  We need to turn the tables on them. Our kids are getting shot out here. Somebody needs to become a sacrifice on their side.He said,  Everybody ain t down for that s**t, or whatever, but like I say, everybody has a different position of war.  He continued,  Because they don t give a f**k anyway.  He said again,  We might as well utilized them for that s**t and turn the tables on these n**ers. He said, that way  we can start lookin  like we ain t havin  that many casualties, and there can be more causalities on their side instead of ours. They are out their killing black people, black lives don t matter, that s what those mother f**kers   so we got to make it matter to them. Find a mother f**ker that is alone. Snap his ass, and then f***in hang him from a damn tree. Take a picture of it and then send it to the mother f**kers. We  just need one example,  and  then people will start watchin .  This will turn the tables on s**t, he said. He said this will start  a trickle-down effect.  He said that when one white person is hung and then they are just  flat-hanging,  that will start the  trickle-down effect.  He continued,  Black people are good at starting trends. He said that was how  to get the upper-hand. Another black man spoke up saying they needed to kill  cops that are killing us. The first black male said,  That will be the best method right there. Breitbart Texas previously reported how Sunshine was upset when  racist white people  infiltrated and disrupted one of her conference calls. She subsequently released the phone number of one of the infiltrators. The veteran immediately started receiving threatening calls.One of the #F***YoFlag movement supporters allegedly told a veteran who infiltrated their publicly posted conference call,  We are going to rape and gut your pregnant wife, and your f***ing piece of sh*t unborn creature will be hung from a tree. Breitbart Texas previously encountered Sunshine at a Sandra Bland protest at the Waller County Jail in Texas, where she said all white people should be killed. She told journalists and photographers,  You see this nappy-ass hair on my head?   That means I am one of those more militant Negroes.  She said she was at the protest because  these redneck mother-f**kers murdered Sandra Bland because she had nappy hair like me. #FYF911 black radicals say they will be holding the  imperial powers  that are actually responsible for the terrorist attacks on September 11th accountable on that day, as reported by Breitbart Texas. There are several websites and Twitter handles for the movement. Palmetto Star  describes himself as one of the head organizers. He said in a YouTube video that supporters will be burning their symbols of  the illusion of their superiority,  their  false white supremacy,  like the American flag, the British flag, police uniforms, and Ku Klux Klan hoods.Sierra McGrone or  Nocturnus Libertus  posted,  you too can help a young Afrikan clean their a** with the rag of oppression.  She posted two photos, one that appears to be herself, and a photo of a black man, wiping their naked butts with the American flag.For entire story: Breitbart News   \n",
              "1                                                                                                                                                                                                                                                                                                                                                                                                                                                                                                                                                                                                                                                                                                                                                                                                                                                                                                                                                                                                                                                                                                                                                                                                                                                                                                                                                                                                                                                                                                                                                                                                                                                                                                                                                                                                                                                                                                                                                                                                                                                                                                                                                                                                                                                                                                                                                                                                                                                                                                                                                                                                                                                                                                                                                                                                                                                                                                                                                                                                                                                                                                                                                                                                                                                                                                                                                                                                                                                                                                                                                                                                                                                                                                                                                                                                                                                                                                                                                                                                                                                                                                                                                                                                                                                                                                                                                                                                                                                                                                                                                                                                                                                                                                                                                                                                                                                                                                                                                                                                                                                                                                                                                                                                                                                                                                                                                                                                                                                                                                                                                                                                                                                                                                                                                                                                                                                                                                                                                                                                                                                                                                                                                                                                                                                                                                                                                                                                                                                                                                                                                                                                                                                                                                                                                                                                                                                                                                                                                                                                                                                                                                                                                                                                                                                                                                                                                                                                                                                                                                                                                                                                                                                                                                                                                                                                                                                                                                                                                                                                                                                                                                                                                                                                                                                                                                                                                          Did they post their votes for Hillary already?   \n",
              "2                                                                                                                                                                                                                                                                                                                                                                                                                                                                                                                                                                                                                                                                                                                                                                                                                                                                                                                                                                                                                                                                                                                                                                                                                                                                                                                                                                                                                                                                                                                                                                                                                                                                                                                                                                                                                                                                                                                                                                                                                                                                                                                                                                                                                                                                                                                                                                                                                                                                                                                                                                                                                                                                                                                                                                                                                                                                                                                                                                                                                                                                                                                                                                                                                                                                                                                                                                                                                                                                                                                                                                                                                                                                                                                                                                                                                                                                                                                                                                                                                                                                                                                                                                                                                                                                                                                                                                                                                                                                                                                                                                                                                                                                                                                                                                                                                                                                                                                                                                                                                                                                                                                                                                                                                                                                                                                                                                                                                                                                                                                                                                                                                                                                                                                                                                                                                                                                                                                                                                                                                                                                                                                                                                                                                                                                                                                                                                                                                                                                                                                                                                                                                                                                                                                                                                                                                                                                                                                                                                                                                                                                                                                                                                                                                                                                                                                                                                                                                                                                                                                                                                                                                                                                                                                                                                                                                                                                                                                                                                                                                                                                                                                                                                                 Now, most of the demonstrators gathered last night were exercising their constitutional and protected right to peaceful protest in order to raise issues and create change.    Loretta Lynch aka Eric Holder in a skirt   \n",
              "3  A dozen politically active pastors came here for a private dinner Friday night to hear a conversion story unique in the context of presidential politics: how Louisiana Gov. Bobby Jindal traveled from Hinduism to Protestant Christianity and, ultimately, became what he calls an “evangelical Catholic.”\\n\\nOver two hours, Jindal, 42, recalled talking with a girl in high school who wanted to “save my soul,” reading the Bible in a closet so his parents would not see him and feeling a stir while watching a movie during his senior year that depicted Jesus on the cross.\\n\\n“I was struck, and struck hard,” Jindal told the pastors. “This was the Son of God, and He had died for our sins.”\\n\\nJindal’s session with the Christian clergy, who lead congregations in the early presidential battleground states of Iowa and South Carolina, was part of a behind-the-scenes effort by the Louisiana governor to find a political base that could help propel him into the top tier of Republican candidates seeking to run for the White House in 2016.\\n\\nKnown in GOP circles mostly for his mastery of policy issues such as health care, Jindal, a Rhodes Scholar and graduate of the Ivy League’s Brown University, does not have an obvious pool of activist supporters to help drive excitement outside his home state. So he is harnessing his religious experience in a way that has begun to appeal to parts of the GOP’s influential core of religious conservatives, many of whom have yet to find a favorite among the Republicans eyeing the presidential race.\\n\\nOther potential 2016 GOP candidates are wooing the evangelical base, including Sens. Rand Paul (Ky.) and Ted Cruz (Tex.) and Indiana Gov. Mike Pence.\\n\\nBut over the weekend in Lynchburg — a mecca of sorts for evangelicals as the home of Liberty University, founded in the 1970s by the Rev. Jerry Falwell — Jindal appeared to make progress.\\n\\nIn addition to his dinner with the pastors, he delivered a well-received “call to action” address to 40,000 Christian conservatives gathered for Liberty’s commencement ceremony, talking again about his faith while assailing what he said was President Obama’s record of attacking religious liberty.\\n\\nThe pastors who came to meet Jindal said his intimate descriptions of his experiences stood out.\\n\\n“He has the convictions, and he has what it takes to communicate them,” said Brad Sherman of Solid Rock Christian Church in Coralville, Iowa. Sherman helped former Arkansas governor Mike Huckabee in his winning 2008 campaign for delegates in Iowa.\\n\\nAnother Huckabee admirer, the Rev. C. Mitchell Brooks of Second Baptist Church in Belton, S.C., said Jindal’s commitment to Christian values and his compelling story put him “on a par” with Huckabee, who was a Baptist preacher before entering politics.\\n\\nThe visiting pastors flew to Lynchburg over the weekend at the invitation of the American Renewal Project, a well-funded nonprofit group that encourages evangelical Christians to engage in the civic arena with voter guides, get-out-the-vote drives and programs to train pastors in grass-roots activism. The group’s founder, David Lane, has built a pastor network in politically important states such as Iowa, Missouri, Ohio and South Carolina and has led trips to Israel with Paul and others seeking to make inroads with evangelical activists.\\n\\nThe group that Lane invited to Lynchburg included Donald Wild­mon, a retired minister and founder of the American Family Association, a prominent evangelical activist group that has influence through its network of more than 140 Christian radio stations.\\n\\nMost of the pastors that Lane’s organization brought to Lynchburg had not met Jindal. But they said he captured their interest recently when he stepped forward to defend Phil Robertson, patriarch of the “Duck Dynasty” television-show family, amid a controversy over disparaging remarks he made about gays in an interview with GQ magazine.\\n\\nThroughout his Lynchburg visit, Jindal presented himself as a willing culture warrior.\\n\\nDuring his commencement address Saturday, he took up the cause of twin brothers whose HGTV reality series about renovating and reselling houses, “Flip It Forward,” was canceled last week after a Web site revealed that they had protested against same-sex marriage at the 2012 Democratic National Convention in Charlotte.\\n\\nThe siblings, Jason and David Benham, both Liberty graduates, attended the graduation and a private lunch with Jindal, who called the action against them “another demonstration of intolerance from the entertainment industry.”\\n\\n“If these guys had protested at the Republican Party convention, instead of canceling their show, HGTV would probably have given them a raise,” Jindal said as the Liberty crowd applauded.\\n\\nHe cited the Hobby Lobby craft store chain, which faced a legal challenge after refusing to provide employees with insurance coverage for contraceptives as required under the Affordable Care Act. Members of the family that owns Hobby Lobby, who have become heroes to many religious conservatives, have said that they are morally opposed to the use of certain types of birth control and that they considered the requirement a violation of their First Amendment right to religious freedom.\\n\\nThe family was “committed to honor the Lord by being generous employers, paying well above minimum wage and increasing salaries four years in a row even in the midst of the enduring recession,” Jindal told the Liberty graduates. “None of this matters to the Obama administration.”\\n\\nBut for the pastors who came to see Jindal in action, the governor’s own story was the highlight of the weekend. And in many ways, he was unlike any other aspiring president these activists had met.\\n\\nPiyush Jindal was born in 1971, four months after his parents arrived in Baton Rouge, La., from their native India. He changed his name to Bobby as a young boy, adopting the name of a character on a favorite television show, “The Brady Bunch.”\\n\\nHis decision to become a Christian, he told the pastors, did not come in one moment of lightning epiphany. Instead, he said, it happened in phases, growing from small seeds planted over time.\\n\\nJindal recalled that his closest friend from grade school gave him a Bible with his name emblazoned in gold on the cover as a Christmas present. It struck him initially as an unimpressive gift, Jindal told the pastors.\\n\\n“Who in the world would spend good money for a Bible when everyone knows you can get one free in any hotel?” he recalled thinking at the time. “And the gold lettering meant I couldn’t give it away or return it.”\\n\\nHis religious education reached a higher plane during his junior year in high school, he told his dinner audience. He wanted to ask a pretty girl on a date during a hallway conversation, and she started talking about her faith in God and her opposition to abortion. The girl invited him to visit her church.\\n\\nJindal said he was skeptical and set out to “investigate all these fanciful claims” made by the girl and other friends. He started reading the Bible in his closet at home. “I was unsure how my parents would react,” he said.\\n\\nAfter the stirring moment when he saw Christ depicted on the cross during the religious movie, the Bible and his very existence suddenly seemed clearer to him, Jindal told the pastors.\\n\\nJindal did not dwell on his subsequent conversion to Catholicism just a few years later in college, where he said he immersed himself in the traditions of the church.\\n\\nHe touched on it briefly during the commencement address, noting in passing that “I am best described as an evangelical Catholic.” Mostly, he sought to showcase the ways in which he shares values with other Christian conservatives.\\n\\n“I read the words of Jesus Christ, and I realized that they were true,” Jindal told the graduates Saturday, offering a less detailed accounting of his conversion than he had done the night before with the pastors. “I used to think that I had found God, but I believe it is more accurate to say that He found me.”   \n",
              "4                                                                                                                                                                                                                                                                                                                                                                                                                                                                                                                                                                                                                                                                                                                                                                                                                                                                                                                                                                                                                                                                                                                                                                                                                                                                                                                                                                                                                                                                                                                                                                                                                                                                                                                                                                                                                                                                                                                                                                                                                                                                                                                                                                                                                                                                                                                                                                                                                                                                                                                                                                                                                                                                                                                                                                                                                                                                                                                                                                                                                                                                                                                                                                                                                                                                                                                                                                                                                                                                                                                                                                                                                                                                                                                                                                                                                                                                                                                                                                                                                                                                                                                                                                                                                                                                                                                                                                                                                                                                                                                                                                                                                                                                                                                                                                                                                                                                                                                                                                                                                                                                                                                                                                                                                                                                                                                                                                                                                                                                                                                                                                                                                                                                                                                                                                                                                                                                                                                                                                                                                                                                                                                                                                                                                                                                                                                                                                                                           The RS-28 Sarmat missile, dubbed Satan 2, will replace the SS-18 Flies at 4.3 miles (7km) per sec and with a range of 6,213 miles (10,000km) The weapons are perceived as part of an increasingly aggressive Russia It could deliver a warhead of 40 megatons – 2,000 times as powerful as the atom bombs dropped on Hiroshima and Nagasaki in 1945 By LIBBY PLUMMER and GARETH DAVIE S Russia has unveiled chilling pictures of its largest ever nuclear missile, capable of destroying an area the size of France. The RS-28 Sarmat missile, dubbed Satan 2 by Nato, has a top speed of 4.3 miles (7km) per second and has been designed to outfox anti-missile shield systems. The new Sarmat missile could deliver warheads of 40 megatons – 2,000 times as powerful as the atom bombs dropped on Hiroshima and Nagasaki in 1945. Scroll down for video Russian President Vladimir Putin is reportedly planning to replace the country’s older SS-18 Satan weapons with the new missiles amid a string of recent disagreements with the West. The Kremlin has stepped up the rhetoric against the West and carried a series of manoeuvres that has infuriated politicians in the US and UK. The pictures were revealed online by chief designers from the Makeyev Rocket Design Bureau. A message posted alongside the picture said: ‘In accordance with the Decree of the Russian Government ‘On the State Defense Order for 2010 and the planning period 2012-2013’, the Makeyev Rocket Design Bureau was instructed to start design and development work on the Sarmat. ‘ The RS-28 Sarmat missile is said to contain 16 nuclear warheads and is capable of destroying an area the size of France or Texas, according to Russian news network Zvezda, which is owned by Russia’s ministry of defence. The weapon is also able to evade radar. It is expected to have a range of 6,213 miles (10,000 km), which would allow Moscow to attack London and \\nFOR ENTIRE ARTICLE CLICK LINK   \n",
              "\n",
              "   label  \n",
              "0      1  \n",
              "1      1  \n",
              "2      1  \n",
              "3      0  \n",
              "4      1  "
            ]
          },
          "execution_count": 21,
          "metadata": {},
          "output_type": "execute_result"
        }
      ],
      "source": [
        "#check first 5 rows\n",
        "\n",
        "pd.set_option('max_colwidth', None)\n",
        "data.head()"
      ]
    },
    {
      "cell_type": "code",
      "execution_count": 22,
      "metadata": {
        "colab": {
          "base_uri": "https://localhost:8080/"
        },
        "id": "Tmb3fOS5ydaC",
        "outputId": "ba88e678-0fbe-4a94-a7ec-86649c740d22"
      },
      "outputs": [
        {
          "data": {
            "text/plain": [
              "label\n",
              "1    37106\n",
              "0    35028\n",
              "Name: count, dtype: int64"
            ]
          },
          "execution_count": 22,
          "metadata": {},
          "output_type": "execute_result"
        }
      ],
      "source": [
        "#check class counts\n",
        "\n",
        "data.label.value_counts()"
      ]
    },
    {
      "cell_type": "code",
      "execution_count": 23,
      "metadata": {
        "colab": {
          "base_uri": "https://localhost:8080/"
        },
        "id": "ULlCblbvzf8M",
        "outputId": "23498109-052d-497d-dd6a-81cc0889bd90"
      },
      "outputs": [
        {
          "data": {
            "text/plain": [
              "Unnamed: 0      0\n",
              "title         558\n",
              "text           39\n",
              "label           0\n",
              "dtype: int64"
            ]
          },
          "execution_count": 23,
          "metadata": {},
          "output_type": "execute_result"
        }
      ],
      "source": [
        "#check for null values\n",
        "\n",
        "data.isnull().sum()\n"
      ]
    },
    {
      "cell_type": "code",
      "execution_count": 24,
      "metadata": {
        "colab": {
          "base_uri": "https://localhost:8080/"
        },
        "id": "SYXecCC-z6Mo",
        "outputId": "ecdf2c7c-1c98-4404-bed0-814a335a889f"
      },
      "outputs": [],
      "source": [
        "#drop null values\n",
        "\n",
        "data = data.dropna()"
      ]
    },
    {
      "cell_type": "code",
      "execution_count": 25,
      "metadata": {},
      "outputs": [
        {
          "data": {
            "text/plain": [
              "9229"
            ]
          },
          "execution_count": 25,
          "metadata": {},
          "output_type": "execute_result"
        }
      ],
      "source": [
        "#check for duplicate titles\n",
        "\n",
        "data['title'].duplicated().sum()"
      ]
    },
    {
      "cell_type": "code",
      "execution_count": 26,
      "metadata": {},
      "outputs": [
        {
          "data": {
            "text/plain": [
              "9337"
            ]
          },
          "execution_count": 26,
          "metadata": {},
          "output_type": "execute_result"
        }
      ],
      "source": [
        "#check for duplicate text\n",
        "\n",
        "data['text'].duplicated().sum()"
      ]
    },
    {
      "cell_type": "code",
      "execution_count": 27,
      "metadata": {},
      "outputs": [],
      "source": [
        "#remove duplicates, leaving the first instance\n",
        "\n",
        "data = data.drop_duplicates(subset=['title'], keep='first')\n",
        "data = data.drop_duplicates(subset=['text'], keep='first')"
      ]
    },
    {
      "cell_type": "code",
      "execution_count": 28,
      "metadata": {
        "colab": {
          "base_uri": "https://localhost:8080/"
        },
        "id": "kuxjakSh0Btd",
        "outputId": "5ee2a399-871f-4c76-9f03-ef6e805fba16"
      },
      "outputs": [
        {
          "data": {
            "text/plain": [
              "label\n",
              "0    34237\n",
              "1    27156\n",
              "Name: count, dtype: int64"
            ]
          },
          "execution_count": 28,
          "metadata": {},
          "output_type": "execute_result"
        }
      ],
      "source": [
        "#new data counts after dropping null values and duplicates\n",
        "\n",
        "data.label.value_counts()"
      ]
    },
    {
      "cell_type": "code",
      "execution_count": 29,
      "metadata": {
        "colab": {
          "base_uri": "https://localhost:8080/",
          "height": 484
        },
        "id": "3MqU7Ws5qz5u",
        "outputId": "759ca8eb-6cc3-40bf-ce5d-43b8f9adc960"
      },
      "outputs": [
        {
          "name": "stdout",
          "output_type": "stream",
          "text": [
            "Requirement already satisfied: matplotlib in c:\\users\\andrea\\anaconda3\\lib\\site-packages (3.7.2)\n",
            "Requirement already satisfied: contourpy>=1.0.1 in c:\\users\\andrea\\anaconda3\\lib\\site-packages (from matplotlib) (1.0.5)\n",
            "Requirement already satisfied: cycler>=0.10 in c:\\users\\andrea\\anaconda3\\lib\\site-packages (from matplotlib) (0.11.0)\n",
            "Requirement already satisfied: fonttools>=4.22.0 in c:\\users\\andrea\\anaconda3\\lib\\site-packages (from matplotlib) (4.25.0)\n",
            "Requirement already satisfied: kiwisolver>=1.0.1 in c:\\users\\andrea\\anaconda3\\lib\\site-packages (from matplotlib) (1.4.4)\n",
            "Requirement already satisfied: numpy>=1.20 in c:\\users\\andrea\\anaconda3\\lib\\site-packages (from matplotlib) (1.24.3)\n",
            "Requirement already satisfied: packaging>=20.0 in c:\\users\\andrea\\anaconda3\\lib\\site-packages (from matplotlib) (23.1)\n",
            "Requirement already satisfied: pillow>=6.2.0 in c:\\users\\andrea\\anaconda3\\lib\\site-packages (from matplotlib) (9.4.0)\n",
            "Requirement already satisfied: pyparsing<3.1,>=2.3.1 in c:\\users\\andrea\\anaconda3\\lib\\site-packages (from matplotlib) (3.0.9)\n",
            "Requirement already satisfied: python-dateutil>=2.7 in c:\\users\\andrea\\anaconda3\\lib\\site-packages (from matplotlib) (2.8.2)\n",
            "Requirement already satisfied: six>=1.5 in c:\\users\\andrea\\anaconda3\\lib\\site-packages (from python-dateutil>=2.7->matplotlib) (1.16.0)\n"
          ]
        },
        {
          "data": {
            "text/plain": [
              "Text(0.5, 0, 'Class')"
            ]
          },
          "execution_count": 29,
          "metadata": {},
          "output_type": "execute_result"
        },
        {
          "data": {
            "image/png": "[encoded data removed]",
            "text/plain": [
              "<Figure size 640x480 with 1 Axes>"
            ]
          },
          "metadata": {},
          "output_type": "display_data"
        }
      ],
      "source": [
        "#plot class counts\n",
        "\n",
        "!pip install matplotlib\n",
        "\n",
        "import matplotlib.pyplot as plot\n",
        "\n",
        "data.label.value_counts().plot.bar()\n",
        "plot.title(\"Class Distribution in Dataset\")\n",
        "plot.ylabel(\"Count\")\n",
        "plot.xlabel(\"Class\")"
      ]
    },
    {
      "cell_type": "markdown",
      "metadata": {
        "id": "2t1HpHOWst7K"
      },
      "source": [
        "### Clean the data:"
      ]
    },
    {
      "cell_type": "code",
      "execution_count": 30,
      "metadata": {
        "colab": {
          "base_uri": "https://localhost:8080/"
        },
        "id": "vQY9GBhTuo0w",
        "outputId": "19bd9d9b-7c0d-461e-c804-0bde12ab02f4"
      },
      "outputs": [
        {
          "name": "stdout",
          "output_type": "stream",
          "text": [
            "Requirement already satisfied: nltk in c:\\users\\andrea\\anaconda3\\lib\\site-packages (3.8.1)\n",
            "Requirement already satisfied: click in c:\\users\\andrea\\anaconda3\\lib\\site-packages (from nltk) (8.0.4)\n",
            "Requirement already satisfied: joblib in c:\\users\\andrea\\anaconda3\\lib\\site-packages (from nltk) (1.2.0)\n",
            "Requirement already satisfied: regex>=2021.8.3 in c:\\users\\andrea\\anaconda3\\lib\\site-packages (from nltk) (2022.7.9)\n",
            "Requirement already satisfied: tqdm in c:\\users\\andrea\\anaconda3\\lib\\site-packages (from nltk) (4.65.0)\n",
            "Requirement already satisfied: colorama in c:\\users\\andrea\\anaconda3\\lib\\site-packages (from click->nltk) (0.4.6)\n"
          ]
        }
      ],
      "source": [
        "!pip install nltk\n",
        "import nltk"
      ]
    },
    {
      "cell_type": "code",
      "execution_count": 31,
      "metadata": {
        "id": "UKz2ta-WMuKy"
      },
      "outputs": [],
      "source": [
        "#make new copy of data frame to clean\n",
        "\n",
        "cleandata = data.copy()"
      ]
    },
    {
      "cell_type": "code",
      "execution_count": 32,
      "metadata": {
        "id": "n4vTbgIHu_L0"
      },
      "outputs": [],
      "source": [
        "#change all text to lowercase\n",
        "\n",
        "cleandata['title'] = cleandata['title'].str.lower()\n",
        "cleandata['text'] = cleandata['text'].str.lower()"
      ]
    },
    {
      "cell_type": "code",
      "execution_count": 33,
      "metadata": {},
      "outputs": [],
      "source": [
        "#remove urls\n",
        "\n",
        "cleandata['title'] = cleandata['title'].str.replace(r'https?:\\/\\/\\S+', '', regex=True)\n",
        "cleandata['text'] = cleandata['text'].str.replace(r'https?:\\/\\/\\S+', '', regex=True)"
      ]
    },
    {
      "cell_type": "code",
      "execution_count": 34,
      "metadata": {},
      "outputs": [
        {
          "name": "stdout",
          "output_type": "stream",
          "text": [
            "Requirement already satisfied: langdetect in c:\\users\\andrea\\anaconda3\\lib\\site-packages (1.0.9)\n",
            "Requirement already satisfied: six in c:\\users\\andrea\\anaconda3\\lib\\site-packages (from langdetect) (1.16.0)\n"
          ]
        }
      ],
      "source": [
        "#install package to detect langauges\n",
        "\n",
        "!pip install langdetect\n",
        "\n",
        "from langdetect import detect, DetectorFactory"
      ]
    },
    {
      "cell_type": "code",
      "execution_count": 35,
      "metadata": {},
      "outputs": [],
      "source": [
        "#create function to add a column to the dataframe indicating the language of the text and title\n",
        "\n",
        "def detect_lang(x):\n",
        "    DetectorFactory.seed = 42\n",
        "    try:\n",
        "        lang = detect(x)\n",
        "    except:\n",
        "        lang = 'other'\n",
        "    return lang"
      ]
    },
    {
      "cell_type": "code",
      "execution_count": 36,
      "metadata": {},
      "outputs": [],
      "source": [
        "#add columns using function\n",
        "\n",
        "cleandata['text_lang'] =cleandata['text'].apply(detect_lang)"
      ]
    },
    {
      "cell_type": "code",
      "execution_count": 37,
      "metadata": {},
      "outputs": [],
      "source": [
        "cleandata['title_lang'] =cleandata['title'].apply(detect_lang)"
      ]
    },
    {
      "cell_type": "code",
      "execution_count": 38,
      "metadata": {},
      "outputs": [
        {
          "data": {
            "text/plain": [
              "560"
            ]
          },
          "execution_count": 38,
          "metadata": {},
          "output_type": "execute_result"
        }
      ],
      "source": [
        "#check how many rows are not in english\n",
        "\n",
        "sum(cleandata['text_lang']!='en')"
      ]
    },
    {
      "cell_type": "code",
      "execution_count": 39,
      "metadata": {},
      "outputs": [
        {
          "data": {
            "text/plain": [
              "2724"
            ]
          },
          "execution_count": 39,
          "metadata": {},
          "output_type": "execute_result"
        }
      ],
      "source": [
        "sum(cleandata['title_lang']!='en')"
      ]
    },
    {
      "cell_type": "code",
      "execution_count": 40,
      "metadata": {},
      "outputs": [],
      "source": [
        "#drop any rows with non-English text\n",
        "\n",
        "cleandata.drop(cleandata[(cleandata['text_lang']!='en') | (cleandata['title_lang']!='en')].index, inplace=True)\n"
      ]
    },
    {
      "cell_type": "code",
      "execution_count": 41,
      "metadata": {},
      "outputs": [
        {
          "data": {
            "text/plain": [
              "0"
            ]
          },
          "execution_count": 41,
          "metadata": {},
          "output_type": "execute_result"
        }
      ],
      "source": [
        "#check results\n",
        "\n",
        "sum(cleandata['text_lang']!='en')"
      ]
    },
    {
      "cell_type": "code",
      "execution_count": 42,
      "metadata": {},
      "outputs": [
        {
          "data": {
            "text/plain": [
              "0"
            ]
          },
          "execution_count": 42,
          "metadata": {},
          "output_type": "execute_result"
        }
      ],
      "source": [
        "sum(cleandata['text_lang']!='en')"
      ]
    },
    {
      "cell_type": "code",
      "execution_count": 43,
      "metadata": {},
      "outputs": [
        {
          "name": "stdout",
          "output_type": "stream",
          "text": [
            "Requirement already satisfied: contractions in c:\\users\\andrea\\anaconda3\\lib\\site-packages (0.1.73)\n",
            "Requirement already satisfied: textsearch>=0.0.21 in c:\\users\\andrea\\anaconda3\\lib\\site-packages (from contractions) (0.0.24)\n",
            "Requirement already satisfied: anyascii in c:\\users\\andrea\\anaconda3\\lib\\site-packages (from textsearch>=0.0.21->contractions) (0.3.2)\n",
            "Requirement already satisfied: pyahocorasick in c:\\users\\andrea\\anaconda3\\lib\\site-packages (from textsearch>=0.0.21->contractions) (2.0.0)\n"
          ]
        }
      ],
      "source": [
        "#install package to expand contractions\n",
        "\n",
        "!pip install contractions\n",
        "\n",
        "import contractions"
      ]
    },
    {
      "cell_type": "code",
      "execution_count": 44,
      "metadata": {},
      "outputs": [],
      "source": [
        "#expand contractions\n",
        "\n",
        "cleandata['title'] = cleandata['title'].apply(lambda x: [contractions.fix(word) for word in str(x).split()])\n",
        "cleandata['text'] = cleandata['text'].apply(lambda x: [contractions.fix(word) for word in str(x).split()])"
      ]
    },
    {
      "cell_type": "code",
      "execution_count": 45,
      "metadata": {},
      "outputs": [],
      "source": [
        "#remove punctation and numbers, except for hyphens in compound words\n",
        "\n",
        "cleandata['title'] = cleandata['title'].astype(str)\n",
        "cleandata['text'] = cleandata['text'].astype(str)\n",
        "\n",
        "cleandata['title'] = cleandata['title'].str.replace('[^A-Za-z](?<![A-Za-z]-(?=[A-Za-z]))', ' ', regex=True)\n",
        "cleandata['text'] = cleandata['text'].str.replace('[^A-Za-z](?<![A-Za-z]-(?=[A-Za-z]))', ' ', regex=True)"
      ]
    },
    {
      "cell_type": "code",
      "execution_count": 46,
      "metadata": {},
      "outputs": [
        {
          "data": {
            "text/html": [
              "<div>\n",
              "<style scoped>\n",
              "    .dataframe tbody tr th:only-of-type {\n",
              "        vertical-align: middle;\n",
              "    }\n",
              "\n",
              "    .dataframe tbody tr th {\n",
              "        vertical-align: top;\n",
              "    }\n",
              "\n",
              "    .dataframe thead th {\n",
              "        text-align: right;\n",
              "    }\n",
              "</style>\n",
              "<table border=\"1\" class=\"dataframe\">\n",
              "  <thead>\n",
              "    <tr style=\"text-align: right;\">\n",
              "      <th></th>\n",
              "      <th>Unnamed: 0</th>\n",
              "      <th>title</th>\n",
              "      <th>text</th>\n",
              "      <th>label</th>\n",
              "      <th>text_lang</th>\n",
              "      <th>title_lang</th>\n",
              "    </tr>\n",
              "  </thead>\n",
              "  <tbody>\n",
              "    <tr>\n",
              "      <th>0</th>\n",
              "      <td>0</td>\n",
              "      <td>law    enforcement    on    high    alert    following    threats    against    cops    and    whites    on        by     blacklivesmatter    and     fyf       terrorists     video</td>\n",
              "      <td>no    comment    is    expected    from    barack    obama    members    of    the     fyf       or     fukyoflag    and     blacklivesmatter    movements    called    for    the    lynching    and    hanging    of    white    people    and    cops     they    encouraged    others    on    a    radio    show    tuesday    night    to    turn    the    tide    and    kill    white    people    and    cops    to    send    a    message    about    the    killing    of    black    people    in    america one    of    the    f   yoflag    organizers    is    called    sunshine     she    has    a    radio    blog    show    hosted    from    texas    called     sunshine    s    f   ing    opinion    radio    show     a    snapshot    of    her     fyf        lolatwhitefear    twitter    page    at            p m     shows    that    she    was    urging    supporters    to    call    now       fyf       tonight    we    continue    to    dismantle    the    illusion    of    white    below    is    a    snapshot    twitter    radio    call    invite     fyf   the    radio    show    aired    at             p m     eastern    standard    time during    the    show     callers    clearly    call    for    lynching    and    killing    of    white    people a            minute    clip    from    the    radio    show    can    be    heard    here     it    was    provided    to    breitbart    texas    by    someone    who    would    like    to    be    referred    to    as    hannibal     he    has    already    received    death    threats    as    a    result    of    interrupting     fyf       conference    calls an    unidentified    black    man    said    when    those    mother    f  kers    are    by    themselves     that    s    when    when    we    should    start    f   ing    them    up     like    they    do    us     when    a    bunch    of    them    ni  ers    takin    one    of    us    out     that    s    how    we    should    roll    up     he    said     because    we    already    roll    up    in    gangs    anyway     there    should    be    six    or    seven    black    mother    f  ckers     see    that    white    person     and    then    lynch    their    ass     let    s    turn    the    tables     they    conspired    that    if    cops    started    losing    people     then    there    will    be    a    state    of    emergency     he    speculated    that    one    of    two    things    would    happen     a    big-ass     r    s          war     or    ni  ers     they    are    going    to    start    backin    up     we    are    already    getting    killed    out    here    so    what    the    f  k    we    got    to    lose     sunshine    could    be    heard    saying     yep     that    s    true     that    s    so    f  king    true     he    said     we    need    to    turn    the    tables    on    them     our    kids    are    getting    shot    out    here     somebody    needs    to    become    a    sacrifice    on    their    side he    said     everybody    ain    t    down    for    that    s  t     or    whatever     but    like    i    say     everybody    has    a    different    position    of    war     he    continued     because    they    don    t    give    a    f  k    anyway     he    said    again     we    might    as    well    utilized    them    for    that    s  t    and    turn    the    tables    on    these    n  ers     he    said     that    way    we    can    start    lookin    like    we    ain    t    havin    that    many    casualties     and    there    can    be    more    causalities    on    their    side    instead    of    ours     they    are    out    their    killing    black    people     black    lives    don    t    matter     that    s    what    those    mother    f  kers    so    we    got    to    make    it    matter    to    them     find    a    mother    f  ker    that    is    alone     snap    his    ass     and    then    f   in    hang    him    from    a    damn    tree     take    a    picture    of    it    and    then    send    it    to    the    mother    f  kers     we    just    need    one    example     and    then    people    will    start    watchin         this    will    turn    the    tables    on    s  t     he    said     he    said    this    will    start    a    trickle-down    effect     he    said    that    when    one    white    person    is    hung    and    then    they    are    just    flat-hanging     that    will    start    the    trickle-down    effect     he    continued     black    people    are    good    at    starting    trends     he    said    that    was    how    to    get    the    upper-hand     another    black    man    spoke    up    saying    they    needed    to    kill    cops    that    are    killing    us     the    first    black    male    said     that    will    be    the    best    method    right    there     breitbart    texas    previously    reported    how    sunshine    was    upset    when    racist    white    people    infiltrated    and    disrupted    one    of    her    conference    calls     she    subsequently    released    the    phone    number    of    one    of    the    infiltrators     the    veteran    immediately    started    receiving    threatening    calls one    of    the     f   yoflag    movement    supporters    allegedly    told    a    veteran    who    infiltrated    their    publicly    posted    conference    call     we    are    going    to    rape    and    gut    your    pregnant    wife     and    your    f   ing    piece    of    sh t    unborn    creature    will    be    hung    from    a    tree     breitbart    texas    previously    encountered    sunshine    at    a    sandra    bland    protest    at    the    waller    county    jail    in    texas     where    she    said    all    white    people    should    be    killed     she    told    journalists    and    photographers     you    see    this    nappy-ass    hair    on    my    head     that    means    i    am    one    of    those    more    militant    negroes     she    said    she    was    at    the    protest    because    these    redneck    mother-f  kers    murdered    sandra    bland    because    she    had    nappy    hair    like    me      fyf       black    radicals    say    they    will    be    holding    the    imperial    powers    that    are    actually    responsible    for    the    terrorist    attacks    on    september      th    accountable    on    that    day     as    reported    by    breitbart    texas     there    are    several    websites    and    twitter    handles    for    the    movement     palmetto    star    describes    himself    as    one    of    the    head    organizers     he    said    in    a    youtube    video    that    supporters    will    be    burning    their    symbols    of    the    illusion    of    their    superiority     their    false    white    supremacy     like    the    american    flag     the    british    flag     police    uniforms     and    ku    klux    klan    hoods sierra    mcgrone    or    nocturnus    libertus    posted     you    too    can    help    a    young    afrikan    clean    their    a      with    the    rag    of    oppression     she    posted    two    photos     one    that    appears    to    be    herself     and    a    photo    of    a    black    man     wiping    their    naked    butts    with    the    american    flag for    entire    story     breitbart    news</td>\n",
              "      <td>1</td>\n",
              "      <td>en</td>\n",
              "      <td>en</td>\n",
              "    </tr>\n",
              "    <tr>\n",
              "      <th>2</th>\n",
              "      <td>2</td>\n",
              "      <td>unbelievable     obama s    attorney    general    says    most    charlotte    rioters    were     peaceful     protesters in    her    home    state    of    north    carolina     video</td>\n",
              "      <td>now     most    of    the    demonstrators    gathered    last    night    were    exercising    their    constitutional    and    protected    right    to    peaceful    protest    in    order    to    raise    issues    and    create    change     loretta    lynch    aka    eric    holder    in    a    skirt</td>\n",
              "      <td>1</td>\n",
              "      <td>en</td>\n",
              "      <td>en</td>\n",
              "    </tr>\n",
              "    <tr>\n",
              "      <th>3</th>\n",
              "      <td>3</td>\n",
              "      <td>bobby    jindal     raised    hindu     uses    story    of    christian    conversion    to    woo    evangelicals    for    potential            bid</td>\n",
              "      <td>a    dozen    politically    active    pastors    came    here    for    a    private    dinner    friday    night    to    hear    a    conversion    story    unique    in    the    context    of    presidential    politics     how    louisiana    gov     bobby    jindal    traveled    from    hinduism    to    protestant    christianity    and     ultimately     became    what    he    calls    an     evangelical    catholic      over    two    hours     jindal            recalled    talking    with    a    girl    in    high    school    who    wanted    to     save    my    soul      reading    the    bible    in    a    closet    so    his    parents    would    not    see    him    and    feeling    a    stir    while    watching    a    movie    during    his    senior    year    that    depicted    jesus    on    the    cross      i    was    struck     and    struck    hard      jindal    told    the    pastors      this    was    the    son    of    god     and    he    had    died    for    our    sins      jindal s    session    with    the    christian    clergy     who    lead    congregations    in    the    early    presidential    battleground    states    of    iowa    and    south    carolina     was    part    of    a    behind-the-scenes    effort    by    the    louisiana    governor    to    find    a    political    base    that    could    help    propel    him    into    the    top    tier    of    republican    candidates    seeking    to    run    for    the    white    house    in             known    in    gop    circles    mostly    for    his    mastery    of    policy    issues    such    as    health    care     jindal     a    rhodes    scholar    and    graduate    of    the    ivy    league s    brown    university     does    not    have    an    obvious    pool    of    activist    supporters    to    help    drive    excitement    outside    his    home    state     so    he    is    harnessing    his    religious    experience    in    a    way    that    has    begun    to    appeal    to    parts    of    the    gop s    influential    core    of    religious    conservatives     many    of    whom    have    yet    to    find    a    favorite    among    the    republicans    eyeing    the    presidential    race     other    potential            gop    candidates    are    wooing    the    evangelical    base     including    sens     rand    paul     ky      and    ted    cruz     tex      and    indiana    gov     mike    pence     but    over    the    weekend    in    lynchburg         a    mecca    of    sorts    for    evangelicals    as    the    home    of    liberty    university     founded    in    the        s    by    the    rev     jerry    falwell         jindal    appeared    to    make    progress     in    addition    to    his    dinner    with    the    pastors     he    delivered    a    well-received     call    to    action     address    to              christian    conservatives    gathered    for    liberty s    commencement    ceremony     talking    again    about    his    faith    while    assailing    what    he    said    was    president    obama s    record    of    attacking    religious    liberty     the    pastors    who    came    to    meet    jindal    said    his    intimate    descriptions    of    his    experiences    stood    out      he    has    the    convictions     and    he    has    what    it    takes    to    communicate    them      said    brad    sherman    of    solid    rock    christian    church    in    coralville     iowa     sherman    helped    former    arkansas    governor    mike    huckabee    in    his    winning            campaign    for    delegates    in    iowa     another    huckabee    admirer     the    rev     c     mitchell    brooks    of    second    baptist    church    in    belton     s c      said    jindal s    commitment    to    christian    values    and    his    compelling    story    put    him     on    a    par     with    huckabee     who    was    a    baptist    preacher    before    entering    politics     the    visiting    pastors    flew    to    lynchburg    over    the    weekend    at    the    invitation    of    the    american    renewal    project     a    well-funded    nonprofit    group    that    encourages    evangelical    christians    to    engage    in    the    civic    arena    with    voter    guides     get-out-the-vote    drives    and    programs    to    train    pastors    in    grass-roots    activism     the    group s    founder     david    lane     has    built    a    pastor    network    in    politically    important    states    such    as    iowa     missouri     ohio    and    south    carolina    and    has    led    trips    to    israel    with    paul    and    others    seeking    to    make    inroads    with    evangelical    activists     the    group    that    lane    invited    to    lynchburg    included    donald    wild xadmon     a    retired    minister    and    founder    of    the    american    family    association     a    prominent    evangelical    activist    group    that    has    influence    through    its    network    of    more    than           christian    radio    stations     most    of    the    pastors    that    lane s    organization    brought    to    lynchburg    had    not    met    jindal     but    they    said    he    captured    their    interest    recently    when    he    stepped    forward    to    defend    phil    robertson     patriarch    of    the     duck    dynasty     television-show    family     amid    a    controversy    over    disparaging    remarks    he    made    about    gays    in    an    interview    with    gq    magazine     throughout    his    lynchburg    visit     jindal    presented    himself    as    a    willing    culture    warrior     during    his    commencement    address    saturday     he    took    up    the    because    of    twin    brothers    whose    hgtv    reality    series    about    renovating    and    reselling    houses      flip    it    forward      was    canceled    last    week    after    a    web    site    revealed    that    they    had    protested    against    same-sex    marriage    at    the            democratic    national    convention    in    charlotte     the    siblings     jason    and    david    benham     both    liberty    graduates     attended    the    graduation    and    a    private    lunch    with    jindal     who    called    the    action    against    them     another    demonstration    of    intolerance    from    the    entertainment    industry       if    these    guys    had    protested    at    the    republican    party    convention     instead    of    canceling    their    show     hgtv    would    probably    have    given    them    a    raise      jindal    said    as    the    liberty    crowd    applauded     he    cited    the    hobby    lobby    craft    store    chain     which    faced    a    legal    challenge    after    refusing    to    provide    employees    with    insurance    coverage    for    contraceptives    as    required    under    the    affordable    care    act     members    of    the    family    that    owns    hobby    lobby     who    have    become    heroes    to    many    religious    conservatives     have    said    that    they    are    morally    opposed    to    the    use    of    certain    types    of    birth    control    and    that    they    considered    the    requirement    a    violation    of    their    first    amendment    right    to    religious    freedom     the    family    was     committed    to    honor    the    lord    by    being    generous    employers     paying    well    above    minimum    wage    and    increasing    salaries    four    years    in    a    row    even    in    the    midst    of    the    enduring    recession      jindal    told    the    liberty    graduates      none    of    this    matters    to    the    obama    administration      but    for    the    pastors    who    came    to    see    jindal    in    action     the    governor s    own    story    was    the    highlight    of    the    weekend     and    in    many    ways     he    was    unlike    any    other    aspiring    president    these    activists    had    met     piyush    jindal    was    born    in             four    months    after    his    parents    arrived    in    baton    rouge     la      from    their    native    india     he    changed    his    name    to    bobby    as    a    young    boy     adopting    the    name    of    a    character    on    a    favorite    television    show      the    brady    bunch      his    decision    to    become    a    christian     he    told    the    pastors     did    not    come    in    one    moment    of    lightning    epiphany     instead     he    said     it    happened    in    phases     growing    from    small    seeds    planted    over    time     jindal    recalled    that    his    closest    friend    from    grade    school    gave    him    a    bible    with    his    name    emblazoned    in    gold    on    the    cover    as    a    christmas    present     it    struck    him    initially    as    an    unimpressive    gift     jindal    told    the    pastors      who    in    the    world    would    spend    good    money    for    a    bible    when    everyone    knows    you    can    get    one    free    in    any    hotel      he    recalled    thinking    at    the    time      and    the    gold    lettering    meant    i    could not    give    it    away    or    return    it      his    religious    education    reached    a    higher    plane    during    his    junior    year    in    high    school     he    told    his    dinner    audience     he    wanted    to    ask    a    pretty    girl    on    a    date    during    a    hallway    conversation     and    she    started    talking    about    her    faith    in    god    and    her    opposition    to    abortion     the    girl    invited    him    to    visit    her    church     jindal    said    he    was    skeptical    and    set    out    to     investigate    all    these    fanciful    claims     made    by    the    girl    and    other    friends     he    started    reading    the    bible    in    his    closet    at    home      i    was    unsure    how    my    parents    would    react      he    said     after    the    stirring    moment    when    he    saw    christ    depicted    on    the    cross    during    the    religious    movie     the    bible    and    his    very    existence    suddenly    seemed    clearer    to    him     jindal    told    the    pastors     jindal    did    not    dwell    on    his    subsequent    conversion    to    catholicism    just    a    few    years    later    in    college     where    he    said    he    immersed    himself    in    the    traditions    of    the    church     he    touched    on    it    briefly    during    the    commencement    address     noting    in    passing    that     i    am    best    described    as    an    evangelical    catholic      mostly     he    sought    to    showcase    the    ways    in    which    he    shares    values    with    other    christian    conservatives      i    read    the    words    of    jesus    christ     and    i    realized    that    they    were    true      jindal    told    the    graduates    saturday     offering    a    less    detailed    accounting    of    his    conversion    than    he    had    done    the    night    before    with    the    pastors      i    used    to    think    that    i    had    found    god     but    i    believe    it    is    more    accurate    to    say    that    he    found    me</td>\n",
              "      <td>0</td>\n",
              "      <td>en</td>\n",
              "      <td>en</td>\n",
              "    </tr>\n",
              "    <tr>\n",
              "      <th>4</th>\n",
              "      <td>4</td>\n",
              "      <td>satan          russia    unvelis    an    image    of    its    terrifying    new     supernuke          western    world    takes    notice</td>\n",
              "      <td>the    rs       sarmat    missile     dubbed    satan          will    replace    the    ss       flies    at           miles      km     per    sec    and    with    a    range    of             miles           km     the    weapons    are    perceived    as    part    of    an    increasingly    aggressive    russia    it    could    deliver    a    warhead    of          megatons                  times    as    powerful    as    the    atom    bombs    dropped    on    hiroshima    and    nagasaki    in            by    libby    plummer    and    gareth    davie    s    russia    has    unveiled    chilling    pictures    of    its    largest    ever    nuclear    missile     capable    of    destroying    an    area    the    size    of    france     the    rs       sarmat    missile     dubbed    satan         by    nato     has    a    top    speed    of           miles      km     per    second    and    has    been    designed    to    outfox    anti-missile    shield    systems     the    new    sarmat    missile    could    deliver    warheads    of          megatons                  times    as    powerful    as    the    atom    bombs    dropped    on    hiroshima    and    nagasaki    in             scroll    down    for    video    russian    president    vladimir    putin    is    reportedly    planning    to    replace    the    country s    older    ss       satan    weapons    with    the    new    missiles    amid    a    string    of    recent    disagreements    with    the    west     the    kremlin    has    stepped    up    the    rhetoric    against    the    west    and    carried    a    series    of    manoeuvres    that    has    infuriated    politicians    in    the    us    and    uk     the    pictures    were    revealed    online    by    chief    designers    from    the    makeyev    rocket    design    bureau     a    message    posted    alongside    the    picture    said      in    accordance    with    the    decree    of    the    russian    government     on    the    state    defense    order    for            and    the    planning    period                   the    makeyev    rocket    design    bureau    was    instructed    to    start    design    and    development    work    on    the    sarmat          the    rs       sarmat    missile    is    said    to    contain          nuclear    warheads    and    is    capable    of    destroying    an    area    the    size    of    france    or    texas     according    to    russian    news    network    zvezda     which    is    owned    by    russia s    ministry    of    defence     the    weapon    is    also    able    to    evade    radar     it    is    expected    to    have    a    range    of             miles               km      which    would    allow    moscow    to    attack    london    and    for    entire    article    click    link</td>\n",
              "      <td>1</td>\n",
              "      <td>en</td>\n",
              "      <td>en</td>\n",
              "    </tr>\n",
              "    <tr>\n",
              "      <th>5</th>\n",
              "      <td>5</td>\n",
              "      <td>about    time     christian    group    sues    amazon    and    splc    for    designation    as    hate    group</td>\n",
              "      <td>all    we    can    say    on    this    one    is    it    s    about    time    someone    sued    the    southern    poverty    law    center on    tuesday     d     james    kennedy    ministries     djkm     filed    a    lawsuit    against    the    southern    poverty    law    center     splc      the    charity    navigation    organization    guidestar     and    amazon     for    defamation     religious    discrimination     and    trafficking    in    falsehood     the    splc    listed    djkm    as    a    hate    group     while    guidestar    also    categorized    it    in    those    terms     and    amazon    kept    the    ministry    off    of    its    charity    donation    program     amazon    smile     we    embarked    today    on    a    journey    to    right    a    terrible    wrong     dr     frank    wright     president    and    ceo    at    djkm     said    in    a    statement    tuesday     those    who    knowingly    label    christian    ministries    as    hate    groups     solely    for    subscribing    to    the    historic    christian    faith     are    either    woefully    uninformed    or    willfully    deceitful     in    the    case    of    the    southern    poverty    law    center     our    lawsuit    alleges    the    latter     the    splc    has    labeled    djkm    an    anti-lgbt    hate    group    for    its    opposition    to    same-sex    marriage    and    transgenderism     these    false    and    illegal    characterizations    have    a    chilling    effect    on    the    free    exercise    of    religion    and    on    religious    free    speech    for    all    people    of    faith     wright    declared     after    having    given    the    splc    an    opportunity    to    retract     we    have    undertaken    this    legal    action     seeking    a    trial    by    a    jury    of    our    peers     to    preserve    our    own    rights    under    the    law    and    to    defend    the    religious    free    speech    rights    of    all    americans     the    djkm    president    concluded the    lawsuit    laid    out    charges    against    the    splc     guidestar     and    amazon read    more     pjm</td>\n",
              "      <td>1</td>\n",
              "      <td>en</td>\n",
              "      <td>en</td>\n",
              "    </tr>\n",
              "  </tbody>\n",
              "</table>\n",
              "</div>"
            ],
            "text/plain": [
              "   Unnamed: 0  \\\n",
              "0           0   \n",
              "2           2   \n",
              "3           3   \n",
              "4           4   \n",
              "5           5   \n",
              "\n",
              "                                                                                                                                                                                              title  \\\n",
              "0           law    enforcement    on    high    alert    following    threats    against    cops    and    whites    on        by     blacklivesmatter    and     fyf       terrorists     video      \n",
              "2    unbelievable     obama s    attorney    general    says    most    charlotte    rioters    were     peaceful     protesters in    her    home    state    of    north    carolina     video      \n",
              "3                                          bobby    jindal     raised    hindu     uses    story    of    christian    conversion    to    woo    evangelicals    for    potential            bid     \n",
              "4                                                    satan          russia    unvelis    an    image    of    its    terrifying    new     supernuke          western    world    takes    notice     \n",
              "5                                                                              about    time     christian    group    sues    amazon    and    splc    for    designation    as    hate    group     \n",
              "\n",
              "                                                                                                                                                                                                                                                                                                                                                                                                                                                                                                                                                                                                                                                                                                                                                                                                                                                                                                                                                                                                                                                                                                                                                                                                                                                                                                                                                                                                                                                                                                                                                                                                                                                                                                                                                                                                                                                                                                                                                                                                                                                                                                                                                                                                                                                                                                                                                                                                                                                                                                                                                                                                                                                                                                                                                                                                                                                                                                                                                                                                                                                                                                                                                                                                                                                                                                                                                                                                                                                                                                                                                                                                                                                                                                                                                                                                                                                                                                                                                                                                                                                                                                                                                                                                                                                                                                                                                                                                                                                                                                                                                                                                                                                                                                                                                                                                                                                                                                                                                                                                                                                                                                                                                                                                                                                                                                                                                                                                                                                                                                                                                                                                                                                                                                                                                                                                                                                                                                                                                                                                                                                                                                                                                                                                                                                                                                                                                                                                                                                                                                                                                                                                                                                                                                                                                                                                                                                                                                                                                                                                                                                                                                                                                                                                                                                                                                                                                                                                                                                                                                                                                                                                                                                                                                                                                                                                                                                                                                                                                                                                                                                                                                                                                                                                                                                                                                                                                                                                                                                                                                                                                                                                                                                                                                                                                                                                                                                                                                                                                                                                                                                                                                                                                                                                                                                                                                                                                                                                                                                                                                                                                                                                                                                                                                                                                                                                                                                                                                                                                                                                                                                                                                                                                                                                                                                                                                                                                                                                                                                                                                                                                                                                                                                                                                                                                                                                                                                                                                                                                                                                                                                                                                                                                                                                                                                                                                                                                                                                                                                                                                                                                                                                                                                                                                                                                                                                                                                                                                                                                                                                                                                                                                                                                                                                                                                                                                                                                                                                                                             text  \\\n",
              "0                                                                                                                                                                                                                                                                                                                                                                                                                                                                                                                                                                                                                                                                                                                                                                                                                                                                                                                                                                                                                                                                                                                                                                                                                                                                                                                                                                                                                                                                                                                                                                                                                                                                                                                                                                                                                                                                                                                                                                                                                                                                                                                                                                                                                                                                                                                                                                                                                                                                                                                                                                                                                                                                                                                                                                                                                                                                                                                                                                                                                                                                                                                                                                                                                                                                                                                                                                                                                                                                                                                                                                                                                                                                                                                                                                                                                                                                                                                                                                                                                                                                                                                                                                                                                                                                                                                                                                                                                                                                                                                                       no    comment    is    expected    from    barack    obama    members    of    the     fyf       or     fukyoflag    and     blacklivesmatter    movements    called    for    the    lynching    and    hanging    of    white    people    and    cops     they    encouraged    others    on    a    radio    show    tuesday    night    to    turn    the    tide    and    kill    white    people    and    cops    to    send    a    message    about    the    killing    of    black    people    in    america one    of    the    f   yoflag    organizers    is    called    sunshine     she    has    a    radio    blog    show    hosted    from    texas    called     sunshine    s    f   ing    opinion    radio    show     a    snapshot    of    her     fyf        lolatwhitefear    twitter    page    at            p m     shows    that    she    was    urging    supporters    to    call    now       fyf       tonight    we    continue    to    dismantle    the    illusion    of    white    below    is    a    snapshot    twitter    radio    call    invite     fyf   the    radio    show    aired    at             p m     eastern    standard    time during    the    show     callers    clearly    call    for    lynching    and    killing    of    white    people a            minute    clip    from    the    radio    show    can    be    heard    here     it    was    provided    to    breitbart    texas    by    someone    who    would    like    to    be    referred    to    as    hannibal     he    has    already    received    death    threats    as    a    result    of    interrupting     fyf       conference    calls an    unidentified    black    man    said    when    those    mother    f  kers    are    by    themselves     that    s    when    when    we    should    start    f   ing    them    up     like    they    do    us     when    a    bunch    of    them    ni  ers    takin    one    of    us    out     that    s    how    we    should    roll    up     he    said     because    we    already    roll    up    in    gangs    anyway     there    should    be    six    or    seven    black    mother    f  ckers     see    that    white    person     and    then    lynch    their    ass     let    s    turn    the    tables     they    conspired    that    if    cops    started    losing    people     then    there    will    be    a    state    of    emergency     he    speculated    that    one    of    two    things    would    happen     a    big-ass     r    s          war     or    ni  ers     they    are    going    to    start    backin    up     we    are    already    getting    killed    out    here    so    what    the    f  k    we    got    to    lose     sunshine    could    be    heard    saying     yep     that    s    true     that    s    so    f  king    true     he    said     we    need    to    turn    the    tables    on    them     our    kids    are    getting    shot    out    here     somebody    needs    to    become    a    sacrifice    on    their    side he    said     everybody    ain    t    down    for    that    s  t     or    whatever     but    like    i    say     everybody    has    a    different    position    of    war     he    continued     because    they    don    t    give    a    f  k    anyway     he    said    again     we    might    as    well    utilized    them    for    that    s  t    and    turn    the    tables    on    these    n  ers     he    said     that    way    we    can    start    lookin    like    we    ain    t    havin    that    many    casualties     and    there    can    be    more    causalities    on    their    side    instead    of    ours     they    are    out    their    killing    black    people     black    lives    don    t    matter     that    s    what    those    mother    f  kers    so    we    got    to    make    it    matter    to    them     find    a    mother    f  ker    that    is    alone     snap    his    ass     and    then    f   in    hang    him    from    a    damn    tree     take    a    picture    of    it    and    then    send    it    to    the    mother    f  kers     we    just    need    one    example     and    then    people    will    start    watchin         this    will    turn    the    tables    on    s  t     he    said     he    said    this    will    start    a    trickle-down    effect     he    said    that    when    one    white    person    is    hung    and    then    they    are    just    flat-hanging     that    will    start    the    trickle-down    effect     he    continued     black    people    are    good    at    starting    trends     he    said    that    was    how    to    get    the    upper-hand     another    black    man    spoke    up    saying    they    needed    to    kill    cops    that    are    killing    us     the    first    black    male    said     that    will    be    the    best    method    right    there     breitbart    texas    previously    reported    how    sunshine    was    upset    when    racist    white    people    infiltrated    and    disrupted    one    of    her    conference    calls     she    subsequently    released    the    phone    number    of    one    of    the    infiltrators     the    veteran    immediately    started    receiving    threatening    calls one    of    the     f   yoflag    movement    supporters    allegedly    told    a    veteran    who    infiltrated    their    publicly    posted    conference    call     we    are    going    to    rape    and    gut    your    pregnant    wife     and    your    f   ing    piece    of    sh t    unborn    creature    will    be    hung    from    a    tree     breitbart    texas    previously    encountered    sunshine    at    a    sandra    bland    protest    at    the    waller    county    jail    in    texas     where    she    said    all    white    people    should    be    killed     she    told    journalists    and    photographers     you    see    this    nappy-ass    hair    on    my    head     that    means    i    am    one    of    those    more    militant    negroes     she    said    she    was    at    the    protest    because    these    redneck    mother-f  kers    murdered    sandra    bland    because    she    had    nappy    hair    like    me      fyf       black    radicals    say    they    will    be    holding    the    imperial    powers    that    are    actually    responsible    for    the    terrorist    attacks    on    september      th    accountable    on    that    day     as    reported    by    breitbart    texas     there    are    several    websites    and    twitter    handles    for    the    movement     palmetto    star    describes    himself    as    one    of    the    head    organizers     he    said    in    a    youtube    video    that    supporters    will    be    burning    their    symbols    of    the    illusion    of    their    superiority     their    false    white    supremacy     like    the    american    flag     the    british    flag     police    uniforms     and    ku    klux    klan    hoods sierra    mcgrone    or    nocturnus    libertus    posted     you    too    can    help    a    young    afrikan    clean    their    a      with    the    rag    of    oppression     she    posted    two    photos     one    that    appears    to    be    herself     and    a    photo    of    a    black    man     wiping    their    naked    butts    with    the    american    flag for    entire    story     breitbart    news     \n",
              "2                                                                                                                                                                                                                                                                                                                                                                                                                                                                                                                                                                                                                                                                                                                                                                                                                                                                                                                                                                                                                                                                                                                                                                                                                                                                                                                                                                                                                                                                                                                                                                                                                                                                                                                                                                                                                                                                                                                                                                                                                                                                                                                                                                                                                                                                                                                                                                                                                                                                                                                                                                                                                                                                                                                                                                                                                                                                                                                                                                                                                                                                                                                                                                                                                                                                                                                                                                                                                                                                                                                                                                                                                                                                                                                                                                                                                                                                                                                                                                                                                                                                                                                                                                                                                                                                                                                                                                                                                                                                                                                                                                                                                                                                                                                                                                                                                                                                                                                                                                                                                                                                                                                                                                                                                                                                                                                                                                                                                                                                                                                                                                                                                                                                                                                                                                                                                                                                                                                                                                                                                                                                                                                                                                                                                                                                                                                                                                                                                                                                                                                                                                                                                                                                                                                                                                                                                                                                                                                                                                                                                                                                                                                                                                                                                                                                                                                                                                                                                                                                                                                                                                                                                                                                                                                                                                                                                                                                                                                                                                                                                                                                                                                                                                                                                                                                                                                                                                                                                                                                                                                                                                                                                                                                                                                                                                                                                                                                                                                                                                                                                                                                                                                                                                                                                                                                                                                                                                                                                                                                                                                                                                                                                                                                                                                                                                                                                                                                                                                                                                                                                                                                                                                                                                                                                                                                                                                                                                                                                                                                                                                                                                                                                                                                                                                                                                                                                                                                                                                                                                                                                                                                                                                                                                                                                                                                                                                                                                                                                                                                                                                                                                                                                                                                                                                                                                                                                                                                                                                                                                                                                                                                                                                       now     most    of    the    demonstrators    gathered    last    night    were    exercising    their    constitutional    and    protected    right    to    peaceful    protest    in    order    to    raise    issues    and    create    change     loretta    lynch    aka    eric    holder    in    a    skirt     \n",
              "3    a    dozen    politically    active    pastors    came    here    for    a    private    dinner    friday    night    to    hear    a    conversion    story    unique    in    the    context    of    presidential    politics     how    louisiana    gov     bobby    jindal    traveled    from    hinduism    to    protestant    christianity    and     ultimately     became    what    he    calls    an     evangelical    catholic      over    two    hours     jindal            recalled    talking    with    a    girl    in    high    school    who    wanted    to     save    my    soul      reading    the    bible    in    a    closet    so    his    parents    would    not    see    him    and    feeling    a    stir    while    watching    a    movie    during    his    senior    year    that    depicted    jesus    on    the    cross      i    was    struck     and    struck    hard      jindal    told    the    pastors      this    was    the    son    of    god     and    he    had    died    for    our    sins      jindal s    session    with    the    christian    clergy     who    lead    congregations    in    the    early    presidential    battleground    states    of    iowa    and    south    carolina     was    part    of    a    behind-the-scenes    effort    by    the    louisiana    governor    to    find    a    political    base    that    could    help    propel    him    into    the    top    tier    of    republican    candidates    seeking    to    run    for    the    white    house    in             known    in    gop    circles    mostly    for    his    mastery    of    policy    issues    such    as    health    care     jindal     a    rhodes    scholar    and    graduate    of    the    ivy    league s    brown    university     does    not    have    an    obvious    pool    of    activist    supporters    to    help    drive    excitement    outside    his    home    state     so    he    is    harnessing    his    religious    experience    in    a    way    that    has    begun    to    appeal    to    parts    of    the    gop s    influential    core    of    religious    conservatives     many    of    whom    have    yet    to    find    a    favorite    among    the    republicans    eyeing    the    presidential    race     other    potential            gop    candidates    are    wooing    the    evangelical    base     including    sens     rand    paul     ky      and    ted    cruz     tex      and    indiana    gov     mike    pence     but    over    the    weekend    in    lynchburg         a    mecca    of    sorts    for    evangelicals    as    the    home    of    liberty    university     founded    in    the        s    by    the    rev     jerry    falwell         jindal    appeared    to    make    progress     in    addition    to    his    dinner    with    the    pastors     he    delivered    a    well-received     call    to    action     address    to              christian    conservatives    gathered    for    liberty s    commencement    ceremony     talking    again    about    his    faith    while    assailing    what    he    said    was    president    obama s    record    of    attacking    religious    liberty     the    pastors    who    came    to    meet    jindal    said    his    intimate    descriptions    of    his    experiences    stood    out      he    has    the    convictions     and    he    has    what    it    takes    to    communicate    them      said    brad    sherman    of    solid    rock    christian    church    in    coralville     iowa     sherman    helped    former    arkansas    governor    mike    huckabee    in    his    winning            campaign    for    delegates    in    iowa     another    huckabee    admirer     the    rev     c     mitchell    brooks    of    second    baptist    church    in    belton     s c      said    jindal s    commitment    to    christian    values    and    his    compelling    story    put    him     on    a    par     with    huckabee     who    was    a    baptist    preacher    before    entering    politics     the    visiting    pastors    flew    to    lynchburg    over    the    weekend    at    the    invitation    of    the    american    renewal    project     a    well-funded    nonprofit    group    that    encourages    evangelical    christians    to    engage    in    the    civic    arena    with    voter    guides     get-out-the-vote    drives    and    programs    to    train    pastors    in    grass-roots    activism     the    group s    founder     david    lane     has    built    a    pastor    network    in    politically    important    states    such    as    iowa     missouri     ohio    and    south    carolina    and    has    led    trips    to    israel    with    paul    and    others    seeking    to    make    inroads    with    evangelical    activists     the    group    that    lane    invited    to    lynchburg    included    donald    wild xadmon     a    retired    minister    and    founder    of    the    american    family    association     a    prominent    evangelical    activist    group    that    has    influence    through    its    network    of    more    than           christian    radio    stations     most    of    the    pastors    that    lane s    organization    brought    to    lynchburg    had    not    met    jindal     but    they    said    he    captured    their    interest    recently    when    he    stepped    forward    to    defend    phil    robertson     patriarch    of    the     duck    dynasty     television-show    family     amid    a    controversy    over    disparaging    remarks    he    made    about    gays    in    an    interview    with    gq    magazine     throughout    his    lynchburg    visit     jindal    presented    himself    as    a    willing    culture    warrior     during    his    commencement    address    saturday     he    took    up    the    because    of    twin    brothers    whose    hgtv    reality    series    about    renovating    and    reselling    houses      flip    it    forward      was    canceled    last    week    after    a    web    site    revealed    that    they    had    protested    against    same-sex    marriage    at    the            democratic    national    convention    in    charlotte     the    siblings     jason    and    david    benham     both    liberty    graduates     attended    the    graduation    and    a    private    lunch    with    jindal     who    called    the    action    against    them     another    demonstration    of    intolerance    from    the    entertainment    industry       if    these    guys    had    protested    at    the    republican    party    convention     instead    of    canceling    their    show     hgtv    would    probably    have    given    them    a    raise      jindal    said    as    the    liberty    crowd    applauded     he    cited    the    hobby    lobby    craft    store    chain     which    faced    a    legal    challenge    after    refusing    to    provide    employees    with    insurance    coverage    for    contraceptives    as    required    under    the    affordable    care    act     members    of    the    family    that    owns    hobby    lobby     who    have    become    heroes    to    many    religious    conservatives     have    said    that    they    are    morally    opposed    to    the    use    of    certain    types    of    birth    control    and    that    they    considered    the    requirement    a    violation    of    their    first    amendment    right    to    religious    freedom     the    family    was     committed    to    honor    the    lord    by    being    generous    employers     paying    well    above    minimum    wage    and    increasing    salaries    four    years    in    a    row    even    in    the    midst    of    the    enduring    recession      jindal    told    the    liberty    graduates      none    of    this    matters    to    the    obama    administration      but    for    the    pastors    who    came    to    see    jindal    in    action     the    governor s    own    story    was    the    highlight    of    the    weekend     and    in    many    ways     he    was    unlike    any    other    aspiring    president    these    activists    had    met     piyush    jindal    was    born    in             four    months    after    his    parents    arrived    in    baton    rouge     la      from    their    native    india     he    changed    his    name    to    bobby    as    a    young    boy     adopting    the    name    of    a    character    on    a    favorite    television    show      the    brady    bunch      his    decision    to    become    a    christian     he    told    the    pastors     did    not    come    in    one    moment    of    lightning    epiphany     instead     he    said     it    happened    in    phases     growing    from    small    seeds    planted    over    time     jindal    recalled    that    his    closest    friend    from    grade    school    gave    him    a    bible    with    his    name    emblazoned    in    gold    on    the    cover    as    a    christmas    present     it    struck    him    initially    as    an    unimpressive    gift     jindal    told    the    pastors      who    in    the    world    would    spend    good    money    for    a    bible    when    everyone    knows    you    can    get    one    free    in    any    hotel      he    recalled    thinking    at    the    time      and    the    gold    lettering    meant    i    could not    give    it    away    or    return    it      his    religious    education    reached    a    higher    plane    during    his    junior    year    in    high    school     he    told    his    dinner    audience     he    wanted    to    ask    a    pretty    girl    on    a    date    during    a    hallway    conversation     and    she    started    talking    about    her    faith    in    god    and    her    opposition    to    abortion     the    girl    invited    him    to    visit    her    church     jindal    said    he    was    skeptical    and    set    out    to     investigate    all    these    fanciful    claims     made    by    the    girl    and    other    friends     he    started    reading    the    bible    in    his    closet    at    home      i    was    unsure    how    my    parents    would    react      he    said     after    the    stirring    moment    when    he    saw    christ    depicted    on    the    cross    during    the    religious    movie     the    bible    and    his    very    existence    suddenly    seemed    clearer    to    him     jindal    told    the    pastors     jindal    did    not    dwell    on    his    subsequent    conversion    to    catholicism    just    a    few    years    later    in    college     where    he    said    he    immersed    himself    in    the    traditions    of    the    church     he    touched    on    it    briefly    during    the    commencement    address     noting    in    passing    that     i    am    best    described    as    an    evangelical    catholic      mostly     he    sought    to    showcase    the    ways    in    which    he    shares    values    with    other    christian    conservatives      i    read    the    words    of    jesus    christ     and    i    realized    that    they    were    true      jindal    told    the    graduates    saturday     offering    a    less    detailed    accounting    of    his    conversion    than    he    had    done    the    night    before    with    the    pastors      i    used    to    think    that    i    had    found    god     but    i    believe    it    is    more    accurate    to    say    that    he    found    me       \n",
              "4                                                                                                                                                                                                                                                                                                                                                                                                                                                                                                                                                                                                                                                                                                                                                                                                                                                                                                                                                                                                                                                                                                                                                                                                                                                                                                                                                                                                                                                                                                                                                                                                                                                                                                                                                                                                                                                                                                                                                                                                                                                                                                                                                                                                                                                                                                                                                                                                                                                                                                                                                                                                                                                                                                                                                                                                                                                                                                                                                                                                                                                                                                                                                                                                                                                                                                                                                                                                                                                                                                                                                                                                                                                                                                                                                                                                                                                                                                                                                                                                                                                                                                                                                                                                                                                                                                                                                                                                                                                                                                                                                                                                                                                                                                                                                                                                                                                                                                                                                                                                                                                                                                                                                                                                                                                                                                                                                                                                                                                                                                                                                                                                                                                                                                                                                                                                                                                                                                                                                                                                                                                                                                                                                                                                                                                                                                                                                                                                                                                                                                                                                                                                                                                                                                                                                                                                                                                                                                                                                                                                                                                                                                                                                                                                                                                                                                                                                                                                                                                                                                                                                                                                                                                                                                                                                                                                                                                                                                                                                                                                                                                                                                                                                                                                                                                                                                                                                                                                                                                                                                                                                                                                                                                                                                                                                                                                                                                                                                                                                                                                                                                                                                                                                                                                                                                                                                                                                                                                                           the    rs       sarmat    missile     dubbed    satan          will    replace    the    ss       flies    at           miles      km     per    sec    and    with    a    range    of             miles           km     the    weapons    are    perceived    as    part    of    an    increasingly    aggressive    russia    it    could    deliver    a    warhead    of          megatons                  times    as    powerful    as    the    atom    bombs    dropped    on    hiroshima    and    nagasaki    in            by    libby    plummer    and    gareth    davie    s    russia    has    unveiled    chilling    pictures    of    its    largest    ever    nuclear    missile     capable    of    destroying    an    area    the    size    of    france     the    rs       sarmat    missile     dubbed    satan         by    nato     has    a    top    speed    of           miles      km     per    second    and    has    been    designed    to    outfox    anti-missile    shield    systems     the    new    sarmat    missile    could    deliver    warheads    of          megatons                  times    as    powerful    as    the    atom    bombs    dropped    on    hiroshima    and    nagasaki    in             scroll    down    for    video    russian    president    vladimir    putin    is    reportedly    planning    to    replace    the    country s    older    ss       satan    weapons    with    the    new    missiles    amid    a    string    of    recent    disagreements    with    the    west     the    kremlin    has    stepped    up    the    rhetoric    against    the    west    and    carried    a    series    of    manoeuvres    that    has    infuriated    politicians    in    the    us    and    uk     the    pictures    were    revealed    online    by    chief    designers    from    the    makeyev    rocket    design    bureau     a    message    posted    alongside    the    picture    said      in    accordance    with    the    decree    of    the    russian    government     on    the    state    defense    order    for            and    the    planning    period                   the    makeyev    rocket    design    bureau    was    instructed    to    start    design    and    development    work    on    the    sarmat          the    rs       sarmat    missile    is    said    to    contain          nuclear    warheads    and    is    capable    of    destroying    an    area    the    size    of    france    or    texas     according    to    russian    news    network    zvezda     which    is    owned    by    russia s    ministry    of    defence     the    weapon    is    also    able    to    evade    radar     it    is    expected    to    have    a    range    of             miles               km      which    would    allow    moscow    to    attack    london    and    for    entire    article    click    link     \n",
              "5                                                                                                                                                                                                                                                                                                                                                                                                                                                                                                                                                                                                                                                                                                                                                                                                                                                                                                                                                                                                                                                                                                                                                                                                                                                                                                                                                                                                                                                                                                                                                                                                                                                                                                                                                                                                                                                                                                                                                                                                                                                                                                                                                                                                                                                                                                                                                                                                                                                                                                                                                                                                                                                                                                                                                                                                                                                                                                                                                                                                                                                                                                                                                                                                                                                                                                                                                                                                                                                                                                                                                                                                                                                                                                                                                                                                                                                                                                                                                                                                                                                                                                                                                                                                                                                                                                                                                                                                                                                                                                                                                                                                                                                                                                                                                                                                                                                                                                                                                                                                                                                                                                                                                                                                                                                                                                                                                                                                                                                                                                                                                                                                                                                                                                                                                                                                                                                                                                                                                                                                                                                                                                                                                                                                                                                                                                                                                                                                                                                                                                                                                                                                                                                                                                                                                                                                                                                                                                                                                                                                                                                                                                                                                                                                                                                                                                                                                                                                                                                                                                                                                                                                                                                                                                                                                                                                                                                                                                                                                                                                                                                                                                                                                                                                                                                                                                                                                                                                                                                                                                                                                                                                                                                                                                                                                                                                                                                                                                                                                                                                                                                                                                                                                                                                                                                                                                                                                                                                                                                                                                                                                                                                                                                                                                                                                                                                                                                                                                                                                                                                                                                                                                      all    we    can    say    on    this    one    is    it    s    about    time    someone    sued    the    southern    poverty    law    center on    tuesday     d     james    kennedy    ministries     djkm     filed    a    lawsuit    against    the    southern    poverty    law    center     splc      the    charity    navigation    organization    guidestar     and    amazon     for    defamation     religious    discrimination     and    trafficking    in    falsehood     the    splc    listed    djkm    as    a    hate    group     while    guidestar    also    categorized    it    in    those    terms     and    amazon    kept    the    ministry    off    of    its    charity    donation    program     amazon    smile     we    embarked    today    on    a    journey    to    right    a    terrible    wrong     dr     frank    wright     president    and    ceo    at    djkm     said    in    a    statement    tuesday     those    who    knowingly    label    christian    ministries    as    hate    groups     solely    for    subscribing    to    the    historic    christian    faith     are    either    woefully    uninformed    or    willfully    deceitful     in    the    case    of    the    southern    poverty    law    center     our    lawsuit    alleges    the    latter     the    splc    has    labeled    djkm    an    anti-lgbt    hate    group    for    its    opposition    to    same-sex    marriage    and    transgenderism     these    false    and    illegal    characterizations    have    a    chilling    effect    on    the    free    exercise    of    religion    and    on    religious    free    speech    for    all    people    of    faith     wright    declared     after    having    given    the    splc    an    opportunity    to    retract     we    have    undertaken    this    legal    action     seeking    a    trial    by    a    jury    of    our    peers     to    preserve    our    own    rights    under    the    law    and    to    defend    the    religious    free    speech    rights    of    all    americans     the    djkm    president    concluded the    lawsuit    laid    out    charges    against    the    splc     guidestar     and    amazon read    more     pjm     \n",
              "\n",
              "   label text_lang title_lang  \n",
              "0      1        en         en  \n",
              "2      1        en         en  \n",
              "3      0        en         en  \n",
              "4      1        en         en  \n",
              "5      1        en         en  "
            ]
          },
          "execution_count": 46,
          "metadata": {},
          "output_type": "execute_result"
        }
      ],
      "source": [
        "#check the results of cleaning\n",
        "\n",
        "cleandata.head()"
      ]
    },
    {
      "cell_type": "code",
      "execution_count": 47,
      "metadata": {
        "id": "JwnYZpvzzD9Y"
      },
      "outputs": [],
      "source": [
        "#tokenize the text (separate sentences into individual words)\n",
        "\n",
        "from nltk.tokenize import word_tokenize"
      ]
    },
    {
      "cell_type": "code",
      "execution_count": 48,
      "metadata": {},
      "outputs": [],
      "source": [
        "cleandata['text'] = cleandata['text'].apply(word_tokenize)\n",
        "cleandata['title'] = cleandata['title'].apply(word_tokenize)"
      ]
    },
    {
      "cell_type": "code",
      "execution_count": 49,
      "metadata": {
        "id": "F08KKjiowGUb"
      },
      "outputs": [],
      "source": [
        "#remove stop words\n",
        "\n",
        "from nltk.corpus import stopwords\n",
        "\n",
        "stopwords = stopwords.words('english')\n",
        "\n",
        "cleandata['title'] = cleandata['title'].apply(lambda words: [word for word in words if word not in stopwords])\n",
        "cleandata['text'] = cleandata['text'].apply(lambda words: [word for word in words if word not in stopwords])"
      ]
    },
    {
      "cell_type": "code",
      "execution_count": 50,
      "metadata": {
        "colab": {
          "base_uri": "https://localhost:8080/",
          "height": 605
        },
        "id": "udQCxU641jEy",
        "outputId": "11cd9dbf-3e61-43b1-9385-0074efd479b6"
      },
      "outputs": [
        {
          "data": {
            "text/html": [
              "<div>\n",
              "<style scoped>\n",
              "    .dataframe tbody tr th:only-of-type {\n",
              "        vertical-align: middle;\n",
              "    }\n",
              "\n",
              "    .dataframe tbody tr th {\n",
              "        vertical-align: top;\n",
              "    }\n",
              "\n",
              "    .dataframe thead th {\n",
              "        text-align: right;\n",
              "    }\n",
              "</style>\n",
              "<table border=\"1\" class=\"dataframe\">\n",
              "  <thead>\n",
              "    <tr style=\"text-align: right;\">\n",
              "      <th></th>\n",
              "      <th>Unnamed: 0</th>\n",
              "      <th>title</th>\n",
              "      <th>text</th>\n",
              "      <th>label</th>\n",
              "      <th>text_lang</th>\n",
              "      <th>title_lang</th>\n",
              "    </tr>\n",
              "  </thead>\n",
              "  <tbody>\n",
              "    <tr>\n",
              "      <th>0</th>\n",
              "      <td>0</td>\n",
              "      <td>[law, enforcement, high, alert, following, threats, cops, whites, blacklivesmatter, fyf, terrorists, video]</td>\n",
              "      <td>[comment, expected, barack, obama, members, fyf, fukyoflag, blacklivesmatter, movements, called, lynching, hanging, white, people, cops, encouraged, others, radio, show, tuesday, night, turn, tide, kill, white, people, cops, send, message, killing, black, people, america, one, f, yoflag, organizers, called, sunshine, radio, blog, show, hosted, texas, called, sunshine, f, ing, opinion, radio, show, snapshot, fyf, lolatwhitefear, twitter, page, p, shows, urging, supporters, call, fyf, tonight, continue, dismantle, illusion, white, snapshot, twitter, radio, call, invite, fyf, radio, show, aired, p, eastern, standard, time, show, callers, clearly, call, lynching, killing, white, people, minute, clip, radio, show, heard, provided, breitbart, texas, someone, would, like, referred, ...]</td>\n",
              "      <td>1</td>\n",
              "      <td>en</td>\n",
              "      <td>en</td>\n",
              "    </tr>\n",
              "    <tr>\n",
              "      <th>2</th>\n",
              "      <td>2</td>\n",
              "      <td>[unbelievable, obama, attorney, general, says, charlotte, rioters, peaceful, protesters, home, state, north, carolina, video]</td>\n",
              "      <td>[demonstrators, gathered, last, night, exercising, constitutional, protected, right, peaceful, protest, order, raise, issues, create, change, loretta, lynch, aka, eric, holder, skirt]</td>\n",
              "      <td>1</td>\n",
              "      <td>en</td>\n",
              "      <td>en</td>\n",
              "    </tr>\n",
              "    <tr>\n",
              "      <th>3</th>\n",
              "      <td>3</td>\n",
              "      <td>[bobby, jindal, raised, hindu, uses, story, christian, conversion, woo, evangelicals, potential, bid]</td>\n",
              "      <td>[dozen, politically, active, pastors, came, private, dinner, friday, night, hear, conversion, story, unique, context, presidential, politics, louisiana, gov, bobby, jindal, traveled, hinduism, protestant, christianity, ultimately, became, calls, evangelical, catholic, two, hours, jindal, recalled, talking, girl, high, school, wanted, save, soul, reading, bible, closet, parents, would, see, feeling, stir, watching, movie, senior, year, depicted, jesus, cross, struck, struck, hard, jindal, told, pastors, son, god, died, sins, jindal, session, christian, clergy, lead, congregations, early, presidential, battleground, states, iowa, south, carolina, part, behind-the-scenes, effort, louisiana, governor, find, political, base, could, help, propel, top, tier, republican, candidates, seeking, run, white, house, known, gop, circles, ...]</td>\n",
              "      <td>0</td>\n",
              "      <td>en</td>\n",
              "      <td>en</td>\n",
              "    </tr>\n",
              "    <tr>\n",
              "      <th>4</th>\n",
              "      <td>4</td>\n",
              "      <td>[satan, russia, unvelis, image, terrifying, new, supernuke, western, world, takes, notice]</td>\n",
              "      <td>[rs, sarmat, missile, dubbed, satan, replace, ss, flies, miles, km, per, sec, range, miles, km, weapons, perceived, part, increasingly, aggressive, russia, could, deliver, warhead, megatons, times, powerful, atom, bombs, dropped, hiroshima, nagasaki, libby, plummer, gareth, davie, russia, unveiled, chilling, pictures, largest, ever, nuclear, missile, capable, destroying, area, size, france, rs, sarmat, missile, dubbed, satan, nato, top, speed, miles, km, per, second, designed, outfox, anti-missile, shield, systems, new, sarmat, missile, could, deliver, warheads, megatons, times, powerful, atom, bombs, dropped, hiroshima, nagasaki, scroll, video, russian, president, vladimir, putin, reportedly, planning, replace, country, older, ss, satan, weapons, new, missiles, amid, string, recent, disagreements, ...]</td>\n",
              "      <td>1</td>\n",
              "      <td>en</td>\n",
              "      <td>en</td>\n",
              "    </tr>\n",
              "    <tr>\n",
              "      <th>5</th>\n",
              "      <td>5</td>\n",
              "      <td>[time, christian, group, sues, amazon, splc, designation, hate, group]</td>\n",
              "      <td>[say, one, time, someone, sued, southern, poverty, law, center, tuesday, james, kennedy, ministries, djkm, filed, lawsuit, southern, poverty, law, center, splc, charity, navigation, organization, guidestar, amazon, defamation, religious, discrimination, trafficking, falsehood, splc, listed, djkm, hate, group, guidestar, also, categorized, terms, amazon, kept, ministry, charity, donation, program, amazon, smile, embarked, today, journey, right, terrible, wrong, dr, frank, wright, president, ceo, djkm, said, statement, tuesday, knowingly, label, christian, ministries, hate, groups, solely, subscribing, historic, christian, faith, either, woefully, uninformed, willfully, deceitful, case, southern, poverty, law, center, lawsuit, alleges, latter, splc, labeled, djkm, anti-lgbt, hate, group, opposition, same-sex, marriage, transgenderism, false, illegal, characterizations, ...]</td>\n",
              "      <td>1</td>\n",
              "      <td>en</td>\n",
              "      <td>en</td>\n",
              "    </tr>\n",
              "  </tbody>\n",
              "</table>\n",
              "</div>"
            ],
            "text/plain": [
              "   Unnamed: 0  \\\n",
              "0           0   \n",
              "2           2   \n",
              "3           3   \n",
              "4           4   \n",
              "5           5   \n",
              "\n",
              "                                                                                                                           title  \\\n",
              "0                    [law, enforcement, high, alert, following, threats, cops, whites, blacklivesmatter, fyf, terrorists, video]   \n",
              "2  [unbelievable, obama, attorney, general, says, charlotte, rioters, peaceful, protesters, home, state, north, carolina, video]   \n",
              "3                          [bobby, jindal, raised, hindu, uses, story, christian, conversion, woo, evangelicals, potential, bid]   \n",
              "4                                     [satan, russia, unvelis, image, terrifying, new, supernuke, western, world, takes, notice]   \n",
              "5                                                         [time, christian, group, sues, amazon, splc, designation, hate, group]   \n",
              "\n",
              "                                                                                                                                                                                                                                                                                                                                                                                                                                                                                                                                                                                                                                                                                                                                                                                                                                                                                                                   text  \\\n",
              "0                                                                                                [comment, expected, barack, obama, members, fyf, fukyoflag, blacklivesmatter, movements, called, lynching, hanging, white, people, cops, encouraged, others, radio, show, tuesday, night, turn, tide, kill, white, people, cops, send, message, killing, black, people, america, one, f, yoflag, organizers, called, sunshine, radio, blog, show, hosted, texas, called, sunshine, f, ing, opinion, radio, show, snapshot, fyf, lolatwhitefear, twitter, page, p, shows, urging, supporters, call, fyf, tonight, continue, dismantle, illusion, white, snapshot, twitter, radio, call, invite, fyf, radio, show, aired, p, eastern, standard, time, show, callers, clearly, call, lynching, killing, white, people, minute, clip, radio, show, heard, provided, breitbart, texas, someone, would, like, referred, ...]   \n",
              "2                                                                                                                                                                                                                                                                                                                                                                                                                                                                                                                                                                                                                                                                                                                               [demonstrators, gathered, last, night, exercising, constitutional, protected, right, peaceful, protest, order, raise, issues, create, change, loretta, lynch, aka, eric, holder, skirt]   \n",
              "3                                               [dozen, politically, active, pastors, came, private, dinner, friday, night, hear, conversion, story, unique, context, presidential, politics, louisiana, gov, bobby, jindal, traveled, hinduism, protestant, christianity, ultimately, became, calls, evangelical, catholic, two, hours, jindal, recalled, talking, girl, high, school, wanted, save, soul, reading, bible, closet, parents, would, see, feeling, stir, watching, movie, senior, year, depicted, jesus, cross, struck, struck, hard, jindal, told, pastors, son, god, died, sins, jindal, session, christian, clergy, lead, congregations, early, presidential, battleground, states, iowa, south, carolina, part, behind-the-scenes, effort, louisiana, governor, find, political, base, could, help, propel, top, tier, republican, candidates, seeking, run, white, house, known, gop, circles, ...]   \n",
              "4                                                                        [rs, sarmat, missile, dubbed, satan, replace, ss, flies, miles, km, per, sec, range, miles, km, weapons, perceived, part, increasingly, aggressive, russia, could, deliver, warhead, megatons, times, powerful, atom, bombs, dropped, hiroshima, nagasaki, libby, plummer, gareth, davie, russia, unveiled, chilling, pictures, largest, ever, nuclear, missile, capable, destroying, area, size, france, rs, sarmat, missile, dubbed, satan, nato, top, speed, miles, km, per, second, designed, outfox, anti-missile, shield, systems, new, sarmat, missile, could, deliver, warheads, megatons, times, powerful, atom, bombs, dropped, hiroshima, nagasaki, scroll, video, russian, president, vladimir, putin, reportedly, planning, replace, country, older, ss, satan, weapons, new, missiles, amid, string, recent, disagreements, ...]   \n",
              "5  [say, one, time, someone, sued, southern, poverty, law, center, tuesday, james, kennedy, ministries, djkm, filed, lawsuit, southern, poverty, law, center, splc, charity, navigation, organization, guidestar, amazon, defamation, religious, discrimination, trafficking, falsehood, splc, listed, djkm, hate, group, guidestar, also, categorized, terms, amazon, kept, ministry, charity, donation, program, amazon, smile, embarked, today, journey, right, terrible, wrong, dr, frank, wright, president, ceo, djkm, said, statement, tuesday, knowingly, label, christian, ministries, hate, groups, solely, subscribing, historic, christian, faith, either, woefully, uninformed, willfully, deceitful, case, southern, poverty, law, center, lawsuit, alleges, latter, splc, labeled, djkm, anti-lgbt, hate, group, opposition, same-sex, marriage, transgenderism, false, illegal, characterizations, ...]   \n",
              "\n",
              "   label text_lang title_lang  \n",
              "0      1        en         en  \n",
              "2      1        en         en  \n",
              "3      0        en         en  \n",
              "4      1        en         en  \n",
              "5      1        en         en  "
            ]
          },
          "execution_count": 50,
          "metadata": {},
          "output_type": "execute_result"
        }
      ],
      "source": [
        "#review results of tokenization\n",
        "\n",
        "pd.set_option('max_colwidth', None)\n",
        "\n",
        "cleandata.head()"
      ]
    },
    {
      "cell_type": "markdown",
      "metadata": {},
      "source": [
        "### Lemmatize the data:"
      ]
    },
    {
      "cell_type": "code",
      "execution_count": 51,
      "metadata": {
        "id": "4wBcp-jFC9bS"
      },
      "outputs": [],
      "source": [
        "#create copy of data frame prior to lemmatization and prepare function\n",
        "\n",
        "lemmdata = cleandata.copy()\n",
        "\n",
        "from nltk.stem import WordNetLemmatizer\n",
        "\n",
        "lemmatize = WordNetLemmatizer()"
      ]
    },
    {
      "cell_type": "code",
      "execution_count": 52,
      "metadata": {
        "id": "5h9ccGJKQ5jG"
      },
      "outputs": [],
      "source": [
        "lemmdata['title'] = lemmdata['title'].apply(lambda lst:[lemmatize.lemmatize(word) for word in lst])"
      ]
    },
    {
      "cell_type": "code",
      "execution_count": 53,
      "metadata": {
        "id": "6LtJgjuIfZaB"
      },
      "outputs": [],
      "source": [
        "lemmdata['title'] = lemmdata['title'].apply(lambda lst:[lemmatize.lemmatize(word, pos='v') for word in lst])"
      ]
    },
    {
      "cell_type": "code",
      "execution_count": 54,
      "metadata": {
        "id": "DW01nt7iVyHF"
      },
      "outputs": [],
      "source": [
        "lemmdata['text'] = lemmdata['text'].apply(lambda lst:[lemmatize.lemmatize(word) for word in lst])"
      ]
    },
    {
      "cell_type": "code",
      "execution_count": 55,
      "metadata": {
        "id": "jtw0utFle6Mt"
      },
      "outputs": [],
      "source": [
        "lemmdata['text'] = lemmdata['text'].apply(lambda lst:[lemmatize.lemmatize(word, pos='v') for word in lst])"
      ]
    },
    {
      "cell_type": "code",
      "execution_count": 56,
      "metadata": {},
      "outputs": [
        {
          "data": {
            "text/html": [
              "<div>\n",
              "<style scoped>\n",
              "    .dataframe tbody tr th:only-of-type {\n",
              "        vertical-align: middle;\n",
              "    }\n",
              "\n",
              "    .dataframe tbody tr th {\n",
              "        vertical-align: top;\n",
              "    }\n",
              "\n",
              "    .dataframe thead th {\n",
              "        text-align: right;\n",
              "    }\n",
              "</style>\n",
              "<table border=\"1\" class=\"dataframe\">\n",
              "  <thead>\n",
              "    <tr style=\"text-align: right;\">\n",
              "      <th></th>\n",
              "      <th>Unnamed: 0</th>\n",
              "      <th>title</th>\n",
              "      <th>text</th>\n",
              "      <th>label</th>\n",
              "      <th>text_lang</th>\n",
              "      <th>title_lang</th>\n",
              "    </tr>\n",
              "  </thead>\n",
              "  <tbody>\n",
              "    <tr>\n",
              "      <th>0</th>\n",
              "      <td>0</td>\n",
              "      <td>[law, enforcement, high, alert, follow, threat, cop, white, blacklivesmatter, fyf, terrorist, video]</td>\n",
              "      <td>[comment, expect, barack, obama, member, fyf, fukyoflag, blacklivesmatter, movement, call, lynch, hang, white, people, cop, encourage, others, radio, show, tuesday, night, turn, tide, kill, white, people, cop, send, message, kill, black, people, america, one, f, yoflag, organizer, call, sunshine, radio, blog, show, host, texas, call, sunshine, f, ing, opinion, radio, show, snapshot, fyf, lolatwhitefear, twitter, page, p, show, urge, supporter, call, fyf, tonight, continue, dismantle, illusion, white, snapshot, twitter, radio, call, invite, fyf, radio, show, air, p, eastern, standard, time, show, caller, clearly, call, lynch, kill, white, people, minute, clip, radio, show, hear, provide, breitbart, texas, someone, would, like, refer, ...]</td>\n",
              "      <td>1</td>\n",
              "      <td>en</td>\n",
              "      <td>en</td>\n",
              "    </tr>\n",
              "    <tr>\n",
              "      <th>2</th>\n",
              "      <td>2</td>\n",
              "      <td>[unbelievable, obama, attorney, general, say, charlotte, rioter, peaceful, protester, home, state, north, carolina, video]</td>\n",
              "      <td>[demonstrator, gather, last, night, exercise, constitutional, protect, right, peaceful, protest, order, raise, issue, create, change, loretta, lynch, aka, eric, holder, skirt]</td>\n",
              "      <td>1</td>\n",
              "      <td>en</td>\n",
              "      <td>en</td>\n",
              "    </tr>\n",
              "    <tr>\n",
              "      <th>3</th>\n",
              "      <td>3</td>\n",
              "      <td>[bobby, jindal, raise, hindu, us, story, christian, conversion, woo, evangelicals, potential, bid]</td>\n",
              "      <td>[dozen, politically, active, pastor, come, private, dinner, friday, night, hear, conversion, story, unique, context, presidential, politics, louisiana, gov, bobby, jindal, travel, hinduism, protestant, christianity, ultimately, become, call, evangelical, catholic, two, hour, jindal, recall, talk, girl, high, school, want, save, soul, read, bible, closet, parent, would, see, feel, stir, watch, movie, senior, year, depict, jesus, cross, strike, strike, hard, jindal, tell, pastor, son, god, die, sin, jindal, session, christian, clergy, lead, congregation, early, presidential, battleground, state, iowa, south, carolina, part, behind-the-scenes, effort, louisiana, governor, find, political, base, could, help, propel, top, tier, republican, candidate, seek, run, white, house, know, gop, circle, ...]</td>\n",
              "      <td>0</td>\n",
              "      <td>en</td>\n",
              "      <td>en</td>\n",
              "    </tr>\n",
              "    <tr>\n",
              "      <th>4</th>\n",
              "      <td>4</td>\n",
              "      <td>[satan, russia, unvelis, image, terrify, new, supernuke, western, world, take, notice]</td>\n",
              "      <td>[r, sarmat, missile, dub, satan, replace, s, fly, mile, km, per, sec, range, mile, km, weapon, perceive, part, increasingly, aggressive, russia, could, deliver, warhead, megaton, time, powerful, atom, bomb, drop, hiroshima, nagasaki, libby, plummer, gareth, davie, russia, unveil, chill, picture, largest, ever, nuclear, missile, capable, destroy, area, size, france, r, sarmat, missile, dub, satan, nato, top, speed, mile, km, per, second, design, outfox, anti-missile, shield, system, new, sarmat, missile, could, deliver, warhead, megaton, time, powerful, atom, bomb, drop, hiroshima, nagasaki, scroll, video, russian, president, vladimir, putin, reportedly, plan, replace, country, older, s, satan, weapon, new, missile, amid, string, recent, disagreement, ...]</td>\n",
              "      <td>1</td>\n",
              "      <td>en</td>\n",
              "      <td>en</td>\n",
              "    </tr>\n",
              "    <tr>\n",
              "      <th>5</th>\n",
              "      <td>5</td>\n",
              "      <td>[time, christian, group, sue, amazon, splc, designation, hate, group]</td>\n",
              "      <td>[say, one, time, someone, sue, southern, poverty, law, center, tuesday, jam, kennedy, ministry, djkm, file, lawsuit, southern, poverty, law, center, splc, charity, navigation, organization, guidestar, amazon, defamation, religious, discrimination, traffic, falsehood, splc, list, djkm, hate, group, guidestar, also, categorize, term, amazon, keep, ministry, charity, donation, program, amazon, smile, embark, today, journey, right, terrible, wrong, dr, frank, wright, president, ceo, djkm, say, statement, tuesday, knowingly, label, christian, ministry, hate, group, solely, subscribe, historic, christian, faith, either, woefully, uninformed, willfully, deceitful, case, southern, poverty, law, center, lawsuit, allege, latter, splc, label, djkm, anti-lgbt, hate, group, opposition, same-sex, marriage, transgenderism, false, illegal, characterization, ...]</td>\n",
              "      <td>1</td>\n",
              "      <td>en</td>\n",
              "      <td>en</td>\n",
              "    </tr>\n",
              "  </tbody>\n",
              "</table>\n",
              "</div>"
            ],
            "text/plain": [
              "   Unnamed: 0  \\\n",
              "0           0   \n",
              "2           2   \n",
              "3           3   \n",
              "4           4   \n",
              "5           5   \n",
              "\n",
              "                                                                                                                        title  \\\n",
              "0                        [law, enforcement, high, alert, follow, threat, cop, white, blacklivesmatter, fyf, terrorist, video]   \n",
              "2  [unbelievable, obama, attorney, general, say, charlotte, rioter, peaceful, protester, home, state, north, carolina, video]   \n",
              "3                          [bobby, jindal, raise, hindu, us, story, christian, conversion, woo, evangelicals, potential, bid]   \n",
              "4                                      [satan, russia, unvelis, image, terrify, new, supernuke, western, world, take, notice]   \n",
              "5                                                       [time, christian, group, sue, amazon, splc, designation, hate, group]   \n",
              "\n",
              "                                                                                                                                                                                                                                                                                                                                                                                                                                                                                                                                                                                                                                                                                                                                                                                                                                                                                         text  \\\n",
              "0                                                                                                                 [comment, expect, barack, obama, member, fyf, fukyoflag, blacklivesmatter, movement, call, lynch, hang, white, people, cop, encourage, others, radio, show, tuesday, night, turn, tide, kill, white, people, cop, send, message, kill, black, people, america, one, f, yoflag, organizer, call, sunshine, radio, blog, show, host, texas, call, sunshine, f, ing, opinion, radio, show, snapshot, fyf, lolatwhitefear, twitter, page, p, show, urge, supporter, call, fyf, tonight, continue, dismantle, illusion, white, snapshot, twitter, radio, call, invite, fyf, radio, show, air, p, eastern, standard, time, show, caller, clearly, call, lynch, kill, white, people, minute, clip, radio, show, hear, provide, breitbart, texas, someone, would, like, refer, ...]   \n",
              "2                                                                                                                                                                                                                                                                                                                                                                                                                                                                                                                                                                                                                                                                                                             [demonstrator, gather, last, night, exercise, constitutional, protect, right, peaceful, protest, order, raise, issue, create, change, loretta, lynch, aka, eric, holder, skirt]   \n",
              "3                                                        [dozen, politically, active, pastor, come, private, dinner, friday, night, hear, conversion, story, unique, context, presidential, politics, louisiana, gov, bobby, jindal, travel, hinduism, protestant, christianity, ultimately, become, call, evangelical, catholic, two, hour, jindal, recall, talk, girl, high, school, want, save, soul, read, bible, closet, parent, would, see, feel, stir, watch, movie, senior, year, depict, jesus, cross, strike, strike, hard, jindal, tell, pastor, son, god, die, sin, jindal, session, christian, clergy, lead, congregation, early, presidential, battleground, state, iowa, south, carolina, part, behind-the-scenes, effort, louisiana, governor, find, political, base, could, help, propel, top, tier, republican, candidate, seek, run, white, house, know, gop, circle, ...]   \n",
              "4                                                                                               [r, sarmat, missile, dub, satan, replace, s, fly, mile, km, per, sec, range, mile, km, weapon, perceive, part, increasingly, aggressive, russia, could, deliver, warhead, megaton, time, powerful, atom, bomb, drop, hiroshima, nagasaki, libby, plummer, gareth, davie, russia, unveil, chill, picture, largest, ever, nuclear, missile, capable, destroy, area, size, france, r, sarmat, missile, dub, satan, nato, top, speed, mile, km, per, second, design, outfox, anti-missile, shield, system, new, sarmat, missile, could, deliver, warhead, megaton, time, powerful, atom, bomb, drop, hiroshima, nagasaki, scroll, video, russian, president, vladimir, putin, reportedly, plan, replace, country, older, s, satan, weapon, new, missile, amid, string, recent, disagreement, ...]   \n",
              "5  [say, one, time, someone, sue, southern, poverty, law, center, tuesday, jam, kennedy, ministry, djkm, file, lawsuit, southern, poverty, law, center, splc, charity, navigation, organization, guidestar, amazon, defamation, religious, discrimination, traffic, falsehood, splc, list, djkm, hate, group, guidestar, also, categorize, term, amazon, keep, ministry, charity, donation, program, amazon, smile, embark, today, journey, right, terrible, wrong, dr, frank, wright, president, ceo, djkm, say, statement, tuesday, knowingly, label, christian, ministry, hate, group, solely, subscribe, historic, christian, faith, either, woefully, uninformed, willfully, deceitful, case, southern, poverty, law, center, lawsuit, allege, latter, splc, label, djkm, anti-lgbt, hate, group, opposition, same-sex, marriage, transgenderism, false, illegal, characterization, ...]   \n",
              "\n",
              "   label text_lang title_lang  \n",
              "0      1        en         en  \n",
              "2      1        en         en  \n",
              "3      0        en         en  \n",
              "4      1        en         en  \n",
              "5      1        en         en  "
            ]
          },
          "execution_count": 56,
          "metadata": {},
          "output_type": "execute_result"
        }
      ],
      "source": [
        "#review results of lemmatization\n",
        "\n",
        "lemmdata.head()"
      ]
    },
    {
      "cell_type": "code",
      "execution_count": 57,
      "metadata": {},
      "outputs": [],
      "source": [
        "#remove any rows with empty lists in the text/title\n",
        "\n",
        "lemmdata = lemmdata[lemmdata['title'].str.len() != 0]\n",
        "\n",
        "lemmdata = lemmdata[lemmdata['text'].str.len() != 0]\n"
      ]
    },
    {
      "cell_type": "code",
      "execution_count": 58,
      "metadata": {},
      "outputs": [
        {
          "data": {
            "text/plain": [
              "label\n",
              "0    32570\n",
              "1    25984\n",
              "Name: count, dtype: int64"
            ]
          },
          "execution_count": 58,
          "metadata": {},
          "output_type": "execute_result"
        }
      ],
      "source": [
        "#check new value counts\n",
        "\n",
        "lemmdata.label.value_counts()"
      ]
    },
    {
      "cell_type": "markdown",
      "metadata": {},
      "source": [
        "### Create and store variables for later use:"
      ]
    },
    {
      "cell_type": "code",
      "execution_count": 59,
      "metadata": {},
      "outputs": [],
      "source": [
        "#create new dataframe with text column\n",
        "\n",
        "textdata = lemmdata[['text', 'label']].copy()\n"
      ]
    },
    {
      "cell_type": "code",
      "execution_count": 60,
      "metadata": {},
      "outputs": [
        {
          "data": {
            "text/html": [
              "<div>\n",
              "<style scoped>\n",
              "    .dataframe tbody tr th:only-of-type {\n",
              "        vertical-align: middle;\n",
              "    }\n",
              "\n",
              "    .dataframe tbody tr th {\n",
              "        vertical-align: top;\n",
              "    }\n",
              "\n",
              "    .dataframe thead th {\n",
              "        text-align: right;\n",
              "    }\n",
              "</style>\n",
              "<table border=\"1\" class=\"dataframe\">\n",
              "  <thead>\n",
              "    <tr style=\"text-align: right;\">\n",
              "      <th></th>\n",
              "      <th>text</th>\n",
              "      <th>label</th>\n",
              "    </tr>\n",
              "  </thead>\n",
              "  <tbody>\n",
              "    <tr>\n",
              "      <th>0</th>\n",
              "      <td>[comment, expect, barack, obama, member, fyf, fukyoflag, blacklivesmatter, movement, call, lynch, hang, white, people, cop, encourage, others, radio, show, tuesday, night, turn, tide, kill, white, people, cop, send, message, kill, black, people, america, one, f, yoflag, organizer, call, sunshine, radio, blog, show, host, texas, call, sunshine, f, ing, opinion, radio, show, snapshot, fyf, lolatwhitefear, twitter, page, p, show, urge, supporter, call, fyf, tonight, continue, dismantle, illusion, white, snapshot, twitter, radio, call, invite, fyf, radio, show, air, p, eastern, standard, time, show, caller, clearly, call, lynch, kill, white, people, minute, clip, radio, show, hear, provide, breitbart, texas, someone, would, like, refer, ...]</td>\n",
              "      <td>1</td>\n",
              "    </tr>\n",
              "    <tr>\n",
              "      <th>2</th>\n",
              "      <td>[demonstrator, gather, last, night, exercise, constitutional, protect, right, peaceful, protest, order, raise, issue, create, change, loretta, lynch, aka, eric, holder, skirt]</td>\n",
              "      <td>1</td>\n",
              "    </tr>\n",
              "    <tr>\n",
              "      <th>3</th>\n",
              "      <td>[dozen, politically, active, pastor, come, private, dinner, friday, night, hear, conversion, story, unique, context, presidential, politics, louisiana, gov, bobby, jindal, travel, hinduism, protestant, christianity, ultimately, become, call, evangelical, catholic, two, hour, jindal, recall, talk, girl, high, school, want, save, soul, read, bible, closet, parent, would, see, feel, stir, watch, movie, senior, year, depict, jesus, cross, strike, strike, hard, jindal, tell, pastor, son, god, die, sin, jindal, session, christian, clergy, lead, congregation, early, presidential, battleground, state, iowa, south, carolina, part, behind-the-scenes, effort, louisiana, governor, find, political, base, could, help, propel, top, tier, republican, candidate, seek, run, white, house, know, gop, circle, ...]</td>\n",
              "      <td>0</td>\n",
              "    </tr>\n",
              "    <tr>\n",
              "      <th>4</th>\n",
              "      <td>[r, sarmat, missile, dub, satan, replace, s, fly, mile, km, per, sec, range, mile, km, weapon, perceive, part, increasingly, aggressive, russia, could, deliver, warhead, megaton, time, powerful, atom, bomb, drop, hiroshima, nagasaki, libby, plummer, gareth, davie, russia, unveil, chill, picture, largest, ever, nuclear, missile, capable, destroy, area, size, france, r, sarmat, missile, dub, satan, nato, top, speed, mile, km, per, second, design, outfox, anti-missile, shield, system, new, sarmat, missile, could, deliver, warhead, megaton, time, powerful, atom, bomb, drop, hiroshima, nagasaki, scroll, video, russian, president, vladimir, putin, reportedly, plan, replace, country, older, s, satan, weapon, new, missile, amid, string, recent, disagreement, ...]</td>\n",
              "      <td>1</td>\n",
              "    </tr>\n",
              "    <tr>\n",
              "      <th>5</th>\n",
              "      <td>[say, one, time, someone, sue, southern, poverty, law, center, tuesday, jam, kennedy, ministry, djkm, file, lawsuit, southern, poverty, law, center, splc, charity, navigation, organization, guidestar, amazon, defamation, religious, discrimination, traffic, falsehood, splc, list, djkm, hate, group, guidestar, also, categorize, term, amazon, keep, ministry, charity, donation, program, amazon, smile, embark, today, journey, right, terrible, wrong, dr, frank, wright, president, ceo, djkm, say, statement, tuesday, knowingly, label, christian, ministry, hate, group, solely, subscribe, historic, christian, faith, either, woefully, uninformed, willfully, deceitful, case, southern, poverty, law, center, lawsuit, allege, latter, splc, label, djkm, anti-lgbt, hate, group, opposition, same-sex, marriage, transgenderism, false, illegal, characterization, ...]</td>\n",
              "      <td>1</td>\n",
              "    </tr>\n",
              "  </tbody>\n",
              "</table>\n",
              "</div>"
            ],
            "text/plain": [
              "                                                                                                                                                                                                                                                                                                                                                                                                                                                                                                                                                                                                                                                                                                                                                                                                                                                                                         text  \\\n",
              "0                                                                                                                 [comment, expect, barack, obama, member, fyf, fukyoflag, blacklivesmatter, movement, call, lynch, hang, white, people, cop, encourage, others, radio, show, tuesday, night, turn, tide, kill, white, people, cop, send, message, kill, black, people, america, one, f, yoflag, organizer, call, sunshine, radio, blog, show, host, texas, call, sunshine, f, ing, opinion, radio, show, snapshot, fyf, lolatwhitefear, twitter, page, p, show, urge, supporter, call, fyf, tonight, continue, dismantle, illusion, white, snapshot, twitter, radio, call, invite, fyf, radio, show, air, p, eastern, standard, time, show, caller, clearly, call, lynch, kill, white, people, minute, clip, radio, show, hear, provide, breitbart, texas, someone, would, like, refer, ...]   \n",
              "2                                                                                                                                                                                                                                                                                                                                                                                                                                                                                                                                                                                                                                                                                                             [demonstrator, gather, last, night, exercise, constitutional, protect, right, peaceful, protest, order, raise, issue, create, change, loretta, lynch, aka, eric, holder, skirt]   \n",
              "3                                                        [dozen, politically, active, pastor, come, private, dinner, friday, night, hear, conversion, story, unique, context, presidential, politics, louisiana, gov, bobby, jindal, travel, hinduism, protestant, christianity, ultimately, become, call, evangelical, catholic, two, hour, jindal, recall, talk, girl, high, school, want, save, soul, read, bible, closet, parent, would, see, feel, stir, watch, movie, senior, year, depict, jesus, cross, strike, strike, hard, jindal, tell, pastor, son, god, die, sin, jindal, session, christian, clergy, lead, congregation, early, presidential, battleground, state, iowa, south, carolina, part, behind-the-scenes, effort, louisiana, governor, find, political, base, could, help, propel, top, tier, republican, candidate, seek, run, white, house, know, gop, circle, ...]   \n",
              "4                                                                                               [r, sarmat, missile, dub, satan, replace, s, fly, mile, km, per, sec, range, mile, km, weapon, perceive, part, increasingly, aggressive, russia, could, deliver, warhead, megaton, time, powerful, atom, bomb, drop, hiroshima, nagasaki, libby, plummer, gareth, davie, russia, unveil, chill, picture, largest, ever, nuclear, missile, capable, destroy, area, size, france, r, sarmat, missile, dub, satan, nato, top, speed, mile, km, per, second, design, outfox, anti-missile, shield, system, new, sarmat, missile, could, deliver, warhead, megaton, time, powerful, atom, bomb, drop, hiroshima, nagasaki, scroll, video, russian, president, vladimir, putin, reportedly, plan, replace, country, older, s, satan, weapon, new, missile, amid, string, recent, disagreement, ...]   \n",
              "5  [say, one, time, someone, sue, southern, poverty, law, center, tuesday, jam, kennedy, ministry, djkm, file, lawsuit, southern, poverty, law, center, splc, charity, navigation, organization, guidestar, amazon, defamation, religious, discrimination, traffic, falsehood, splc, list, djkm, hate, group, guidestar, also, categorize, term, amazon, keep, ministry, charity, donation, program, amazon, smile, embark, today, journey, right, terrible, wrong, dr, frank, wright, president, ceo, djkm, say, statement, tuesday, knowingly, label, christian, ministry, hate, group, solely, subscribe, historic, christian, faith, either, woefully, uninformed, willfully, deceitful, case, southern, poverty, law, center, lawsuit, allege, latter, splc, label, djkm, anti-lgbt, hate, group, opposition, same-sex, marriage, transgenderism, false, illegal, characterization, ...]   \n",
              "\n",
              "   label  \n",
              "0      1  \n",
              "2      1  \n",
              "3      0  \n",
              "4      1  \n",
              "5      1  "
            ]
          },
          "execution_count": 60,
          "metadata": {},
          "output_type": "execute_result"
        }
      ],
      "source": [
        "textdata.head()"
      ]
    },
    {
      "cell_type": "code",
      "execution_count": 61,
      "metadata": {},
      "outputs": [],
      "source": [
        "#create new dataframe with title column\n",
        "\n",
        "titledata = lemmdata[['title', 'label']].copy()\n"
      ]
    },
    {
      "cell_type": "code",
      "execution_count": 62,
      "metadata": {},
      "outputs": [
        {
          "data": {
            "text/html": [
              "<div>\n",
              "<style scoped>\n",
              "    .dataframe tbody tr th:only-of-type {\n",
              "        vertical-align: middle;\n",
              "    }\n",
              "\n",
              "    .dataframe tbody tr th {\n",
              "        vertical-align: top;\n",
              "    }\n",
              "\n",
              "    .dataframe thead th {\n",
              "        text-align: right;\n",
              "    }\n",
              "</style>\n",
              "<table border=\"1\" class=\"dataframe\">\n",
              "  <thead>\n",
              "    <tr style=\"text-align: right;\">\n",
              "      <th></th>\n",
              "      <th>title</th>\n",
              "      <th>label</th>\n",
              "    </tr>\n",
              "  </thead>\n",
              "  <tbody>\n",
              "    <tr>\n",
              "      <th>0</th>\n",
              "      <td>[law, enforcement, high, alert, follow, threat, cop, white, blacklivesmatter, fyf, terrorist, video]</td>\n",
              "      <td>1</td>\n",
              "    </tr>\n",
              "    <tr>\n",
              "      <th>2</th>\n",
              "      <td>[unbelievable, obama, attorney, general, say, charlotte, rioter, peaceful, protester, home, state, north, carolina, video]</td>\n",
              "      <td>1</td>\n",
              "    </tr>\n",
              "    <tr>\n",
              "      <th>3</th>\n",
              "      <td>[bobby, jindal, raise, hindu, us, story, christian, conversion, woo, evangelicals, potential, bid]</td>\n",
              "      <td>0</td>\n",
              "    </tr>\n",
              "    <tr>\n",
              "      <th>4</th>\n",
              "      <td>[satan, russia, unvelis, image, terrify, new, supernuke, western, world, take, notice]</td>\n",
              "      <td>1</td>\n",
              "    </tr>\n",
              "    <tr>\n",
              "      <th>5</th>\n",
              "      <td>[time, christian, group, sue, amazon, splc, designation, hate, group]</td>\n",
              "      <td>1</td>\n",
              "    </tr>\n",
              "  </tbody>\n",
              "</table>\n",
              "</div>"
            ],
            "text/plain": [
              "                                                                                                                        title  \\\n",
              "0                        [law, enforcement, high, alert, follow, threat, cop, white, blacklivesmatter, fyf, terrorist, video]   \n",
              "2  [unbelievable, obama, attorney, general, say, charlotte, rioter, peaceful, protester, home, state, north, carolina, video]   \n",
              "3                          [bobby, jindal, raise, hindu, us, story, christian, conversion, woo, evangelicals, potential, bid]   \n",
              "4                                      [satan, russia, unvelis, image, terrify, new, supernuke, western, world, take, notice]   \n",
              "5                                                       [time, christian, group, sue, amazon, splc, designation, hate, group]   \n",
              "\n",
              "   label  \n",
              "0      1  \n",
              "2      1  \n",
              "3      0  \n",
              "4      1  \n",
              "5      1  "
            ]
          },
          "execution_count": 62,
          "metadata": {},
          "output_type": "execute_result"
        }
      ],
      "source": [
        "titledata.head()"
      ]
    },
    {
      "cell_type": "code",
      "execution_count": 63,
      "metadata": {},
      "outputs": [
        {
          "name": "stdout",
          "output_type": "stream",
          "text": [
            "Stored 'textdata' (DataFrame)\n",
            "Stored 'titledata' (DataFrame)\n"
          ]
        }
      ],
      "source": [
        "#store new data frames for use in next notebook\n",
        "\n",
        "%store textdata\n",
        "\n",
        "%store titledata"
      ]
    }
  ],
  "metadata": {
    "accelerator": "TPU",
    "colab": {
      "authorship_tag": "ABX9TyNOMp8oggB7agmf17UgMcCc",
      "include_colab_link": true,
      "provenance": []
    },
    "kernelspec": {
      "display_name": "Python 3",
      "name": "python3"
    },
    "language_info": {
      "codemirror_mode": {
        "name": "ipython",
        "version": 3
      },
      "file_extension": ".py",
      "mimetype": "text/x-python",
      "name": "python",
      "nbconvert_exporter": "python",
      "pygments_lexer": "ipython3",
      "version": "3.11.5"
    }
  },
  "nbformat": 4,
  "nbformat_minor": 0
}
