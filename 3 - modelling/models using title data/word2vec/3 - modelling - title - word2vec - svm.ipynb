{
 "cells": [
  {
   "cell_type": "markdown",
   "metadata": {},
   "source": [
    "# Support vector machine model using title data vectorized with word2vec"
   ]
  },
  {
   "cell_type": "code",
   "execution_count": 8,
   "metadata": {},
   "outputs": [],
   "source": [
    "#import packages\n",
    "\n",
    "import numpy as np\n",
    "\n",
    "import pandas as pd \n",
    "\n",
    "from sklearn.model_selection import KFold, cross_validate\n",
    "\n",
    "from sklearn.pipeline import Pipeline\n",
    "\n",
    "from sklearn.linear_model import LogisticRegression\n",
    "from sklearn.naive_bayes import MultinomialNB\n",
    "from sklearn.svm import SVC\n",
    "\n",
    "from sklearn.metrics import accuracy_score, precision_score, recall_score, f1_score, confusion_matrix, ConfusionMatrixDisplay, make_scorer, classification_report\n",
    "\n",
    "import matplotlib as plt\n",
    "\n",
    "from time import process_time"
   ]
  },
  {
   "cell_type": "code",
   "execution_count": 9,
   "metadata": {},
   "outputs": [],
   "source": [
    "#import data\n",
    "\n",
    "%store -r x_title_train_wv_2d\n",
    "%store -r x_title_test_wv_2d\n",
    "%store -r y_title_train_wv\n",
    "%store -r y_title_test_wv\n"
   ]
  },
  {
   "cell_type": "code",
   "execution_count": 10,
   "metadata": {},
   "outputs": [],
   "source": [
    "#rename variables for ease of use\n",
    "\n",
    "x_train =  x_title_train_wv_2d\n",
    "x_test =  x_title_test_wv_2d\n",
    "y_train = y_title_train_wv\n",
    "y_test = y_title_test_wv"
   ]
  },
  {
   "cell_type": "code",
   "execution_count": 11,
   "metadata": {},
   "outputs": [],
   "source": [
    "#define model\n",
    "\n",
    "svm = SVC()"
   ]
  },
  {
   "cell_type": "code",
   "execution_count": 18,
   "metadata": {},
   "outputs": [],
   "source": [
    "#define scoring metrics for cross validation\n",
    "\n",
    "scorer = {'accuracy': make_scorer(accuracy_score),\n",
    "          'precision': make_scorer(precision_score),\n",
    "          'recall': make_scorer(recall_score),\n",
    "          'f1_score' : make_scorer(f1_score)\n",
    "          }"
   ]
  },
  {
   "cell_type": "code",
   "execution_count": 19,
   "metadata": {},
   "outputs": [],
   "source": [
    "#define KFold\n",
    "\n",
    "k_folds = KFold(n_splits = 5, random_state=42, shuffle=True)"
   ]
  },
  {
   "cell_type": "code",
   "execution_count": 20,
   "metadata": {},
   "outputs": [],
   "source": [
    "#cross validate on training set to check model stability\n",
    "\n",
    "cv_scores_w2v_title_svm = cross_validate(svm, x_train, y_train, cv = k_folds, scoring=scorer)"
   ]
  },
  {
   "cell_type": "code",
   "execution_count": 21,
   "metadata": {},
   "outputs": [
    {
     "data": {
      "text/plain": [
       "{'fit_time': array([252.99780154, 246.9021349 , 237.71111155, 213.71644711,\n",
       "        211.2157073 ]),\n",
       " 'score_time': array([40.32056284, 42.99306536, 36.57921553, 42.4824512 , 29.98916984]),\n",
       " 'test_accuracy': array([0.85947792, 0.86350329, 0.85470294, 0.85128706, 0.85421496]),\n",
       " 'test_precision': array([0.84465219, 0.84842575, 0.83795014, 0.83565764, 0.83250689]),\n",
       " 'test_recall': array([0.83957365, 0.84116022, 0.83310383, 0.83179096, 0.83735107]),\n",
       " 'test_f1_score': array([0.84210526, 0.84477736, 0.83551996, 0.83371982, 0.83492195])}"
      ]
     },
     "execution_count": 21,
     "metadata": {},
     "output_type": "execute_result"
    }
   ],
   "source": [
    "#check cross validation scores\n",
    "\n",
    "cv_scores_w2v_title_svm"
   ]
  },
  {
   "cell_type": "code",
   "execution_count": 22,
   "metadata": {},
   "outputs": [],
   "source": [
    "#fit model on the whole training set\n",
    "start = process_time()\n",
    "\n",
    "svm.fit(x_train, y_train)\n",
    "\n",
    "end=process_time()"
   ]
  },
  {
   "cell_type": "code",
   "execution_count": 23,
   "metadata": {},
   "outputs": [],
   "source": [
    "#test model on test set\n",
    "\n",
    "y_pred = svm.predict(x_test)"
   ]
  },
  {
   "cell_type": "code",
   "execution_count": 24,
   "metadata": {},
   "outputs": [
    {
     "name": "stdout",
     "output_type": "stream",
     "text": [
      "              precision    recall  f1-score   support\n",
      "\n",
      "           0       0.88      0.88      0.88      9765\n",
      "           1       0.85      0.85      0.85      7802\n",
      "\n",
      "    accuracy                           0.86     17567\n",
      "   macro avg       0.86      0.86      0.86     17567\n",
      "weighted avg       0.86      0.86      0.86     17567\n",
      "\n"
     ]
    }
   ],
   "source": [
    "#view classification report\n",
    "\n",
    "print(classification_report(y_pred, y_test))"
   ]
  },
  {
   "cell_type": "code",
   "execution_count": 25,
   "metadata": {},
   "outputs": [],
   "source": [
    "#view confusion matrix\n",
    "\n",
    "conf_matrix=confusion_matrix(y_test, y_pred)\n"
   ]
  },
  {
   "cell_type": "code",
   "execution_count": 26,
   "metadata": {},
   "outputs": [
    {
     "data": {
      "text/plain": [
       "[Text(0.5, 1.0, 'SVM model with Title Data (word2vec)'),\n",
       " Text(0.5, 0, 'Predicted'),\n",
       " Text(0, 0.5, 'Actual')]"
      ]
     },
     "execution_count": 26,
     "metadata": {},
     "output_type": "execute_result"
    },
    {
     "data": {
      "image/png": "[encoded data removed]",
      "text/plain": [
       "<Figure size 640x480 with 2 Axes>"
      ]
     },
     "metadata": {},
     "output_type": "display_data"
    }
   ],
   "source": [
    "cm_plot = ConfusionMatrixDisplay(conf_matrix, display_labels = ['real', 'fake'])\n",
    "cm_plot.plot(values_format='')\n",
    "cm_plot.ax_.set(\n",
    "                title='SVM model with Title Data (word2vec)', \n",
    "                xlabel='Predicted', \n",
    "                ylabel='Actual')"
   ]
  },
  {
   "cell_type": "code",
   "execution_count": 27,
   "metadata": {},
   "outputs": [],
   "source": [
    "accuracy=accuracy_score(y_test, y_pred)\n",
    "precision=precision_score(y_test, y_pred)\n",
    "recall=recall_score(y_test, y_pred)\n",
    "f1=f1_score(y_test, y_pred)\n",
    "fit_time=end-start"
   ]
  },
  {
   "cell_type": "code",
   "execution_count": 28,
   "metadata": {},
   "outputs": [],
   "source": [
    "dict = {'data type': 'title',\n",
    "        'model type':'SVM',\n",
    "        'vectorize type':'word2vec',\n",
    "        'accuracy': accuracy,\n",
    "        'precision': precision,\n",
    "        'recall': recall,\n",
    "        'f1': f1,\n",
    "        'fit time': fit_time\n",
    "       }"
   ]
  },
  {
   "cell_type": "code",
   "execution_count": 29,
   "metadata": {},
   "outputs": [],
   "source": [
    "w2v_title_SVM=pd.DataFrame.from_dict([dict])"
   ]
  },
  {
   "cell_type": "code",
   "execution_count": 30,
   "metadata": {},
   "outputs": [
    {
     "data": {
      "text/html": [
       "<div>\n",
       "<style scoped>\n",
       "    .dataframe tbody tr th:only-of-type {\n",
       "        vertical-align: middle;\n",
       "    }\n",
       "\n",
       "    .dataframe tbody tr th {\n",
       "        vertical-align: top;\n",
       "    }\n",
       "\n",
       "    .dataframe thead th {\n",
       "        text-align: right;\n",
       "    }\n",
       "</style>\n",
       "<table border=\"1\" class=\"dataframe\">\n",
       "  <thead>\n",
       "    <tr style=\"text-align: right;\">\n",
       "      <th></th>\n",
       "      <th>data type</th>\n",
       "      <th>model type</th>\n",
       "      <th>vectorize type</th>\n",
       "      <th>accuracy</th>\n",
       "      <th>precision</th>\n",
       "      <th>recall</th>\n",
       "      <th>f1</th>\n",
       "      <th>fit time</th>\n",
       "    </tr>\n",
       "  </thead>\n",
       "  <tbody>\n",
       "    <tr>\n",
       "      <th>0</th>\n",
       "      <td>title</td>\n",
       "      <td>SVM</td>\n",
       "      <td>word2vec</td>\n",
       "      <td>0.863893</td>\n",
       "      <td>0.846065</td>\n",
       "      <td>0.84726</td>\n",
       "      <td>0.846662</td>\n",
       "      <td>270.8125</td>\n",
       "    </tr>\n",
       "  </tbody>\n",
       "</table>\n",
       "</div>"
      ],
      "text/plain": [
       "  data type model type vectorize type  accuracy  precision   recall        f1  \\\n",
       "0     title        SVM       word2vec  0.863893   0.846065  0.84726  0.846662   \n",
       "\n",
       "   fit time  \n",
       "0  270.8125  "
      ]
     },
     "execution_count": 30,
     "metadata": {},
     "output_type": "execute_result"
    }
   ],
   "source": [
    "w2v_title_SVM"
   ]
  },
  {
   "cell_type": "code",
   "execution_count": 31,
   "metadata": {},
   "outputs": [
    {
     "name": "stdout",
     "output_type": "stream",
     "text": [
      "Stored 'w2v_title_SVM' (DataFrame)\n"
     ]
    }
   ],
   "source": [
    "#save results for later use\n",
    "\n",
    "%store w2v_title_SVM"
   ]
  }
 ],
 "metadata": {
  "kernelspec": {
   "display_name": "base",
   "language": "python",
   "name": "python3"
  },
  "language_info": {
   "codemirror_mode": {
    "name": "ipython",
    "version": 3
   },
   "file_extension": ".py",
   "mimetype": "text/x-python",
   "name": "python",
   "nbconvert_exporter": "python",
   "pygments_lexer": "ipython3",
   "version": "3.11.5"
  }
 },
 "nbformat": 4,
 "nbformat_minor": 2
}
