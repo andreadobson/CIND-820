{
 "cells": [
  {
   "cell_type": "markdown",
   "metadata": {},
   "source": [
    "# Support vector machine model using text data vectorized with TF-IDF"
   ]
  },
  {
   "cell_type": "code",
   "execution_count": 1,
   "metadata": {},
   "outputs": [],
   "source": [
    "#import packages\n",
    "\n",
    "import numpy as np\n",
    "\n",
    "import pandas as pd \n",
    "\n",
    "from sklearn.model_selection import KFold, cross_validate\n",
    "\n",
    "from sklearn.pipeline import Pipeline\n",
    "\n",
    "from sklearn.linear_model import LogisticRegression\n",
    "from sklearn.naive_bayes import MultinomialNB\n",
    "from sklearn.svm import SVC\n",
    "\n",
    "from sklearn.metrics import accuracy_score, precision_score, recall_score, f1_score, confusion_matrix, ConfusionMatrixDisplay, make_scorer, classification_report\n",
    "\n",
    "import matplotlib as plt\n",
    "\n",
    "from time import process_time"
   ]
  },
  {
   "cell_type": "code",
   "execution_count": 3,
   "metadata": {},
   "outputs": [],
   "source": [
    "#import data\n",
    "\n",
    "%store -r x_text_train_tf\n",
    "%store -r x_text_test_tf\n",
    "%store -r y_text_train_tf\n",
    "%store -r y_text_test_tf\n"
   ]
  },
  {
   "cell_type": "code",
   "execution_count": 4,
   "metadata": {},
   "outputs": [],
   "source": [
    "#rename variables for ease of use\n",
    "\n",
    "x_train =  x_text_train_tf\n",
    "x_test =  x_text_test_tf\n",
    "y_train = y_text_train_tf\n",
    "y_test = y_text_test_tf"
   ]
  },
  {
   "cell_type": "code",
   "execution_count": 5,
   "metadata": {},
   "outputs": [],
   "source": [
    "#define model\n",
    "\n",
    "svm = SVC()"
   ]
  },
  {
   "cell_type": "code",
   "execution_count": 6,
   "metadata": {},
   "outputs": [],
   "source": [
    "#define scoring metrics for cross validation\n",
    "\n",
    "scorer = {'accuracy': make_scorer(accuracy_score),\n",
    "          'precision': make_scorer(precision_score),\n",
    "          'recall': make_scorer(recall_score),\n",
    "          'f1_score' : make_scorer(f1_score)\n",
    "          }"
   ]
  },
  {
   "cell_type": "code",
   "execution_count": 7,
   "metadata": {},
   "outputs": [],
   "source": [
    "#define KFold\n",
    "\n",
    "k_folds = KFold(n_splits = 5, random_state=42, shuffle=True)"
   ]
  },
  {
   "cell_type": "code",
   "execution_count": 8,
   "metadata": {},
   "outputs": [],
   "source": [
    "#cross validate on training set to check model stability\n",
    "\n",
    "cv_scores_tfidf_text_svm = cross_validate(svm, x_train, y_train, cv = k_folds, scoring=scorer)"
   ]
  },
  {
   "cell_type": "code",
   "execution_count": 9,
   "metadata": {},
   "outputs": [
    {
     "data": {
      "text/plain": [
       "{'fit_time': array([1974.44684649, 1919.48578477, 1899.22134447, 1891.6689961 ,\n",
       "        1909.08538151]),\n",
       " 'score_time': array([154.1011641 , 153.63205504, 151.59031868, 146.77961111,\n",
       "        155.28961396]),\n",
       " 'test_accuracy': array([0.94815809, 0.95023176, 0.94973771, 0.94327193, 0.94205197]),\n",
       " 'test_precision': array([0.9391635 , 0.94536883, 0.94671107, 0.93470604, 0.92814208]),\n",
       " 'test_recall': array([0.94506696, 0.94171271, 0.93941063, 0.93903103, 0.94125797]),\n",
       " 'test_f1_score': array([0.94210598, 0.94353723, 0.94304672, 0.93686354, 0.93465401])}"
      ]
     },
     "execution_count": 9,
     "metadata": {},
     "output_type": "execute_result"
    }
   ],
   "source": [
    "#check cross validation scores\n",
    "\n",
    "cv_scores_tfidf_text_svm"
   ]
  },
  {
   "cell_type": "code",
   "execution_count": 10,
   "metadata": {},
   "outputs": [],
   "source": [
    "#fit model on the whole training set\n",
    "start = process_time()\n",
    "\n",
    "svm.fit(x_train, y_train)\n",
    "\n",
    "end=process_time()"
   ]
  },
  {
   "cell_type": "code",
   "execution_count": 11,
   "metadata": {},
   "outputs": [],
   "source": [
    "#test model on test set\n",
    "\n",
    "y_pred = svm.predict(x_test)"
   ]
  },
  {
   "cell_type": "code",
   "execution_count": 12,
   "metadata": {},
   "outputs": [
    {
     "name": "stdout",
     "output_type": "stream",
     "text": [
      "              precision    recall  f1-score   support\n",
      "\n",
      "           0       0.95      0.95      0.95      9739\n",
      "           1       0.94      0.94      0.94      7828\n",
      "\n",
      "    accuracy                           0.95     17567\n",
      "   macro avg       0.95      0.95      0.95     17567\n",
      "weighted avg       0.95      0.95      0.95     17567\n",
      "\n"
     ]
    }
   ],
   "source": [
    "#view classification report\n",
    "\n",
    "print(classification_report(y_pred, y_test))"
   ]
  },
  {
   "cell_type": "code",
   "execution_count": 14,
   "metadata": {},
   "outputs": [],
   "source": [
    "#view confusion matrix\n",
    "\n",
    "conf_matrix=confusion_matrix(y_test, y_pred)\n"
   ]
  },
  {
   "cell_type": "code",
   "execution_count": 15,
   "metadata": {},
   "outputs": [
    {
     "data": {
      "text/plain": [
       "[Text(0.5, 1.0, 'SVM model with Text Data (TF-IDF)'),\n",
       " Text(0.5, 0, 'Predicted'),\n",
       " Text(0, 0.5, 'Actual')]"
      ]
     },
     "execution_count": 15,
     "metadata": {},
     "output_type": "execute_result"
    },
    {
     "data": {
      "image/png": "[encoded data removed]",
      "text/plain": [
       "<Figure size 640x480 with 2 Axes>"
      ]
     },
     "metadata": {},
     "output_type": "display_data"
    }
   ],
   "source": [
    "cm_plot = ConfusionMatrixDisplay(conf_matrix, display_labels = ['real', 'fake'])\n",
    "cm_plot.plot(values_format='')\n",
    "cm_plot.ax_.set(\n",
    "                title='SVM model with Text Data (TF-IDF)', \n",
    "                xlabel='Predicted', \n",
    "                ylabel='Actual')"
   ]
  },
  {
   "cell_type": "code",
   "execution_count": 16,
   "metadata": {},
   "outputs": [],
   "source": [
    "accuracy=accuracy_score(y_test, y_pred)\n",
    "precision=precision_score(y_test, y_pred)\n",
    "recall=recall_score(y_test, y_pred)\n",
    "f1=f1_score(y_test, y_pred)\n",
    "fit_time=end-start"
   ]
  },
  {
   "cell_type": "code",
   "execution_count": 17,
   "metadata": {},
   "outputs": [],
   "source": [
    "dict = {'data type': 'text',\n",
    "        'model type':'SVM',\n",
    "        'vectorize type':'TF-IDF',\n",
    "        'accuracy': accuracy,\n",
    "        'precision': precision,\n",
    "        'recall': recall,\n",
    "        'f1': f1,\n",
    "        'fit time': fit_time\n",
    "       }"
   ]
  },
  {
   "cell_type": "code",
   "execution_count": 18,
   "metadata": {},
   "outputs": [],
   "source": [
    "tfidf_text_SVM=pd.DataFrame.from_dict([dict])"
   ]
  },
  {
   "cell_type": "code",
   "execution_count": 19,
   "metadata": {},
   "outputs": [
    {
     "data": {
      "text/html": [
       "<div>\n",
       "<style scoped>\n",
       "    .dataframe tbody tr th:only-of-type {\n",
       "        vertical-align: middle;\n",
       "    }\n",
       "\n",
       "    .dataframe tbody tr th {\n",
       "        vertical-align: top;\n",
       "    }\n",
       "\n",
       "    .dataframe thead th {\n",
       "        text-align: right;\n",
       "    }\n",
       "</style>\n",
       "<table border=\"1\" class=\"dataframe\">\n",
       "  <thead>\n",
       "    <tr style=\"text-align: right;\">\n",
       "      <th></th>\n",
       "      <th>data type</th>\n",
       "      <th>model type</th>\n",
       "      <th>vectorize type</th>\n",
       "      <th>accuracy</th>\n",
       "      <th>precision</th>\n",
       "      <th>recall</th>\n",
       "      <th>f1</th>\n",
       "      <th>fit time</th>\n",
       "    </tr>\n",
       "  </thead>\n",
       "  <tbody>\n",
       "    <tr>\n",
       "      <th>0</th>\n",
       "      <td>text</td>\n",
       "      <td>SVM</td>\n",
       "      <td>TF-IDF</td>\n",
       "      <td>0.947231</td>\n",
       "      <td>0.938426</td>\n",
       "      <td>0.942883</td>\n",
       "      <td>0.940649</td>\n",
       "      <td>2539.4375</td>\n",
       "    </tr>\n",
       "  </tbody>\n",
       "</table>\n",
       "</div>"
      ],
      "text/plain": [
       "  data type model type vectorize type  accuracy  precision    recall  \\\n",
       "0      text        SVM         TF-IDF  0.947231   0.938426  0.942883   \n",
       "\n",
       "         f1   fit time  \n",
       "0  0.940649  2539.4375  "
      ]
     },
     "execution_count": 19,
     "metadata": {},
     "output_type": "execute_result"
    }
   ],
   "source": [
    "tfidf_text_SVM"
   ]
  },
  {
   "cell_type": "code",
   "execution_count": 20,
   "metadata": {},
   "outputs": [
    {
     "name": "stdout",
     "output_type": "stream",
     "text": [
      "Stored 'tfidf_text_SVM' (DataFrame)\n"
     ]
    }
   ],
   "source": [
    "#save results for later use\n",
    "\n",
    "%store tfidf_text_SVM"
   ]
  }
 ],
 "metadata": {
  "kernelspec": {
   "display_name": "base",
   "language": "python",
   "name": "python3"
  },
  "language_info": {
   "codemirror_mode": {
    "name": "ipython",
    "version": 3
   },
   "file_extension": ".py",
   "mimetype": "text/x-python",
   "name": "python",
   "nbconvert_exporter": "python",
   "pygments_lexer": "ipython3",
   "version": "3.11.5"
  }
 },
 "nbformat": 4,
 "nbformat_minor": 2
}
