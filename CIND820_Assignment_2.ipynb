{
  "nbformat": 4,
  "nbformat_minor": 0,
  "metadata": {
    "colab": {
      "provenance": [],
      "authorship_tag": "ABX9TyM4BjtQEppHVCSIjvd5gblE",
      "include_colab_link": true
    },
    "kernelspec": {
      "name": "python3",
      "display_name": "Python 3"
    },
    "language_info": {
      "name": "python"
    },
    "accelerator": "TPU"
  },
  "cells": [
    {
      "cell_type": "markdown",
      "metadata": {
        "id": "view-in-github",
        "colab_type": "text"
      },
      "source": [
        "<a href=\"https://colab.research.google.com/github/andreadobson/CIND-820/blob/main/CIND820_Assignment_2.ipynb\" target=\"_parent\"><img src=\"https://colab.research.google.com/assets/colab-badge.svg\" alt=\"Open In Colab\"/></a>"
      ]
    },
    {
      "cell_type": "markdown",
      "source": [
        "# Initialize Google Drive"
      ],
      "metadata": {
        "id": "qXB8QnBdERxn"
      }
    },
    {
      "cell_type": "code",
      "execution_count": 1,
      "metadata": {
        "colab": {
          "base_uri": "https://localhost:8080/"
        },
        "id": "Hfsxahxy-PA5",
        "outputId": "a57fd71c-5204-4e2b-a89a-f86b9c11ab65"
      },
      "outputs": [
        {
          "output_type": "stream",
          "name": "stdout",
          "text": [
            "Drive already mounted at /content/drive; to attempt to forcibly remount, call drive.mount(\"/content/drive\", force_remount=True).\n"
          ]
        }
      ],
      "source": [
        "from google.colab import drive\n",
        "drive.mount('/content/drive')"
      ]
    },
    {
      "cell_type": "code",
      "source": [
        "%cd /content/drive/MyDrive/Github/"
      ],
      "metadata": {
        "colab": {
          "base_uri": "https://localhost:8080/"
        },
        "id": "pUCXnH4X-iWV",
        "outputId": "f790f677-5578-499b-866d-208da30fb686"
      },
      "execution_count": 2,
      "outputs": [
        {
          "output_type": "stream",
          "name": "stdout",
          "text": [
            "/content/drive/MyDrive/Github\n"
          ]
        }
      ]
    },
    {
      "cell_type": "markdown",
      "source": [
        "# Initialize Github"
      ],
      "metadata": {
        "id": "8hLhZuPeEXZP"
      }
    },
    {
      "cell_type": "code",
      "source": [
        "!git remote add origin https://{accessCode}@github.com/{username}/{repository}.git"
      ],
      "metadata": {
        "id": "3cybAa94AFJF",
        "colab": {
          "base_uri": "https://localhost:8080/"
        },
        "outputId": "c3492485-464f-4669-c461-ed7763308cc8"
      },
      "execution_count": 4,
      "outputs": [
        {
          "output_type": "stream",
          "name": "stdout",
          "text": [
            "error: remote origin already exists.\n"
          ]
        }
      ]
    },
    {
      "cell_type": "code",
      "source": [
        "!git init\n",
        "!git add README.md\n",
        "!git commit -m \"first commit\"\n",
        "!git branch -M main\n",
        "!git remote add origin https://github.com/andreadobson/CIND-820.git\n",
        "!git push -u origin main"
      ],
      "metadata": {
        "colab": {
          "base_uri": "https://localhost:8080/"
        },
        "id": "bryCOp2JCdVU",
        "outputId": "a6b19dae-a571-4b77-9f6f-2cc8bef5527f"
      },
      "execution_count": 5,
      "outputs": [
        {
          "output_type": "stream",
          "name": "stdout",
          "text": [
            "Reinitialized existing Git repository in /content/drive/MyDrive/Github/.git/\n",
            "fatal: pathspec 'README.md' did not match any files\n",
            "Author identity unknown\n",
            "\n",
            "*** Please tell me who you are.\n",
            "\n",
            "Run\n",
            "\n",
            "  git config --global user.email \"you@example.com\"\n",
            "  git config --global user.name \"Your Name\"\n",
            "\n",
            "to set your account's default identity.\n",
            "Omit --global to set the identity only in this repository.\n",
            "\n",
            "fatal: unable to auto-detect email address (got 'root@432a49b0d899.(none)')\n",
            "error: remote origin already exists.\n",
            "error: src refspec main does not match any\n",
            "\u001b[31merror: failed to push some refs to 'https://github.com/andreadobson/CIND-820.git'\n",
            "\u001b[m"
          ]
        }
      ]
    },
    {
      "cell_type": "markdown",
      "source": [
        "# Import data set:\n",
        "\n"
      ],
      "metadata": {
        "id": "LPLE23U8ELv7"
      }
    },
    {
      "cell_type": "code",
      "source": [
        "import pandas as pd\n",
        "data = pd.read_csv('/content/drive/MyDrive/CIND820/WELFake_Dataset.csv')"
      ],
      "metadata": {
        "id": "GZ5PYfeFD2ks"
      },
      "execution_count": 6,
      "outputs": []
    },
    {
      "cell_type": "code",
      "source": [
        "pd.set_option('max_colwidth', None)\n",
        "data.head(n=15)"
      ],
      "metadata": {
        "colab": {
          "base_uri": "https://localhost:8080/",
          "height": 1000
        },
        "id": "lB19GG8HEpoR",
        "outputId": "2b36ac78-1e41-4156-9a05-eb3aca9fddf4"
      },
      "execution_count": 7,
      "outputs": [
        {
          "output_type": "execute_result",
          "data": {
            "text/plain": [
              "    Unnamed: 0  \\\n",
              "0            0   \n",
              "1            1   \n",
              "2            2   \n",
              "3            3   \n",
              "4            4   \n",
              "5            5   \n",
              "6            6   \n",
              "7            7   \n",
              "8            8   \n",
              "9            9   \n",
              "10          10   \n",
              "11          11   \n",
              "12          12   \n",
              "13          13   \n",
              "14          14   \n",
              "\n",
              "                                                                                                                                        title  \\\n",
              "0          LAW ENFORCEMENT ON HIGH ALERT Following Threats Against Cops And Whites On 9-11By #BlackLivesMatter And #FYF911 Terrorists [VIDEO]   \n",
              "1                                                                                                                                         NaN   \n",
              "2   UNBELIEVABLE! OBAMA’S ATTORNEY GENERAL SAYS MOST CHARLOTTE RIOTERS WERE “PEACEFUL” PROTESTERS…In Her Home State Of North Carolina [VIDEO]   \n",
              "3                                   Bobby Jindal, raised Hindu, uses story of Christian conversion to woo evangelicals for potential 2016 bid   \n",
              "4                                             SATAN 2: Russia unvelis an image of its terrifying new ‘SUPERNUKE’ – Western world takes notice   \n",
              "5                                                              About Time! Christian Group Sues Amazon and SPLC for Designation as Hate Group   \n",
              "6                                   DR BEN CARSON TARGETED BY THE IRS: “I never had an audit until I spoke at the National Prayer Breakfast.”   \n",
              "7                                                             HOUSE INTEL CHAIR On Trump-Russia Fake Story: “No evidence of anything” [Video]   \n",
              "8                        Sports Bar Owner Bans NFL Games…Will Show Only ‘True American’ Sports: ‘I’d like to speak for rural America’ [Video]   \n",
              "9                                                                          Latest Pipeline Leak Underscores Dangers Of Dakota Access Pipeline   \n",
              "10                                                            GOP Senator Just Smacked Down The Most Punchable Alt-Right Nazi On The Internet   \n",
              "11                                                                              May Brexit offer would hurt, cost EU citizens - EU parliament   \n",
              "12                                                                   Schumer calls on Trump to appoint official to oversee Puerto Rico relief   \n",
              "13                                                        WATCH: HILARIOUS AD Calls Into Question Health Of Aging Clinton Crime Family Bosses   \n",
              "14                                                   No Change Expected for ESPN Political Agenda Despite Huge Subscriber Decline - Breitbart   \n",
              "\n",
              "                                                                                                                                                                                                                                                                                                                                                                                                                                                                                                                                                                                                                                                                                                                                                                                                                                                                                                                                                                                                                                                                                                                                                                                                                                                                                                                                                                                                                                                                                                                                                                                                                                                                                                                                                                                                                                                                                                                                                                                                                                                                                                                                                                                                                                                                                                                                                                                                                                                                                                                                                                                                                                                                                                                                                                                                                                                                                                                                                                                                                                                                                                                                                                                                                                                                                                                                                                                                                                                                                                                                                                                                                                                                                                                                                                                                                                                                                                                                                                                                                                                                                                                                                                                                                                                                                                                                                                                                                                                                                                                                                                                                                                                                                                                                                                                                                                                                                                                                                                                                                                                                                                                                                                                                                                                                                                                                                                                                                                                                                                                                                                                                                                                                                                                                                                                                                                                                                                                                                                                                                                                                                                                                                                                                                                                                                                                                                                                                                                                                                                                                                                                                                                                                                                                                                                                                                                                                                                                                                                                                                                                                                                                                                                                                                                                                                                                                                                                                                                                                                                                                                                                                                                                                                                                                                                                                                                                                                                                                                                                                                                                                                                                                                                                                                                                                                                                                                                                                      text  \\\n",
              "0                                                                                                                                                                                                                                                                                                                                                                                                                                                                                                                                                                                                                                                                                                                                                                                                                                                                                                                                                                                                                                                                                                                                                                                                                                                                                                                                                                                                                                                                                                                                                                                                                                                                                                                                                                                                                                                                                                                                                                                                                                                                                                                                                                                                                                                                                                                                                                                                                                                                                                                                                                                                                                                                                                                                                                                                                                                                                                                                                                                                                                                                                                                                                No comment is expected from Barack Obama Members of the #FYF911 or #FukYoFlag and #BlackLivesMatter movements called for the lynching and hanging of white people and cops. They encouraged others on a radio show Tuesday night to  turn the tide  and kill white people and cops to send a message about the killing of black people in America.One of the F***YoFlag organizers is called  Sunshine.  She has a radio blog show hosted from Texas called,  Sunshine s F***ing Opinion Radio Show. A snapshot of her #FYF911 @LOLatWhiteFear Twitter page at 9:53 p.m. shows that she was urging supporters to  Call now!! #fyf911 tonight we continue to dismantle the illusion of white Below is a SNAPSHOT Twitter Radio Call Invite   #FYF911The radio show aired at 10:00 p.m. eastern standard time.During the show, callers clearly call for  lynching  and  killing  of white people.A 2:39 minute clip from the radio show can be heard here. It was provided to Breitbart Texas by someone who would like to be referred to as  Hannibal.  He has already received death threats as a result of interrupting #FYF911 conference calls.An unidentified black man said  when those mother f**kers are by themselves, that s when when we should start f***ing them up. Like they do us, when a bunch of them ni**ers takin  one of us out, that s how we should roll up.  He said,  Cause we already roll up in gangs anyway. There should be six or seven black mother f**ckers, see that white person, and then lynch their ass. Let s turn the tables. They conspired that if  cops started losing people,  then  there will be a state of emergency. He speculated that one of two things would happen,  a big-ass [R s?????] war,  or  ni**ers, they are going to start backin  up. We are already getting killed out here so what the f**k we got to lose? Sunshine could be heard saying,  Yep, that s true. That s so f**king true. He said,  We need to turn the tables on them. Our kids are getting shot out here. Somebody needs to become a sacrifice on their side.He said,  Everybody ain t down for that s**t, or whatever, but like I say, everybody has a different position of war.  He continued,  Because they don t give a f**k anyway.  He said again,  We might as well utilized them for that s**t and turn the tables on these n**ers. He said, that way  we can start lookin  like we ain t havin  that many casualties, and there can be more causalities on their side instead of ours. They are out their killing black people, black lives don t matter, that s what those mother f**kers   so we got to make it matter to them. Find a mother f**ker that is alone. Snap his ass, and then f***in hang him from a damn tree. Take a picture of it and then send it to the mother f**kers. We  just need one example,  and  then people will start watchin .  This will turn the tables on s**t, he said. He said this will start  a trickle-down effect.  He said that when one white person is hung and then they are just  flat-hanging,  that will start the  trickle-down effect.  He continued,  Black people are good at starting trends. He said that was how  to get the upper-hand. Another black man spoke up saying they needed to kill  cops that are killing us. The first black male said,  That will be the best method right there. Breitbart Texas previously reported how Sunshine was upset when  racist white people  infiltrated and disrupted one of her conference calls. She subsequently released the phone number of one of the infiltrators. The veteran immediately started receiving threatening calls.One of the #F***YoFlag movement supporters allegedly told a veteran who infiltrated their publicly posted conference call,  We are going to rape and gut your pregnant wife, and your f***ing piece of sh*t unborn creature will be hung from a tree. Breitbart Texas previously encountered Sunshine at a Sandra Bland protest at the Waller County Jail in Texas, where she said all white people should be killed. She told journalists and photographers,  You see this nappy-ass hair on my head?   That means I am one of those more militant Negroes.  She said she was at the protest because  these redneck mother-f**kers murdered Sandra Bland because she had nappy hair like me. #FYF911 black radicals say they will be holding the  imperial powers  that are actually responsible for the terrorist attacks on September 11th accountable on that day, as reported by Breitbart Texas. There are several websites and Twitter handles for the movement. Palmetto Star  describes himself as one of the head organizers. He said in a YouTube video that supporters will be burning their symbols of  the illusion of their superiority,  their  false white supremacy,  like the American flag, the British flag, police uniforms, and Ku Klux Klan hoods.Sierra McGrone or  Nocturnus Libertus  posted,  you too can help a young Afrikan clean their a** with the rag of oppression.  She posted two photos, one that appears to be herself, and a photo of a black man, wiping their naked butts with the American flag.For entire story: Breitbart News   \n",
              "1                                                                                                                                                                                                                                                                                                                                                                                                                                                                                                                                                                                                                                                                                                                                                                                                                                                                                                                                                                                                                                                                                                                                                                                                                                                                                                                                                                                                                                                                                                                                                                                                                                                                                                                                                                                                                                                                                                                                                                                                                                                                                                                                                                                                                                                                                                                                                                                                                                                                                                                                                                                                                                                                                                                                                                                                                                                                                                                                                                                                                                                                                                                                                                                                                                                                                                                                                                                                                                                                                                                                                                                                                                                                                                                                                                                                                                                                                                                                                                                                                                                                                                                                                                                                                                                                                                                                                                                                                                                                                                                                                                                                                                                                                                                                                                                                                                                                                                                                                                                                                                                                                                                                                                                                                                                                                                                                                                                                                                                                                                                                                                                                                                                                                                                                                                                                                                                                                                                                                                                                                                                                                                                                                                                                                                                                                                                                                                                                                                                                                                                                                                                                                                                                                                                                                                                                                                                                                                                                                                                                                                                                                                                                                                                                                                                                                                                                                                                                                                                                                                                                                                                                                                                                                                                                                                                                                                                                                                                                                                                                                                                                                                                                                                                                                                                                                                                                                           Did they post their votes for Hillary already?   \n",
              "2                                                                                                                                                                                                                                                                                                                                                                                                                                                                                                                                                                                                                                                                                                                                                                                                                                                                                                                                                                                                                                                                                                                                                                                                                                                                                                                                                                                                                                                                                                                                                                                                                                                                                                                                                                                                                                                                                                                                                                                                                                                                                                                                                                                                                                                                                                                                                                                                                                                                                                                                                                                                                                                                                                                                                                                                                                                                                                                                                                                                                                                                                                                                                                                                                                                                                                                                                                                                                                                                                                                                                                                                                                                                                                                                                                                                                                                                                                                                                                                                                                                                                                                                                                                                                                                                                                                                                                                                                                                                                                                                                                                                                                                                                                                                                                                                                                                                                                                                                                                                                                                                                                                                                                                                                                                                                                                                                                                                                                                                                                                                                                                                                                                                                                                                                                                                                                                                                                                                                                                                                                                                                                                                                                                                                                                                                                                                                                                                                                                                                                                                                                                                                                                                                                                                                                                                                                                                                                                                                                                                                                                                                                                                                                                                                                                                                                                                                                                                                                                                                                                                                                                                                                                                                                                                                                                                                                                                                                                                                                                                                                                                                                                                                                                  Now, most of the demonstrators gathered last night were exercising their constitutional and protected right to peaceful protest in order to raise issues and create change.    Loretta Lynch aka Eric Holder in a skirt   \n",
              "3   A dozen politically active pastors came here for a private dinner Friday night to hear a conversion story unique in the context of presidential politics: how Louisiana Gov. Bobby Jindal traveled from Hinduism to Protestant Christianity and, ultimately, became what he calls an “evangelical Catholic.”\\n\\nOver two hours, Jindal, 42, recalled talking with a girl in high school who wanted to “save my soul,” reading the Bible in a closet so his parents would not see him and feeling a stir while watching a movie during his senior year that depicted Jesus on the cross.\\n\\n“I was struck, and struck hard,” Jindal told the pastors. “This was the Son of God, and He had died for our sins.”\\n\\nJindal’s session with the Christian clergy, who lead congregations in the early presidential battleground states of Iowa and South Carolina, was part of a behind-the-scenes effort by the Louisiana governor to find a political base that could help propel him into the top tier of Republican candidates seeking to run for the White House in 2016.\\n\\nKnown in GOP circles mostly for his mastery of policy issues such as health care, Jindal, a Rhodes Scholar and graduate of the Ivy League’s Brown University, does not have an obvious pool of activist supporters to help drive excitement outside his home state. So he is harnessing his religious experience in a way that has begun to appeal to parts of the GOP’s influential core of religious conservatives, many of whom have yet to find a favorite among the Republicans eyeing the presidential race.\\n\\nOther potential 2016 GOP candidates are wooing the evangelical base, including Sens. Rand Paul (Ky.) and Ted Cruz (Tex.) and Indiana Gov. Mike Pence.\\n\\nBut over the weekend in Lynchburg — a mecca of sorts for evangelicals as the home of Liberty University, founded in the 1970s by the Rev. Jerry Falwell — Jindal appeared to make progress.\\n\\nIn addition to his dinner with the pastors, he delivered a well-received “call to action” address to 40,000 Christian conservatives gathered for Liberty’s commencement ceremony, talking again about his faith while assailing what he said was President Obama’s record of attacking religious liberty.\\n\\nThe pastors who came to meet Jindal said his intimate descriptions of his experiences stood out.\\n\\n“He has the convictions, and he has what it takes to communicate them,” said Brad Sherman of Solid Rock Christian Church in Coralville, Iowa. Sherman helped former Arkansas governor Mike Huckabee in his winning 2008 campaign for delegates in Iowa.\\n\\nAnother Huckabee admirer, the Rev. C. Mitchell Brooks of Second Baptist Church in Belton, S.C., said Jindal’s commitment to Christian values and his compelling story put him “on a par” with Huckabee, who was a Baptist preacher before entering politics.\\n\\nThe visiting pastors flew to Lynchburg over the weekend at the invitation of the American Renewal Project, a well-funded nonprofit group that encourages evangelical Christians to engage in the civic arena with voter guides, get-out-the-vote drives and programs to train pastors in grass-roots activism. The group’s founder, David Lane, has built a pastor network in politically important states such as Iowa, Missouri, Ohio and South Carolina and has led trips to Israel with Paul and others seeking to make inroads with evangelical activists.\\n\\nThe group that Lane invited to Lynchburg included Donald Wild­mon, a retired minister and founder of the American Family Association, a prominent evangelical activist group that has influence through its network of more than 140 Christian radio stations.\\n\\nMost of the pastors that Lane’s organization brought to Lynchburg had not met Jindal. But they said he captured their interest recently when he stepped forward to defend Phil Robertson, patriarch of the “Duck Dynasty” television-show family, amid a controversy over disparaging remarks he made about gays in an interview with GQ magazine.\\n\\nThroughout his Lynchburg visit, Jindal presented himself as a willing culture warrior.\\n\\nDuring his commencement address Saturday, he took up the cause of twin brothers whose HGTV reality series about renovating and reselling houses, “Flip It Forward,” was canceled last week after a Web site revealed that they had protested against same-sex marriage at the 2012 Democratic National Convention in Charlotte.\\n\\nThe siblings, Jason and David Benham, both Liberty graduates, attended the graduation and a private lunch with Jindal, who called the action against them “another demonstration of intolerance from the entertainment industry.”\\n\\n“If these guys had protested at the Republican Party convention, instead of canceling their show, HGTV would probably have given them a raise,” Jindal said as the Liberty crowd applauded.\\n\\nHe cited the Hobby Lobby craft store chain, which faced a legal challenge after refusing to provide employees with insurance coverage for contraceptives as required under the Affordable Care Act. Members of the family that owns Hobby Lobby, who have become heroes to many religious conservatives, have said that they are morally opposed to the use of certain types of birth control and that they considered the requirement a violation of their First Amendment right to religious freedom.\\n\\nThe family was “committed to honor the Lord by being generous employers, paying well above minimum wage and increasing salaries four years in a row even in the midst of the enduring recession,” Jindal told the Liberty graduates. “None of this matters to the Obama administration.”\\n\\nBut for the pastors who came to see Jindal in action, the governor’s own story was the highlight of the weekend. And in many ways, he was unlike any other aspiring president these activists had met.\\n\\nPiyush Jindal was born in 1971, four months after his parents arrived in Baton Rouge, La., from their native India. He changed his name to Bobby as a young boy, adopting the name of a character on a favorite television show, “The Brady Bunch.”\\n\\nHis decision to become a Christian, he told the pastors, did not come in one moment of lightning epiphany. Instead, he said, it happened in phases, growing from small seeds planted over time.\\n\\nJindal recalled that his closest friend from grade school gave him a Bible with his name emblazoned in gold on the cover as a Christmas present. It struck him initially as an unimpressive gift, Jindal told the pastors.\\n\\n“Who in the world would spend good money for a Bible when everyone knows you can get one free in any hotel?” he recalled thinking at the time. “And the gold lettering meant I couldn’t give it away or return it.”\\n\\nHis religious education reached a higher plane during his junior year in high school, he told his dinner audience. He wanted to ask a pretty girl on a date during a hallway conversation, and she started talking about her faith in God and her opposition to abortion. The girl invited him to visit her church.\\n\\nJindal said he was skeptical and set out to “investigate all these fanciful claims” made by the girl and other friends. He started reading the Bible in his closet at home. “I was unsure how my parents would react,” he said.\\n\\nAfter the stirring moment when he saw Christ depicted on the cross during the religious movie, the Bible and his very existence suddenly seemed clearer to him, Jindal told the pastors.\\n\\nJindal did not dwell on his subsequent conversion to Catholicism just a few years later in college, where he said he immersed himself in the traditions of the church.\\n\\nHe touched on it briefly during the commencement address, noting in passing that “I am best described as an evangelical Catholic.” Mostly, he sought to showcase the ways in which he shares values with other Christian conservatives.\\n\\n“I read the words of Jesus Christ, and I realized that they were true,” Jindal told the graduates Saturday, offering a less detailed accounting of his conversion than he had done the night before with the pastors. “I used to think that I had found God, but I believe it is more accurate to say that He found me.”   \n",
              "4                                                                                                                                                                                                                                                                                                                                                                                                                                                                                                                                                                                                                                                                                                                                                                                                                                                                                                                                                                                                                                                                                                                                                                                                                                                                                                                                                                                                                                                                                                                                                                                                                                                                                                                                                                                                                                                                                                                                                                                                                                                                                                                                                                                                                                                                                                                                                                                                                                                                                                                                                                                                                                                                                                                                                                                                                                                                                                                                                                                                                                                                                                                                                                                                                                                                                                                                                                                                                                                                                                                                                                                                                                                                                                                                                                                                                                                                                                                                                                                                                                                                                                                                                                                                                                                                                                                                                                                                                                                                                                                                                                                                                                                                                                                                                                                                                                                                                                                                                                                                                                                                                                                                                                                                                                                                                                                                                                                                                                                                                                                                                                                                                                                                                                                                                                                                                                                                                                                                                                                                                                                                                                                                                                                                                                                                                                                                                                                                            The RS-28 Sarmat missile, dubbed Satan 2, will replace the SS-18 Flies at 4.3 miles (7km) per sec and with a range of 6,213 miles (10,000km) The weapons are perceived as part of an increasingly aggressive Russia It could deliver a warhead of 40 megatons – 2,000 times as powerful as the atom bombs dropped on Hiroshima and Nagasaki in 1945 By LIBBY PLUMMER and GARETH DAVIE S Russia has unveiled chilling pictures of its largest ever nuclear missile, capable of destroying an area the size of France. The RS-28 Sarmat missile, dubbed Satan 2 by Nato, has a top speed of 4.3 miles (7km) per second and has been designed to outfox anti-missile shield systems. The new Sarmat missile could deliver warheads of 40 megatons – 2,000 times as powerful as the atom bombs dropped on Hiroshima and Nagasaki in 1945. Scroll down for video Russian President Vladimir Putin is reportedly planning to replace the country’s older SS-18 Satan weapons with the new missiles amid a string of recent disagreements with the West. The Kremlin has stepped up the rhetoric against the West and carried a series of manoeuvres that has infuriated politicians in the US and UK. The pictures were revealed online by chief designers from the Makeyev Rocket Design Bureau. A message posted alongside the picture said: ‘In accordance with the Decree of the Russian Government ‘On the State Defense Order for 2010 and the planning period 2012-2013’, the Makeyev Rocket Design Bureau was instructed to start design and development work on the Sarmat. ‘ The RS-28 Sarmat missile is said to contain 16 nuclear warheads and is capable of destroying an area the size of France or Texas, according to Russian news network Zvezda, which is owned by Russia’s ministry of defence. The weapon is also able to evade radar. It is expected to have a range of 6,213 miles (10,000 km), which would allow Moscow to attack London and \\nFOR ENTIRE ARTICLE CLICK LINK   \n",
              "5                                                                                                                                                                                                                                                                                                                                                                                                                                                                                                                                                                                                                                                                                                                                                                                                                                                                                                                                                                                                                                                                                                                                                                                                                                                                                                                                                                                                                                                                                                                                                                                                                                                                                                                                                                                                                                                                                                                                                                                                                                                                                                                                                                                                                                                                                                                                                                                                                                                                                                                                                                                                                                                                                                                                                                                                                                                                                                                                                                                                                                                                                                                                                                                                                                                                                                                                                                                                                                                                                                                                                                                                                                                                                                                                                                                                                                                                                                                                                                                                                                                                                                                                                                                                                                                                                                                                                                                                                                                                                                                                                                                                                                                                                                                                                                                                                                                                                                                                                                                                                                                                                                                                                                                                                                                                                                                                                                                                                                                                                                                                                                                                                                                                                                                                                                                                                                                                                                                                                                                                                                                                                                                                                                                                                                                                                                                                                                                                                                                                                                                                                                                                                                                                                                                                                                                                               All we can say on this one is it s about time someone sued the Southern Poverty Law Center!On Tuesday, D. James Kennedy Ministries (DJKM) filed a lawsuit against the Southern Poverty Law Center (SPLC), the charity navigation organization GuideStar, and Amazon, for defamation, religious discrimination, and trafficking in falsehood. The SPLC listed DJKM as a  hate group,  while GuideStar also categorized it in those terms, and Amazon kept the ministry off of its charity donation program, Amazon Smile. We embarked today on a journey to right a terrible wrong,  Dr. Frank Wright, president and CEO at DJKM, said in a statement Tuesday.  Those who knowingly label Christian ministries as  hate  groups, solely for subscribing to the historic Christian faith, are either woefully uninformed or willfully deceitful. In the case of the Southern Poverty Law Center, our lawsuit alleges the latter. The SPLC has labeled DJKM an  anti-LGBT hate group  for its opposition to same-sex marriage and transgenderism.  These false and illegal characterizations have a chilling effect on the free exercise of religion and on religious free speech for all people of faith,  Wright declared. After having given the SPLC an opportunity to retract, we have undertaken this legal action, seeking a trial by a jury of our peers, to preserve our own rights under the law and to defend the religious free speech rights of all Americans,  the DJKM president concluded.The lawsuit laid out charges against the SPLC, GuideStar, and Amazon.Read more: PJM   \n",
              "6                                                                                                                                                                                                                                                                                                                                                                                                                                                                                                                                                                                                                                                                                                                                                                                                                                                                                                                                                                                                                                                                                                                                                                                                                                                                                                                                                                                                                                                                                                                                                                                                                                                                                                                                                                                                                                                                                                                                                                                                                                                                                                                                                                                                                                                                                                                                                                                                                                                                                                                                                                                                                                                                                                                                                                                                                                                                                                                                                                                                                                                                                                                                                                                                                                                                                                                                                                                                                                                                                                                                                                                                                                                                                                                                                                                                                                                                                                                                                                                                                                                                                                                                                                                                                                                                                                                                                                                                                                                                                                                                                                                                                                                                                                                                                                                                                                                                                                                                                                                                                                                                                                                                                                                                                                                                                                                                                                                                                                                                                                                                                                                                                                                                                                                                                                                                                                                                                                                                                                                                                                                                                                                                                                                                                                                                                                                                                                                                                                                                                                                                                                                                                                                                                                                                                                                                                                                                                                                                                                                                                                                                                                                                                                                                                                                                                                                                                                                                                                                                                                                                                                                                                                                                                                                                                                                                                                                                                                                                                                                                                                                                                                                                                                                                                                                                                                                        DR. BEN CARSON TELLS THE STORY OF WHAT HAPPENED WHEN HE SPOKE OUT AGAINST OBAMA:    \n",
              "7                                                                                                                                                                                                                                                                                                                                                                                                                                                                                                                                                                                                                                                                                                                                                                                                                                                                                                                                                                                                                                                                                                                                                                                                                                                                                                                                                                                                                                                                                                                                                                                                                                                                                                                                                                                                                                                                                                                                                                                                                                                                                                                                                                                                                                                                                                                                                                                                                                                                                                                                                                                                                                                                                                                                                                                                                                                                                                                                                                                                                                                                                                                                                                                                                                                                                                                                                                                                                                                                                                                                                                                                                                                                                                                                                                                                                                                                                                                                                                                                                                                                                                                                                                                                                                                                                                                                                                                                                                                                                                                                                                                                                                                                                                                                                                                                                                                                                                                                                                                                                                                                                                                                                                                                                                                                                                                                                                                                                                                                                                                                                                                                                                                                                                                                                                                                                                                                                                                                                                                                                                                                                                                                                                                                                                                                                                                                                                                                                                                                                                                                                                                                                                                                                                                                                                                                                                                                                                                                                                                                                                                                                                                                                                                                                                                                                                                                                                                                                                                                                                                                                                                                                                                                                                                                                                                                                                                                                                                                                                                                                                                                                                                                                                                                                                                                                                                                                                                                            \n",
              "8                                                                                                                                                                                                                                                                                                                                                                                                                                                                                                                                                                                                                                                                                                                                                                                                                                                                                                                                                                                                                                                                                                                                                                                                                                                                                                                                                                                                                                                                                                                                                                                                                                                                                                                                                                                                                                                                                                                                                                                                                                                                                                                                                                                                                                                                                                                                                                                                                                                                                                                                                                                                                                                                                                                                                                                                                                                                                                                                                                                                                                                                                                                                                                                                                                                                                                                                                                                                                                                                                                                                                                                                                                                                                                                                                                                                                                                                                                                                                                                                                                                                                                                                                                                                                                                                                                                                                                                                                                                                                                                                                                                                                                                                                                                                                                                                                                                                                                                                                                                                                                                                                                                                                                                                                                                                                                                                                                                                                                                                                                                                                                                                                                                                                                                                                                                                                                                                                                                                                                                                                                                                                                                                                                                                                                                                                                                                                                                                                                                                                                                                                                                                                                                                                                                                                                                                                                                                                                          The owner of the Ringling Bar, located south of White Sulphur Springs, is standing behind his Facebook post that criticizes NFL players who take a knee during the national anthem to protest police brutality. The post was made on the Ringling Bar s Facebook page Tuesday night and has since received hundreds of comments and shares. The post reads:  The Ringling Bar will no longer show any NFL games. This will allow us to air the PBR, Rodeo and NASCAR events whose competitors are true Americans! Sorry for any inconvenience. Ringling Bar Co-owner Kurt Bekemans, who grew up in the Paradise Valley, published the post and said he doesn t care if the post turns some customers away. Seriously, I would not care if non-Americans didn t patronize the place,  said Bekemans.  I d like to speak for rural America: I bet you wouldn t see any farmers or ranchers in our whole country take a knee such as these guys do, I bet you couldn t find one. They appreciate what our great nation has given them and I think that s the least you could do to give thanks to our country is stand for the flag and the anthem. As of Wednesday morning, a majority of the comments were in support of the bar. We all love ya for this, I ll be by with as many people I can round up!!  said one commenter.Another person was critical, writing:  Ha Ha of course NASCAR is not protesting the treatment of minority s because they don t care about them!!! Read more: krtv   \n",
              "9                                                                                                                                                                                                                                                                                                                                                                                                                                                                                                                                                                                                                                                                                                                                                                                                                                                                                                                                                                                                                                                                                                                                                                                                                                                                                                                                                                                                                                                                                                                                                                                                                                                                                                                                                                                                                                                                                                                                                                                                                                                                                                                                                                                                                                                                                                                                                                                                                                                                                                                                                                                                                                                                                                                                                                                                                                                                                                                                                                                                                                                                                                                                                                                                                                                                                                                                                                                                                                                                                                                                                                                                                                                                                                                                                                                                                                                                                                                                                                                                                                                                                                                                                                                                                                                                                                                                                                                                                                                                                                                                                                                                                                                                                                                                                                                                                                                                                                                                                                                                                                                                                                                                                                                                                                                              FILE – In this Sept. 15, 2005 file photo, the marker that welcomes commuters to Cushing, Okla. is seen. (AP Photo/The Oklahoman, Matt Strasen, File)\\nUnderscoring once again the dangers of America’s unreliable fossil fuel infrastructure, a significant U.S. oil pipeline has been shut down after a leak was reported Monday morning.\\nEnterprise Products Partners said Monday it had shut its Seaway Crude Pipeline, a 400,000-barrel per day conduit that transports crude oil from Cushing, Oklahoma to Gulf coast refineries. The leak occurred Sunday night in an industrial area of Cushing. The company did not provide an estimate of the volume spilled, but said there was no danger to the public.\\n“Seaway personnel continue to make progress in cleaning up the spill, substantially all of which has been contained in a retention pond at Enbridge’s facility,” the company said in a news release (pdf), explaining that the pipeline is a “50/50 joint venture” between Enterprise and Enbridge Inc. “Vacuum trucks are being used to recover the crude oil and return it to storage tanks on-site.”\\n“The impacted segment of the legacy pipeline has a capacity of 50,000 barrels,” the release added, “however the actual amount of crude oil released will be significantly less and won’t be determined until recovery efforts are complete.”\\nThe incident comes after another pipeline rupture in Pennsylvania early on Friday, where 55,000 gallons of gasoline poured into the Susquehanna River, and about one month after a major gasoline pipeline run by Colonial Pipeline Co. had to halt pumping for a couple of weeks due to a spill in Alabama .\\nMeanwhile, UPI reports that “[t]he release from the Seaway pipeline is the second associated with the Cushing storage hub in less than a month. Plains All American Pipeline reported problems with infrastructure from Colorado City [Texas] to Cushing earlier this month.”\\nEnvironmentalists, Indigenous people, and energy companies are in the midst of a heated debate over pipeline safety . Water protectors and their allies along the proposed route of the Dakota Access Pipeline (DAPL) have been saying for months that the project threatens their right to safe drinking water.\\n“Oil pipelines break, spill, and leak—it’s not a question of if, it’s a question of where and when,” 13-year-old Anna Lee Rain YellowHammer, a member of the Standing Rock Sioux Tribe, wrote in a recent appeal.\\n“With such a high chance that this pipeline will leak,” she wrote of the Enbridge-backed DAPL , “I can only guess that the oil industry keeps pushing for it because it doesn’t care about our health and safety. The industry seems to think our lives are more expendable than others’.”\\nIndeed, referring to the Cushing leak, one observer tweeted on Monday: “That’s why we’re screaming #NoDAPL ! They always break!”\\nSeaway Crude pipeline system shut after Cushing, OK spill. That's why we're screaming #NoDAPL ! They always break! https://t.co/oXiLXcBRly\\n— Deanna Rilling (@DeannaRilling) October 24, 2016   \n",
              "10                                                                                                                                                                                                                                                                                                                                                                                                                                                                                                                                                                                                                                                                                                                                                                                                                                                                                                                                                                                                                                                                                                                                                                                                                                                                                                                                                                                                                                                                                                                                                                                                                                                                                                                                                                                                                                                                                                                                                                                                                                                                                                                                                                                                                                                                                                                                                                                                                                                                                                                                                                                                                                                                                                                                                                                                                                                                                                                                                                                                                                                                                                                                                                                                                                                                                                                                                                                                                                                                                                                                 The most punchable Alt-Right Nazi on the internet just got a thorough beatdown from Sen. Ben Sasse (R-Neb.) on Twitter during an epic tweetstorm. Richard Spencer, the Alt-Right leader who has become a human punching bag, just got the racism smacked out of him by the Republican Senator on Thursday after the white nationalist tweeted that only goober conservatives  blame Russia for  racial divisions  in the United States. Spencer was responding to a tweet Sasse sent out on Wednesday.Sen. Ben Sasse had shared an article regarding Sen. James Lankford (R-Okla.), who explained that Russian internet trolls helped fuel divisions in a controversy which Donald Trump ignited over NFL athletes who choose to kneel rather than stand during the national anthem in protest of racial inequality and police brutality.No one loves American-vs-American fighting more than Putin. His intel agencies stoke both sides of every divide.https://t.co/H6BwjHzokH  Ben Sasse (@BenSasse) September 28, 2017Spencer responded by writing,  In the minds of goober conservatives, the Russians are to blame for racial divisions. In the minds of goober conservatives, the Russians are to blame for racial divisions. https://t.co/CzpGfL6u4M  Richard  ?Spencer (@RichardBSpencer) September 28, 2017Sasse tore into Spencer, calling him a  clown  and one of the  brown-shirt-pajama-boy Nazis. 1/Oh let goobers & nongoobers agree on this: Racists like you are to blame. But Putin's agencies also love using you as their divisive tool https://t.co/DaD4XaNvI5  Ben Sasse (@BenSasse) September 28, 20172/Don t get me wrong: we ll always have brown-shirt-pajama-boy Nazis like you & your lonely pals stoking division. But here s America 101: https://t.co/SboVZmOuu2  Ben Sasse (@BenSasse) September 28, 20173/You don t get America. You said:  You do not have some human right, some abstract thing given to you by God or something like that.  https://t.co/ScXDGFcbGp  Ben Sasse (@BenSasse) September 28, 20174/Actually, that's exactly what America declares we do have: People are the image-bearers of God, created with dignity& inalienable rights. https://t.co/d4orBrHJMw  Ben Sasse (@BenSasse) September 28, 20175/Sadly, you don't understand human dignity. A person's skin, ancestry, and bank balance have nothing to do with their intrinsic value. https://t.co/5JsyVAKQRL  Ben Sasse (@BenSasse) September 28, 20176/This declaration of universal dignity is what America is about. Madison called our Constitution \"the greatest reflection on human nature\" https://t.co/NQluVs1KvA  Ben Sasse (@BenSasse) September 28, 20177/You talk about culture but don't know squat about western heritage which sees people not as tribes but as individuals of limitless worth https://t.co/VKNvDUXLtT  Ben Sasse (@BenSasse) September 28, 20178/The celebration of universal dignity IS our culture, & it rejects your \"white culture\" crybaby politics. It rejects all identity politics https://t.co/Adlj9AvNPR  Ben Sasse (@BenSasse) September 28, 20179/Sometime after moving back into your parents' basement, you knock-off Nazis fell in love with reheated 20th century will-to-power garbage https://t.co/XDTeATVGSe  Ben Sasse (@BenSasse) September 28, 201710/Your \"ideas\" aren't just hateful, un-American poison they're also just so dang boring. The future doesn't belong to your stupid memes. https://t.co/bNHSlf1uOx  Ben Sasse (@BenSasse) September 28, 201711/11Get a real job, Clown. Find an actual neighbor to serve. You'll be happier.Have a nice day. https://t.co/ToREd7VwDM  Ben Sasse (@BenSasse) September 28, 2017Jake Tapper weighed in to say,  Wherein a piece of garbage is thrown into a receptacle with grace and artistry. Wherein a piece of garbage is thrown into a receptacle with grace and artistry https://t.co/L09bBy8gHh  Jake Tapper (@jaketapper) September 28, 2017This is how Donald Trump should have responded to the violent rally in Charlottesville, Virginia, which, by the way, was organized by Richard Spencer.Spencer previously said that he felt  proud  after Trump blamed  many sides  for the violence at the hate-rally which resulted in the murder of Heather Heyer, and left at least 19 others injured. Spencer is one of Trump s  very fine people  who just got smacked down on Twitter by a Republican.You don t have to like his politics to admire that Sasse was among the Republicans who joined civil rights leaders and Democrats who reacted angrily when Trump said that he condemned  this egregious display of hatred, bigotry, and violence on many sides   on many sides. Of course, if Sasse would call out Roy Moore over his bigoted remarks, that would be nice to see, too.Photo: Chip Somodevilla via Getty images.   \n",
              "11                                                                                                                                                                                                                                                                                                                                                                                                                                                                                                                                                                                                                                                                                                                                                                                                                                                                                                                                                                                                                                                                                                                                                                                                                                                                                                                                                                                                                                                                                                                                                                                                                                                                                                                                                                                                                                                                                                                                                                                                                                                                                                                                                                                                                                                                                                                                                                                                                                                                                                                                                                                                                                                                                                                                                                                                                                                                                                                                                                                                                                                                                                                                                                                                                                                                                                                                                                                                                                                                                                                                                                                                                                                                                                                                                                                                                                                                                                                                                                                                                                                                                                                                                                                                                                                                                                                                                                                                                                                                                                                                                                                                                                                                                                                                                                                                                                                                                                                                                                                                                                                                                                                                                                                                                                                                                                                                                                                                                                                                                                                                                                                                                                                                                                                                                                                                                                                                                                                                                                                                BRUSSELS (Reuters) - British Prime Minister Theresa May s offer of  settled status  for EU residents is flawed and will leave them with fewer rights after Brexit, the European Parliament s Brexit coordinator said on Tuesday. A family of five could face a bill of 360 pounds to acquire the new status, Guy Verhofstadt told May s Brexit Secretary David Davis in a letter seen by Reuters    a very significant amount for a family on low income . Listing three other concerns for the EU legislature, which must approve any treaty on the March 2019 exit, Verhofstadt told Davis:  Under your proposals, EU citizens will definitely notice a deterioration of their status as a result of Brexit. And the Parliament s aim all along has been that EU citizens, and UK citizens in the EU-27, should notice no difference.  Verhofstadt, a former Belgian prime minister, wrote in response to Davis, who had written to him after Parliament complained last week that there remained  major issues  to be settled on the rights of the 3 million EU citizens in Britain. On Tuesday, he told reporters that Parliament was determined that expatriates should not become  victims of Brexit . May had unveiled more details last week of a system aimed at giving people already in Britain a quick and cheap way of asserting their rights to stay there indefinitely. The issue, along with how much Britain owes and the new EU-UK border across Ireland, is one on which the EU wants an outline agreement before opening talks on the future of trade. Verhofstadt said lawmakers were not dismissing British efforts to streamline applications but saw flaws in the nature of  settled status  itself. As well as the cost, which is similar to that of acquiring a British passport, he cited three others: - Europeans should simply  declare  a whole household resident, without needing an  application  process; the burden of proof should be on the British authorities to deny them rights. - more stringent conditions on criminal records could mean some EU residents, including some now with permanent resident status, being deported for failing to gain  settled status . - EU residents would lose some rights to bring relatives to Britain as the new status would give them the same rights as British people, who now have fewer rights than EU citizens.      \n",
              "12                                                                                                                                                                                                                                                                                                                                                                                                                                                                                                                                                                                                                                                                                                                                                                                                                                                                                                                                                                                                                                                                                                                                                                                                                                                                                                                                                                                                                                                                                                                                                                                                                                                                                                                                                                                                                                                                                                                                                                                                                                                                                                                                                                                                                                                                                                                                                                                                                                                                                                                                                                                                                                                                                                                                                                                                                                                                                                                                                                                                                                                                                                                                                                                                                                                                                                                                                                                                                                                                                                                                                                                                                                                                                                                                                                                                                                                                                                                                                                                                                                                                                                                                                                                                                                                                                                                                                                                                                                                                                                                                                                                                                                                                                                                                                                                                                                                                                                                                                                                                                                                                                                                                                                                                                                                                                                                                                                                                                                                                                                                                                                                                                                                           WASHINGTON (Reuters) - Charles Schumer, the top Democrat in the U.S. Senate, called on President Donald Trump on Sunday to name a single official to oversee and coordinate relief efforts in hurricane-ravaged Puerto Rico. Schumer, along with Representatives Nydia Velàzquez and Jose Serrano, said a “CEO of response and recovery” is needed to manage the complex and ongoing federal response in the territory, where millions of Americans remain without power and supplies. In a statement, Schumer said the current federal response to Hurricane Maria’s impact on the island had been “disorganized, slow-footed and mismanaged.” “This person will have the ability to bring all the federal agencies together, cut red tape on the public and private side, help turn the lights back on, get clean water flowing and help bring about recovery for millions of Americans who have gone too long in some of the worst conditions,” he said. The White House did not immediately respond to a request for comment. The Democrats contended that naming a lone individual to manage the government’s relief efforts was critical, particularly given that the Federal Emergency Management Agency is already stretched thin from dealing with other crises, such as the aftermath of Hurricane Harvey in Texas and the wildfires in California. The severity of the Puerto Rico crisis, where a million people do not have clean water and millions are without power nearly a month after Hurricane Maria made landfall, demand a single person to focus exclusively on relief and recovery, the Democrats said. Forty-nine people have died in Puerto Rico officially, with dozens more missing. The hurricane did extensive damage to the island’s power grid, destroying homes, roads and other vital infrastructure. Now, the bankrupt territory is struggling to provide basic services like running water, and pay its bills. “It’s tragically clear this Administration was caught flat footed when Maria hit Puerto Rico,” said Velàzquez. “Appointing a CEO of Response and Recovery will, at last, put one person with authority in charge to manage the response and ensure we are finally getting the people of Puerto Rico the aid they need.” On Thursday, Trump said the federal response has been a “10” on a scale of one to 10 at a meeting with Puerto Rico Governor Ricardo Rossello.  The governor has asked the White House and Congress for at least $4.6 billion in block grants and other types of funding. Senator Marco Rubio called on Congress to modify an $18.7 billion aid package for areas damaged by a recent swath of hurricanes to ensure that Puerto Rico can quickly access the funds.    \n",
              "13                                                                                                                                                                                                                                                                                                                                                                                                                                                                                                                                                                                                                                                                                                                                                                                                                                                                                                                                                                                                                                                                                                                                                                                                                                                                                                                                                                                                                                                                                                                                                                                                                                                                                                                                                                                                                                                                                                                                                                                                                                                                                                                                                                                                                                                                                                                                                                                                                                                                                                                                                                                                                                                                                                                                                                                                                                                                                                                                                                                                                                                                                                                                                                                                                                                                                                                                                                                                                                                                                                                                                                                                                                                                                                                                                                                                                                                                                                                                                                                                                                                                                                                                                                                                                                                                                                                                                                                                                                                                                                                                                                                                                                                                                                                                                                                                                                                                                                                                                                                                                                                                                                                                                                                                                                                                                                                                                                                                                                                                                                                                                                                                                                                                                                                                                                                                                                                                                                                                                                                                                                                                                                                                                                                                                                                                                                                                                                                                                                                                                                                                                                                                                                                                                                                                                                                                                                                                                                                                                                                                                                                                                                                                                                                                                                                                                                                                                                                                                                                                                                                                                                                                                                                                                                                                                                                                                                                                                                                                                                                                                                                                                                                                                                                       After watching this telling video, you ll wonder if instead of working so hard to get back into the White House, Hillary s time would be better spent looking into an assisted living situation for her and Bill    \n",
              "14                                                                                                                                                                                                                                                                                                                                                                                                                                                                                                                                                                                                                                                                                                                                                                                                                                                                                                                                                                                                                                                                                                                                                                                                                                                                                                                                                                                                                                                                                                                                                                                                                                                                                                                                                                                                                                                                                                                                                                                                                                                                                                                                                                                                                                                                                                                                                                                                                                                                                                                                                                                                                                                                                                                                                                                                                                                                                                                                                                                                                                                                                                                                                                                                                                                                                                                                                                                                                                                                                                                                                                                                                                                                                                                                                                                                                                                                                                                                                                                                                                                                                                                                                                                                                                                                                                                                                                                                                                                                                                                                                                                                                                                                                                                                                                                                                                                                                                                                                                                                                                                                                                                                                                                                                       As more and more sports fans turn off ESPN to protest the network’s   social and political agenda, parent company Disney’s decision to extend current CEO Bob Iger’s contract through 2019 means the “world’s leader in sports entertainment” will continue on its merry way of alienating a large segment of Americans. [Breitbart reported in November that ESPN lost 3. 2 million subscribers in just over a year. Moreover, for the last few years the sports network has lost 300, 000 subscribers a month. In October alone, the beleaguered network lost 621, 000 subscribers.   The decision to keep Iger instead of moving in another direction, such as promoting COO Thomas Staggs to the spot, has a number of substantial business implications for ESPN. Awful Announcing reports: From the outside, at least, it seems like Iger is quite satisfied with ESPN’s leadership and with the network’s path on most fronts. Specifically, he’s regularly spoken about how important it is for ESPN to be in “skinny bundles” (including streaming options from Sling, DirecTV and more) and about ESPN’s forthcoming    offering. Those views wouldn’t necessarily be shared by a different CEO Staggs, for example, spoke much more about the importance of the traditional   bundle, so a Disney CEO with his views might focus more on that side, or conversely, another Disney CEO might want ESPN to quickly go into    in a larger way (standalone access to all ESPN content, including TV channels) rather than starting with the   light approach Iger seems to be promoting. Putting those circumstances aside, the crux of ESPN continuing on in its political and social agenda derives from the fact that Iger is a strident lifelong Democrat. One so committed, in fact, that the Disney stalwart   a Hillary Clinton fundraiser last summer along with   supporters such as entertainment Mogul Haim Saban, Chernin Group chairman and CEO Peter Chernin, and entertainment and sports executive Casey Wasserman.  To get an idea of Iger’s taste on social issues, one of his proposed “entertainment” ideas is a filmic version of Girls, a popular television show starring Lena Dunham. Somewhat surprisingly, and to the chagrin of many of his supporters and shareholders, Iger is serving on President Donald Trump’s Strategic and Policy Forum council of CEOs. Iger agrees with Trump on shutting down certain tax loopholes and strongly supports lowering corporate tax rates (no surprise there).  Earlier this month, Iger reportedly defended his participation in Trump’s mastermind group, asserting, “I think there is an opportunity for me to express views that I think   …     are of value to the company and its shareholders. ” Insisting that he won’t be   Iger informs that he will be “adversarial to the view of the administration,” which includes “immigration. ” Yet, the CEO argues that claims asserting ESPN is politically slanted are “just a complete exaggeration. ” With that said, it looks like ESPN’s cable subscription downward spiral will persist as long as Iger remains as Disney’s top executive.    \n",
              "\n",
              "    label  \n",
              "0       1  \n",
              "1       1  \n",
              "2       1  \n",
              "3       0  \n",
              "4       1  \n",
              "5       1  \n",
              "6       1  \n",
              "7       1  \n",
              "8       1  \n",
              "9       1  \n",
              "10      1  \n",
              "11      0  \n",
              "12      0  \n",
              "13      1  \n",
              "14      0  "
            ],
            "text/html": [
              "\n",
              "  <div id=\"df-e137bae8-6e7c-4e2f-a409-3e05d809e9cd\" class=\"colab-df-container\">\n",
              "    <div>\n",
              "<style scoped>\n",
              "    .dataframe tbody tr th:only-of-type {\n",
              "        vertical-align: middle;\n",
              "    }\n",
              "\n",
              "    .dataframe tbody tr th {\n",
              "        vertical-align: top;\n",
              "    }\n",
              "\n",
              "    .dataframe thead th {\n",
              "        text-align: right;\n",
              "    }\n",
              "</style>\n",
              "<table border=\"1\" class=\"dataframe\">\n",
              "  <thead>\n",
              "    <tr style=\"text-align: right;\">\n",
              "      <th></th>\n",
              "      <th>Unnamed: 0</th>\n",
              "      <th>title</th>\n",
              "      <th>text</th>\n",
              "      <th>label</th>\n",
              "    </tr>\n",
              "  </thead>\n",
              "  <tbody>\n",
              "    <tr>\n",
              "      <th>0</th>\n",
              "      <td>0</td>\n",
              "      <td>LAW ENFORCEMENT ON HIGH ALERT Following Threats Against Cops And Whites On 9-11By #BlackLivesMatter And #FYF911 Terrorists [VIDEO]</td>\n",
              "      <td>No comment is expected from Barack Obama Members of the #FYF911 or #FukYoFlag and #BlackLivesMatter movements called for the lynching and hanging of white people and cops. They encouraged others on a radio show Tuesday night to  turn the tide  and kill white people and cops to send a message about the killing of black people in America.One of the F***YoFlag organizers is called  Sunshine.  She has a radio blog show hosted from Texas called,  Sunshine s F***ing Opinion Radio Show. A snapshot of her #FYF911 @LOLatWhiteFear Twitter page at 9:53 p.m. shows that she was urging supporters to  Call now!! #fyf911 tonight we continue to dismantle the illusion of white Below is a SNAPSHOT Twitter Radio Call Invite   #FYF911The radio show aired at 10:00 p.m. eastern standard time.During the show, callers clearly call for  lynching  and  killing  of white people.A 2:39 minute clip from the radio show can be heard here. It was provided to Breitbart Texas by someone who would like to be referred to as  Hannibal.  He has already received death threats as a result of interrupting #FYF911 conference calls.An unidentified black man said  when those mother f**kers are by themselves, that s when when we should start f***ing them up. Like they do us, when a bunch of them ni**ers takin  one of us out, that s how we should roll up.  He said,  Cause we already roll up in gangs anyway. There should be six or seven black mother f**ckers, see that white person, and then lynch their ass. Let s turn the tables. They conspired that if  cops started losing people,  then  there will be a state of emergency. He speculated that one of two things would happen,  a big-ass [R s?????] war,  or  ni**ers, they are going to start backin  up. We are already getting killed out here so what the f**k we got to lose? Sunshine could be heard saying,  Yep, that s true. That s so f**king true. He said,  We need to turn the tables on them. Our kids are getting shot out here. Somebody needs to become a sacrifice on their side.He said,  Everybody ain t down for that s**t, or whatever, but like I say, everybody has a different position of war.  He continued,  Because they don t give a f**k anyway.  He said again,  We might as well utilized them for that s**t and turn the tables on these n**ers. He said, that way  we can start lookin  like we ain t havin  that many casualties, and there can be more causalities on their side instead of ours. They are out their killing black people, black lives don t matter, that s what those mother f**kers   so we got to make it matter to them. Find a mother f**ker that is alone. Snap his ass, and then f***in hang him from a damn tree. Take a picture of it and then send it to the mother f**kers. We  just need one example,  and  then people will start watchin .  This will turn the tables on s**t, he said. He said this will start  a trickle-down effect.  He said that when one white person is hung and then they are just  flat-hanging,  that will start the  trickle-down effect.  He continued,  Black people are good at starting trends. He said that was how  to get the upper-hand. Another black man spoke up saying they needed to kill  cops that are killing us. The first black male said,  That will be the best method right there. Breitbart Texas previously reported how Sunshine was upset when  racist white people  infiltrated and disrupted one of her conference calls. She subsequently released the phone number of one of the infiltrators. The veteran immediately started receiving threatening calls.One of the #F***YoFlag movement supporters allegedly told a veteran who infiltrated their publicly posted conference call,  We are going to rape and gut your pregnant wife, and your f***ing piece of sh*t unborn creature will be hung from a tree. Breitbart Texas previously encountered Sunshine at a Sandra Bland protest at the Waller County Jail in Texas, where she said all white people should be killed. She told journalists and photographers,  You see this nappy-ass hair on my head?   That means I am one of those more militant Negroes.  She said she was at the protest because  these redneck mother-f**kers murdered Sandra Bland because she had nappy hair like me. #FYF911 black radicals say they will be holding the  imperial powers  that are actually responsible for the terrorist attacks on September 11th accountable on that day, as reported by Breitbart Texas. There are several websites and Twitter handles for the movement. Palmetto Star  describes himself as one of the head organizers. He said in a YouTube video that supporters will be burning their symbols of  the illusion of their superiority,  their  false white supremacy,  like the American flag, the British flag, police uniforms, and Ku Klux Klan hoods.Sierra McGrone or  Nocturnus Libertus  posted,  you too can help a young Afrikan clean their a** with the rag of oppression.  She posted two photos, one that appears to be herself, and a photo of a black man, wiping their naked butts with the American flag.For entire story: Breitbart News</td>\n",
              "      <td>1</td>\n",
              "    </tr>\n",
              "    <tr>\n",
              "      <th>1</th>\n",
              "      <td>1</td>\n",
              "      <td>NaN</td>\n",
              "      <td>Did they post their votes for Hillary already?</td>\n",
              "      <td>1</td>\n",
              "    </tr>\n",
              "    <tr>\n",
              "      <th>2</th>\n",
              "      <td>2</td>\n",
              "      <td>UNBELIEVABLE! OBAMA’S ATTORNEY GENERAL SAYS MOST CHARLOTTE RIOTERS WERE “PEACEFUL” PROTESTERS…In Her Home State Of North Carolina [VIDEO]</td>\n",
              "      <td>Now, most of the demonstrators gathered last night were exercising their constitutional and protected right to peaceful protest in order to raise issues and create change.    Loretta Lynch aka Eric Holder in a skirt</td>\n",
              "      <td>1</td>\n",
              "    </tr>\n",
              "    <tr>\n",
              "      <th>3</th>\n",
              "      <td>3</td>\n",
              "      <td>Bobby Jindal, raised Hindu, uses story of Christian conversion to woo evangelicals for potential 2016 bid</td>\n",
              "      <td>A dozen politically active pastors came here for a private dinner Friday night to hear a conversion story unique in the context of presidential politics: how Louisiana Gov. Bobby Jindal traveled from Hinduism to Protestant Christianity and, ultimately, became what he calls an “evangelical Catholic.”\\n\\nOver two hours, Jindal, 42, recalled talking with a girl in high school who wanted to “save my soul,” reading the Bible in a closet so his parents would not see him and feeling a stir while watching a movie during his senior year that depicted Jesus on the cross.\\n\\n“I was struck, and struck hard,” Jindal told the pastors. “This was the Son of God, and He had died for our sins.”\\n\\nJindal’s session with the Christian clergy, who lead congregations in the early presidential battleground states of Iowa and South Carolina, was part of a behind-the-scenes effort by the Louisiana governor to find a political base that could help propel him into the top tier of Republican candidates seeking to run for the White House in 2016.\\n\\nKnown in GOP circles mostly for his mastery of policy issues such as health care, Jindal, a Rhodes Scholar and graduate of the Ivy League’s Brown University, does not have an obvious pool of activist supporters to help drive excitement outside his home state. So he is harnessing his religious experience in a way that has begun to appeal to parts of the GOP’s influential core of religious conservatives, many of whom have yet to find a favorite among the Republicans eyeing the presidential race.\\n\\nOther potential 2016 GOP candidates are wooing the evangelical base, including Sens. Rand Paul (Ky.) and Ted Cruz (Tex.) and Indiana Gov. Mike Pence.\\n\\nBut over the weekend in Lynchburg — a mecca of sorts for evangelicals as the home of Liberty University, founded in the 1970s by the Rev. Jerry Falwell — Jindal appeared to make progress.\\n\\nIn addition to his dinner with the pastors, he delivered a well-received “call to action” address to 40,000 Christian conservatives gathered for Liberty’s commencement ceremony, talking again about his faith while assailing what he said was President Obama’s record of attacking religious liberty.\\n\\nThe pastors who came to meet Jindal said his intimate descriptions of his experiences stood out.\\n\\n“He has the convictions, and he has what it takes to communicate them,” said Brad Sherman of Solid Rock Christian Church in Coralville, Iowa. Sherman helped former Arkansas governor Mike Huckabee in his winning 2008 campaign for delegates in Iowa.\\n\\nAnother Huckabee admirer, the Rev. C. Mitchell Brooks of Second Baptist Church in Belton, S.C., said Jindal’s commitment to Christian values and his compelling story put him “on a par” with Huckabee, who was a Baptist preacher before entering politics.\\n\\nThe visiting pastors flew to Lynchburg over the weekend at the invitation of the American Renewal Project, a well-funded nonprofit group that encourages evangelical Christians to engage in the civic arena with voter guides, get-out-the-vote drives and programs to train pastors in grass-roots activism. The group’s founder, David Lane, has built a pastor network in politically important states such as Iowa, Missouri, Ohio and South Carolina and has led trips to Israel with Paul and others seeking to make inroads with evangelical activists.\\n\\nThe group that Lane invited to Lynchburg included Donald Wild­mon, a retired minister and founder of the American Family Association, a prominent evangelical activist group that has influence through its network of more than 140 Christian radio stations.\\n\\nMost of the pastors that Lane’s organization brought to Lynchburg had not met Jindal. But they said he captured their interest recently when he stepped forward to defend Phil Robertson, patriarch of the “Duck Dynasty” television-show family, amid a controversy over disparaging remarks he made about gays in an interview with GQ magazine.\\n\\nThroughout his Lynchburg visit, Jindal presented himself as a willing culture warrior.\\n\\nDuring his commencement address Saturday, he took up the cause of twin brothers whose HGTV reality series about renovating and reselling houses, “Flip It Forward,” was canceled last week after a Web site revealed that they had protested against same-sex marriage at the 2012 Democratic National Convention in Charlotte.\\n\\nThe siblings, Jason and David Benham, both Liberty graduates, attended the graduation and a private lunch with Jindal, who called the action against them “another demonstration of intolerance from the entertainment industry.”\\n\\n“If these guys had protested at the Republican Party convention, instead of canceling their show, HGTV would probably have given them a raise,” Jindal said as the Liberty crowd applauded.\\n\\nHe cited the Hobby Lobby craft store chain, which faced a legal challenge after refusing to provide employees with insurance coverage for contraceptives as required under the Affordable Care Act. Members of the family that owns Hobby Lobby, who have become heroes to many religious conservatives, have said that they are morally opposed to the use of certain types of birth control and that they considered the requirement a violation of their First Amendment right to religious freedom.\\n\\nThe family was “committed to honor the Lord by being generous employers, paying well above minimum wage and increasing salaries four years in a row even in the midst of the enduring recession,” Jindal told the Liberty graduates. “None of this matters to the Obama administration.”\\n\\nBut for the pastors who came to see Jindal in action, the governor’s own story was the highlight of the weekend. And in many ways, he was unlike any other aspiring president these activists had met.\\n\\nPiyush Jindal was born in 1971, four months after his parents arrived in Baton Rouge, La., from their native India. He changed his name to Bobby as a young boy, adopting the name of a character on a favorite television show, “The Brady Bunch.”\\n\\nHis decision to become a Christian, he told the pastors, did not come in one moment of lightning epiphany. Instead, he said, it happened in phases, growing from small seeds planted over time.\\n\\nJindal recalled that his closest friend from grade school gave him a Bible with his name emblazoned in gold on the cover as a Christmas present. It struck him initially as an unimpressive gift, Jindal told the pastors.\\n\\n“Who in the world would spend good money for a Bible when everyone knows you can get one free in any hotel?” he recalled thinking at the time. “And the gold lettering meant I couldn’t give it away or return it.”\\n\\nHis religious education reached a higher plane during his junior year in high school, he told his dinner audience. He wanted to ask a pretty girl on a date during a hallway conversation, and she started talking about her faith in God and her opposition to abortion. The girl invited him to visit her church.\\n\\nJindal said he was skeptical and set out to “investigate all these fanciful claims” made by the girl and other friends. He started reading the Bible in his closet at home. “I was unsure how my parents would react,” he said.\\n\\nAfter the stirring moment when he saw Christ depicted on the cross during the religious movie, the Bible and his very existence suddenly seemed clearer to him, Jindal told the pastors.\\n\\nJindal did not dwell on his subsequent conversion to Catholicism just a few years later in college, where he said he immersed himself in the traditions of the church.\\n\\nHe touched on it briefly during the commencement address, noting in passing that “I am best described as an evangelical Catholic.” Mostly, he sought to showcase the ways in which he shares values with other Christian conservatives.\\n\\n“I read the words of Jesus Christ, and I realized that they were true,” Jindal told the graduates Saturday, offering a less detailed accounting of his conversion than he had done the night before with the pastors. “I used to think that I had found God, but I believe it is more accurate to say that He found me.”</td>\n",
              "      <td>0</td>\n",
              "    </tr>\n",
              "    <tr>\n",
              "      <th>4</th>\n",
              "      <td>4</td>\n",
              "      <td>SATAN 2: Russia unvelis an image of its terrifying new ‘SUPERNUKE’ – Western world takes notice</td>\n",
              "      <td>The RS-28 Sarmat missile, dubbed Satan 2, will replace the SS-18 Flies at 4.3 miles (7km) per sec and with a range of 6,213 miles (10,000km) The weapons are perceived as part of an increasingly aggressive Russia It could deliver a warhead of 40 megatons – 2,000 times as powerful as the atom bombs dropped on Hiroshima and Nagasaki in 1945 By LIBBY PLUMMER and GARETH DAVIE S Russia has unveiled chilling pictures of its largest ever nuclear missile, capable of destroying an area the size of France. The RS-28 Sarmat missile, dubbed Satan 2 by Nato, has a top speed of 4.3 miles (7km) per second and has been designed to outfox anti-missile shield systems. The new Sarmat missile could deliver warheads of 40 megatons – 2,000 times as powerful as the atom bombs dropped on Hiroshima and Nagasaki in 1945. Scroll down for video Russian President Vladimir Putin is reportedly planning to replace the country’s older SS-18 Satan weapons with the new missiles amid a string of recent disagreements with the West. The Kremlin has stepped up the rhetoric against the West and carried a series of manoeuvres that has infuriated politicians in the US and UK. The pictures were revealed online by chief designers from the Makeyev Rocket Design Bureau. A message posted alongside the picture said: ‘In accordance with the Decree of the Russian Government ‘On the State Defense Order for 2010 and the planning period 2012-2013’, the Makeyev Rocket Design Bureau was instructed to start design and development work on the Sarmat. ‘ The RS-28 Sarmat missile is said to contain 16 nuclear warheads and is capable of destroying an area the size of France or Texas, according to Russian news network Zvezda, which is owned by Russia’s ministry of defence. The weapon is also able to evade radar. It is expected to have a range of 6,213 miles (10,000 km), which would allow Moscow to attack London and \\nFOR ENTIRE ARTICLE CLICK LINK</td>\n",
              "      <td>1</td>\n",
              "    </tr>\n",
              "    <tr>\n",
              "      <th>5</th>\n",
              "      <td>5</td>\n",
              "      <td>About Time! Christian Group Sues Amazon and SPLC for Designation as Hate Group</td>\n",
              "      <td>All we can say on this one is it s about time someone sued the Southern Poverty Law Center!On Tuesday, D. James Kennedy Ministries (DJKM) filed a lawsuit against the Southern Poverty Law Center (SPLC), the charity navigation organization GuideStar, and Amazon, for defamation, religious discrimination, and trafficking in falsehood. The SPLC listed DJKM as a  hate group,  while GuideStar also categorized it in those terms, and Amazon kept the ministry off of its charity donation program, Amazon Smile. We embarked today on a journey to right a terrible wrong,  Dr. Frank Wright, president and CEO at DJKM, said in a statement Tuesday.  Those who knowingly label Christian ministries as  hate  groups, solely for subscribing to the historic Christian faith, are either woefully uninformed or willfully deceitful. In the case of the Southern Poverty Law Center, our lawsuit alleges the latter. The SPLC has labeled DJKM an  anti-LGBT hate group  for its opposition to same-sex marriage and transgenderism.  These false and illegal characterizations have a chilling effect on the free exercise of religion and on religious free speech for all people of faith,  Wright declared. After having given the SPLC an opportunity to retract, we have undertaken this legal action, seeking a trial by a jury of our peers, to preserve our own rights under the law and to defend the religious free speech rights of all Americans,  the DJKM president concluded.The lawsuit laid out charges against the SPLC, GuideStar, and Amazon.Read more: PJM</td>\n",
              "      <td>1</td>\n",
              "    </tr>\n",
              "    <tr>\n",
              "      <th>6</th>\n",
              "      <td>6</td>\n",
              "      <td>DR BEN CARSON TARGETED BY THE IRS: “I never had an audit until I spoke at the National Prayer Breakfast.”</td>\n",
              "      <td>DR. BEN CARSON TELLS THE STORY OF WHAT HAPPENED WHEN HE SPOKE OUT AGAINST OBAMA:</td>\n",
              "      <td>1</td>\n",
              "    </tr>\n",
              "    <tr>\n",
              "      <th>7</th>\n",
              "      <td>7</td>\n",
              "      <td>HOUSE INTEL CHAIR On Trump-Russia Fake Story: “No evidence of anything” [Video]</td>\n",
              "      <td></td>\n",
              "      <td>1</td>\n",
              "    </tr>\n",
              "    <tr>\n",
              "      <th>8</th>\n",
              "      <td>8</td>\n",
              "      <td>Sports Bar Owner Bans NFL Games…Will Show Only ‘True American’ Sports: ‘I’d like to speak for rural America’ [Video]</td>\n",
              "      <td>The owner of the Ringling Bar, located south of White Sulphur Springs, is standing behind his Facebook post that criticizes NFL players who take a knee during the national anthem to protest police brutality. The post was made on the Ringling Bar s Facebook page Tuesday night and has since received hundreds of comments and shares. The post reads:  The Ringling Bar will no longer show any NFL games. This will allow us to air the PBR, Rodeo and NASCAR events whose competitors are true Americans! Sorry for any inconvenience. Ringling Bar Co-owner Kurt Bekemans, who grew up in the Paradise Valley, published the post and said he doesn t care if the post turns some customers away. Seriously, I would not care if non-Americans didn t patronize the place,  said Bekemans.  I d like to speak for rural America: I bet you wouldn t see any farmers or ranchers in our whole country take a knee such as these guys do, I bet you couldn t find one. They appreciate what our great nation has given them and I think that s the least you could do to give thanks to our country is stand for the flag and the anthem. As of Wednesday morning, a majority of the comments were in support of the bar. We all love ya for this, I ll be by with as many people I can round up!!  said one commenter.Another person was critical, writing:  Ha Ha of course NASCAR is not protesting the treatment of minority s because they don t care about them!!! Read more: krtv</td>\n",
              "      <td>1</td>\n",
              "    </tr>\n",
              "    <tr>\n",
              "      <th>9</th>\n",
              "      <td>9</td>\n",
              "      <td>Latest Pipeline Leak Underscores Dangers Of Dakota Access Pipeline</td>\n",
              "      <td>FILE – In this Sept. 15, 2005 file photo, the marker that welcomes commuters to Cushing, Okla. is seen. (AP Photo/The Oklahoman, Matt Strasen, File)\\nUnderscoring once again the dangers of America’s unreliable fossil fuel infrastructure, a significant U.S. oil pipeline has been shut down after a leak was reported Monday morning.\\nEnterprise Products Partners said Monday it had shut its Seaway Crude Pipeline, a 400,000-barrel per day conduit that transports crude oil from Cushing, Oklahoma to Gulf coast refineries. The leak occurred Sunday night in an industrial area of Cushing. The company did not provide an estimate of the volume spilled, but said there was no danger to the public.\\n“Seaway personnel continue to make progress in cleaning up the spill, substantially all of which has been contained in a retention pond at Enbridge’s facility,” the company said in a news release (pdf), explaining that the pipeline is a “50/50 joint venture” between Enterprise and Enbridge Inc. “Vacuum trucks are being used to recover the crude oil and return it to storage tanks on-site.”\\n“The impacted segment of the legacy pipeline has a capacity of 50,000 barrels,” the release added, “however the actual amount of crude oil released will be significantly less and won’t be determined until recovery efforts are complete.”\\nThe incident comes after another pipeline rupture in Pennsylvania early on Friday, where 55,000 gallons of gasoline poured into the Susquehanna River, and about one month after a major gasoline pipeline run by Colonial Pipeline Co. had to halt pumping for a couple of weeks due to a spill in Alabama .\\nMeanwhile, UPI reports that “[t]he release from the Seaway pipeline is the second associated with the Cushing storage hub in less than a month. Plains All American Pipeline reported problems with infrastructure from Colorado City [Texas] to Cushing earlier this month.”\\nEnvironmentalists, Indigenous people, and energy companies are in the midst of a heated debate over pipeline safety . Water protectors and their allies along the proposed route of the Dakota Access Pipeline (DAPL) have been saying for months that the project threatens their right to safe drinking water.\\n“Oil pipelines break, spill, and leak—it’s not a question of if, it’s a question of where and when,” 13-year-old Anna Lee Rain YellowHammer, a member of the Standing Rock Sioux Tribe, wrote in a recent appeal.\\n“With such a high chance that this pipeline will leak,” she wrote of the Enbridge-backed DAPL , “I can only guess that the oil industry keeps pushing for it because it doesn’t care about our health and safety. The industry seems to think our lives are more expendable than others’.”\\nIndeed, referring to the Cushing leak, one observer tweeted on Monday: “That’s why we’re screaming #NoDAPL ! They always break!”\\nSeaway Crude pipeline system shut after Cushing, OK spill. That's why we're screaming #NoDAPL ! They always break! https://t.co/oXiLXcBRly\\n— Deanna Rilling (@DeannaRilling) October 24, 2016</td>\n",
              "      <td>1</td>\n",
              "    </tr>\n",
              "    <tr>\n",
              "      <th>10</th>\n",
              "      <td>10</td>\n",
              "      <td>GOP Senator Just Smacked Down The Most Punchable Alt-Right Nazi On The Internet</td>\n",
              "      <td>The most punchable Alt-Right Nazi on the internet just got a thorough beatdown from Sen. Ben Sasse (R-Neb.) on Twitter during an epic tweetstorm. Richard Spencer, the Alt-Right leader who has become a human punching bag, just got the racism smacked out of him by the Republican Senator on Thursday after the white nationalist tweeted that only goober conservatives  blame Russia for  racial divisions  in the United States. Spencer was responding to a tweet Sasse sent out on Wednesday.Sen. Ben Sasse had shared an article regarding Sen. James Lankford (R-Okla.), who explained that Russian internet trolls helped fuel divisions in a controversy which Donald Trump ignited over NFL athletes who choose to kneel rather than stand during the national anthem in protest of racial inequality and police brutality.No one loves American-vs-American fighting more than Putin. His intel agencies stoke both sides of every divide.https://t.co/H6BwjHzokH  Ben Sasse (@BenSasse) September 28, 2017Spencer responded by writing,  In the minds of goober conservatives, the Russians are to blame for racial divisions. In the minds of goober conservatives, the Russians are to blame for racial divisions. https://t.co/CzpGfL6u4M  Richard  ?Spencer (@RichardBSpencer) September 28, 2017Sasse tore into Spencer, calling him a  clown  and one of the  brown-shirt-pajama-boy Nazis. 1/Oh let goobers &amp; nongoobers agree on this: Racists like you are to blame. But Putin's agencies also love using you as their divisive tool https://t.co/DaD4XaNvI5  Ben Sasse (@BenSasse) September 28, 20172/Don t get me wrong: we ll always have brown-shirt-pajama-boy Nazis like you &amp; your lonely pals stoking division. But here s America 101: https://t.co/SboVZmOuu2  Ben Sasse (@BenSasse) September 28, 20173/You don t get America. You said:  You do not have some human right, some abstract thing given to you by God or something like that.  https://t.co/ScXDGFcbGp  Ben Sasse (@BenSasse) September 28, 20174/Actually, that's exactly what America declares we do have: People are the image-bearers of God, created with dignity&amp; inalienable rights. https://t.co/d4orBrHJMw  Ben Sasse (@BenSasse) September 28, 20175/Sadly, you don't understand human dignity. A person's skin, ancestry, and bank balance have nothing to do with their intrinsic value. https://t.co/5JsyVAKQRL  Ben Sasse (@BenSasse) September 28, 20176/This declaration of universal dignity is what America is about. Madison called our Constitution \"the greatest reflection on human nature\" https://t.co/NQluVs1KvA  Ben Sasse (@BenSasse) September 28, 20177/You talk about culture but don't know squat about western heritage which sees people not as tribes but as individuals of limitless worth https://t.co/VKNvDUXLtT  Ben Sasse (@BenSasse) September 28, 20178/The celebration of universal dignity IS our culture, &amp; it rejects your \"white culture\" crybaby politics. It rejects all identity politics https://t.co/Adlj9AvNPR  Ben Sasse (@BenSasse) September 28, 20179/Sometime after moving back into your parents' basement, you knock-off Nazis fell in love with reheated 20th century will-to-power garbage https://t.co/XDTeATVGSe  Ben Sasse (@BenSasse) September 28, 201710/Your \"ideas\" aren't just hateful, un-American poison they're also just so dang boring. The future doesn't belong to your stupid memes. https://t.co/bNHSlf1uOx  Ben Sasse (@BenSasse) September 28, 201711/11Get a real job, Clown. Find an actual neighbor to serve. You'll be happier.Have a nice day. https://t.co/ToREd7VwDM  Ben Sasse (@BenSasse) September 28, 2017Jake Tapper weighed in to say,  Wherein a piece of garbage is thrown into a receptacle with grace and artistry. Wherein a piece of garbage is thrown into a receptacle with grace and artistry https://t.co/L09bBy8gHh  Jake Tapper (@jaketapper) September 28, 2017This is how Donald Trump should have responded to the violent rally in Charlottesville, Virginia, which, by the way, was organized by Richard Spencer.Spencer previously said that he felt  proud  after Trump blamed  many sides  for the violence at the hate-rally which resulted in the murder of Heather Heyer, and left at least 19 others injured. Spencer is one of Trump s  very fine people  who just got smacked down on Twitter by a Republican.You don t have to like his politics to admire that Sasse was among the Republicans who joined civil rights leaders and Democrats who reacted angrily when Trump said that he condemned  this egregious display of hatred, bigotry, and violence on many sides   on many sides. Of course, if Sasse would call out Roy Moore over his bigoted remarks, that would be nice to see, too.Photo: Chip Somodevilla via Getty images.</td>\n",
              "      <td>1</td>\n",
              "    </tr>\n",
              "    <tr>\n",
              "      <th>11</th>\n",
              "      <td>11</td>\n",
              "      <td>May Brexit offer would hurt, cost EU citizens - EU parliament</td>\n",
              "      <td>BRUSSELS (Reuters) - British Prime Minister Theresa May s offer of  settled status  for EU residents is flawed and will leave them with fewer rights after Brexit, the European Parliament s Brexit coordinator said on Tuesday. A family of five could face a bill of 360 pounds to acquire the new status, Guy Verhofstadt told May s Brexit Secretary David Davis in a letter seen by Reuters    a very significant amount for a family on low income . Listing three other concerns for the EU legislature, which must approve any treaty on the March 2019 exit, Verhofstadt told Davis:  Under your proposals, EU citizens will definitely notice a deterioration of their status as a result of Brexit. And the Parliament s aim all along has been that EU citizens, and UK citizens in the EU-27, should notice no difference.  Verhofstadt, a former Belgian prime minister, wrote in response to Davis, who had written to him after Parliament complained last week that there remained  major issues  to be settled on the rights of the 3 million EU citizens in Britain. On Tuesday, he told reporters that Parliament was determined that expatriates should not become  victims of Brexit . May had unveiled more details last week of a system aimed at giving people already in Britain a quick and cheap way of asserting their rights to stay there indefinitely. The issue, along with how much Britain owes and the new EU-UK border across Ireland, is one on which the EU wants an outline agreement before opening talks on the future of trade. Verhofstadt said lawmakers were not dismissing British efforts to streamline applications but saw flaws in the nature of  settled status  itself. As well as the cost, which is similar to that of acquiring a British passport, he cited three others: - Europeans should simply  declare  a whole household resident, without needing an  application  process; the burden of proof should be on the British authorities to deny them rights. - more stringent conditions on criminal records could mean some EU residents, including some now with permanent resident status, being deported for failing to gain  settled status . - EU residents would lose some rights to bring relatives to Britain as the new status would give them the same rights as British people, who now have fewer rights than EU citizens.</td>\n",
              "      <td>0</td>\n",
              "    </tr>\n",
              "    <tr>\n",
              "      <th>12</th>\n",
              "      <td>12</td>\n",
              "      <td>Schumer calls on Trump to appoint official to oversee Puerto Rico relief</td>\n",
              "      <td>WASHINGTON (Reuters) - Charles Schumer, the top Democrat in the U.S. Senate, called on President Donald Trump on Sunday to name a single official to oversee and coordinate relief efforts in hurricane-ravaged Puerto Rico. Schumer, along with Representatives Nydia Velàzquez and Jose Serrano, said a “CEO of response and recovery” is needed to manage the complex and ongoing federal response in the territory, where millions of Americans remain without power and supplies. In a statement, Schumer said the current federal response to Hurricane Maria’s impact on the island had been “disorganized, slow-footed and mismanaged.” “This person will have the ability to bring all the federal agencies together, cut red tape on the public and private side, help turn the lights back on, get clean water flowing and help bring about recovery for millions of Americans who have gone too long in some of the worst conditions,” he said. The White House did not immediately respond to a request for comment. The Democrats contended that naming a lone individual to manage the government’s relief efforts was critical, particularly given that the Federal Emergency Management Agency is already stretched thin from dealing with other crises, such as the aftermath of Hurricane Harvey in Texas and the wildfires in California. The severity of the Puerto Rico crisis, where a million people do not have clean water and millions are without power nearly a month after Hurricane Maria made landfall, demand a single person to focus exclusively on relief and recovery, the Democrats said. Forty-nine people have died in Puerto Rico officially, with dozens more missing. The hurricane did extensive damage to the island’s power grid, destroying homes, roads and other vital infrastructure. Now, the bankrupt territory is struggling to provide basic services like running water, and pay its bills. “It’s tragically clear this Administration was caught flat footed when Maria hit Puerto Rico,” said Velàzquez. “Appointing a CEO of Response and Recovery will, at last, put one person with authority in charge to manage the response and ensure we are finally getting the people of Puerto Rico the aid they need.” On Thursday, Trump said the federal response has been a “10” on a scale of one to 10 at a meeting with Puerto Rico Governor Ricardo Rossello.  The governor has asked the White House and Congress for at least $4.6 billion in block grants and other types of funding. Senator Marco Rubio called on Congress to modify an $18.7 billion aid package for areas damaged by a recent swath of hurricanes to ensure that Puerto Rico can quickly access the funds.</td>\n",
              "      <td>0</td>\n",
              "    </tr>\n",
              "    <tr>\n",
              "      <th>13</th>\n",
              "      <td>13</td>\n",
              "      <td>WATCH: HILARIOUS AD Calls Into Question Health Of Aging Clinton Crime Family Bosses</td>\n",
              "      <td>After watching this telling video, you ll wonder if instead of working so hard to get back into the White House, Hillary s time would be better spent looking into an assisted living situation for her and Bill</td>\n",
              "      <td>1</td>\n",
              "    </tr>\n",
              "    <tr>\n",
              "      <th>14</th>\n",
              "      <td>14</td>\n",
              "      <td>No Change Expected for ESPN Political Agenda Despite Huge Subscriber Decline - Breitbart</td>\n",
              "      <td>As more and more sports fans turn off ESPN to protest the network’s   social and political agenda, parent company Disney’s decision to extend current CEO Bob Iger’s contract through 2019 means the “world’s leader in sports entertainment” will continue on its merry way of alienating a large segment of Americans. [Breitbart reported in November that ESPN lost 3. 2 million subscribers in just over a year. Moreover, for the last few years the sports network has lost 300, 000 subscribers a month. In October alone, the beleaguered network lost 621, 000 subscribers.   The decision to keep Iger instead of moving in another direction, such as promoting COO Thomas Staggs to the spot, has a number of substantial business implications for ESPN. Awful Announcing reports: From the outside, at least, it seems like Iger is quite satisfied with ESPN’s leadership and with the network’s path on most fronts. Specifically, he’s regularly spoken about how important it is for ESPN to be in “skinny bundles” (including streaming options from Sling, DirecTV and more) and about ESPN’s forthcoming    offering. Those views wouldn’t necessarily be shared by a different CEO Staggs, for example, spoke much more about the importance of the traditional   bundle, so a Disney CEO with his views might focus more on that side, or conversely, another Disney CEO might want ESPN to quickly go into    in a larger way (standalone access to all ESPN content, including TV channels) rather than starting with the   light approach Iger seems to be promoting. Putting those circumstances aside, the crux of ESPN continuing on in its political and social agenda derives from the fact that Iger is a strident lifelong Democrat. One so committed, in fact, that the Disney stalwart   a Hillary Clinton fundraiser last summer along with   supporters such as entertainment Mogul Haim Saban, Chernin Group chairman and CEO Peter Chernin, and entertainment and sports executive Casey Wasserman.  To get an idea of Iger’s taste on social issues, one of his proposed “entertainment” ideas is a filmic version of Girls, a popular television show starring Lena Dunham. Somewhat surprisingly, and to the chagrin of many of his supporters and shareholders, Iger is serving on President Donald Trump’s Strategic and Policy Forum council of CEOs. Iger agrees with Trump on shutting down certain tax loopholes and strongly supports lowering corporate tax rates (no surprise there).  Earlier this month, Iger reportedly defended his participation in Trump’s mastermind group, asserting, “I think there is an opportunity for me to express views that I think   …     are of value to the company and its shareholders. ” Insisting that he won’t be   Iger informs that he will be “adversarial to the view of the administration,” which includes “immigration. ” Yet, the CEO argues that claims asserting ESPN is politically slanted are “just a complete exaggeration. ” With that said, it looks like ESPN’s cable subscription downward spiral will persist as long as Iger remains as Disney’s top executive.</td>\n",
              "      <td>0</td>\n",
              "    </tr>\n",
              "  </tbody>\n",
              "</table>\n",
              "</div>\n",
              "    <div class=\"colab-df-buttons\">\n",
              "\n",
              "  <div class=\"colab-df-container\">\n",
              "    <button class=\"colab-df-convert\" onclick=\"convertToInteractive('df-e137bae8-6e7c-4e2f-a409-3e05d809e9cd')\"\n",
              "            title=\"Convert this dataframe to an interactive table.\"\n",
              "            style=\"display:none;\">\n",
              "\n",
              "  <svg xmlns=\"http://www.w3.org/2000/svg\" height=\"24px\" viewBox=\"0 -960 960 960\">\n",
              "    <path d=\"M120-120v-720h720v720H120Zm60-500h600v-160H180v160Zm220 220h160v-160H400v160Zm0 220h160v-160H400v160ZM180-400h160v-160H180v160Zm440 0h160v-160H620v160ZM180-180h160v-160H180v160Zm440 0h160v-160H620v160Z\"/>\n",
              "  </svg>\n",
              "    </button>\n",
              "\n",
              "  <style>\n",
              "    .colab-df-container {\n",
              "      display:flex;\n",
              "      gap: 12px;\n",
              "    }\n",
              "\n",
              "    .colab-df-convert {\n",
              "      background-color: #E8F0FE;\n",
              "      border: none;\n",
              "      border-radius: 50%;\n",
              "      cursor: pointer;\n",
              "      display: none;\n",
              "      fill: #1967D2;\n",
              "      height: 32px;\n",
              "      padding: 0 0 0 0;\n",
              "      width: 32px;\n",
              "    }\n",
              "\n",
              "    .colab-df-convert:hover {\n",
              "      background-color: #E2EBFA;\n",
              "      box-shadow: 0px 1px 2px rgba(60, 64, 67, 0.3), 0px 1px 3px 1px rgba(60, 64, 67, 0.15);\n",
              "      fill: #174EA6;\n",
              "    }\n",
              "\n",
              "    .colab-df-buttons div {\n",
              "      margin-bottom: 4px;\n",
              "    }\n",
              "\n",
              "    [theme=dark] .colab-df-convert {\n",
              "      background-color: #3B4455;\n",
              "      fill: #D2E3FC;\n",
              "    }\n",
              "\n",
              "    [theme=dark] .colab-df-convert:hover {\n",
              "      background-color: #434B5C;\n",
              "      box-shadow: 0px 1px 3px 1px rgba(0, 0, 0, 0.15);\n",
              "      filter: drop-shadow(0px 1px 2px rgba(0, 0, 0, 0.3));\n",
              "      fill: #FFFFFF;\n",
              "    }\n",
              "  </style>\n",
              "\n",
              "    <script>\n",
              "      const buttonEl =\n",
              "        document.querySelector('#df-e137bae8-6e7c-4e2f-a409-3e05d809e9cd button.colab-df-convert');\n",
              "      buttonEl.style.display =\n",
              "        google.colab.kernel.accessAllowed ? 'block' : 'none';\n",
              "\n",
              "      async function convertToInteractive(key) {\n",
              "        const element = document.querySelector('#df-e137bae8-6e7c-4e2f-a409-3e05d809e9cd');\n",
              "        const dataTable =\n",
              "          await google.colab.kernel.invokeFunction('convertToInteractive',\n",
              "                                                    [key], {});\n",
              "        if (!dataTable) return;\n",
              "\n",
              "        const docLinkHtml = 'Like what you see? Visit the ' +\n",
              "          '<a target=\"_blank\" href=https://colab.research.google.com/notebooks/data_table.ipynb>data table notebook</a>'\n",
              "          + ' to learn more about interactive tables.';\n",
              "        element.innerHTML = '';\n",
              "        dataTable['output_type'] = 'display_data';\n",
              "        await google.colab.output.renderOutput(dataTable, element);\n",
              "        const docLink = document.createElement('div');\n",
              "        docLink.innerHTML = docLinkHtml;\n",
              "        element.appendChild(docLink);\n",
              "      }\n",
              "    </script>\n",
              "  </div>\n",
              "\n",
              "\n",
              "<div id=\"df-98666796-86eb-4a48-8f72-c609479683d1\">\n",
              "  <button class=\"colab-df-quickchart\" onclick=\"quickchart('df-98666796-86eb-4a48-8f72-c609479683d1')\"\n",
              "            title=\"Suggest charts.\"\n",
              "            style=\"display:none;\">\n",
              "\n",
              "<svg xmlns=\"http://www.w3.org/2000/svg\" height=\"24px\"viewBox=\"0 0 24 24\"\n",
              "     width=\"24px\">\n",
              "    <g>\n",
              "        <path d=\"M19 3H5c-1.1 0-2 .9-2 2v14c0 1.1.9 2 2 2h14c1.1 0 2-.9 2-2V5c0-1.1-.9-2-2-2zM9 17H7v-7h2v7zm4 0h-2V7h2v10zm4 0h-2v-4h2v4z\"/>\n",
              "    </g>\n",
              "</svg>\n",
              "  </button>\n",
              "\n",
              "<style>\n",
              "  .colab-df-quickchart {\n",
              "      --bg-color: #E8F0FE;\n",
              "      --fill-color: #1967D2;\n",
              "      --hover-bg-color: #E2EBFA;\n",
              "      --hover-fill-color: #174EA6;\n",
              "      --disabled-fill-color: #AAA;\n",
              "      --disabled-bg-color: #DDD;\n",
              "  }\n",
              "\n",
              "  [theme=dark] .colab-df-quickchart {\n",
              "      --bg-color: #3B4455;\n",
              "      --fill-color: #D2E3FC;\n",
              "      --hover-bg-color: #434B5C;\n",
              "      --hover-fill-color: #FFFFFF;\n",
              "      --disabled-bg-color: #3B4455;\n",
              "      --disabled-fill-color: #666;\n",
              "  }\n",
              "\n",
              "  .colab-df-quickchart {\n",
              "    background-color: var(--bg-color);\n",
              "    border: none;\n",
              "    border-radius: 50%;\n",
              "    cursor: pointer;\n",
              "    display: none;\n",
              "    fill: var(--fill-color);\n",
              "    height: 32px;\n",
              "    padding: 0;\n",
              "    width: 32px;\n",
              "  }\n",
              "\n",
              "  .colab-df-quickchart:hover {\n",
              "    background-color: var(--hover-bg-color);\n",
              "    box-shadow: 0 1px 2px rgba(60, 64, 67, 0.3), 0 1px 3px 1px rgba(60, 64, 67, 0.15);\n",
              "    fill: var(--button-hover-fill-color);\n",
              "  }\n",
              "\n",
              "  .colab-df-quickchart-complete:disabled,\n",
              "  .colab-df-quickchart-complete:disabled:hover {\n",
              "    background-color: var(--disabled-bg-color);\n",
              "    fill: var(--disabled-fill-color);\n",
              "    box-shadow: none;\n",
              "  }\n",
              "\n",
              "  .colab-df-spinner {\n",
              "    border: 2px solid var(--fill-color);\n",
              "    border-color: transparent;\n",
              "    border-bottom-color: var(--fill-color);\n",
              "    animation:\n",
              "      spin 1s steps(1) infinite;\n",
              "  }\n",
              "\n",
              "  @keyframes spin {\n",
              "    0% {\n",
              "      border-color: transparent;\n",
              "      border-bottom-color: var(--fill-color);\n",
              "      border-left-color: var(--fill-color);\n",
              "    }\n",
              "    20% {\n",
              "      border-color: transparent;\n",
              "      border-left-color: var(--fill-color);\n",
              "      border-top-color: var(--fill-color);\n",
              "    }\n",
              "    30% {\n",
              "      border-color: transparent;\n",
              "      border-left-color: var(--fill-color);\n",
              "      border-top-color: var(--fill-color);\n",
              "      border-right-color: var(--fill-color);\n",
              "    }\n",
              "    40% {\n",
              "      border-color: transparent;\n",
              "      border-right-color: var(--fill-color);\n",
              "      border-top-color: var(--fill-color);\n",
              "    }\n",
              "    60% {\n",
              "      border-color: transparent;\n",
              "      border-right-color: var(--fill-color);\n",
              "    }\n",
              "    80% {\n",
              "      border-color: transparent;\n",
              "      border-right-color: var(--fill-color);\n",
              "      border-bottom-color: var(--fill-color);\n",
              "    }\n",
              "    90% {\n",
              "      border-color: transparent;\n",
              "      border-bottom-color: var(--fill-color);\n",
              "    }\n",
              "  }\n",
              "</style>\n",
              "\n",
              "  <script>\n",
              "    async function quickchart(key) {\n",
              "      const quickchartButtonEl =\n",
              "        document.querySelector('#' + key + ' button');\n",
              "      quickchartButtonEl.disabled = true;  // To prevent multiple clicks.\n",
              "      quickchartButtonEl.classList.add('colab-df-spinner');\n",
              "      try {\n",
              "        const charts = await google.colab.kernel.invokeFunction(\n",
              "            'suggestCharts', [key], {});\n",
              "      } catch (error) {\n",
              "        console.error('Error during call to suggestCharts:', error);\n",
              "      }\n",
              "      quickchartButtonEl.classList.remove('colab-df-spinner');\n",
              "      quickchartButtonEl.classList.add('colab-df-quickchart-complete');\n",
              "    }\n",
              "    (() => {\n",
              "      let quickchartButtonEl =\n",
              "        document.querySelector('#df-98666796-86eb-4a48-8f72-c609479683d1 button');\n",
              "      quickchartButtonEl.style.display =\n",
              "        google.colab.kernel.accessAllowed ? 'block' : 'none';\n",
              "    })();\n",
              "  </script>\n",
              "</div>\n",
              "    </div>\n",
              "  </div>\n"
            ]
          },
          "metadata": {},
          "execution_count": 7
        }
      ]
    },
    {
      "cell_type": "code",
      "source": [
        "#check class counts\n",
        "\n",
        "data.label.value_counts()"
      ],
      "metadata": {
        "colab": {
          "base_uri": "https://localhost:8080/"
        },
        "id": "Tmb3fOS5ydaC",
        "outputId": "ba88e678-0fbe-4a94-a7ec-86649c740d22"
      },
      "execution_count": 8,
      "outputs": [
        {
          "output_type": "execute_result",
          "data": {
            "text/plain": [
              "1    37106\n",
              "0    35028\n",
              "Name: label, dtype: int64"
            ]
          },
          "metadata": {},
          "execution_count": 8
        }
      ]
    },
    {
      "cell_type": "code",
      "source": [
        "#check for null values\n",
        "\n",
        "data.isnull().sum()\n"
      ],
      "metadata": {
        "colab": {
          "base_uri": "https://localhost:8080/"
        },
        "id": "ULlCblbvzf8M",
        "outputId": "23498109-052d-497d-dd6a-81cc0889bd90"
      },
      "execution_count": 9,
      "outputs": [
        {
          "output_type": "execute_result",
          "data": {
            "text/plain": [
              "Unnamed: 0      0\n",
              "title         558\n",
              "text           39\n",
              "label           0\n",
              "dtype: int64"
            ]
          },
          "metadata": {},
          "execution_count": 9
        }
      ]
    },
    {
      "cell_type": "code",
      "source": [
        "#drop null values\n",
        "\n",
        "data.dropna(inplace=True)\n",
        "data.isnull().sum()"
      ],
      "metadata": {
        "colab": {
          "base_uri": "https://localhost:8080/"
        },
        "id": "SYXecCC-z6Mo",
        "outputId": "ecdf2c7c-1c98-4404-bed0-814a335a889f"
      },
      "execution_count": 10,
      "outputs": [
        {
          "output_type": "execute_result",
          "data": {
            "text/plain": [
              "Unnamed: 0    0\n",
              "title         0\n",
              "text          0\n",
              "label         0\n",
              "dtype: int64"
            ]
          },
          "metadata": {},
          "execution_count": 10
        }
      ]
    },
    {
      "cell_type": "code",
      "source": [
        "#new data counts after dropping null values\n",
        "\n",
        "data.label.value_counts()"
      ],
      "metadata": {
        "colab": {
          "base_uri": "https://localhost:8080/"
        },
        "id": "kuxjakSh0Btd",
        "outputId": "5ee2a399-871f-4c76-9f03-ef6e805fba16"
      },
      "execution_count": 11,
      "outputs": [
        {
          "output_type": "execute_result",
          "data": {
            "text/plain": [
              "1    36509\n",
              "0    35028\n",
              "Name: label, dtype: int64"
            ]
          },
          "metadata": {},
          "execution_count": 11
        }
      ]
    },
    {
      "cell_type": "code",
      "source": [
        "#plot class counts\n",
        "import matplotlib.pyplot as plot\n",
        "\n",
        "data.label.value_counts().plot.bar()\n",
        "plot.title(\"Class Distribution in Dataset\")\n",
        "plot.ylabel(\"Count\")\n",
        "plot.xlabel(\"Class\")"
      ],
      "metadata": {
        "colab": {
          "base_uri": "https://localhost:8080/",
          "height": 484
        },
        "id": "3MqU7Ws5qz5u",
        "outputId": "759ca8eb-6cc3-40bf-ce5d-43b8f9adc960"
      },
      "execution_count": 12,
      "outputs": [
        {
          "output_type": "execute_result",
          "data": {
            "text/plain": [
              "Text(0.5, 0, 'Class')"
            ]
          },
          "metadata": {},
          "execution_count": 12
        },
        {
          "output_type": "display_data",
          "data": {
            "text/plain": [
              "<Figure size 640x480 with 1 Axes>"
            ],
            "image/png": "[encoded data removed]"
          },
          "metadata": {}
        }
      ]
    },
    {
      "cell_type": "markdown",
      "source": [
        "# Data cleaning"
      ],
      "metadata": {
        "id": "2t1HpHOWst7K"
      }
    },
    {
      "cell_type": "code",
      "source": [
        "import nltk\n",
        "import string\n",
        "from nltk import word_tokenize\n",
        "from nltk.corpus import stopwords\n",
        "from nltk.stem.porter import PorterStemmer\n",
        "from nltk.stem import WordNetLemmatizer\n",
        "nltk.download('stopwords')\n",
        "nltk.download('punkt')\n",
        "nltk.download('wordnet')"
      ],
      "metadata": {
        "colab": {
          "base_uri": "https://localhost:8080/"
        },
        "id": "vQY9GBhTuo0w",
        "outputId": "19bd9d9b-7c0d-461e-c804-0bde12ab02f4"
      },
      "execution_count": 13,
      "outputs": [
        {
          "output_type": "stream",
          "name": "stderr",
          "text": [
            "[nltk_data] Downloading package stopwords to /root/nltk_data...\n",
            "[nltk_data]   Package stopwords is already up-to-date!\n",
            "[nltk_data] Downloading package punkt to /root/nltk_data...\n",
            "[nltk_data]   Package punkt is already up-to-date!\n",
            "[nltk_data] Downloading package wordnet to /root/nltk_data...\n",
            "[nltk_data]   Package wordnet is already up-to-date!\n"
          ]
        },
        {
          "output_type": "execute_result",
          "data": {
            "text/plain": [
              "True"
            ]
          },
          "metadata": {},
          "execution_count": 13
        }
      ]
    },
    {
      "cell_type": "code",
      "source": [
        "#make new copy of data frame to clean\n",
        "\n",
        "cleandata = data.copy()"
      ],
      "metadata": {
        "id": "UKz2ta-WMuKy"
      },
      "execution_count": 14,
      "outputs": []
    },
    {
      "cell_type": "code",
      "source": [
        "#change all text to lowercase\n",
        "\n",
        "cleandata['title'] = cleandata['title'].str.lower()\n",
        "cleandata['text'] = cleandata['text'].str.lower()"
      ],
      "metadata": {
        "id": "n4vTbgIHu_L0"
      },
      "execution_count": 15,
      "outputs": []
    },
    {
      "cell_type": "code",
      "source": [
        "#remove punctuation\n",
        "\n",
        "cleandata['title'] = cleandata['title'].str.replace(r'[^\\w\\s]+', '')\n",
        "cleandata['text'] = cleandata['text'].str.replace(r'[^\\w\\s]+', '')"
      ],
      "metadata": {
        "colab": {
          "base_uri": "https://localhost:8080/"
        },
        "id": "eXvwNGF_vXQd",
        "outputId": "96c0a66e-7b55-44d0-ff7b-b368b90fbf77"
      },
      "execution_count": 16,
      "outputs": [
        {
          "output_type": "stream",
          "name": "stderr",
          "text": [
            "<ipython-input-16-f3aecc3ecb4b>:3: FutureWarning: The default value of regex will change from True to False in a future version.\n",
            "  cleandata['title'] = cleandata['title'].str.replace(r'[^\\w\\s]+', '')\n",
            "<ipython-input-16-f3aecc3ecb4b>:4: FutureWarning: The default value of regex will change from True to False in a future version.\n",
            "  cleandata['text'] = cleandata['text'].str.replace(r'[^\\w\\s]+', '')\n"
          ]
        }
      ]
    },
    {
      "cell_type": "code",
      "source": [
        "#tokenization the text (separate sentences into individual words)\n",
        "\n",
        "cleandata['text'] = cleandata['text'].apply(word_tokenize)\n",
        "cleandata['title'] = cleandata['title'].apply(word_tokenize)"
      ],
      "metadata": {
        "id": "JwnYZpvzzD9Y"
      },
      "execution_count": 17,
      "outputs": []
    },
    {
      "cell_type": "code",
      "source": [
        "#remove stop words\n",
        "\n",
        "stopwords = stopwords.words('english')\n",
        "\n",
        "cleandata['title'] = cleandata['title'].apply(lambda words: [word for word in words if word not in stopwords])\n",
        "cleandata['text'] = cleandata['text'].apply(lambda words: [word for word in words if word not in stopwords])\n"
      ],
      "metadata": {
        "id": "F08KKjiowGUb"
      },
      "execution_count": 18,
      "outputs": []
    },
    {
      "cell_type": "code",
      "source": [
        "#review results of cleaning\n",
        "\n",
        "pd.set_option('max_colwidth', None)\n",
        "cleandata.head()"
      ],
      "metadata": {
        "colab": {
          "base_uri": "https://localhost:8080/",
          "height": 605
        },
        "id": "udQCxU641jEy",
        "outputId": "11cd9dbf-3e61-43b1-9385-0074efd479b6"
      },
      "execution_count": 19,
      "outputs": [
        {
          "output_type": "execute_result",
          "data": {
            "text/plain": [
              "   Unnamed: 0  \\\n",
              "0           0   \n",
              "2           2   \n",
              "3           3   \n",
              "4           4   \n",
              "5           5   \n",
              "\n",
              "                                                                                                                              title  \\\n",
              "0             [law, enforcement, high, alert, following, threats, cops, whites, 911by, blacklivesmatter, fyf911, terrorists, video]   \n",
              "2  [unbelievable, obamas, attorney, general, says, charlotte, rioters, peaceful, protestersin, home, state, north, carolina, video]   \n",
              "3                       [bobby, jindal, raised, hindu, uses, story, christian, conversion, woo, evangelicals, potential, 2016, bid]   \n",
              "4                                     [satan, 2, russia, unvelis, image, terrifying, new, supernuke, western, world, takes, notice]   \n",
              "5                                                            [time, christian, group, sues, amazon, splc, designation, hate, group]   \n",
              "\n",
              "                                                                                                                                                                                                                                                                                                                                                                                                                                                                                                                                                                                                                                                                                                                                                                                                                                                                                                                   text  \\\n",
              "0                                                              [comment, expected, barack, obama, members, fyf911, fukyoflag, blacklivesmatter, movements, called, lynching, hanging, white, people, cops, encouraged, others, radio, show, tuesday, night, turn, tide, kill, white, people, cops, send, message, killing, black, people, americaone, fyoflag, organizers, called, sunshine, radio, blog, show, hosted, texas, called, sunshine, fing, opinion, radio, show, snapshot, fyf911, lolatwhitefear, twitter, page, 953, pm, shows, urging, supporters, call, fyf911, tonight, continue, dismantle, illusion, white, snapshot, twitter, radio, call, invite, fyf911the, radio, show, aired, 1000, pm, eastern, standard, timeduring, show, callers, clearly, call, lynching, killing, white, peoplea, 239, minute, clip, radio, show, heard, provided, breitbart, texas, someone, would, like, referred, ...]   \n",
              "2                                                                                                                                                                                                                                                                                                                                                                                                                                                                                                                                                                                                                                                                                                                               [demonstrators, gathered, last, night, exercising, constitutional, protected, right, peaceful, protest, order, raise, issues, create, change, loretta, lynch, aka, eric, holder, skirt]   \n",
              "3                                                    [dozen, politically, active, pastors, came, private, dinner, friday, night, hear, conversion, story, unique, context, presidential, politics, louisiana, gov, bobby, jindal, traveled, hinduism, protestant, christianity, ultimately, became, calls, evangelical, catholic, two, hours, jindal, 42, recalled, talking, girl, high, school, wanted, save, soul, reading, bible, closet, parents, would, see, feeling, stir, watching, movie, senior, year, depicted, jesus, cross, struck, struck, hard, jindal, told, pastors, son, god, died, sins, jindals, session, christian, clergy, lead, congregations, early, presidential, battleground, states, iowa, south, carolina, part, behindthescenes, effort, louisiana, governor, find, political, base, could, help, propel, top, tier, republican, candidates, seeking, run, white, house, 2016, known, ...]   \n",
              "4                                                                                                [rs28, sarmat, missile, dubbed, satan, 2, replace, ss18, flies, 43, miles, 7km, per, sec, range, 6213, miles, 10000km, weapons, perceived, part, increasingly, aggressive, russia, could, deliver, warhead, 40, megatons, 2000, times, powerful, atom, bombs, dropped, hiroshima, nagasaki, 1945, libby, plummer, gareth, davie, russia, unveiled, chilling, pictures, largest, ever, nuclear, missile, capable, destroying, area, size, france, rs28, sarmat, missile, dubbed, satan, 2, nato, top, speed, 43, miles, 7km, per, second, designed, outfox, antimissile, shield, systems, new, sarmat, missile, could, deliver, warheads, 40, megatons, 2000, times, powerful, atom, bombs, dropped, hiroshima, nagasaki, 1945, scroll, video, russian, president, vladimir, putin, reportedly, planning, replace, ...]   \n",
              "5  [say, one, time, someone, sued, southern, poverty, law, centeron, tuesday, james, kennedy, ministries, djkm, filed, lawsuit, southern, poverty, law, center, splc, charity, navigation, organization, guidestar, amazon, defamation, religious, discrimination, trafficking, falsehood, splc, listed, djkm, hate, group, guidestar, also, categorized, terms, amazon, kept, ministry, charity, donation, program, amazon, smile, embarked, today, journey, right, terrible, wrong, dr, frank, wright, president, ceo, djkm, said, statement, tuesday, knowingly, label, christian, ministries, hate, groups, solely, subscribing, historic, christian, faith, either, woefully, uninformed, willfully, deceitful, case, southern, poverty, law, center, lawsuit, alleges, latter, splc, labeled, djkm, antilgbt, hate, group, opposition, samesex, marriage, transgenderism, false, illegal, characterizations, ...]   \n",
              "\n",
              "   label  \n",
              "0      1  \n",
              "2      1  \n",
              "3      0  \n",
              "4      1  \n",
              "5      1  "
            ],
            "text/html": [
              "\n",
              "  <div id=\"df-82698053-0732-4042-84e4-b5c507a35504\" class=\"colab-df-container\">\n",
              "    <div>\n",
              "<style scoped>\n",
              "    .dataframe tbody tr th:only-of-type {\n",
              "        vertical-align: middle;\n",
              "    }\n",
              "\n",
              "    .dataframe tbody tr th {\n",
              "        vertical-align: top;\n",
              "    }\n",
              "\n",
              "    .dataframe thead th {\n",
              "        text-align: right;\n",
              "    }\n",
              "</style>\n",
              "<table border=\"1\" class=\"dataframe\">\n",
              "  <thead>\n",
              "    <tr style=\"text-align: right;\">\n",
              "      <th></th>\n",
              "      <th>Unnamed: 0</th>\n",
              "      <th>title</th>\n",
              "      <th>text</th>\n",
              "      <th>label</th>\n",
              "    </tr>\n",
              "  </thead>\n",
              "  <tbody>\n",
              "    <tr>\n",
              "      <th>0</th>\n",
              "      <td>0</td>\n",
              "      <td>[law, enforcement, high, alert, following, threats, cops, whites, 911by, blacklivesmatter, fyf911, terrorists, video]</td>\n",
              "      <td>[comment, expected, barack, obama, members, fyf911, fukyoflag, blacklivesmatter, movements, called, lynching, hanging, white, people, cops, encouraged, others, radio, show, tuesday, night, turn, tide, kill, white, people, cops, send, message, killing, black, people, americaone, fyoflag, organizers, called, sunshine, radio, blog, show, hosted, texas, called, sunshine, fing, opinion, radio, show, snapshot, fyf911, lolatwhitefear, twitter, page, 953, pm, shows, urging, supporters, call, fyf911, tonight, continue, dismantle, illusion, white, snapshot, twitter, radio, call, invite, fyf911the, radio, show, aired, 1000, pm, eastern, standard, timeduring, show, callers, clearly, call, lynching, killing, white, peoplea, 239, minute, clip, radio, show, heard, provided, breitbart, texas, someone, would, like, referred, ...]</td>\n",
              "      <td>1</td>\n",
              "    </tr>\n",
              "    <tr>\n",
              "      <th>2</th>\n",
              "      <td>2</td>\n",
              "      <td>[unbelievable, obamas, attorney, general, says, charlotte, rioters, peaceful, protestersin, home, state, north, carolina, video]</td>\n",
              "      <td>[demonstrators, gathered, last, night, exercising, constitutional, protected, right, peaceful, protest, order, raise, issues, create, change, loretta, lynch, aka, eric, holder, skirt]</td>\n",
              "      <td>1</td>\n",
              "    </tr>\n",
              "    <tr>\n",
              "      <th>3</th>\n",
              "      <td>3</td>\n",
              "      <td>[bobby, jindal, raised, hindu, uses, story, christian, conversion, woo, evangelicals, potential, 2016, bid]</td>\n",
              "      <td>[dozen, politically, active, pastors, came, private, dinner, friday, night, hear, conversion, story, unique, context, presidential, politics, louisiana, gov, bobby, jindal, traveled, hinduism, protestant, christianity, ultimately, became, calls, evangelical, catholic, two, hours, jindal, 42, recalled, talking, girl, high, school, wanted, save, soul, reading, bible, closet, parents, would, see, feeling, stir, watching, movie, senior, year, depicted, jesus, cross, struck, struck, hard, jindal, told, pastors, son, god, died, sins, jindals, session, christian, clergy, lead, congregations, early, presidential, battleground, states, iowa, south, carolina, part, behindthescenes, effort, louisiana, governor, find, political, base, could, help, propel, top, tier, republican, candidates, seeking, run, white, house, 2016, known, ...]</td>\n",
              "      <td>0</td>\n",
              "    </tr>\n",
              "    <tr>\n",
              "      <th>4</th>\n",
              "      <td>4</td>\n",
              "      <td>[satan, 2, russia, unvelis, image, terrifying, new, supernuke, western, world, takes, notice]</td>\n",
              "      <td>[rs28, sarmat, missile, dubbed, satan, 2, replace, ss18, flies, 43, miles, 7km, per, sec, range, 6213, miles, 10000km, weapons, perceived, part, increasingly, aggressive, russia, could, deliver, warhead, 40, megatons, 2000, times, powerful, atom, bombs, dropped, hiroshima, nagasaki, 1945, libby, plummer, gareth, davie, russia, unveiled, chilling, pictures, largest, ever, nuclear, missile, capable, destroying, area, size, france, rs28, sarmat, missile, dubbed, satan, 2, nato, top, speed, 43, miles, 7km, per, second, designed, outfox, antimissile, shield, systems, new, sarmat, missile, could, deliver, warheads, 40, megatons, 2000, times, powerful, atom, bombs, dropped, hiroshima, nagasaki, 1945, scroll, video, russian, president, vladimir, putin, reportedly, planning, replace, ...]</td>\n",
              "      <td>1</td>\n",
              "    </tr>\n",
              "    <tr>\n",
              "      <th>5</th>\n",
              "      <td>5</td>\n",
              "      <td>[time, christian, group, sues, amazon, splc, designation, hate, group]</td>\n",
              "      <td>[say, one, time, someone, sued, southern, poverty, law, centeron, tuesday, james, kennedy, ministries, djkm, filed, lawsuit, southern, poverty, law, center, splc, charity, navigation, organization, guidestar, amazon, defamation, religious, discrimination, trafficking, falsehood, splc, listed, djkm, hate, group, guidestar, also, categorized, terms, amazon, kept, ministry, charity, donation, program, amazon, smile, embarked, today, journey, right, terrible, wrong, dr, frank, wright, president, ceo, djkm, said, statement, tuesday, knowingly, label, christian, ministries, hate, groups, solely, subscribing, historic, christian, faith, either, woefully, uninformed, willfully, deceitful, case, southern, poverty, law, center, lawsuit, alleges, latter, splc, labeled, djkm, antilgbt, hate, group, opposition, samesex, marriage, transgenderism, false, illegal, characterizations, ...]</td>\n",
              "      <td>1</td>\n",
              "    </tr>\n",
              "  </tbody>\n",
              "</table>\n",
              "</div>\n",
              "    <div class=\"colab-df-buttons\">\n",
              "\n",
              "  <div class=\"colab-df-container\">\n",
              "    <button class=\"colab-df-convert\" onclick=\"convertToInteractive('df-82698053-0732-4042-84e4-b5c507a35504')\"\n",
              "            title=\"Convert this dataframe to an interactive table.\"\n",
              "            style=\"display:none;\">\n",
              "\n",
              "  <svg xmlns=\"http://www.w3.org/2000/svg\" height=\"24px\" viewBox=\"0 -960 960 960\">\n",
              "    <path d=\"M120-120v-720h720v720H120Zm60-500h600v-160H180v160Zm220 220h160v-160H400v160Zm0 220h160v-160H400v160ZM180-400h160v-160H180v160Zm440 0h160v-160H620v160ZM180-180h160v-160H180v160Zm440 0h160v-160H620v160Z\"/>\n",
              "  </svg>\n",
              "    </button>\n",
              "\n",
              "  <style>\n",
              "    .colab-df-container {\n",
              "      display:flex;\n",
              "      gap: 12px;\n",
              "    }\n",
              "\n",
              "    .colab-df-convert {\n",
              "      background-color: #E8F0FE;\n",
              "      border: none;\n",
              "      border-radius: 50%;\n",
              "      cursor: pointer;\n",
              "      display: none;\n",
              "      fill: #1967D2;\n",
              "      height: 32px;\n",
              "      padding: 0 0 0 0;\n",
              "      width: 32px;\n",
              "    }\n",
              "\n",
              "    .colab-df-convert:hover {\n",
              "      background-color: #E2EBFA;\n",
              "      box-shadow: 0px 1px 2px rgba(60, 64, 67, 0.3), 0px 1px 3px 1px rgba(60, 64, 67, 0.15);\n",
              "      fill: #174EA6;\n",
              "    }\n",
              "\n",
              "    .colab-df-buttons div {\n",
              "      margin-bottom: 4px;\n",
              "    }\n",
              "\n",
              "    [theme=dark] .colab-df-convert {\n",
              "      background-color: #3B4455;\n",
              "      fill: #D2E3FC;\n",
              "    }\n",
              "\n",
              "    [theme=dark] .colab-df-convert:hover {\n",
              "      background-color: #434B5C;\n",
              "      box-shadow: 0px 1px 3px 1px rgba(0, 0, 0, 0.15);\n",
              "      filter: drop-shadow(0px 1px 2px rgba(0, 0, 0, 0.3));\n",
              "      fill: #FFFFFF;\n",
              "    }\n",
              "  </style>\n",
              "\n",
              "    <script>\n",
              "      const buttonEl =\n",
              "        document.querySelector('#df-82698053-0732-4042-84e4-b5c507a35504 button.colab-df-convert');\n",
              "      buttonEl.style.display =\n",
              "        google.colab.kernel.accessAllowed ? 'block' : 'none';\n",
              "\n",
              "      async function convertToInteractive(key) {\n",
              "        const element = document.querySelector('#df-82698053-0732-4042-84e4-b5c507a35504');\n",
              "        const dataTable =\n",
              "          await google.colab.kernel.invokeFunction('convertToInteractive',\n",
              "                                                    [key], {});\n",
              "        if (!dataTable) return;\n",
              "\n",
              "        const docLinkHtml = 'Like what you see? Visit the ' +\n",
              "          '<a target=\"_blank\" href=https://colab.research.google.com/notebooks/data_table.ipynb>data table notebook</a>'\n",
              "          + ' to learn more about interactive tables.';\n",
              "        element.innerHTML = '';\n",
              "        dataTable['output_type'] = 'display_data';\n",
              "        await google.colab.output.renderOutput(dataTable, element);\n",
              "        const docLink = document.createElement('div');\n",
              "        docLink.innerHTML = docLinkHtml;\n",
              "        element.appendChild(docLink);\n",
              "      }\n",
              "    </script>\n",
              "  </div>\n",
              "\n",
              "\n",
              "<div id=\"df-f768ffc0-6e17-483e-9354-987dc7852bb3\">\n",
              "  <button class=\"colab-df-quickchart\" onclick=\"quickchart('df-f768ffc0-6e17-483e-9354-987dc7852bb3')\"\n",
              "            title=\"Suggest charts.\"\n",
              "            style=\"display:none;\">\n",
              "\n",
              "<svg xmlns=\"http://www.w3.org/2000/svg\" height=\"24px\"viewBox=\"0 0 24 24\"\n",
              "     width=\"24px\">\n",
              "    <g>\n",
              "        <path d=\"M19 3H5c-1.1 0-2 .9-2 2v14c0 1.1.9 2 2 2h14c1.1 0 2-.9 2-2V5c0-1.1-.9-2-2-2zM9 17H7v-7h2v7zm4 0h-2V7h2v10zm4 0h-2v-4h2v4z\"/>\n",
              "    </g>\n",
              "</svg>\n",
              "  </button>\n",
              "\n",
              "<style>\n",
              "  .colab-df-quickchart {\n",
              "      --bg-color: #E8F0FE;\n",
              "      --fill-color: #1967D2;\n",
              "      --hover-bg-color: #E2EBFA;\n",
              "      --hover-fill-color: #174EA6;\n",
              "      --disabled-fill-color: #AAA;\n",
              "      --disabled-bg-color: #DDD;\n",
              "  }\n",
              "\n",
              "  [theme=dark] .colab-df-quickchart {\n",
              "      --bg-color: #3B4455;\n",
              "      --fill-color: #D2E3FC;\n",
              "      --hover-bg-color: #434B5C;\n",
              "      --hover-fill-color: #FFFFFF;\n",
              "      --disabled-bg-color: #3B4455;\n",
              "      --disabled-fill-color: #666;\n",
              "  }\n",
              "\n",
              "  .colab-df-quickchart {\n",
              "    background-color: var(--bg-color);\n",
              "    border: none;\n",
              "    border-radius: 50%;\n",
              "    cursor: pointer;\n",
              "    display: none;\n",
              "    fill: var(--fill-color);\n",
              "    height: 32px;\n",
              "    padding: 0;\n",
              "    width: 32px;\n",
              "  }\n",
              "\n",
              "  .colab-df-quickchart:hover {\n",
              "    background-color: var(--hover-bg-color);\n",
              "    box-shadow: 0 1px 2px rgba(60, 64, 67, 0.3), 0 1px 3px 1px rgba(60, 64, 67, 0.15);\n",
              "    fill: var(--button-hover-fill-color);\n",
              "  }\n",
              "\n",
              "  .colab-df-quickchart-complete:disabled,\n",
              "  .colab-df-quickchart-complete:disabled:hover {\n",
              "    background-color: var(--disabled-bg-color);\n",
              "    fill: var(--disabled-fill-color);\n",
              "    box-shadow: none;\n",
              "  }\n",
              "\n",
              "  .colab-df-spinner {\n",
              "    border: 2px solid var(--fill-color);\n",
              "    border-color: transparent;\n",
              "    border-bottom-color: var(--fill-color);\n",
              "    animation:\n",
              "      spin 1s steps(1) infinite;\n",
              "  }\n",
              "\n",
              "  @keyframes spin {\n",
              "    0% {\n",
              "      border-color: transparent;\n",
              "      border-bottom-color: var(--fill-color);\n",
              "      border-left-color: var(--fill-color);\n",
              "    }\n",
              "    20% {\n",
              "      border-color: transparent;\n",
              "      border-left-color: var(--fill-color);\n",
              "      border-top-color: var(--fill-color);\n",
              "    }\n",
              "    30% {\n",
              "      border-color: transparent;\n",
              "      border-left-color: var(--fill-color);\n",
              "      border-top-color: var(--fill-color);\n",
              "      border-right-color: var(--fill-color);\n",
              "    }\n",
              "    40% {\n",
              "      border-color: transparent;\n",
              "      border-right-color: var(--fill-color);\n",
              "      border-top-color: var(--fill-color);\n",
              "    }\n",
              "    60% {\n",
              "      border-color: transparent;\n",
              "      border-right-color: var(--fill-color);\n",
              "    }\n",
              "    80% {\n",
              "      border-color: transparent;\n",
              "      border-right-color: var(--fill-color);\n",
              "      border-bottom-color: var(--fill-color);\n",
              "    }\n",
              "    90% {\n",
              "      border-color: transparent;\n",
              "      border-bottom-color: var(--fill-color);\n",
              "    }\n",
              "  }\n",
              "</style>\n",
              "\n",
              "  <script>\n",
              "    async function quickchart(key) {\n",
              "      const quickchartButtonEl =\n",
              "        document.querySelector('#' + key + ' button');\n",
              "      quickchartButtonEl.disabled = true;  // To prevent multiple clicks.\n",
              "      quickchartButtonEl.classList.add('colab-df-spinner');\n",
              "      try {\n",
              "        const charts = await google.colab.kernel.invokeFunction(\n",
              "            'suggestCharts', [key], {});\n",
              "      } catch (error) {\n",
              "        console.error('Error during call to suggestCharts:', error);\n",
              "      }\n",
              "      quickchartButtonEl.classList.remove('colab-df-spinner');\n",
              "      quickchartButtonEl.classList.add('colab-df-quickchart-complete');\n",
              "    }\n",
              "    (() => {\n",
              "      let quickchartButtonEl =\n",
              "        document.querySelector('#df-f768ffc0-6e17-483e-9354-987dc7852bb3 button');\n",
              "      quickchartButtonEl.style.display =\n",
              "        google.colab.kernel.accessAllowed ? 'block' : 'none';\n",
              "    })();\n",
              "  </script>\n",
              "</div>\n",
              "    </div>\n",
              "  </div>\n"
            ]
          },
          "metadata": {},
          "execution_count": 19
        }
      ]
    },
    {
      "cell_type": "code",
      "source": [
        "#create copy of data frame prior to lemmatization, prepare function\n",
        "\n",
        "lemmdata = cleandata.copy()\n",
        "\n",
        "lemmatize = WordNetLemmatizer()"
      ],
      "metadata": {
        "id": "4wBcp-jFC9bS"
      },
      "execution_count": 20,
      "outputs": []
    },
    {
      "cell_type": "code",
      "source": [
        "lemmdata['title'] = lemmdata['title'].apply(lambda lst:[lemmatize.lemmatize(word) for word in lst])"
      ],
      "metadata": {
        "id": "5h9ccGJKQ5jG"
      },
      "execution_count": 21,
      "outputs": []
    },
    {
      "cell_type": "code",
      "source": [
        "lemmdata['title'] = lemmdata['title'].apply(lambda lst:[lemmatize.lemmatize(word, pos='v') for word in lst])"
      ],
      "metadata": {
        "id": "6LtJgjuIfZaB"
      },
      "execution_count": 22,
      "outputs": []
    },
    {
      "cell_type": "code",
      "source": [
        "lemmdata['text'] = lemmdata['text'].apply(lambda lst:[lemmatize.lemmatize(word) for word in lst])"
      ],
      "metadata": {
        "id": "DW01nt7iVyHF"
      },
      "execution_count": 23,
      "outputs": []
    },
    {
      "cell_type": "code",
      "source": [
        "lemmdata['text'] = lemmdata['text'].apply(lambda lst:[lemmatize.lemmatize(word, pos='v') for word in lst])"
      ],
      "metadata": {
        "id": "jtw0utFle6Mt"
      },
      "execution_count": 24,
      "outputs": []
    },
    {
      "cell_type": "code",
      "source": [
        "#review results of lemmatization\n",
        "\n",
        "lemmdata.head(n=20)"
      ],
      "metadata": {
        "colab": {
          "base_uri": "https://localhost:8080/",
          "height": 1000
        },
        "id": "VnAxVCoILTfC",
        "outputId": "913f4cce-5c07-4994-e42e-5ccef80348a2"
      },
      "execution_count": 25,
      "outputs": [
        {
          "output_type": "execute_result",
          "data": {
            "text/plain": [
              "    Unnamed: 0  \\\n",
              "0            0   \n",
              "2            2   \n",
              "3            3   \n",
              "4            4   \n",
              "5            5   \n",
              "6            6   \n",
              "7            7   \n",
              "8            8   \n",
              "9            9   \n",
              "10          10   \n",
              "11          11   \n",
              "12          12   \n",
              "13          13   \n",
              "14          14   \n",
              "15          15   \n",
              "16          16   \n",
              "17          17   \n",
              "18          18   \n",
              "19          19   \n",
              "20          20   \n",
              "\n",
              "                                                                                                                                         title  \\\n",
              "0                               [law, enforcement, high, alert, follow, threat, cop, white, 911by, blacklivesmatter, fyf911, terrorist, video]   \n",
              "2               [unbelievable, obamas, attorney, general, say, charlotte, rioter, peaceful, protestersin, home, state, north, carolina, video]   \n",
              "3                                     [bobby, jindal, raise, hindu, us, story, christian, conversion, woo, evangelicals, potential, 2016, bid]   \n",
              "4                                                    [satan, 2, russia, unvelis, image, terrify, new, supernuke, western, world, take, notice]   \n",
              "5                                                                        [time, christian, group, sue, amazon, splc, designation, hate, group]   \n",
              "6                                                             [dr, ben, carson, target, irs, never, audit, speak, national, prayer, breakfast]   \n",
              "7                                                                   [house, intel, chair, trumprussia, fake, story, evidence, anything, video]   \n",
              "8                                [sport, bar, owner, ban, nfl, gameswill, show, true, american, sport, id, like, speak, rural, america, video]   \n",
              "9                                                                       [latest, pipeline, leak, underscore, danger, dakota, access, pipeline]   \n",
              "10                                                                                  [gop, senator, smack, punchable, altright, nazi, internet]   \n",
              "11                                                                        [may, brexit, offer, would, hurt, cost, eu, citizen, eu, parliament]   \n",
              "12                                                                    [schumer, call, trump, appoint, official, oversee, puerto, rico, relief]   \n",
              "13                                                           [watch, hilarious, ad, call, question, health, age, clinton, crime, family, boss]   \n",
              "14                                                    [change, expect, espn, political, agenda, despite, huge, subscriber, decline, breitbart]   \n",
              "15                                                                           [billionaire, odebrecht, brazil, scandal, release, house, arrest]   \n",
              "16                                                                        [british, woman, lose, virginity, asylum, seek, rapist, way, church]   \n",
              "17                                                                                [un, seek, humanitarian, pause, sanaa, street, battleground]   \n",
              "18  [major, liberal, rag, reluctantly, publish, article, president, trump, outstanding, accomplishmentsits, explain, success, everyone, laugh]   \n",
              "19                                                                                [second, judge, say, clinton, email, setup, may, bad, faith]   \n",
              "20                                                                                                        [america, give, grand, piano, horse]   \n",
              "\n",
              "                                                                                                                                                                                                                                                                                                                                                                                                                                                                                                                                                                                                                                                                                                                                                                                                                                                                                                      text  \\\n",
              "0                                                                                            [comment, expect, barack, obama, member, fyf911, fukyoflag, blacklivesmatter, movement, call, lynch, hang, white, people, cop, encourage, others, radio, show, tuesday, night, turn, tide, kill, white, people, cop, send, message, kill, black, people, americaone, fyoflag, organizer, call, sunshine, radio, blog, show, host, texas, call, sunshine, fing, opinion, radio, show, snapshot, fyf911, lolatwhitefear, twitter, page, 953, pm, show, urge, supporter, call, fyf911, tonight, continue, dismantle, illusion, white, snapshot, twitter, radio, call, invite, fyf911the, radio, show, air, 1000, pm, eastern, standard, timeduring, show, caller, clearly, call, lynch, kill, white, peoplea, 239, minute, clip, radio, show, hear, provide, breitbart, texas, someone, would, like, refer, ...]   \n",
              "2                                                                                                                                                                                                                                                                                                                                                                                                                                                                                                                                                                                                                                                                                                                          [demonstrator, gather, last, night, exercise, constitutional, protect, right, peaceful, protest, order, raise, issue, create, change, loretta, lynch, aka, eric, holder, skirt]   \n",
              "3                                                                         [dozen, politically, active, pastor, come, private, dinner, friday, night, hear, conversion, story, unique, context, presidential, politics, louisiana, gov, bobby, jindal, travel, hinduism, protestant, christianity, ultimately, become, call, evangelical, catholic, two, hour, jindal, 42, recall, talk, girl, high, school, want, save, soul, read, bible, closet, parent, would, see, feel, stir, watch, movie, senior, year, depict, jesus, cross, strike, strike, hard, jindal, tell, pastor, son, god, die, sin, jindals, session, christian, clergy, lead, congregation, early, presidential, battleground, state, iowa, south, carolina, part, behindthescenes, effort, louisiana, governor, find, political, base, could, help, propel, top, tier, republican, candidate, seek, run, white, house, 2016, know, ...]   \n",
              "4                                                                                                                             [rs28, sarmat, missile, dub, satan, 2, replace, ss18, fly, 43, mile, 7km, per, sec, range, 6213, mile, 10000km, weapon, perceive, part, increasingly, aggressive, russia, could, deliver, warhead, 40, megaton, 2000, time, powerful, atom, bomb, drop, hiroshima, nagasaki, 1945, libby, plummer, gareth, davie, russia, unveil, chill, picture, largest, ever, nuclear, missile, capable, destroy, area, size, france, rs28, sarmat, missile, dub, satan, 2, nato, top, speed, 43, mile, 7km, per, second, design, outfox, antimissile, shield, system, new, sarmat, missile, could, deliver, warhead, 40, megaton, 2000, time, powerful, atom, bomb, drop, hiroshima, nagasaki, 1945, scroll, video, russian, president, vladimir, putin, reportedly, plan, replace, ...]   \n",
              "5               [say, one, time, someone, sue, southern, poverty, law, centeron, tuesday, jam, kennedy, ministry, djkm, file, lawsuit, southern, poverty, law, center, splc, charity, navigation, organization, guidestar, amazon, defamation, religious, discrimination, traffic, falsehood, splc, list, djkm, hate, group, guidestar, also, categorize, term, amazon, keep, ministry, charity, donation, program, amazon, smile, embark, today, journey, right, terrible, wrong, dr, frank, wright, president, ceo, djkm, say, statement, tuesday, knowingly, label, christian, ministry, hate, group, solely, subscribe, historic, christian, faith, either, woefully, uninformed, willfully, deceitful, case, southern, poverty, law, center, lawsuit, allege, latter, splc, label, djkm, antilgbt, hate, group, opposition, samesex, marriage, transgenderism, false, illegal, characterization, ...]   \n",
              "6                                                                                                                                                                                                                                                                                                                                                                                                                                                                                                                                                                                                                                                                                                                                                                                                                                                     [dr, ben, carson, tell, story, happen, speak, obama]   \n",
              "7                                                                                                                                                                                                                                                                                                                                                                                                                                                                                                                                                                                                                                                                                                                                                                                                                                                                                                       []   \n",
              "8                                                                                                                    [owner, ringling, bar, locate, south, white, sulphur, spring, stand, behind, facebook, post, criticize, nfl, player, take, knee, national, anthem, protest, police, brutality, post, make, ringling, bar, facebook, page, tuesday, night, since, receive, hundred, comment, share, post, read, ringling, bar, longer, show, nfl, game, allow, u, air, pbr, rodeo, nascar, event, whose, competitor, true, american, sorry, inconvenience, ringling, bar, coowner, kurt, bekemans, grow, paradise, valley, publish, post, say, care, post, turn, customer, away, seriously, would, care, nonamericans, patronize, place, say, bekemans, like, speak, rural, america, bet, see, farmer, rancher, whole, country, take, knee, guy, bet, find, one, appreciate, great, nation, give, ...]   \n",
              "9                                                          [file, sept, 15, 2005, file, photo, marker, welcome, commuter, cushing, okla, see, ap, photothe, oklahoman, matt, strasen, file, underscore, danger, america, unreliable, fossil, fuel, infrastructure, significant, u, oil, pipeline, shut, leak, report, monday, morning, enterprise, product, partner, say, monday, shut, seaway, crude, pipeline, 400000barrel, per, day, conduit, transport, crude, oil, cushing, oklahoma, gulf, coast, refinery, leak, occur, sunday, night, industrial, area, cushing, company, provide, estimate, volume, spill, say, danger, public, seaway, personnel, continue, make, progress, clean, spill, substantially, contain, retention, pond, enbridges, facility, company, say, news, release, pdf, explain, pipeline, 5050, joint, venture, enterprise, enbridge, inc, vacuum, truck, use, recover, ...]   \n",
              "10                         [punchable, altright, nazi, internet, get, thorough, beatdown, sen, ben, sasse, rneb, twitter, epic, tweetstorm, richard, spencer, altright, leader, become, human, punch, bag, get, racism, smack, republican, senator, thursday, white, nationalist, tweet, goober, conservative, blame, russia, racial, division, unite, state, spencer, respond, tweet, sasse, send, wednesdaysen, ben, sasse, share, article, regard, sen, jam, lankford, rokla, explain, russian, internet, troll, help, fuel, division, controversy, donald, trump, ignite, nfl, athlete, choose, kneel, rather, stand, national, anthem, protest, racial, inequality, police, brutalityno, one, love, americanvsamerican, fight, putin, intel, agency, stoke, side, every, dividehttpstcoh6bwjhzokh, ben, sasse, bensasse, september, 28, 2017spencer, respond, write, mind, goober, conservative, ...]   \n",
              "11                                                                        [brussels, reuters, british, prime, minister, theresa, may, offer, settle, status, eu, resident, flaw, leave, fewer, right, brexit, european, parliament, brexit, coordinator, say, tuesday, family, five, could, face, bill, 360, pound, acquire, new, status, guy, verhofstadt, tell, may, brexit, secretary, david, davis, letter, see, reuters, significant, amount, family, low, income, list, three, concern, eu, legislature, must, approve, treaty, march, 2019, exit, verhofstadt, tell, davis, proposal, eu, citizen, definitely, notice, deterioration, status, result, brexit, parliament, aim, along, eu, citizen, uk, citizen, eu27, notice, difference, verhofstadt, former, belgian, prime, minister, write, response, davis, write, parliament, complain, last, week, remain, major, issue, settle, right, ...]   \n",
              "12                                      [washington, reuters, charles, schumer, top, democrat, u, senate, call, president, donald, trump, sunday, name, single, official, oversee, coordinate, relief, effort, hurricaneravaged, puerto, rico, schumer, along, representative, nydia, velàzquez, jose, serrano, say, ceo, response, recovery, need, manage, complex, ongoing, federal, response, territory, million, american, remain, without, power, supply, statement, schumer, say, current, federal, response, hurricane, maria, impact, island, disorganize, slowfooted, mismanage, person, ability, bring, federal, agency, together, cut, red, tape, public, private, side, help, turn, light, back, get, clean, water, flow, help, bring, recovery, million, american, go, long, worst, condition, say, white, house, immediately, respond, request, comment, democrat, contend, name, lone, ...]   \n",
              "13                                                                                                                                                                                                                                                                                                                                                                                                                                                                                                                                                                                                                                                                                                                                                    [watch, tell, video, wonder, instead, work, hard, get, back, white, house, hillary, time, would, better, spend, look, assist, live, situation, bill]   \n",
              "14                                                                         [sport, fan, turn, espn, protest, network, social, political, agenda, parent, company, disney, decision, extend, current, ceo, bob, igers, contract, 2019, mean, world, leader, sport, entertainment, continue, merry, way, alienate, large, segment, american, breitbart, report, november, espn, lose, 3, 2, million, subscriber, year, moreover, last, year, sport, network, lose, 300, 000, subscriber, month, october, alone, beleaguer, network, lose, 621, 000, subscriber, decision, keep, iger, instead, move, another, direction, promote, coo, thomas, staggs, spot, number, substantial, business, implication, espn, awful, announce, report, outside, least, seem, like, iger, quite, satisfy, espns, leadership, network, path, front, specifically, he, regularly, speak, important, espn, skinny, bundle, ...]   \n",
              "15                  [rio, de, janeirosao, paulo, reuters, billionaire, marcelo, odebrecht, highestprofile, executive, imprison, brazil, massive, graft, scandal, release, jail, tuesday, continue, sentence, corruption, house, arrest, accord, federal, court, former, chief, executive, officer, odebrecht, sa, odbesul, latin, america, largest, construction, firm, arrest, 2015, investigation, dub, car, wash, expose, billion, dollar, kickback, politician, executive, staterun, company, exchange, inflate, contract, odebrecht, set, travel, sao, paulo, begin, house, arrest, electronic, surveillance, tuesday, accord, federal, court, parana, representative, former, executive, say, remain, commit, collaborate, authority, leniency, deal, odebrecht, first, sentence, 19, year, prison, one, many, case, relate, car, wash, reduce, 10, year, sign, leniency, deal, last, december, ...]   \n",
              "16                                                     [europe, likely, go, top, destination, family, young, daughter, one, blame, idiocy, political, correctness, death, europe, know, american, fortitude, stop, bleed, invasion, foreigner, soil, officially, control, predatory, asylum, seeker, chillingly, rap, 21yearold, devout, christian, woman, next, church, start, 10, year, jail, sentence, todayeritreanborn, mebrehtom, abrha, 25, stalk, vulnerable, virgin, 10, minute, walk, liverpool, city, centre, boyfriend, house, 6am, last, july, 19liverpool, crown, court, hear, drag, pavement, grassy, area, rap, twice, harrow, fourminute, ordealthe, terrify, attack, leave, devout, christian, angry, god, fear, contract, hiv, appal, judge, toldabrha, live, liverpool, flee, birmingham, arrest, follow, bbc, crimewatch, appeal, october, 12today, start, extend, sentence, 10, ...]   \n",
              "17                                                                                                                                   [geneva, reuters, unite, nation, call, monday, humanitarian, pause, yemeni, capital, sanaa, tuesday, allow, civilian, leave, home, aid, worker, reach, wound, get, medical, care, jamie, mcgoldrick, un, humanitarian, coordinator, yemen, say, statement, street, sanaa, become, battleground, aid, worker, remain, lockdown, thus, call, party, conflict, urgently, enable, humanitarian, pause, tuesday, 5, december, 1000, 1600, pm, allow, civilian, leave, home, seek, assistance, protection, facilitate, movement, aid, worker, ensure, continuity, lifesaving, program, say, mcgoldrick, warn, war, party, deliberate, attack, civilian, civilian, medical, infrastructure, clear, violation, international, humanitarian, law, may, constitute, war, crime]   \n",
              "18                       [atlantic, publication, know, unbiased, journalism, bite, publish, appear, reluctant, piece, president, trump, outstanding, accomplishment, first, 6, month, office, people, read, piece, atlantic, fan, write, buy, progressive, antiamerican, sentiment, feed, like, crack, cocaine, college, almost, like, patch, smoker, wear, help, get, withdrawal, nicotine, go, cessation, program, atlantic, provide, reader, enough, antitrump, propaganda, keep, business, act, like, support, group, reader, fear, every, antiamerican, piece, legislation, barack, obama, work, hard, implement, unravel, thank, guy, foolishly, want, make, america, great, course, eye, atlantic, reader, america, never, great, begin, withthe, part, atlantic, talk, president, trump, accomplishment, italicize, comment, writer, make, counter, trump, success, highlightedthe, atlantic, ...]   \n",
              "19  [new, york, reuters, second, federal, judge, take, rare, step, allow, group, sue, record, hillary, clinton, time, u, secretary, state, seek, swear, testimony, official, say, evidence, government, wrongdoing, bad, faith, language, judge, royce, lamberths, order, undercut, democratic, presidential, contender, assertion, allow, set, private, email, server, home, work, country, top, diplomat, arrangement, particularly, unusual, describe, clinton, email, arrangement, extraordinary, order, file, tuesday, federal, district, court, washington, refer, state, department, clinton, clinton, aide, say, constantly, shift, admission, government, former, government, official, spokesman, clinton, immediately, respond, request, comment, case, civil, matter, order, add, legal, uncertainty, overshadow, clinton, campaign, democratic, nominee, nov, 8, presidential, election, ...]   \n",
              "20                                                                                                                           [wednesday, 9, november, 2016, lucas, wilde, america, give, grand, piano, horse, america, give, grand, piano, horse, expect, quality, tune, im, particularly, look, forward, beethoven, ninth, beam, horse, supporter, piano, enthusiast, jay, cooper, horse, never, give, piano, frankly, establishment, wouldnt, allow, last, change, come, america, change, better, lot, doubter, doubter, soon, silence, graceful, note, chopin, mozart, maybe, even, little, richard, horse, dobbin, williams, say, im, really, sure, whats, expect, im, horse, absolutely, qualify, play, piano, mean, look, hoof, way, general, cant, even, sit, chair, properly, earth, anyone, think, good, idea, cooper, grin, weve, make, piano, great, democrat, elizabeth, king, say, want, ...]   \n",
              "\n",
              "    label  \n",
              "0       1  \n",
              "2       1  \n",
              "3       0  \n",
              "4       1  \n",
              "5       1  \n",
              "6       1  \n",
              "7       1  \n",
              "8       1  \n",
              "9       1  \n",
              "10      1  \n",
              "11      0  \n",
              "12      0  \n",
              "13      1  \n",
              "14      0  \n",
              "15      0  \n",
              "16      1  \n",
              "17      0  \n",
              "18      1  \n",
              "19      0  \n",
              "20      1  "
            ],
            "text/html": [
              "\n",
              "  <div id=\"df-228b2f4c-bfc0-41cc-9362-4002aff466f3\" class=\"colab-df-container\">\n",
              "    <div>\n",
              "<style scoped>\n",
              "    .dataframe tbody tr th:only-of-type {\n",
              "        vertical-align: middle;\n",
              "    }\n",
              "\n",
              "    .dataframe tbody tr th {\n",
              "        vertical-align: top;\n",
              "    }\n",
              "\n",
              "    .dataframe thead th {\n",
              "        text-align: right;\n",
              "    }\n",
              "</style>\n",
              "<table border=\"1\" class=\"dataframe\">\n",
              "  <thead>\n",
              "    <tr style=\"text-align: right;\">\n",
              "      <th></th>\n",
              "      <th>Unnamed: 0</th>\n",
              "      <th>title</th>\n",
              "      <th>text</th>\n",
              "      <th>label</th>\n",
              "    </tr>\n",
              "  </thead>\n",
              "  <tbody>\n",
              "    <tr>\n",
              "      <th>0</th>\n",
              "      <td>0</td>\n",
              "      <td>[law, enforcement, high, alert, follow, threat, cop, white, 911by, blacklivesmatter, fyf911, terrorist, video]</td>\n",
              "      <td>[comment, expect, barack, obama, member, fyf911, fukyoflag, blacklivesmatter, movement, call, lynch, hang, white, people, cop, encourage, others, radio, show, tuesday, night, turn, tide, kill, white, people, cop, send, message, kill, black, people, americaone, fyoflag, organizer, call, sunshine, radio, blog, show, host, texas, call, sunshine, fing, opinion, radio, show, snapshot, fyf911, lolatwhitefear, twitter, page, 953, pm, show, urge, supporter, call, fyf911, tonight, continue, dismantle, illusion, white, snapshot, twitter, radio, call, invite, fyf911the, radio, show, air, 1000, pm, eastern, standard, timeduring, show, caller, clearly, call, lynch, kill, white, peoplea, 239, minute, clip, radio, show, hear, provide, breitbart, texas, someone, would, like, refer, ...]</td>\n",
              "      <td>1</td>\n",
              "    </tr>\n",
              "    <tr>\n",
              "      <th>2</th>\n",
              "      <td>2</td>\n",
              "      <td>[unbelievable, obamas, attorney, general, say, charlotte, rioter, peaceful, protestersin, home, state, north, carolina, video]</td>\n",
              "      <td>[demonstrator, gather, last, night, exercise, constitutional, protect, right, peaceful, protest, order, raise, issue, create, change, loretta, lynch, aka, eric, holder, skirt]</td>\n",
              "      <td>1</td>\n",
              "    </tr>\n",
              "    <tr>\n",
              "      <th>3</th>\n",
              "      <td>3</td>\n",
              "      <td>[bobby, jindal, raise, hindu, us, story, christian, conversion, woo, evangelicals, potential, 2016, bid]</td>\n",
              "      <td>[dozen, politically, active, pastor, come, private, dinner, friday, night, hear, conversion, story, unique, context, presidential, politics, louisiana, gov, bobby, jindal, travel, hinduism, protestant, christianity, ultimately, become, call, evangelical, catholic, two, hour, jindal, 42, recall, talk, girl, high, school, want, save, soul, read, bible, closet, parent, would, see, feel, stir, watch, movie, senior, year, depict, jesus, cross, strike, strike, hard, jindal, tell, pastor, son, god, die, sin, jindals, session, christian, clergy, lead, congregation, early, presidential, battleground, state, iowa, south, carolina, part, behindthescenes, effort, louisiana, governor, find, political, base, could, help, propel, top, tier, republican, candidate, seek, run, white, house, 2016, know, ...]</td>\n",
              "      <td>0</td>\n",
              "    </tr>\n",
              "    <tr>\n",
              "      <th>4</th>\n",
              "      <td>4</td>\n",
              "      <td>[satan, 2, russia, unvelis, image, terrify, new, supernuke, western, world, take, notice]</td>\n",
              "      <td>[rs28, sarmat, missile, dub, satan, 2, replace, ss18, fly, 43, mile, 7km, per, sec, range, 6213, mile, 10000km, weapon, perceive, part, increasingly, aggressive, russia, could, deliver, warhead, 40, megaton, 2000, time, powerful, atom, bomb, drop, hiroshima, nagasaki, 1945, libby, plummer, gareth, davie, russia, unveil, chill, picture, largest, ever, nuclear, missile, capable, destroy, area, size, france, rs28, sarmat, missile, dub, satan, 2, nato, top, speed, 43, mile, 7km, per, second, design, outfox, antimissile, shield, system, new, sarmat, missile, could, deliver, warhead, 40, megaton, 2000, time, powerful, atom, bomb, drop, hiroshima, nagasaki, 1945, scroll, video, russian, president, vladimir, putin, reportedly, plan, replace, ...]</td>\n",
              "      <td>1</td>\n",
              "    </tr>\n",
              "    <tr>\n",
              "      <th>5</th>\n",
              "      <td>5</td>\n",
              "      <td>[time, christian, group, sue, amazon, splc, designation, hate, group]</td>\n",
              "      <td>[say, one, time, someone, sue, southern, poverty, law, centeron, tuesday, jam, kennedy, ministry, djkm, file, lawsuit, southern, poverty, law, center, splc, charity, navigation, organization, guidestar, amazon, defamation, religious, discrimination, traffic, falsehood, splc, list, djkm, hate, group, guidestar, also, categorize, term, amazon, keep, ministry, charity, donation, program, amazon, smile, embark, today, journey, right, terrible, wrong, dr, frank, wright, president, ceo, djkm, say, statement, tuesday, knowingly, label, christian, ministry, hate, group, solely, subscribe, historic, christian, faith, either, woefully, uninformed, willfully, deceitful, case, southern, poverty, law, center, lawsuit, allege, latter, splc, label, djkm, antilgbt, hate, group, opposition, samesex, marriage, transgenderism, false, illegal, characterization, ...]</td>\n",
              "      <td>1</td>\n",
              "    </tr>\n",
              "    <tr>\n",
              "      <th>6</th>\n",
              "      <td>6</td>\n",
              "      <td>[dr, ben, carson, target, irs, never, audit, speak, national, prayer, breakfast]</td>\n",
              "      <td>[dr, ben, carson, tell, story, happen, speak, obama]</td>\n",
              "      <td>1</td>\n",
              "    </tr>\n",
              "    <tr>\n",
              "      <th>7</th>\n",
              "      <td>7</td>\n",
              "      <td>[house, intel, chair, trumprussia, fake, story, evidence, anything, video]</td>\n",
              "      <td>[]</td>\n",
              "      <td>1</td>\n",
              "    </tr>\n",
              "    <tr>\n",
              "      <th>8</th>\n",
              "      <td>8</td>\n",
              "      <td>[sport, bar, owner, ban, nfl, gameswill, show, true, american, sport, id, like, speak, rural, america, video]</td>\n",
              "      <td>[owner, ringling, bar, locate, south, white, sulphur, spring, stand, behind, facebook, post, criticize, nfl, player, take, knee, national, anthem, protest, police, brutality, post, make, ringling, bar, facebook, page, tuesday, night, since, receive, hundred, comment, share, post, read, ringling, bar, longer, show, nfl, game, allow, u, air, pbr, rodeo, nascar, event, whose, competitor, true, american, sorry, inconvenience, ringling, bar, coowner, kurt, bekemans, grow, paradise, valley, publish, post, say, care, post, turn, customer, away, seriously, would, care, nonamericans, patronize, place, say, bekemans, like, speak, rural, america, bet, see, farmer, rancher, whole, country, take, knee, guy, bet, find, one, appreciate, great, nation, give, ...]</td>\n",
              "      <td>1</td>\n",
              "    </tr>\n",
              "    <tr>\n",
              "      <th>9</th>\n",
              "      <td>9</td>\n",
              "      <td>[latest, pipeline, leak, underscore, danger, dakota, access, pipeline]</td>\n",
              "      <td>[file, sept, 15, 2005, file, photo, marker, welcome, commuter, cushing, okla, see, ap, photothe, oklahoman, matt, strasen, file, underscore, danger, america, unreliable, fossil, fuel, infrastructure, significant, u, oil, pipeline, shut, leak, report, monday, morning, enterprise, product, partner, say, monday, shut, seaway, crude, pipeline, 400000barrel, per, day, conduit, transport, crude, oil, cushing, oklahoma, gulf, coast, refinery, leak, occur, sunday, night, industrial, area, cushing, company, provide, estimate, volume, spill, say, danger, public, seaway, personnel, continue, make, progress, clean, spill, substantially, contain, retention, pond, enbridges, facility, company, say, news, release, pdf, explain, pipeline, 5050, joint, venture, enterprise, enbridge, inc, vacuum, truck, use, recover, ...]</td>\n",
              "      <td>1</td>\n",
              "    </tr>\n",
              "    <tr>\n",
              "      <th>10</th>\n",
              "      <td>10</td>\n",
              "      <td>[gop, senator, smack, punchable, altright, nazi, internet]</td>\n",
              "      <td>[punchable, altright, nazi, internet, get, thorough, beatdown, sen, ben, sasse, rneb, twitter, epic, tweetstorm, richard, spencer, altright, leader, become, human, punch, bag, get, racism, smack, republican, senator, thursday, white, nationalist, tweet, goober, conservative, blame, russia, racial, division, unite, state, spencer, respond, tweet, sasse, send, wednesdaysen, ben, sasse, share, article, regard, sen, jam, lankford, rokla, explain, russian, internet, troll, help, fuel, division, controversy, donald, trump, ignite, nfl, athlete, choose, kneel, rather, stand, national, anthem, protest, racial, inequality, police, brutalityno, one, love, americanvsamerican, fight, putin, intel, agency, stoke, side, every, dividehttpstcoh6bwjhzokh, ben, sasse, bensasse, september, 28, 2017spencer, respond, write, mind, goober, conservative, ...]</td>\n",
              "      <td>1</td>\n",
              "    </tr>\n",
              "    <tr>\n",
              "      <th>11</th>\n",
              "      <td>11</td>\n",
              "      <td>[may, brexit, offer, would, hurt, cost, eu, citizen, eu, parliament]</td>\n",
              "      <td>[brussels, reuters, british, prime, minister, theresa, may, offer, settle, status, eu, resident, flaw, leave, fewer, right, brexit, european, parliament, brexit, coordinator, say, tuesday, family, five, could, face, bill, 360, pound, acquire, new, status, guy, verhofstadt, tell, may, brexit, secretary, david, davis, letter, see, reuters, significant, amount, family, low, income, list, three, concern, eu, legislature, must, approve, treaty, march, 2019, exit, verhofstadt, tell, davis, proposal, eu, citizen, definitely, notice, deterioration, status, result, brexit, parliament, aim, along, eu, citizen, uk, citizen, eu27, notice, difference, verhofstadt, former, belgian, prime, minister, write, response, davis, write, parliament, complain, last, week, remain, major, issue, settle, right, ...]</td>\n",
              "      <td>0</td>\n",
              "    </tr>\n",
              "    <tr>\n",
              "      <th>12</th>\n",
              "      <td>12</td>\n",
              "      <td>[schumer, call, trump, appoint, official, oversee, puerto, rico, relief]</td>\n",
              "      <td>[washington, reuters, charles, schumer, top, democrat, u, senate, call, president, donald, trump, sunday, name, single, official, oversee, coordinate, relief, effort, hurricaneravaged, puerto, rico, schumer, along, representative, nydia, velàzquez, jose, serrano, say, ceo, response, recovery, need, manage, complex, ongoing, federal, response, territory, million, american, remain, without, power, supply, statement, schumer, say, current, federal, response, hurricane, maria, impact, island, disorganize, slowfooted, mismanage, person, ability, bring, federal, agency, together, cut, red, tape, public, private, side, help, turn, light, back, get, clean, water, flow, help, bring, recovery, million, american, go, long, worst, condition, say, white, house, immediately, respond, request, comment, democrat, contend, name, lone, ...]</td>\n",
              "      <td>0</td>\n",
              "    </tr>\n",
              "    <tr>\n",
              "      <th>13</th>\n",
              "      <td>13</td>\n",
              "      <td>[watch, hilarious, ad, call, question, health, age, clinton, crime, family, boss]</td>\n",
              "      <td>[watch, tell, video, wonder, instead, work, hard, get, back, white, house, hillary, time, would, better, spend, look, assist, live, situation, bill]</td>\n",
              "      <td>1</td>\n",
              "    </tr>\n",
              "    <tr>\n",
              "      <th>14</th>\n",
              "      <td>14</td>\n",
              "      <td>[change, expect, espn, political, agenda, despite, huge, subscriber, decline, breitbart]</td>\n",
              "      <td>[sport, fan, turn, espn, protest, network, social, political, agenda, parent, company, disney, decision, extend, current, ceo, bob, igers, contract, 2019, mean, world, leader, sport, entertainment, continue, merry, way, alienate, large, segment, american, breitbart, report, november, espn, lose, 3, 2, million, subscriber, year, moreover, last, year, sport, network, lose, 300, 000, subscriber, month, october, alone, beleaguer, network, lose, 621, 000, subscriber, decision, keep, iger, instead, move, another, direction, promote, coo, thomas, staggs, spot, number, substantial, business, implication, espn, awful, announce, report, outside, least, seem, like, iger, quite, satisfy, espns, leadership, network, path, front, specifically, he, regularly, speak, important, espn, skinny, bundle, ...]</td>\n",
              "      <td>0</td>\n",
              "    </tr>\n",
              "    <tr>\n",
              "      <th>15</th>\n",
              "      <td>15</td>\n",
              "      <td>[billionaire, odebrecht, brazil, scandal, release, house, arrest]</td>\n",
              "      <td>[rio, de, janeirosao, paulo, reuters, billionaire, marcelo, odebrecht, highestprofile, executive, imprison, brazil, massive, graft, scandal, release, jail, tuesday, continue, sentence, corruption, house, arrest, accord, federal, court, former, chief, executive, officer, odebrecht, sa, odbesul, latin, america, largest, construction, firm, arrest, 2015, investigation, dub, car, wash, expose, billion, dollar, kickback, politician, executive, staterun, company, exchange, inflate, contract, odebrecht, set, travel, sao, paulo, begin, house, arrest, electronic, surveillance, tuesday, accord, federal, court, parana, representative, former, executive, say, remain, commit, collaborate, authority, leniency, deal, odebrecht, first, sentence, 19, year, prison, one, many, case, relate, car, wash, reduce, 10, year, sign, leniency, deal, last, december, ...]</td>\n",
              "      <td>0</td>\n",
              "    </tr>\n",
              "    <tr>\n",
              "      <th>16</th>\n",
              "      <td>16</td>\n",
              "      <td>[british, woman, lose, virginity, asylum, seek, rapist, way, church]</td>\n",
              "      <td>[europe, likely, go, top, destination, family, young, daughter, one, blame, idiocy, political, correctness, death, europe, know, american, fortitude, stop, bleed, invasion, foreigner, soil, officially, control, predatory, asylum, seeker, chillingly, rap, 21yearold, devout, christian, woman, next, church, start, 10, year, jail, sentence, todayeritreanborn, mebrehtom, abrha, 25, stalk, vulnerable, virgin, 10, minute, walk, liverpool, city, centre, boyfriend, house, 6am, last, july, 19liverpool, crown, court, hear, drag, pavement, grassy, area, rap, twice, harrow, fourminute, ordealthe, terrify, attack, leave, devout, christian, angry, god, fear, contract, hiv, appal, judge, toldabrha, live, liverpool, flee, birmingham, arrest, follow, bbc, crimewatch, appeal, october, 12today, start, extend, sentence, 10, ...]</td>\n",
              "      <td>1</td>\n",
              "    </tr>\n",
              "    <tr>\n",
              "      <th>17</th>\n",
              "      <td>17</td>\n",
              "      <td>[un, seek, humanitarian, pause, sanaa, street, battleground]</td>\n",
              "      <td>[geneva, reuters, unite, nation, call, monday, humanitarian, pause, yemeni, capital, sanaa, tuesday, allow, civilian, leave, home, aid, worker, reach, wound, get, medical, care, jamie, mcgoldrick, un, humanitarian, coordinator, yemen, say, statement, street, sanaa, become, battleground, aid, worker, remain, lockdown, thus, call, party, conflict, urgently, enable, humanitarian, pause, tuesday, 5, december, 1000, 1600, pm, allow, civilian, leave, home, seek, assistance, protection, facilitate, movement, aid, worker, ensure, continuity, lifesaving, program, say, mcgoldrick, warn, war, party, deliberate, attack, civilian, civilian, medical, infrastructure, clear, violation, international, humanitarian, law, may, constitute, war, crime]</td>\n",
              "      <td>0</td>\n",
              "    </tr>\n",
              "    <tr>\n",
              "      <th>18</th>\n",
              "      <td>18</td>\n",
              "      <td>[major, liberal, rag, reluctantly, publish, article, president, trump, outstanding, accomplishmentsits, explain, success, everyone, laugh]</td>\n",
              "      <td>[atlantic, publication, know, unbiased, journalism, bite, publish, appear, reluctant, piece, president, trump, outstanding, accomplishment, first, 6, month, office, people, read, piece, atlantic, fan, write, buy, progressive, antiamerican, sentiment, feed, like, crack, cocaine, college, almost, like, patch, smoker, wear, help, get, withdrawal, nicotine, go, cessation, program, atlantic, provide, reader, enough, antitrump, propaganda, keep, business, act, like, support, group, reader, fear, every, antiamerican, piece, legislation, barack, obama, work, hard, implement, unravel, thank, guy, foolishly, want, make, america, great, course, eye, atlantic, reader, america, never, great, begin, withthe, part, atlantic, talk, president, trump, accomplishment, italicize, comment, writer, make, counter, trump, success, highlightedthe, atlantic, ...]</td>\n",
              "      <td>1</td>\n",
              "    </tr>\n",
              "    <tr>\n",
              "      <th>19</th>\n",
              "      <td>19</td>\n",
              "      <td>[second, judge, say, clinton, email, setup, may, bad, faith]</td>\n",
              "      <td>[new, york, reuters, second, federal, judge, take, rare, step, allow, group, sue, record, hillary, clinton, time, u, secretary, state, seek, swear, testimony, official, say, evidence, government, wrongdoing, bad, faith, language, judge, royce, lamberths, order, undercut, democratic, presidential, contender, assertion, allow, set, private, email, server, home, work, country, top, diplomat, arrangement, particularly, unusual, describe, clinton, email, arrangement, extraordinary, order, file, tuesday, federal, district, court, washington, refer, state, department, clinton, clinton, aide, say, constantly, shift, admission, government, former, government, official, spokesman, clinton, immediately, respond, request, comment, case, civil, matter, order, add, legal, uncertainty, overshadow, clinton, campaign, democratic, nominee, nov, 8, presidential, election, ...]</td>\n",
              "      <td>0</td>\n",
              "    </tr>\n",
              "    <tr>\n",
              "      <th>20</th>\n",
              "      <td>20</td>\n",
              "      <td>[america, give, grand, piano, horse]</td>\n",
              "      <td>[wednesday, 9, november, 2016, lucas, wilde, america, give, grand, piano, horse, america, give, grand, piano, horse, expect, quality, tune, im, particularly, look, forward, beethoven, ninth, beam, horse, supporter, piano, enthusiast, jay, cooper, horse, never, give, piano, frankly, establishment, wouldnt, allow, last, change, come, america, change, better, lot, doubter, doubter, soon, silence, graceful, note, chopin, mozart, maybe, even, little, richard, horse, dobbin, williams, say, im, really, sure, whats, expect, im, horse, absolutely, qualify, play, piano, mean, look, hoof, way, general, cant, even, sit, chair, properly, earth, anyone, think, good, idea, cooper, grin, weve, make, piano, great, democrat, elizabeth, king, say, want, ...]</td>\n",
              "      <td>1</td>\n",
              "    </tr>\n",
              "  </tbody>\n",
              "</table>\n",
              "</div>\n",
              "    <div class=\"colab-df-buttons\">\n",
              "\n",
              "  <div class=\"colab-df-container\">\n",
              "    <button class=\"colab-df-convert\" onclick=\"convertToInteractive('df-228b2f4c-bfc0-41cc-9362-4002aff466f3')\"\n",
              "            title=\"Convert this dataframe to an interactive table.\"\n",
              "            style=\"display:none;\">\n",
              "\n",
              "  <svg xmlns=\"http://www.w3.org/2000/svg\" height=\"24px\" viewBox=\"0 -960 960 960\">\n",
              "    <path d=\"M120-120v-720h720v720H120Zm60-500h600v-160H180v160Zm220 220h160v-160H400v160Zm0 220h160v-160H400v160ZM180-400h160v-160H180v160Zm440 0h160v-160H620v160ZM180-180h160v-160H180v160Zm440 0h160v-160H620v160Z\"/>\n",
              "  </svg>\n",
              "    </button>\n",
              "\n",
              "  <style>\n",
              "    .colab-df-container {\n",
              "      display:flex;\n",
              "      gap: 12px;\n",
              "    }\n",
              "\n",
              "    .colab-df-convert {\n",
              "      background-color: #E8F0FE;\n",
              "      border: none;\n",
              "      border-radius: 50%;\n",
              "      cursor: pointer;\n",
              "      display: none;\n",
              "      fill: #1967D2;\n",
              "      height: 32px;\n",
              "      padding: 0 0 0 0;\n",
              "      width: 32px;\n",
              "    }\n",
              "\n",
              "    .colab-df-convert:hover {\n",
              "      background-color: #E2EBFA;\n",
              "      box-shadow: 0px 1px 2px rgba(60, 64, 67, 0.3), 0px 1px 3px 1px rgba(60, 64, 67, 0.15);\n",
              "      fill: #174EA6;\n",
              "    }\n",
              "\n",
              "    .colab-df-buttons div {\n",
              "      margin-bottom: 4px;\n",
              "    }\n",
              "\n",
              "    [theme=dark] .colab-df-convert {\n",
              "      background-color: #3B4455;\n",
              "      fill: #D2E3FC;\n",
              "    }\n",
              "\n",
              "    [theme=dark] .colab-df-convert:hover {\n",
              "      background-color: #434B5C;\n",
              "      box-shadow: 0px 1px 3px 1px rgba(0, 0, 0, 0.15);\n",
              "      filter: drop-shadow(0px 1px 2px rgba(0, 0, 0, 0.3));\n",
              "      fill: #FFFFFF;\n",
              "    }\n",
              "  </style>\n",
              "\n",
              "    <script>\n",
              "      const buttonEl =\n",
              "        document.querySelector('#df-228b2f4c-bfc0-41cc-9362-4002aff466f3 button.colab-df-convert');\n",
              "      buttonEl.style.display =\n",
              "        google.colab.kernel.accessAllowed ? 'block' : 'none';\n",
              "\n",
              "      async function convertToInteractive(key) {\n",
              "        const element = document.querySelector('#df-228b2f4c-bfc0-41cc-9362-4002aff466f3');\n",
              "        const dataTable =\n",
              "          await google.colab.kernel.invokeFunction('convertToInteractive',\n",
              "                                                    [key], {});\n",
              "        if (!dataTable) return;\n",
              "\n",
              "        const docLinkHtml = 'Like what you see? Visit the ' +\n",
              "          '<a target=\"_blank\" href=https://colab.research.google.com/notebooks/data_table.ipynb>data table notebook</a>'\n",
              "          + ' to learn more about interactive tables.';\n",
              "        element.innerHTML = '';\n",
              "        dataTable['output_type'] = 'display_data';\n",
              "        await google.colab.output.renderOutput(dataTable, element);\n",
              "        const docLink = document.createElement('div');\n",
              "        docLink.innerHTML = docLinkHtml;\n",
              "        element.appendChild(docLink);\n",
              "      }\n",
              "    </script>\n",
              "  </div>\n",
              "\n",
              "\n",
              "<div id=\"df-5fdbef3c-88a0-4bc9-9b8a-a42475470c47\">\n",
              "  <button class=\"colab-df-quickchart\" onclick=\"quickchart('df-5fdbef3c-88a0-4bc9-9b8a-a42475470c47')\"\n",
              "            title=\"Suggest charts.\"\n",
              "            style=\"display:none;\">\n",
              "\n",
              "<svg xmlns=\"http://www.w3.org/2000/svg\" height=\"24px\"viewBox=\"0 0 24 24\"\n",
              "     width=\"24px\">\n",
              "    <g>\n",
              "        <path d=\"M19 3H5c-1.1 0-2 .9-2 2v14c0 1.1.9 2 2 2h14c1.1 0 2-.9 2-2V5c0-1.1-.9-2-2-2zM9 17H7v-7h2v7zm4 0h-2V7h2v10zm4 0h-2v-4h2v4z\"/>\n",
              "    </g>\n",
              "</svg>\n",
              "  </button>\n",
              "\n",
              "<style>\n",
              "  .colab-df-quickchart {\n",
              "      --bg-color: #E8F0FE;\n",
              "      --fill-color: #1967D2;\n",
              "      --hover-bg-color: #E2EBFA;\n",
              "      --hover-fill-color: #174EA6;\n",
              "      --disabled-fill-color: #AAA;\n",
              "      --disabled-bg-color: #DDD;\n",
              "  }\n",
              "\n",
              "  [theme=dark] .colab-df-quickchart {\n",
              "      --bg-color: #3B4455;\n",
              "      --fill-color: #D2E3FC;\n",
              "      --hover-bg-color: #434B5C;\n",
              "      --hover-fill-color: #FFFFFF;\n",
              "      --disabled-bg-color: #3B4455;\n",
              "      --disabled-fill-color: #666;\n",
              "  }\n",
              "\n",
              "  .colab-df-quickchart {\n",
              "    background-color: var(--bg-color);\n",
              "    border: none;\n",
              "    border-radius: 50%;\n",
              "    cursor: pointer;\n",
              "    display: none;\n",
              "    fill: var(--fill-color);\n",
              "    height: 32px;\n",
              "    padding: 0;\n",
              "    width: 32px;\n",
              "  }\n",
              "\n",
              "  .colab-df-quickchart:hover {\n",
              "    background-color: var(--hover-bg-color);\n",
              "    box-shadow: 0 1px 2px rgba(60, 64, 67, 0.3), 0 1px 3px 1px rgba(60, 64, 67, 0.15);\n",
              "    fill: var(--button-hover-fill-color);\n",
              "  }\n",
              "\n",
              "  .colab-df-quickchart-complete:disabled,\n",
              "  .colab-df-quickchart-complete:disabled:hover {\n",
              "    background-color: var(--disabled-bg-color);\n",
              "    fill: var(--disabled-fill-color);\n",
              "    box-shadow: none;\n",
              "  }\n",
              "\n",
              "  .colab-df-spinner {\n",
              "    border: 2px solid var(--fill-color);\n",
              "    border-color: transparent;\n",
              "    border-bottom-color: var(--fill-color);\n",
              "    animation:\n",
              "      spin 1s steps(1) infinite;\n",
              "  }\n",
              "\n",
              "  @keyframes spin {\n",
              "    0% {\n",
              "      border-color: transparent;\n",
              "      border-bottom-color: var(--fill-color);\n",
              "      border-left-color: var(--fill-color);\n",
              "    }\n",
              "    20% {\n",
              "      border-color: transparent;\n",
              "      border-left-color: var(--fill-color);\n",
              "      border-top-color: var(--fill-color);\n",
              "    }\n",
              "    30% {\n",
              "      border-color: transparent;\n",
              "      border-left-color: var(--fill-color);\n",
              "      border-top-color: var(--fill-color);\n",
              "      border-right-color: var(--fill-color);\n",
              "    }\n",
              "    40% {\n",
              "      border-color: transparent;\n",
              "      border-right-color: var(--fill-color);\n",
              "      border-top-color: var(--fill-color);\n",
              "    }\n",
              "    60% {\n",
              "      border-color: transparent;\n",
              "      border-right-color: var(--fill-color);\n",
              "    }\n",
              "    80% {\n",
              "      border-color: transparent;\n",
              "      border-right-color: var(--fill-color);\n",
              "      border-bottom-color: var(--fill-color);\n",
              "    }\n",
              "    90% {\n",
              "      border-color: transparent;\n",
              "      border-bottom-color: var(--fill-color);\n",
              "    }\n",
              "  }\n",
              "</style>\n",
              "\n",
              "  <script>\n",
              "    async function quickchart(key) {\n",
              "      const quickchartButtonEl =\n",
              "        document.querySelector('#' + key + ' button');\n",
              "      quickchartButtonEl.disabled = true;  // To prevent multiple clicks.\n",
              "      quickchartButtonEl.classList.add('colab-df-spinner');\n",
              "      try {\n",
              "        const charts = await google.colab.kernel.invokeFunction(\n",
              "            'suggestCharts', [key], {});\n",
              "      } catch (error) {\n",
              "        console.error('Error during call to suggestCharts:', error);\n",
              "      }\n",
              "      quickchartButtonEl.classList.remove('colab-df-spinner');\n",
              "      quickchartButtonEl.classList.add('colab-df-quickchart-complete');\n",
              "    }\n",
              "    (() => {\n",
              "      let quickchartButtonEl =\n",
              "        document.querySelector('#df-5fdbef3c-88a0-4bc9-9b8a-a42475470c47 button');\n",
              "      quickchartButtonEl.style.display =\n",
              "        google.colab.kernel.accessAllowed ? 'block' : 'none';\n",
              "    })();\n",
              "  </script>\n",
              "</div>\n",
              "    </div>\n",
              "  </div>\n"
            ]
          },
          "metadata": {},
          "execution_count": 25
        }
      ]
    },
    {
      "cell_type": "code",
      "source": [
        "lemmdata['title_length'] = lemmdata.title.map(len)"
      ],
      "metadata": {
        "id": "KpRiyysEhsJc"
      },
      "execution_count": 26,
      "outputs": []
    },
    {
      "cell_type": "code",
      "source": [
        "lemmdata['text_length'] = lemmdata.text.map(len)"
      ],
      "metadata": {
        "id": "9-EZG0pFh9jk"
      },
      "execution_count": 27,
      "outputs": []
    },
    {
      "cell_type": "code",
      "source": [
        "#plot value counts of text column\n",
        "import matplotlib.pyplot as plt\n",
        "\n",
        "#lemmdata.hist(column='title_length')"
      ],
      "metadata": {
        "id": "zTeAwgqaiVyE"
      },
      "execution_count": 28,
      "outputs": []
    },
    {
      "cell_type": "code",
      "source": [
        "lemmdata.hist(column='text_length', range=[0, 5000])"
      ],
      "metadata": {
        "colab": {
          "base_uri": "https://localhost:8080/",
          "height": 469
        },
        "id": "BoPRNdYNkBkE",
        "outputId": "c4a0cc74-93b6-4053-b805-e50b1b05069e"
      },
      "execution_count": 29,
      "outputs": [
        {
          "output_type": "execute_result",
          "data": {
            "text/plain": [
              "array([[<Axes: title={'center': 'text_length'}>]], dtype=object)"
            ]
          },
          "metadata": {},
          "execution_count": 29
        },
        {
          "output_type": "display_data",
          "data": {
            "text/plain": [
              "<Figure size 640x480 with 1 Axes>"
            ],
            "image/png": "[encoded data removed]"
          },
          "metadata": {}
        }
      ]
    },
    {
      "cell_type": "code",
      "source": [
        "lemmdata.boxplot(column='text_length')"
      ],
      "metadata": {
        "colab": {
          "base_uri": "https://localhost:8080/",
          "height": 447
        },
        "id": "MKvfKfqElpSy",
        "outputId": "e0c62ddb-606d-42d8-b477-3eff6eca880d"
      },
      "execution_count": 31,
      "outputs": [
        {
          "output_type": "execute_result",
          "data": {
            "text/plain": [
              "<Axes: >"
            ]
          },
          "metadata": {},
          "execution_count": 31
        },
        {
          "output_type": "display_data",
          "data": {
            "text/plain": [
              "<Figure size 640x480 with 1 Axes>"
            ],
            "image/png": "[encoded data removed]"
          },
          "metadata": {}
        }
      ]
    },
    {
      "cell_type": "code",
      "source": [
        "lemmdata.boxplot(column=\"title_length\")"
      ],
      "metadata": {
        "colab": {
          "base_uri": "https://localhost:8080/",
          "height": 447
        },
        "id": "uZ5jKcxQlw7w",
        "outputId": "2c749577-e026-4ea1-8d81-6091b9903ad6"
      },
      "execution_count": 32,
      "outputs": [
        {
          "output_type": "execute_result",
          "data": {
            "text/plain": [
              "<Axes: >"
            ]
          },
          "metadata": {},
          "execution_count": 32
        },
        {
          "output_type": "display_data",
          "data": {
            "text/plain": [
              "<Figure size 640x480 with 1 Axes>"
            ],
            "image/png": "[encoded data removed]"
          },
          "metadata": {}
        }
      ]
    },
    {
      "cell_type": "code",
      "source": [
        "lemmdata['text_length'].max()"
      ],
      "metadata": {
        "colab": {
          "base_uri": "https://localhost:8080/"
        },
        "id": "JQxT5F-xmLfz",
        "outputId": "295bc881-16b6-4c0d-fda0-3548ef5804ed"
      },
      "execution_count": 48,
      "outputs": [
        {
          "output_type": "execute_result",
          "data": {
            "text/plain": [
              "20723"
            ]
          },
          "metadata": {},
          "execution_count": 48
        }
      ]
    },
    {
      "cell_type": "code",
      "source": [
        "lemmdata['title_length'].max()"
      ],
      "metadata": {
        "colab": {
          "base_uri": "https://localhost:8080/"
        },
        "id": "X6te3rMrm2Cu",
        "outputId": "8db6bf46-a071-4327-cffe-991d7f8f450e"
      },
      "execution_count": 49,
      "outputs": [
        {
          "output_type": "execute_result",
          "data": {
            "text/plain": [
              "46"
            ]
          },
          "metadata": {},
          "execution_count": 49
        }
      ]
    },
    {
      "cell_type": "code",
      "source": [
        "lemmdata['text_length'].min()"
      ],
      "metadata": {
        "colab": {
          "base_uri": "https://localhost:8080/"
        },
        "id": "Yo-XL-YIm-zH",
        "outputId": "4a714859-414e-4cc8-957c-3005dd82bbba"
      },
      "execution_count": 33,
      "outputs": [
        {
          "output_type": "execute_result",
          "data": {
            "text/plain": [
              "0"
            ]
          },
          "metadata": {},
          "execution_count": 33
        }
      ]
    },
    {
      "cell_type": "code",
      "source": [
        "lemmdata['title_length'].min()"
      ],
      "metadata": {
        "colab": {
          "base_uri": "https://localhost:8080/"
        },
        "id": "-FD_99KYnCZn",
        "outputId": "c240781d-1ad1-4e24-abda-2b0f075805f4"
      },
      "execution_count": 34,
      "outputs": [
        {
          "output_type": "execute_result",
          "data": {
            "text/plain": [
              "0"
            ]
          },
          "metadata": {},
          "execution_count": 34
        }
      ]
    },
    {
      "cell_type": "code",
      "source": [
        "lemmdata"
      ],
      "metadata": {
        "colab": {
          "base_uri": "https://localhost:8080/",
          "height": 1000
        },
        "id": "ouQbr7_uh0i7",
        "outputId": "c697adb1-cf57-41db-cc95-e9b7ee9c7d4f"
      },
      "execution_count": 35,
      "outputs": [
        {
          "output_type": "execute_result",
          "data": {
            "text/plain": [
              "       Unnamed: 0  \\\n",
              "0               0   \n",
              "2               2   \n",
              "3               3   \n",
              "4               4   \n",
              "5               5   \n",
              "...           ...   \n",
              "72129       72129   \n",
              "72130       72130   \n",
              "72131       72131   \n",
              "72132       72132   \n",
              "72133       72133   \n",
              "\n",
              "                                                                                                                                title  \\\n",
              "0                      [law, enforcement, high, alert, follow, threat, cop, white, 911by, blacklivesmatter, fyf911, terrorist, video]   \n",
              "2      [unbelievable, obamas, attorney, general, say, charlotte, rioter, peaceful, protestersin, home, state, north, carolina, video]   \n",
              "3                            [bobby, jindal, raise, hindu, us, story, christian, conversion, woo, evangelicals, potential, 2016, bid]   \n",
              "4                                           [satan, 2, russia, unvelis, image, terrify, new, supernuke, western, world, take, notice]   \n",
              "5                                                               [time, christian, group, sue, amazon, splc, designation, hate, group]   \n",
              "...                                                                                                                               ...   \n",
              "72129                                                                   [russian, steal, research, trump, hack, u, democratic, party]   \n",
              "72130                                                       [watch, giuliani, demand, democrat, apologize, trump, racist, birtherism]   \n",
              "72131                                                                         [migrant, refuse, leave, train, refugee, camp, hungary]   \n",
              "72132                                                       [trump, tussle, give, unpopular, mexican, leader, muchneeded, shoot, arm]   \n",
              "72133                                                                          [goldman, sachs, endorse, hillary, clinton, president]   \n",
              "\n",
              "                                                                                                                                                                                                                                                                                                                                                                                                                                                                                                                                                                                                                                                                                                                                                                                                                                                                                                                                        text  \\\n",
              "0                                                                                                                              [comment, expect, barack, obama, member, fyf911, fukyoflag, blacklivesmatter, movement, call, lynch, hang, white, people, cop, encourage, others, radio, show, tuesday, night, turn, tide, kill, white, people, cop, send, message, kill, black, people, americaone, fyoflag, organizer, call, sunshine, radio, blog, show, host, texas, call, sunshine, fing, opinion, radio, show, snapshot, fyf911, lolatwhitefear, twitter, page, 953, pm, show, urge, supporter, call, fyf911, tonight, continue, dismantle, illusion, white, snapshot, twitter, radio, call, invite, fyf911the, radio, show, air, 1000, pm, eastern, standard, timeduring, show, caller, clearly, call, lynch, kill, white, peoplea, 239, minute, clip, radio, show, hear, provide, breitbart, texas, someone, would, like, refer, ...]   \n",
              "2                                                                                                                                                                                                                                                                                                                                                                                                                                                                                                                                                                                                                                                                                                                                                            [demonstrator, gather, last, night, exercise, constitutional, protect, right, peaceful, protest, order, raise, issue, create, change, loretta, lynch, aka, eric, holder, skirt]   \n",
              "3                                                                                                           [dozen, politically, active, pastor, come, private, dinner, friday, night, hear, conversion, story, unique, context, presidential, politics, louisiana, gov, bobby, jindal, travel, hinduism, protestant, christianity, ultimately, become, call, evangelical, catholic, two, hour, jindal, 42, recall, talk, girl, high, school, want, save, soul, read, bible, closet, parent, would, see, feel, stir, watch, movie, senior, year, depict, jesus, cross, strike, strike, hard, jindal, tell, pastor, son, god, die, sin, jindals, session, christian, clergy, lead, congregation, early, presidential, battleground, state, iowa, south, carolina, part, behindthescenes, effort, louisiana, governor, find, political, base, could, help, propel, top, tier, republican, candidate, seek, run, white, house, 2016, know, ...]   \n",
              "4                                                                                                                                                               [rs28, sarmat, missile, dub, satan, 2, replace, ss18, fly, 43, mile, 7km, per, sec, range, 6213, mile, 10000km, weapon, perceive, part, increasingly, aggressive, russia, could, deliver, warhead, 40, megaton, 2000, time, powerful, atom, bomb, drop, hiroshima, nagasaki, 1945, libby, plummer, gareth, davie, russia, unveil, chill, picture, largest, ever, nuclear, missile, capable, destroy, area, size, france, rs28, sarmat, missile, dub, satan, 2, nato, top, speed, 43, mile, 7km, per, second, design, outfox, antimissile, shield, system, new, sarmat, missile, could, deliver, warhead, 40, megaton, 2000, time, powerful, atom, bomb, drop, hiroshima, nagasaki, 1945, scroll, video, russian, president, vladimir, putin, reportedly, plan, replace, ...]   \n",
              "5                                                 [say, one, time, someone, sue, southern, poverty, law, centeron, tuesday, jam, kennedy, ministry, djkm, file, lawsuit, southern, poverty, law, center, splc, charity, navigation, organization, guidestar, amazon, defamation, religious, discrimination, traffic, falsehood, splc, list, djkm, hate, group, guidestar, also, categorize, term, amazon, keep, ministry, charity, donation, program, amazon, smile, embark, today, journey, right, terrible, wrong, dr, frank, wright, president, ceo, djkm, say, statement, tuesday, knowingly, label, christian, ministry, hate, group, solely, subscribe, historic, christian, faith, either, woefully, uninformed, willfully, deceitful, case, southern, poverty, law, center, lawsuit, allege, latter, splc, label, djkm, antilgbt, hate, group, opposition, samesex, marriage, transgenderism, false, illegal, characterization, ...]   \n",
              "...                                                                                                                                                                                                                                                                                                                                                                                                                                                                                                                                                                                                                                                                                                                                                                                                                                                                                                                                      ...   \n",
              "72129  [washington, reuters, hacker, believe, work, russian, government, break, democratic, national, committee, computer, network, spy, internal, communication, access, research, presumptive, republican, presidential, nominee, donald, trump, committee, security, expert, say, tuesday, two, separate, group, enter, dncs, system, one, read, email, chat, communication, nearly, year, detect, accord, committee, crowdstrike, cyber, firm, help, clean, breach, russian, spy, also, target, network, trump, democratic, presidential, candidate, hillary, clinton, well, computer, republican, political, action, committee, washington, post, quote, u, official, say, although, detail, available, clinton, campaign, official, say, evidence, campaign, information, system, hack, russian, government, spokesman, deny, involvement, breach, completely, rule, possibility, russian, government, government, body, involve, ...]   \n",
              "72130                                                                  [know, fantasyland, republican, never, question, citizenship, america, first, black, presidentbut, exactly, year, donald, trump, lead, charge, go, call, fox, news, every, chance, could, order, demand, president, obama, birth, certificateit, trump, constantly, claim, president, obama, bear, kenya, even, though, hawaii, newspaper, time, announce, obama, birthtrump, birther, fan, finally, utterly, humiliate, president, obama, release, birth, certificate, publicand, birtherism, come, back, bite, trump, as, try, convince, black, voter, racistpart, reason, black, voter, reject, trump, question, citizenship, president, obama, simply, black, trump, want, everyone, pretend, say, nasty, thing, president, obama, trump, pawn, rudy, giuliani, demand, democrat, apologize, trump, birtherismgiuliani, take, forget, 911, recently, appear, ...]   \n",
              "72131                                                                           [migrant, refuse, leave, train, refugee, camp, hungary, thousand, migrant, flood, train, station, hungarian, capital, thursday, police, lift, twoday, blockade, board, train, think, go, germany, end, instead, refugee, camp, mile, budapest, associate, press, report, excite, migrant, pile, newly, arrive, train, keleti, station, hungary, capital, despite, announcement, hungarian, english, service, station, western, europe, cancel, statement, main, departure, board, say, train, austria, germany, would, depart, due, safety, reason, notice, many, migrant, couldnt, understand, either, language, receive, advice, hungarian, official, scramble, aboard, standingroomonly, crush, hop, best, ap, say, scuffle, break, police, order, passenger, train, bicske, accord, bbc, meanwhile, hungary, prime, minister, say, country, manage, ...]   \n",
              "72132                                                                                                                             [mexico, city, reuters, donald, trump, combative, style, buffet, mexico, president, month, deeply, unpopular, enrique, pena, nieto, may, end, thank, new, u, president, prompt, offend, mexican, rally, behind, leader, billionaire, business, magnate, carlos, slim, political, opponent, groundswell, support, pena, nieto, cut, lonely, figure, month, bruise, encounter, trump, often, refer, initial, epn, pena, nieto, labor, worst, approval, rat, mexican, president, decade, due, discontent, corruption, gang, violence, sluggish, growth, jump, fuel, price, trump, threat, scrap, nafta, trade, deal, mexico, build, border, wall, cause, anger, leave, mexican, feel, fearful, future, challenge, pena, nieto, thursday, say, skip, plan, summit, two, leader, mexico, wasnt, will, pay, ...]   \n",
              "72133                                                                                  [goldman, sachs, endorse, hillary, clinton, president, goldman, sachs, really, choice, cycle, october, 27, 2016, sociable, share, lloyd, blankfein, ceo, goldman, sachs, greet, hillary, clinton, panel, discussion, clinton, global, initiative, sept, 24, 2014, new, york, publish, partnership, shadowproof, he, sunday, former, secretary, state, hillary, clinton, earn, endorsement, goldman, sachs, ceo, lloyd, blankfein, endorsement, work, toward, year, reveal, wikileaks, hillary, clinton, spend, run, presidential, campaign, give, speech, goldman, sachs, wall, street, bank, praise, talent, explain, position, financial, regulation, october, 24, 2013, clinton, tell, goldman, sachs, doddfrank, do, mostly, political, reason, congress, need, look, like, something, crisis, say, there, nothing, magic, regulation, much, ...]   \n",
              "\n",
              "       label  title_length  text_length  \n",
              "0          1            13          463  \n",
              "2          1            14           21  \n",
              "3          0            13          743  \n",
              "4          1            12          201  \n",
              "5          1             9          142  \n",
              "...      ...           ...          ...  \n",
              "72129      0             8          457  \n",
              "72130      1             8          331  \n",
              "72131      0             7          268  \n",
              "72132      0             9          341  \n",
              "72133      1             6          251  \n",
              "\n",
              "[71537 rows x 6 columns]"
            ],
            "text/html": [
              "\n",
              "  <div id=\"df-152531ed-b2e3-4834-8025-0e8865191eb4\" class=\"colab-df-container\">\n",
              "    <div>\n",
              "<style scoped>\n",
              "    .dataframe tbody tr th:only-of-type {\n",
              "        vertical-align: middle;\n",
              "    }\n",
              "\n",
              "    .dataframe tbody tr th {\n",
              "        vertical-align: top;\n",
              "    }\n",
              "\n",
              "    .dataframe thead th {\n",
              "        text-align: right;\n",
              "    }\n",
              "</style>\n",
              "<table border=\"1\" class=\"dataframe\">\n",
              "  <thead>\n",
              "    <tr style=\"text-align: right;\">\n",
              "      <th></th>\n",
              "      <th>Unnamed: 0</th>\n",
              "      <th>title</th>\n",
              "      <th>text</th>\n",
              "      <th>label</th>\n",
              "      <th>title_length</th>\n",
              "      <th>text_length</th>\n",
              "    </tr>\n",
              "  </thead>\n",
              "  <tbody>\n",
              "    <tr>\n",
              "      <th>0</th>\n",
              "      <td>0</td>\n",
              "      <td>[law, enforcement, high, alert, follow, threat, cop, white, 911by, blacklivesmatter, fyf911, terrorist, video]</td>\n",
              "      <td>[comment, expect, barack, obama, member, fyf911, fukyoflag, blacklivesmatter, movement, call, lynch, hang, white, people, cop, encourage, others, radio, show, tuesday, night, turn, tide, kill, white, people, cop, send, message, kill, black, people, americaone, fyoflag, organizer, call, sunshine, radio, blog, show, host, texas, call, sunshine, fing, opinion, radio, show, snapshot, fyf911, lolatwhitefear, twitter, page, 953, pm, show, urge, supporter, call, fyf911, tonight, continue, dismantle, illusion, white, snapshot, twitter, radio, call, invite, fyf911the, radio, show, air, 1000, pm, eastern, standard, timeduring, show, caller, clearly, call, lynch, kill, white, peoplea, 239, minute, clip, radio, show, hear, provide, breitbart, texas, someone, would, like, refer, ...]</td>\n",
              "      <td>1</td>\n",
              "      <td>13</td>\n",
              "      <td>463</td>\n",
              "    </tr>\n",
              "    <tr>\n",
              "      <th>2</th>\n",
              "      <td>2</td>\n",
              "      <td>[unbelievable, obamas, attorney, general, say, charlotte, rioter, peaceful, protestersin, home, state, north, carolina, video]</td>\n",
              "      <td>[demonstrator, gather, last, night, exercise, constitutional, protect, right, peaceful, protest, order, raise, issue, create, change, loretta, lynch, aka, eric, holder, skirt]</td>\n",
              "      <td>1</td>\n",
              "      <td>14</td>\n",
              "      <td>21</td>\n",
              "    </tr>\n",
              "    <tr>\n",
              "      <th>3</th>\n",
              "      <td>3</td>\n",
              "      <td>[bobby, jindal, raise, hindu, us, story, christian, conversion, woo, evangelicals, potential, 2016, bid]</td>\n",
              "      <td>[dozen, politically, active, pastor, come, private, dinner, friday, night, hear, conversion, story, unique, context, presidential, politics, louisiana, gov, bobby, jindal, travel, hinduism, protestant, christianity, ultimately, become, call, evangelical, catholic, two, hour, jindal, 42, recall, talk, girl, high, school, want, save, soul, read, bible, closet, parent, would, see, feel, stir, watch, movie, senior, year, depict, jesus, cross, strike, strike, hard, jindal, tell, pastor, son, god, die, sin, jindals, session, christian, clergy, lead, congregation, early, presidential, battleground, state, iowa, south, carolina, part, behindthescenes, effort, louisiana, governor, find, political, base, could, help, propel, top, tier, republican, candidate, seek, run, white, house, 2016, know, ...]</td>\n",
              "      <td>0</td>\n",
              "      <td>13</td>\n",
              "      <td>743</td>\n",
              "    </tr>\n",
              "    <tr>\n",
              "      <th>4</th>\n",
              "      <td>4</td>\n",
              "      <td>[satan, 2, russia, unvelis, image, terrify, new, supernuke, western, world, take, notice]</td>\n",
              "      <td>[rs28, sarmat, missile, dub, satan, 2, replace, ss18, fly, 43, mile, 7km, per, sec, range, 6213, mile, 10000km, weapon, perceive, part, increasingly, aggressive, russia, could, deliver, warhead, 40, megaton, 2000, time, powerful, atom, bomb, drop, hiroshima, nagasaki, 1945, libby, plummer, gareth, davie, russia, unveil, chill, picture, largest, ever, nuclear, missile, capable, destroy, area, size, france, rs28, sarmat, missile, dub, satan, 2, nato, top, speed, 43, mile, 7km, per, second, design, outfox, antimissile, shield, system, new, sarmat, missile, could, deliver, warhead, 40, megaton, 2000, time, powerful, atom, bomb, drop, hiroshima, nagasaki, 1945, scroll, video, russian, president, vladimir, putin, reportedly, plan, replace, ...]</td>\n",
              "      <td>1</td>\n",
              "      <td>12</td>\n",
              "      <td>201</td>\n",
              "    </tr>\n",
              "    <tr>\n",
              "      <th>5</th>\n",
              "      <td>5</td>\n",
              "      <td>[time, christian, group, sue, amazon, splc, designation, hate, group]</td>\n",
              "      <td>[say, one, time, someone, sue, southern, poverty, law, centeron, tuesday, jam, kennedy, ministry, djkm, file, lawsuit, southern, poverty, law, center, splc, charity, navigation, organization, guidestar, amazon, defamation, religious, discrimination, traffic, falsehood, splc, list, djkm, hate, group, guidestar, also, categorize, term, amazon, keep, ministry, charity, donation, program, amazon, smile, embark, today, journey, right, terrible, wrong, dr, frank, wright, president, ceo, djkm, say, statement, tuesday, knowingly, label, christian, ministry, hate, group, solely, subscribe, historic, christian, faith, either, woefully, uninformed, willfully, deceitful, case, southern, poverty, law, center, lawsuit, allege, latter, splc, label, djkm, antilgbt, hate, group, opposition, samesex, marriage, transgenderism, false, illegal, characterization, ...]</td>\n",
              "      <td>1</td>\n",
              "      <td>9</td>\n",
              "      <td>142</td>\n",
              "    </tr>\n",
              "    <tr>\n",
              "      <th>...</th>\n",
              "      <td>...</td>\n",
              "      <td>...</td>\n",
              "      <td>...</td>\n",
              "      <td>...</td>\n",
              "      <td>...</td>\n",
              "      <td>...</td>\n",
              "    </tr>\n",
              "    <tr>\n",
              "      <th>72129</th>\n",
              "      <td>72129</td>\n",
              "      <td>[russian, steal, research, trump, hack, u, democratic, party]</td>\n",
              "      <td>[washington, reuters, hacker, believe, work, russian, government, break, democratic, national, committee, computer, network, spy, internal, communication, access, research, presumptive, republican, presidential, nominee, donald, trump, committee, security, expert, say, tuesday, two, separate, group, enter, dncs, system, one, read, email, chat, communication, nearly, year, detect, accord, committee, crowdstrike, cyber, firm, help, clean, breach, russian, spy, also, target, network, trump, democratic, presidential, candidate, hillary, clinton, well, computer, republican, political, action, committee, washington, post, quote, u, official, say, although, detail, available, clinton, campaign, official, say, evidence, campaign, information, system, hack, russian, government, spokesman, deny, involvement, breach, completely, rule, possibility, russian, government, government, body, involve, ...]</td>\n",
              "      <td>0</td>\n",
              "      <td>8</td>\n",
              "      <td>457</td>\n",
              "    </tr>\n",
              "    <tr>\n",
              "      <th>72130</th>\n",
              "      <td>72130</td>\n",
              "      <td>[watch, giuliani, demand, democrat, apologize, trump, racist, birtherism]</td>\n",
              "      <td>[know, fantasyland, republican, never, question, citizenship, america, first, black, presidentbut, exactly, year, donald, trump, lead, charge, go, call, fox, news, every, chance, could, order, demand, president, obama, birth, certificateit, trump, constantly, claim, president, obama, bear, kenya, even, though, hawaii, newspaper, time, announce, obama, birthtrump, birther, fan, finally, utterly, humiliate, president, obama, release, birth, certificate, publicand, birtherism, come, back, bite, trump, as, try, convince, black, voter, racistpart, reason, black, voter, reject, trump, question, citizenship, president, obama, simply, black, trump, want, everyone, pretend, say, nasty, thing, president, obama, trump, pawn, rudy, giuliani, demand, democrat, apologize, trump, birtherismgiuliani, take, forget, 911, recently, appear, ...]</td>\n",
              "      <td>1</td>\n",
              "      <td>8</td>\n",
              "      <td>331</td>\n",
              "    </tr>\n",
              "    <tr>\n",
              "      <th>72131</th>\n",
              "      <td>72131</td>\n",
              "      <td>[migrant, refuse, leave, train, refugee, camp, hungary]</td>\n",
              "      <td>[migrant, refuse, leave, train, refugee, camp, hungary, thousand, migrant, flood, train, station, hungarian, capital, thursday, police, lift, twoday, blockade, board, train, think, go, germany, end, instead, refugee, camp, mile, budapest, associate, press, report, excite, migrant, pile, newly, arrive, train, keleti, station, hungary, capital, despite, announcement, hungarian, english, service, station, western, europe, cancel, statement, main, departure, board, say, train, austria, germany, would, depart, due, safety, reason, notice, many, migrant, couldnt, understand, either, language, receive, advice, hungarian, official, scramble, aboard, standingroomonly, crush, hop, best, ap, say, scuffle, break, police, order, passenger, train, bicske, accord, bbc, meanwhile, hungary, prime, minister, say, country, manage, ...]</td>\n",
              "      <td>0</td>\n",
              "      <td>7</td>\n",
              "      <td>268</td>\n",
              "    </tr>\n",
              "    <tr>\n",
              "      <th>72132</th>\n",
              "      <td>72132</td>\n",
              "      <td>[trump, tussle, give, unpopular, mexican, leader, muchneeded, shoot, arm]</td>\n",
              "      <td>[mexico, city, reuters, donald, trump, combative, style, buffet, mexico, president, month, deeply, unpopular, enrique, pena, nieto, may, end, thank, new, u, president, prompt, offend, mexican, rally, behind, leader, billionaire, business, magnate, carlos, slim, political, opponent, groundswell, support, pena, nieto, cut, lonely, figure, month, bruise, encounter, trump, often, refer, initial, epn, pena, nieto, labor, worst, approval, rat, mexican, president, decade, due, discontent, corruption, gang, violence, sluggish, growth, jump, fuel, price, trump, threat, scrap, nafta, trade, deal, mexico, build, border, wall, cause, anger, leave, mexican, feel, fearful, future, challenge, pena, nieto, thursday, say, skip, plan, summit, two, leader, mexico, wasnt, will, pay, ...]</td>\n",
              "      <td>0</td>\n",
              "      <td>9</td>\n",
              "      <td>341</td>\n",
              "    </tr>\n",
              "    <tr>\n",
              "      <th>72133</th>\n",
              "      <td>72133</td>\n",
              "      <td>[goldman, sachs, endorse, hillary, clinton, president]</td>\n",
              "      <td>[goldman, sachs, endorse, hillary, clinton, president, goldman, sachs, really, choice, cycle, october, 27, 2016, sociable, share, lloyd, blankfein, ceo, goldman, sachs, greet, hillary, clinton, panel, discussion, clinton, global, initiative, sept, 24, 2014, new, york, publish, partnership, shadowproof, he, sunday, former, secretary, state, hillary, clinton, earn, endorsement, goldman, sachs, ceo, lloyd, blankfein, endorsement, work, toward, year, reveal, wikileaks, hillary, clinton, spend, run, presidential, campaign, give, speech, goldman, sachs, wall, street, bank, praise, talent, explain, position, financial, regulation, october, 24, 2013, clinton, tell, goldman, sachs, doddfrank, do, mostly, political, reason, congress, need, look, like, something, crisis, say, there, nothing, magic, regulation, much, ...]</td>\n",
              "      <td>1</td>\n",
              "      <td>6</td>\n",
              "      <td>251</td>\n",
              "    </tr>\n",
              "  </tbody>\n",
              "</table>\n",
              "<p>71537 rows × 6 columns</p>\n",
              "</div>\n",
              "    <div class=\"colab-df-buttons\">\n",
              "\n",
              "  <div class=\"colab-df-container\">\n",
              "    <button class=\"colab-df-convert\" onclick=\"convertToInteractive('df-152531ed-b2e3-4834-8025-0e8865191eb4')\"\n",
              "            title=\"Convert this dataframe to an interactive table.\"\n",
              "            style=\"display:none;\">\n",
              "\n",
              "  <svg xmlns=\"http://www.w3.org/2000/svg\" height=\"24px\" viewBox=\"0 -960 960 960\">\n",
              "    <path d=\"M120-120v-720h720v720H120Zm60-500h600v-160H180v160Zm220 220h160v-160H400v160Zm0 220h160v-160H400v160ZM180-400h160v-160H180v160Zm440 0h160v-160H620v160ZM180-180h160v-160H180v160Zm440 0h160v-160H620v160Z\"/>\n",
              "  </svg>\n",
              "    </button>\n",
              "\n",
              "  <style>\n",
              "    .colab-df-container {\n",
              "      display:flex;\n",
              "      gap: 12px;\n",
              "    }\n",
              "\n",
              "    .colab-df-convert {\n",
              "      background-color: #E8F0FE;\n",
              "      border: none;\n",
              "      border-radius: 50%;\n",
              "      cursor: pointer;\n",
              "      display: none;\n",
              "      fill: #1967D2;\n",
              "      height: 32px;\n",
              "      padding: 0 0 0 0;\n",
              "      width: 32px;\n",
              "    }\n",
              "\n",
              "    .colab-df-convert:hover {\n",
              "      background-color: #E2EBFA;\n",
              "      box-shadow: 0px 1px 2px rgba(60, 64, 67, 0.3), 0px 1px 3px 1px rgba(60, 64, 67, 0.15);\n",
              "      fill: #174EA6;\n",
              "    }\n",
              "\n",
              "    .colab-df-buttons div {\n",
              "      margin-bottom: 4px;\n",
              "    }\n",
              "\n",
              "    [theme=dark] .colab-df-convert {\n",
              "      background-color: #3B4455;\n",
              "      fill: #D2E3FC;\n",
              "    }\n",
              "\n",
              "    [theme=dark] .colab-df-convert:hover {\n",
              "      background-color: #434B5C;\n",
              "      box-shadow: 0px 1px 3px 1px rgba(0, 0, 0, 0.15);\n",
              "      filter: drop-shadow(0px 1px 2px rgba(0, 0, 0, 0.3));\n",
              "      fill: #FFFFFF;\n",
              "    }\n",
              "  </style>\n",
              "\n",
              "    <script>\n",
              "      const buttonEl =\n",
              "        document.querySelector('#df-152531ed-b2e3-4834-8025-0e8865191eb4 button.colab-df-convert');\n",
              "      buttonEl.style.display =\n",
              "        google.colab.kernel.accessAllowed ? 'block' : 'none';\n",
              "\n",
              "      async function convertToInteractive(key) {\n",
              "        const element = document.querySelector('#df-152531ed-b2e3-4834-8025-0e8865191eb4');\n",
              "        const dataTable =\n",
              "          await google.colab.kernel.invokeFunction('convertToInteractive',\n",
              "                                                    [key], {});\n",
              "        if (!dataTable) return;\n",
              "\n",
              "        const docLinkHtml = 'Like what you see? Visit the ' +\n",
              "          '<a target=\"_blank\" href=https://colab.research.google.com/notebooks/data_table.ipynb>data table notebook</a>'\n",
              "          + ' to learn more about interactive tables.';\n",
              "        element.innerHTML = '';\n",
              "        dataTable['output_type'] = 'display_data';\n",
              "        await google.colab.output.renderOutput(dataTable, element);\n",
              "        const docLink = document.createElement('div');\n",
              "        docLink.innerHTML = docLinkHtml;\n",
              "        element.appendChild(docLink);\n",
              "      }\n",
              "    </script>\n",
              "  </div>\n",
              "\n",
              "\n",
              "<div id=\"df-9939f48b-3b18-4018-a8e3-1a3b5de058d7\">\n",
              "  <button class=\"colab-df-quickchart\" onclick=\"quickchart('df-9939f48b-3b18-4018-a8e3-1a3b5de058d7')\"\n",
              "            title=\"Suggest charts.\"\n",
              "            style=\"display:none;\">\n",
              "\n",
              "<svg xmlns=\"http://www.w3.org/2000/svg\" height=\"24px\"viewBox=\"0 0 24 24\"\n",
              "     width=\"24px\">\n",
              "    <g>\n",
              "        <path d=\"M19 3H5c-1.1 0-2 .9-2 2v14c0 1.1.9 2 2 2h14c1.1 0 2-.9 2-2V5c0-1.1-.9-2-2-2zM9 17H7v-7h2v7zm4 0h-2V7h2v10zm4 0h-2v-4h2v4z\"/>\n",
              "    </g>\n",
              "</svg>\n",
              "  </button>\n",
              "\n",
              "<style>\n",
              "  .colab-df-quickchart {\n",
              "      --bg-color: #E8F0FE;\n",
              "      --fill-color: #1967D2;\n",
              "      --hover-bg-color: #E2EBFA;\n",
              "      --hover-fill-color: #174EA6;\n",
              "      --disabled-fill-color: #AAA;\n",
              "      --disabled-bg-color: #DDD;\n",
              "  }\n",
              "\n",
              "  [theme=dark] .colab-df-quickchart {\n",
              "      --bg-color: #3B4455;\n",
              "      --fill-color: #D2E3FC;\n",
              "      --hover-bg-color: #434B5C;\n",
              "      --hover-fill-color: #FFFFFF;\n",
              "      --disabled-bg-color: #3B4455;\n",
              "      --disabled-fill-color: #666;\n",
              "  }\n",
              "\n",
              "  .colab-df-quickchart {\n",
              "    background-color: var(--bg-color);\n",
              "    border: none;\n",
              "    border-radius: 50%;\n",
              "    cursor: pointer;\n",
              "    display: none;\n",
              "    fill: var(--fill-color);\n",
              "    height: 32px;\n",
              "    padding: 0;\n",
              "    width: 32px;\n",
              "  }\n",
              "\n",
              "  .colab-df-quickchart:hover {\n",
              "    background-color: var(--hover-bg-color);\n",
              "    box-shadow: 0 1px 2px rgba(60, 64, 67, 0.3), 0 1px 3px 1px rgba(60, 64, 67, 0.15);\n",
              "    fill: var(--button-hover-fill-color);\n",
              "  }\n",
              "\n",
              "  .colab-df-quickchart-complete:disabled,\n",
              "  .colab-df-quickchart-complete:disabled:hover {\n",
              "    background-color: var(--disabled-bg-color);\n",
              "    fill: var(--disabled-fill-color);\n",
              "    box-shadow: none;\n",
              "  }\n",
              "\n",
              "  .colab-df-spinner {\n",
              "    border: 2px solid var(--fill-color);\n",
              "    border-color: transparent;\n",
              "    border-bottom-color: var(--fill-color);\n",
              "    animation:\n",
              "      spin 1s steps(1) infinite;\n",
              "  }\n",
              "\n",
              "  @keyframes spin {\n",
              "    0% {\n",
              "      border-color: transparent;\n",
              "      border-bottom-color: var(--fill-color);\n",
              "      border-left-color: var(--fill-color);\n",
              "    }\n",
              "    20% {\n",
              "      border-color: transparent;\n",
              "      border-left-color: var(--fill-color);\n",
              "      border-top-color: var(--fill-color);\n",
              "    }\n",
              "    30% {\n",
              "      border-color: transparent;\n",
              "      border-left-color: var(--fill-color);\n",
              "      border-top-color: var(--fill-color);\n",
              "      border-right-color: var(--fill-color);\n",
              "    }\n",
              "    40% {\n",
              "      border-color: transparent;\n",
              "      border-right-color: var(--fill-color);\n",
              "      border-top-color: var(--fill-color);\n",
              "    }\n",
              "    60% {\n",
              "      border-color: transparent;\n",
              "      border-right-color: var(--fill-color);\n",
              "    }\n",
              "    80% {\n",
              "      border-color: transparent;\n",
              "      border-right-color: var(--fill-color);\n",
              "      border-bottom-color: var(--fill-color);\n",
              "    }\n",
              "    90% {\n",
              "      border-color: transparent;\n",
              "      border-bottom-color: var(--fill-color);\n",
              "    }\n",
              "  }\n",
              "</style>\n",
              "\n",
              "  <script>\n",
              "    async function quickchart(key) {\n",
              "      const quickchartButtonEl =\n",
              "        document.querySelector('#' + key + ' button');\n",
              "      quickchartButtonEl.disabled = true;  // To prevent multiple clicks.\n",
              "      quickchartButtonEl.classList.add('colab-df-spinner');\n",
              "      try {\n",
              "        const charts = await google.colab.kernel.invokeFunction(\n",
              "            'suggestCharts', [key], {});\n",
              "      } catch (error) {\n",
              "        console.error('Error during call to suggestCharts:', error);\n",
              "      }\n",
              "      quickchartButtonEl.classList.remove('colab-df-spinner');\n",
              "      quickchartButtonEl.classList.add('colab-df-quickchart-complete');\n",
              "    }\n",
              "    (() => {\n",
              "      let quickchartButtonEl =\n",
              "        document.querySelector('#df-9939f48b-3b18-4018-a8e3-1a3b5de058d7 button');\n",
              "      quickchartButtonEl.style.display =\n",
              "        google.colab.kernel.accessAllowed ? 'block' : 'none';\n",
              "    })();\n",
              "  </script>\n",
              "</div>\n",
              "    </div>\n",
              "  </div>\n"
            ]
          },
          "metadata": {},
          "execution_count": 35
        }
      ]
    }
  ]
}